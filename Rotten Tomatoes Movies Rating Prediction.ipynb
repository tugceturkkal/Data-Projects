{
 "cells": [
  {
   "cell_type": "markdown",
   "id": "2021347a",
   "metadata": {},
   "source": [
    "# Meta/Facebook - Rotten Tomatoes Movies Rating Prediction"
   ]
  },
  {
   "cell_type": "markdown",
   "id": "c1e37701",
   "metadata": {},
   "source": [
    "### Contents\n",
    "* [Assignment](#Assignment)\n",
    "* [Data Description](#Data-Description)\n",
    "* [First Approach: Predicting Movie Status Based on Numerical and Categorical Features](#First-Approach:-Predicting-Movie-Status-Based-on-Numerical-and-CategoricalFeatures)\n",
    "  * [Data Preprocessing](#Data-Preprocessing)\n",
    "  * [Decision Tree Classifier](#Decision-Tree-Classifier)\n",
    "  * [Random Forest Classifier](#Random-Forest-Classifier)\n",
    "  * [Random Forest Classifier with Feature Selection](#Random-Forest-Classifier-with-Feature-Selection)\n",
    "  * [Weighted Random Forest Classifier with Feature Selection](#Weighted-Random-Forest-Classifier-with-Feature-Selection)"
   ]
  },
  {
   "cell_type": "markdown",
   "id": "7d98e807",
   "metadata": {},
   "source": [
    "### Assignment\n",
    "In this project, you are given large datasets from Rotten Tomatoes - a popular online review aggregator for film and television. Your task is to build a high performing classification algorithm to predict whether a particular movie on Rotten Tomatoes is labeled as 'Rotten', 'Fresh', or 'Certified-Fresh'.\n",
    "\n",
    "There are two approaches that we're going to learn to predict a movie's status in this data project:\n",
    "\n",
    "* by using numerical and categorical features\n",
    "* by using text data (review from the critics)"
   ]
  },
  {
   "cell_type": "markdown",
   "id": "4e481a1f",
   "metadata": {},
   "source": [
    "### Data Description\n",
    "\n",
    "There are 2 datasets\n",
    "\n",
    "1. **rotten_tomatoes_movies.csv -** contains basic information about each movie listed on Rotten Tomatoes; each row represents one movie;\n",
    "2. **rotten_tomatoes_critic_reviews_50k.tsv -** contains 50.000 individual reviews by Rotten Tomatoes critics; each row represents one review corresponding to a movie;\n",
    "\n",
    "**rotten_tomatoes_movies dataset contains the following columns:**\n",
    "\n",
    "rotten_tomatoes_link - movie ID\n",
    "\n",
    "\n",
    "movie_title - title of the movie as displayed on the Rotten Tomatoes website\n",
    "\n",
    "\n",
    "movie_info - brief description of the movie\n",
    "\n",
    "\n",
    "critics_consensus - comment from Rotten Tomatoes\n",
    "\n",
    "\n",
    "content_rating - category based on the movie suitability for audience\n",
    "\n",
    "\n",
    "genres - movie genres separated by commes, if multiple\n",
    "\n",
    "\n",
    "directors - name of director(s)\n",
    "\n",
    "\n",
    "authors - name of author(s)\n",
    "\n",
    "\n",
    "actors - name of actors\n",
    "\n",
    "\n",
    "original_release_date - date in which the movie has been released in theatres, in YYY-MM-DD format\n",
    "\n",
    "\n",
    "streaming_release_date - date in which the movie has been released on streaming platforms, in YYY-MM-DD format\n",
    "\n",
    "\n",
    "runtime - duration of the movie in minutes\n",
    "\n",
    "\n",
    "production_company - name of a studio/company that produced the movie\n",
    "\n",
    "\n",
    "tomatometer_status - a label assgined by Rotten Tomatoes: \"Fresh\", \"Certified-Fresh\" or \"Rotten\"; **this is the target variables in this challenge**\n",
    "\n",
    "\n",
    "tomatometer_rating - percentage of positive critic ratings\n",
    "\n",
    "\n",
    "tomatometer_count - critic ratings counted for the calculation of the tomatomer status\n",
    "\n",
    "\n",
    "audience_status - a label assgined based on user ratings: \"Spilled\" or \"Upright\"\n",
    "\n",
    "\n",
    "audience_rating - percentage of positive user ratings\n",
    "\n",
    "\n",
    "audience_count - user ratings counted for the calculation of the audience status\n",
    "\n",
    "\n",
    "tomatometer_top_critics_count - number of ratings by top critics\n",
    "\n",
    "\n",
    "tomatometer_fresh_critics_count - number of critic ratings labeled \"Fresh\"\n",
    "\n",
    "\n",
    "tomatometer_rotten_critics_count - - number of critic ratings labeled \"Rotten\"\n",
    "\n",
    "\n",
    "**rotten_tomatoes_critic_reviews_50k dataset contains the following columns:**\n",
    "\n",
    "rotten_tomatoes_link - movie ID\n",
    "\n",
    "\n",
    "critic_name - name of critic who rated the movie\n",
    "\n",
    "\n",
    "top_critic - boolean value that clarifies whether the critic is a top critic or not\n",
    "\n",
    "\n",
    "publisher_name - name of the publisher for which the critic works\n",
    "\n",
    "\n",
    "review_type - was the review labeled \"Fresh\" or \"Rotten\"?\n",
    "\n",
    "\n",
    "review_score - review score provided by the critic\n",
    "\n",
    "\n",
    "review_date - date of the review in YYYY-MM-DD format\n",
    "\n",
    "\n",
    "review_content - text of the review"
   ]
  },
  {
   "cell_type": "markdown",
   "id": "73100652",
   "metadata": {},
   "source": [
    "### First Approach: Predicting Movie Status Based on Numerical and Categorical Features"
   ]
  },
  {
   "cell_type": "code",
   "execution_count": 1,
   "id": "42b76a04",
   "metadata": {},
   "outputs": [],
   "source": [
    "import pandas as pd\n",
    "import numpy as np\n",
    "import seaborn as sns\n",
    "import matplotlib.pyplot as plt"
   ]
  },
  {
   "cell_type": "code",
   "execution_count": 2,
   "id": "10092249",
   "metadata": {},
   "outputs": [
    {
     "data": {
      "text/html": [
       "<div>\n",
       "<style scoped>\n",
       "    .dataframe tbody tr th:only-of-type {\n",
       "        vertical-align: middle;\n",
       "    }\n",
       "\n",
       "    .dataframe tbody tr th {\n",
       "        vertical-align: top;\n",
       "    }\n",
       "\n",
       "    .dataframe thead th {\n",
       "        text-align: right;\n",
       "    }\n",
       "</style>\n",
       "<table border=\"1\" class=\"dataframe\">\n",
       "  <thead>\n",
       "    <tr style=\"text-align: right;\">\n",
       "      <th></th>\n",
       "      <th>rotten_tomatoes_link</th>\n",
       "      <th>movie_title</th>\n",
       "      <th>movie_info</th>\n",
       "      <th>critics_consensus</th>\n",
       "      <th>content_rating</th>\n",
       "      <th>genres</th>\n",
       "      <th>directors</th>\n",
       "      <th>authors</th>\n",
       "      <th>actors</th>\n",
       "      <th>original_release_date</th>\n",
       "      <th>...</th>\n",
       "      <th>production_company</th>\n",
       "      <th>tomatometer_status</th>\n",
       "      <th>tomatometer_rating</th>\n",
       "      <th>tomatometer_count</th>\n",
       "      <th>audience_status</th>\n",
       "      <th>audience_rating</th>\n",
       "      <th>audience_count</th>\n",
       "      <th>tomatometer_top_critics_count</th>\n",
       "      <th>tomatometer_fresh_critics_count</th>\n",
       "      <th>tomatometer_rotten_critics_count</th>\n",
       "    </tr>\n",
       "  </thead>\n",
       "  <tbody>\n",
       "    <tr>\n",
       "      <th>0</th>\n",
       "      <td>m/0814255</td>\n",
       "      <td>Percy Jackson &amp; the Olympians: The Lightning T...</td>\n",
       "      <td>Always trouble-prone, the life of teenager Per...</td>\n",
       "      <td>Though it may seem like just another Harry Pot...</td>\n",
       "      <td>PG</td>\n",
       "      <td>Action &amp; Adventure, Comedy, Drama, Science Fic...</td>\n",
       "      <td>Chris Columbus</td>\n",
       "      <td>Craig Titley, Chris Columbus, Rick Riordan</td>\n",
       "      <td>Logan Lerman, Brandon T. Jackson, Alexandra Da...</td>\n",
       "      <td>2010-02-12</td>\n",
       "      <td>...</td>\n",
       "      <td>20th Century Fox</td>\n",
       "      <td>Rotten</td>\n",
       "      <td>49.0</td>\n",
       "      <td>149.0</td>\n",
       "      <td>Spilled</td>\n",
       "      <td>53.0</td>\n",
       "      <td>254421.0</td>\n",
       "      <td>43</td>\n",
       "      <td>73</td>\n",
       "      <td>76</td>\n",
       "    </tr>\n",
       "    <tr>\n",
       "      <th>1</th>\n",
       "      <td>m/0878835</td>\n",
       "      <td>Please Give</td>\n",
       "      <td>Kate (Catherine Keener) and her husband Alex (...</td>\n",
       "      <td>Nicole Holofcener's newest might seem slight i...</td>\n",
       "      <td>R</td>\n",
       "      <td>Comedy</td>\n",
       "      <td>Nicole Holofcener</td>\n",
       "      <td>Nicole Holofcener</td>\n",
       "      <td>Catherine Keener, Amanda Peet, Oliver Platt, R...</td>\n",
       "      <td>2010-04-30</td>\n",
       "      <td>...</td>\n",
       "      <td>Sony Pictures Classics</td>\n",
       "      <td>Certified-Fresh</td>\n",
       "      <td>87.0</td>\n",
       "      <td>142.0</td>\n",
       "      <td>Upright</td>\n",
       "      <td>64.0</td>\n",
       "      <td>11574.0</td>\n",
       "      <td>44</td>\n",
       "      <td>123</td>\n",
       "      <td>19</td>\n",
       "    </tr>\n",
       "    <tr>\n",
       "      <th>2</th>\n",
       "      <td>m/10</td>\n",
       "      <td>10</td>\n",
       "      <td>A successful, middle-aged Hollywood songwriter...</td>\n",
       "      <td>Blake Edwards' bawdy comedy may not score a pe...</td>\n",
       "      <td>R</td>\n",
       "      <td>Comedy, Romance</td>\n",
       "      <td>Blake Edwards</td>\n",
       "      <td>Blake Edwards</td>\n",
       "      <td>Dudley Moore, Bo Derek, Julie Andrews, Robert ...</td>\n",
       "      <td>1979-10-05</td>\n",
       "      <td>...</td>\n",
       "      <td>Waner Bros.</td>\n",
       "      <td>Fresh</td>\n",
       "      <td>67.0</td>\n",
       "      <td>24.0</td>\n",
       "      <td>Spilled</td>\n",
       "      <td>53.0</td>\n",
       "      <td>14684.0</td>\n",
       "      <td>2</td>\n",
       "      <td>16</td>\n",
       "      <td>8</td>\n",
       "    </tr>\n",
       "  </tbody>\n",
       "</table>\n",
       "<p>3 rows × 22 columns</p>\n",
       "</div>"
      ],
      "text/plain": [
       "  rotten_tomatoes_link                                        movie_title  \\\n",
       "0            m/0814255  Percy Jackson & the Olympians: The Lightning T...   \n",
       "1            m/0878835                                        Please Give   \n",
       "2                 m/10                                                 10   \n",
       "\n",
       "                                          movie_info  \\\n",
       "0  Always trouble-prone, the life of teenager Per...   \n",
       "1  Kate (Catherine Keener) and her husband Alex (...   \n",
       "2  A successful, middle-aged Hollywood songwriter...   \n",
       "\n",
       "                                   critics_consensus content_rating  \\\n",
       "0  Though it may seem like just another Harry Pot...             PG   \n",
       "1  Nicole Holofcener's newest might seem slight i...              R   \n",
       "2  Blake Edwards' bawdy comedy may not score a pe...              R   \n",
       "\n",
       "                                              genres          directors  \\\n",
       "0  Action & Adventure, Comedy, Drama, Science Fic...     Chris Columbus   \n",
       "1                                             Comedy  Nicole Holofcener   \n",
       "2                                    Comedy, Romance      Blake Edwards   \n",
       "\n",
       "                                      authors  \\\n",
       "0  Craig Titley, Chris Columbus, Rick Riordan   \n",
       "1                           Nicole Holofcener   \n",
       "2                               Blake Edwards   \n",
       "\n",
       "                                              actors original_release_date  \\\n",
       "0  Logan Lerman, Brandon T. Jackson, Alexandra Da...            2010-02-12   \n",
       "1  Catherine Keener, Amanda Peet, Oliver Platt, R...            2010-04-30   \n",
       "2  Dudley Moore, Bo Derek, Julie Andrews, Robert ...            1979-10-05   \n",
       "\n",
       "   ...      production_company  tomatometer_status tomatometer_rating  \\\n",
       "0  ...        20th Century Fox              Rotten               49.0   \n",
       "1  ...  Sony Pictures Classics     Certified-Fresh               87.0   \n",
       "2  ...             Waner Bros.               Fresh               67.0   \n",
       "\n",
       "  tomatometer_count  audience_status  audience_rating audience_count  \\\n",
       "0             149.0          Spilled             53.0       254421.0   \n",
       "1             142.0          Upright             64.0        11574.0   \n",
       "2              24.0          Spilled             53.0        14684.0   \n",
       "\n",
       "   tomatometer_top_critics_count  tomatometer_fresh_critics_count  \\\n",
       "0                             43                               73   \n",
       "1                             44                              123   \n",
       "2                              2                               16   \n",
       "\n",
       "   tomatometer_rotten_critics_count  \n",
       "0                                76  \n",
       "1                                19  \n",
       "2                                 8  \n",
       "\n",
       "[3 rows x 22 columns]"
      ]
     },
     "execution_count": 2,
     "metadata": {},
     "output_type": "execute_result"
    }
   ],
   "source": [
    "movies = pd.read_csv('rotten_tomatoes_movies.csv')\n",
    "movies.head(3)"
   ]
  },
  {
   "cell_type": "code",
   "execution_count": 3,
   "id": "1f6ddec9",
   "metadata": {},
   "outputs": [
    {
     "data": {
      "text/html": [
       "<div>\n",
       "<style scoped>\n",
       "    .dataframe tbody tr th:only-of-type {\n",
       "        vertical-align: middle;\n",
       "    }\n",
       "\n",
       "    .dataframe tbody tr th {\n",
       "        vertical-align: top;\n",
       "    }\n",
       "\n",
       "    .dataframe thead th {\n",
       "        text-align: right;\n",
       "    }\n",
       "</style>\n",
       "<table border=\"1\" class=\"dataframe\">\n",
       "  <thead>\n",
       "    <tr style=\"text-align: right;\">\n",
       "      <th></th>\n",
       "      <th>runtime</th>\n",
       "      <th>tomatometer_rating</th>\n",
       "      <th>tomatometer_count</th>\n",
       "      <th>audience_rating</th>\n",
       "      <th>audience_count</th>\n",
       "      <th>tomatometer_top_critics_count</th>\n",
       "      <th>tomatometer_fresh_critics_count</th>\n",
       "      <th>tomatometer_rotten_critics_count</th>\n",
       "    </tr>\n",
       "  </thead>\n",
       "  <tbody>\n",
       "    <tr>\n",
       "      <th>count</th>\n",
       "      <td>17398.000000</td>\n",
       "      <td>17668.000000</td>\n",
       "      <td>17668.000000</td>\n",
       "      <td>17416.000000</td>\n",
       "      <td>1.741500e+04</td>\n",
       "      <td>17712.000000</td>\n",
       "      <td>17712.000000</td>\n",
       "      <td>17712.000000</td>\n",
       "    </tr>\n",
       "    <tr>\n",
       "      <th>mean</th>\n",
       "      <td>102.214048</td>\n",
       "      <td>60.884763</td>\n",
       "      <td>57.139801</td>\n",
       "      <td>60.554260</td>\n",
       "      <td>1.439401e+05</td>\n",
       "      <td>14.586326</td>\n",
       "      <td>36.374831</td>\n",
       "      <td>20.703139</td>\n",
       "    </tr>\n",
       "    <tr>\n",
       "      <th>std</th>\n",
       "      <td>18.702511</td>\n",
       "      <td>28.443348</td>\n",
       "      <td>68.370047</td>\n",
       "      <td>20.543369</td>\n",
       "      <td>1.763577e+06</td>\n",
       "      <td>15.146349</td>\n",
       "      <td>52.601038</td>\n",
       "      <td>30.248435</td>\n",
       "    </tr>\n",
       "    <tr>\n",
       "      <th>min</th>\n",
       "      <td>5.000000</td>\n",
       "      <td>0.000000</td>\n",
       "      <td>5.000000</td>\n",
       "      <td>0.000000</td>\n",
       "      <td>5.000000e+00</td>\n",
       "      <td>0.000000</td>\n",
       "      <td>0.000000</td>\n",
       "      <td>0.000000</td>\n",
       "    </tr>\n",
       "    <tr>\n",
       "      <th>25%</th>\n",
       "      <td>90.000000</td>\n",
       "      <td>38.000000</td>\n",
       "      <td>12.000000</td>\n",
       "      <td>45.000000</td>\n",
       "      <td>7.075000e+02</td>\n",
       "      <td>3.000000</td>\n",
       "      <td>6.000000</td>\n",
       "      <td>3.000000</td>\n",
       "    </tr>\n",
       "    <tr>\n",
       "      <th>50%</th>\n",
       "      <td>99.000000</td>\n",
       "      <td>67.000000</td>\n",
       "      <td>28.000000</td>\n",
       "      <td>63.000000</td>\n",
       "      <td>4.277000e+03</td>\n",
       "      <td>8.000000</td>\n",
       "      <td>16.000000</td>\n",
       "      <td>8.000000</td>\n",
       "    </tr>\n",
       "    <tr>\n",
       "      <th>75%</th>\n",
       "      <td>111.000000</td>\n",
       "      <td>86.000000</td>\n",
       "      <td>75.000000</td>\n",
       "      <td>78.000000</td>\n",
       "      <td>2.498800e+04</td>\n",
       "      <td>23.000000</td>\n",
       "      <td>44.000000</td>\n",
       "      <td>24.000000</td>\n",
       "    </tr>\n",
       "    <tr>\n",
       "      <th>max</th>\n",
       "      <td>266.000000</td>\n",
       "      <td>100.000000</td>\n",
       "      <td>574.000000</td>\n",
       "      <td>100.000000</td>\n",
       "      <td>3.579764e+07</td>\n",
       "      <td>69.000000</td>\n",
       "      <td>497.000000</td>\n",
       "      <td>303.000000</td>\n",
       "    </tr>\n",
       "  </tbody>\n",
       "</table>\n",
       "</div>"
      ],
      "text/plain": [
       "            runtime  tomatometer_rating  tomatometer_count  audience_rating  \\\n",
       "count  17398.000000        17668.000000       17668.000000     17416.000000   \n",
       "mean     102.214048           60.884763          57.139801        60.554260   \n",
       "std       18.702511           28.443348          68.370047        20.543369   \n",
       "min        5.000000            0.000000           5.000000         0.000000   \n",
       "25%       90.000000           38.000000          12.000000        45.000000   \n",
       "50%       99.000000           67.000000          28.000000        63.000000   \n",
       "75%      111.000000           86.000000          75.000000        78.000000   \n",
       "max      266.000000          100.000000         574.000000       100.000000   \n",
       "\n",
       "       audience_count  tomatometer_top_critics_count  \\\n",
       "count    1.741500e+04                   17712.000000   \n",
       "mean     1.439401e+05                      14.586326   \n",
       "std      1.763577e+06                      15.146349   \n",
       "min      5.000000e+00                       0.000000   \n",
       "25%      7.075000e+02                       3.000000   \n",
       "50%      4.277000e+03                       8.000000   \n",
       "75%      2.498800e+04                      23.000000   \n",
       "max      3.579764e+07                      69.000000   \n",
       "\n",
       "       tomatometer_fresh_critics_count  tomatometer_rotten_critics_count  \n",
       "count                     17712.000000                      17712.000000  \n",
       "mean                         36.374831                         20.703139  \n",
       "std                          52.601038                         30.248435  \n",
       "min                           0.000000                          0.000000  \n",
       "25%                           6.000000                          3.000000  \n",
       "50%                          16.000000                          8.000000  \n",
       "75%                          44.000000                         24.000000  \n",
       "max                         497.000000                        303.000000  "
      ]
     },
     "execution_count": 3,
     "metadata": {},
     "output_type": "execute_result"
    }
   ],
   "source": [
    "movies.describe()"
   ]
  },
  {
   "cell_type": "markdown",
   "id": "32a3e743",
   "metadata": {},
   "source": [
    "### Data Preprocessing"
   ]
  },
  {
   "cell_type": "code",
   "execution_count": 4,
   "id": "33729d27",
   "metadata": {},
   "outputs": [
    {
     "name": "stdout",
     "output_type": "stream",
     "text": [
      "Content Rating Category: ['PG' 'R' 'NR' 'G' 'PG-13' 'NC17']\n"
     ]
    },
    {
     "data": {
      "text/plain": [
       "[Text(0, 0, '6377'),\n",
       " Text(0, 0, '5474'),\n",
       " Text(0, 0, '2979'),\n",
       " Text(0, 0, '2168'),\n",
       " Text(0, 0, '676'),\n",
       " Text(0, 0, '38')]"
      ]
     },
     "execution_count": 4,
     "metadata": {},
     "output_type": "execute_result"
    },
    {
     "data": {
      "image/png": "[encoded data removed]",
      "text/plain": [
       "<Figure size 600x400 with 1 Axes>"
      ]
     },
     "metadata": {},
     "output_type": "display_data"
    }
   ],
   "source": [
    "print(f'Content Rating Category: {movies.content_rating.unique()}')\n",
    "\n",
    "ax = movies.content_rating.value_counts().plot(kind = 'bar', figsize = (6,4))\n",
    "\n",
    "ax.bar_label(ax.containers[0])"
   ]
  },
  {
   "cell_type": "code",
   "execution_count": 5,
   "id": "5ea67e2c",
   "metadata": {},
   "outputs": [
    {
     "data": {
      "text/html": [
       "<div>\n",
       "<style scoped>\n",
       "    .dataframe tbody tr th:only-of-type {\n",
       "        vertical-align: middle;\n",
       "    }\n",
       "\n",
       "    .dataframe tbody tr th {\n",
       "        vertical-align: top;\n",
       "    }\n",
       "\n",
       "    .dataframe thead th {\n",
       "        text-align: right;\n",
       "    }\n",
       "</style>\n",
       "<table border=\"1\" class=\"dataframe\">\n",
       "  <thead>\n",
       "    <tr style=\"text-align: right;\">\n",
       "      <th></th>\n",
       "      <th>G</th>\n",
       "      <th>NC17</th>\n",
       "      <th>NR</th>\n",
       "      <th>PG</th>\n",
       "      <th>PG-13</th>\n",
       "      <th>R</th>\n",
       "    </tr>\n",
       "  </thead>\n",
       "  <tbody>\n",
       "    <tr>\n",
       "      <th>0</th>\n",
       "      <td>0</td>\n",
       "      <td>0</td>\n",
       "      <td>0</td>\n",
       "      <td>1</td>\n",
       "      <td>0</td>\n",
       "      <td>0</td>\n",
       "    </tr>\n",
       "    <tr>\n",
       "      <th>1</th>\n",
       "      <td>0</td>\n",
       "      <td>0</td>\n",
       "      <td>0</td>\n",
       "      <td>0</td>\n",
       "      <td>0</td>\n",
       "      <td>1</td>\n",
       "    </tr>\n",
       "    <tr>\n",
       "      <th>2</th>\n",
       "      <td>0</td>\n",
       "      <td>0</td>\n",
       "      <td>0</td>\n",
       "      <td>0</td>\n",
       "      <td>0</td>\n",
       "      <td>1</td>\n",
       "    </tr>\n",
       "  </tbody>\n",
       "</table>\n",
       "</div>"
      ],
      "text/plain": [
       "   G  NC17  NR  PG  PG-13  R\n",
       "0  0     0   0   1      0  0\n",
       "1  0     0   0   0      0  1\n",
       "2  0     0   0   0      0  1"
      ]
     },
     "execution_count": 5,
     "metadata": {},
     "output_type": "execute_result"
    }
   ],
   "source": [
    "content_rating = pd.get_dummies(movies['content_rating'])\n",
    "content_rating.head(3)"
   ]
  },
  {
   "cell_type": "code",
   "execution_count": 6,
   "id": "b411ae81",
   "metadata": {},
   "outputs": [
    {
     "name": "stdout",
     "output_type": "stream",
     "text": [
      "Audience Status: ['Spilled' 'Upright' nan]\n"
     ]
    },
    {
     "data": {
      "text/plain": [
       "[Text(0, 0, '9390'), Text(0, 0, '7874')]"
      ]
     },
     "execution_count": 6,
     "metadata": {},
     "output_type": "execute_result"
    },
    {
     "data": {
      "image/png": "[encoded data removed]",
      "text/plain": [
       "<Figure size 600x400 with 1 Axes>"
      ]
     },
     "metadata": {},
     "output_type": "display_data"
    }
   ],
   "source": [
    "print(f'Audience Status: {movies.audience_status.unique()}')\n",
    "\n",
    "ax = movies.audience_status.value_counts().plot(kind = 'bar', figsize = (6,4))\n",
    "\n",
    "ax.bar_label(ax.containers[0])"
   ]
  },
  {
   "cell_type": "code",
   "execution_count": 7,
   "id": "5052116f",
   "metadata": {},
   "outputs": [
    {
     "data": {
      "text/html": [
       "<div>\n",
       "<style scoped>\n",
       "    .dataframe tbody tr th:only-of-type {\n",
       "        vertical-align: middle;\n",
       "    }\n",
       "\n",
       "    .dataframe tbody tr th {\n",
       "        vertical-align: top;\n",
       "    }\n",
       "\n",
       "    .dataframe thead th {\n",
       "        text-align: right;\n",
       "    }\n",
       "</style>\n",
       "<table border=\"1\" class=\"dataframe\">\n",
       "  <thead>\n",
       "    <tr style=\"text-align: right;\">\n",
       "      <th></th>\n",
       "      <th>audience_status</th>\n",
       "    </tr>\n",
       "  </thead>\n",
       "  <tbody>\n",
       "    <tr>\n",
       "      <th>0</th>\n",
       "      <td>0.0</td>\n",
       "    </tr>\n",
       "    <tr>\n",
       "      <th>1</th>\n",
       "      <td>1.0</td>\n",
       "    </tr>\n",
       "    <tr>\n",
       "      <th>2</th>\n",
       "      <td>0.0</td>\n",
       "    </tr>\n",
       "  </tbody>\n",
       "</table>\n",
       "</div>"
      ],
      "text/plain": [
       "   audience_status\n",
       "0              0.0\n",
       "1              1.0\n",
       "2              0.0"
      ]
     },
     "execution_count": 7,
     "metadata": {},
     "output_type": "execute_result"
    }
   ],
   "source": [
    "audience_status = pd.DataFrame(movies['audience_status'].replace(['Spilled', 'Upright'], [0,1]))\n",
    "audience_status.head(3)"
   ]
  },
  {
   "cell_type": "code",
   "execution_count": 8,
   "id": "56d10094",
   "metadata": {},
   "outputs": [
    {
     "data": {
      "text/html": [
       "<div>\n",
       "<style scoped>\n",
       "    .dataframe tbody tr th:only-of-type {\n",
       "        vertical-align: middle;\n",
       "    }\n",
       "\n",
       "    .dataframe tbody tr th {\n",
       "        vertical-align: top;\n",
       "    }\n",
       "\n",
       "    .dataframe thead th {\n",
       "        text-align: right;\n",
       "    }\n",
       "</style>\n",
       "<table border=\"1\" class=\"dataframe\">\n",
       "  <thead>\n",
       "    <tr style=\"text-align: right;\">\n",
       "      <th></th>\n",
       "      <th>tomatometer_status</th>\n",
       "    </tr>\n",
       "  </thead>\n",
       "  <tbody>\n",
       "    <tr>\n",
       "      <th>0</th>\n",
       "      <td>0.0</td>\n",
       "    </tr>\n",
       "    <tr>\n",
       "      <th>1</th>\n",
       "      <td>2.0</td>\n",
       "    </tr>\n",
       "    <tr>\n",
       "      <th>2</th>\n",
       "      <td>1.0</td>\n",
       "    </tr>\n",
       "  </tbody>\n",
       "</table>\n",
       "</div>"
      ],
      "text/plain": [
       "   tomatometer_status\n",
       "0                 0.0\n",
       "1                 2.0\n",
       "2                 1.0"
      ]
     },
     "execution_count": 8,
     "metadata": {},
     "output_type": "execute_result"
    }
   ],
   "source": [
    "tomatometer_status = pd.DataFrame(movies['tomatometer_status'].replace(['Rotten', 'Fresh', 'Certified-Fresh'],\n",
    "                                                                      [0,1,2]))\n",
    "tomatometer_status.head(3)"
   ]
  },
  {
   "cell_type": "code",
   "execution_count": 9,
   "id": "3a21bcea",
   "metadata": {},
   "outputs": [
    {
     "data": {
      "text/html": [
       "<div>\n",
       "<style scoped>\n",
       "    .dataframe tbody tr th:only-of-type {\n",
       "        vertical-align: middle;\n",
       "    }\n",
       "\n",
       "    .dataframe tbody tr th {\n",
       "        vertical-align: top;\n",
       "    }\n",
       "\n",
       "    .dataframe thead th {\n",
       "        text-align: right;\n",
       "    }\n",
       "</style>\n",
       "<table border=\"1\" class=\"dataframe\">\n",
       "  <thead>\n",
       "    <tr style=\"text-align: right;\">\n",
       "      <th></th>\n",
       "      <th>rotten_tomatoes_link</th>\n",
       "      <th>movie_title</th>\n",
       "      <th>movie_info</th>\n",
       "      <th>critics_consensus</th>\n",
       "      <th>content_rating</th>\n",
       "      <th>genres</th>\n",
       "      <th>directors</th>\n",
       "      <th>authors</th>\n",
       "      <th>actors</th>\n",
       "      <th>original_release_date</th>\n",
       "      <th>...</th>\n",
       "      <th>production_company</th>\n",
       "      <th>tomatometer_status</th>\n",
       "      <th>tomatometer_rating</th>\n",
       "      <th>tomatometer_count</th>\n",
       "      <th>audience_status</th>\n",
       "      <th>audience_rating</th>\n",
       "      <th>audience_count</th>\n",
       "      <th>tomatometer_top_critics_count</th>\n",
       "      <th>tomatometer_fresh_critics_count</th>\n",
       "      <th>tomatometer_rotten_critics_count</th>\n",
       "    </tr>\n",
       "  </thead>\n",
       "  <tbody>\n",
       "    <tr>\n",
       "      <th>0</th>\n",
       "      <td>m/0814255</td>\n",
       "      <td>Percy Jackson &amp; the Olympians: The Lightning T...</td>\n",
       "      <td>Always trouble-prone, the life of teenager Per...</td>\n",
       "      <td>Though it may seem like just another Harry Pot...</td>\n",
       "      <td>PG</td>\n",
       "      <td>Action &amp; Adventure, Comedy, Drama, Science Fic...</td>\n",
       "      <td>Chris Columbus</td>\n",
       "      <td>Craig Titley, Chris Columbus, Rick Riordan</td>\n",
       "      <td>Logan Lerman, Brandon T. Jackson, Alexandra Da...</td>\n",
       "      <td>2010-02-12</td>\n",
       "      <td>...</td>\n",
       "      <td>20th Century Fox</td>\n",
       "      <td>Rotten</td>\n",
       "      <td>49.0</td>\n",
       "      <td>149.0</td>\n",
       "      <td>Spilled</td>\n",
       "      <td>53.0</td>\n",
       "      <td>254421.0</td>\n",
       "      <td>43</td>\n",
       "      <td>73</td>\n",
       "      <td>76</td>\n",
       "    </tr>\n",
       "  </tbody>\n",
       "</table>\n",
       "<p>1 rows × 22 columns</p>\n",
       "</div>"
      ],
      "text/plain": [
       "  rotten_tomatoes_link                                        movie_title  \\\n",
       "0            m/0814255  Percy Jackson & the Olympians: The Lightning T...   \n",
       "\n",
       "                                          movie_info  \\\n",
       "0  Always trouble-prone, the life of teenager Per...   \n",
       "\n",
       "                                   critics_consensus content_rating  \\\n",
       "0  Though it may seem like just another Harry Pot...             PG   \n",
       "\n",
       "                                              genres       directors  \\\n",
       "0  Action & Adventure, Comedy, Drama, Science Fic...  Chris Columbus   \n",
       "\n",
       "                                      authors  \\\n",
       "0  Craig Titley, Chris Columbus, Rick Riordan   \n",
       "\n",
       "                                              actors original_release_date  \\\n",
       "0  Logan Lerman, Brandon T. Jackson, Alexandra Da...            2010-02-12   \n",
       "\n",
       "   ... production_company  tomatometer_status tomatometer_rating  \\\n",
       "0  ...   20th Century Fox              Rotten               49.0   \n",
       "\n",
       "  tomatometer_count  audience_status  audience_rating audience_count  \\\n",
       "0             149.0          Spilled             53.0       254421.0   \n",
       "\n",
       "   tomatometer_top_critics_count  tomatometer_fresh_critics_count  \\\n",
       "0                             43                               73   \n",
       "\n",
       "   tomatometer_rotten_critics_count  \n",
       "0                                76  \n",
       "\n",
       "[1 rows x 22 columns]"
      ]
     },
     "execution_count": 9,
     "metadata": {},
     "output_type": "execute_result"
    }
   ],
   "source": [
    "movies.head(1)"
   ]
  },
  {
   "cell_type": "code",
   "execution_count": 10,
   "id": "73df9dc0",
   "metadata": {},
   "outputs": [
    {
     "data": {
      "text/html": [
       "<div>\n",
       "<style scoped>\n",
       "    .dataframe tbody tr th:only-of-type {\n",
       "        vertical-align: middle;\n",
       "    }\n",
       "\n",
       "    .dataframe tbody tr th {\n",
       "        vertical-align: top;\n",
       "    }\n",
       "\n",
       "    .dataframe thead th {\n",
       "        text-align: right;\n",
       "    }\n",
       "</style>\n",
       "<table border=\"1\" class=\"dataframe\">\n",
       "  <thead>\n",
       "    <tr style=\"text-align: right;\">\n",
       "      <th></th>\n",
       "      <th>runtime</th>\n",
       "      <th>tomatometer_rating</th>\n",
       "      <th>tomatometer_count</th>\n",
       "      <th>audience_rating</th>\n",
       "      <th>audience_count</th>\n",
       "      <th>tomatometer_top_critics_count</th>\n",
       "      <th>tomatometer_fresh_critics_count</th>\n",
       "      <th>tomatometer_rotten_critics_count</th>\n",
       "      <th>G</th>\n",
       "      <th>NC17</th>\n",
       "      <th>NR</th>\n",
       "      <th>PG</th>\n",
       "      <th>PG-13</th>\n",
       "      <th>R</th>\n",
       "      <th>audience_status</th>\n",
       "      <th>tomatometer_status</th>\n",
       "    </tr>\n",
       "  </thead>\n",
       "  <tbody>\n",
       "    <tr>\n",
       "      <th>0</th>\n",
       "      <td>119.0</td>\n",
       "      <td>49.0</td>\n",
       "      <td>149.0</td>\n",
       "      <td>53.0</td>\n",
       "      <td>254421.0</td>\n",
       "      <td>43</td>\n",
       "      <td>73</td>\n",
       "      <td>76</td>\n",
       "      <td>0</td>\n",
       "      <td>0</td>\n",
       "      <td>0</td>\n",
       "      <td>1</td>\n",
       "      <td>0</td>\n",
       "      <td>0</td>\n",
       "      <td>0.0</td>\n",
       "      <td>0.0</td>\n",
       "    </tr>\n",
       "    <tr>\n",
       "      <th>1</th>\n",
       "      <td>90.0</td>\n",
       "      <td>87.0</td>\n",
       "      <td>142.0</td>\n",
       "      <td>64.0</td>\n",
       "      <td>11574.0</td>\n",
       "      <td>44</td>\n",
       "      <td>123</td>\n",
       "      <td>19</td>\n",
       "      <td>0</td>\n",
       "      <td>0</td>\n",
       "      <td>0</td>\n",
       "      <td>0</td>\n",
       "      <td>0</td>\n",
       "      <td>1</td>\n",
       "      <td>1.0</td>\n",
       "      <td>2.0</td>\n",
       "    </tr>\n",
       "    <tr>\n",
       "      <th>2</th>\n",
       "      <td>122.0</td>\n",
       "      <td>67.0</td>\n",
       "      <td>24.0</td>\n",
       "      <td>53.0</td>\n",
       "      <td>14684.0</td>\n",
       "      <td>2</td>\n",
       "      <td>16</td>\n",
       "      <td>8</td>\n",
       "      <td>0</td>\n",
       "      <td>0</td>\n",
       "      <td>0</td>\n",
       "      <td>0</td>\n",
       "      <td>0</td>\n",
       "      <td>1</td>\n",
       "      <td>0.0</td>\n",
       "      <td>1.0</td>\n",
       "    </tr>\n",
       "  </tbody>\n",
       "</table>\n",
       "</div>"
      ],
      "text/plain": [
       "   runtime  tomatometer_rating  tomatometer_count  audience_rating  \\\n",
       "0    119.0                49.0              149.0             53.0   \n",
       "1     90.0                87.0              142.0             64.0   \n",
       "2    122.0                67.0               24.0             53.0   \n",
       "\n",
       "   audience_count  tomatometer_top_critics_count  \\\n",
       "0        254421.0                             43   \n",
       "1         11574.0                             44   \n",
       "2         14684.0                              2   \n",
       "\n",
       "   tomatometer_fresh_critics_count  tomatometer_rotten_critics_count  G  NC17  \\\n",
       "0                               73                                76  0     0   \n",
       "1                              123                                19  0     0   \n",
       "2                               16                                 8  0     0   \n",
       "\n",
       "   NR  PG  PG-13  R  audience_status  tomatometer_status  \n",
       "0   0   1      0  0              0.0                 0.0  \n",
       "1   0   0      0  1              1.0                 2.0  \n",
       "2   0   0      0  1              0.0                 1.0  "
      ]
     },
     "execution_count": 10,
     "metadata": {},
     "output_type": "execute_result"
    }
   ],
   "source": [
    "df_features = pd.concat([movies[['runtime', 'tomatometer_rating', 'tomatometer_count', 'audience_rating',\n",
    "                                'audience_count', 'tomatometer_top_critics_count', 'tomatometer_fresh_critics_count',\n",
    "                                'tomatometer_rotten_critics_count']], \n",
    "                         content_rating, audience_status, tomatometer_status], axis = 1).dropna()\n",
    "\n",
    "df_features.head(3)"
   ]
  },
  {
   "cell_type": "code",
   "execution_count": 11,
   "id": "770ff63a",
   "metadata": {},
   "outputs": [
    {
     "data": {
      "text/html": [
       "<div>\n",
       "<style scoped>\n",
       "    .dataframe tbody tr th:only-of-type {\n",
       "        vertical-align: middle;\n",
       "    }\n",
       "\n",
       "    .dataframe tbody tr th {\n",
       "        vertical-align: top;\n",
       "    }\n",
       "\n",
       "    .dataframe thead th {\n",
       "        text-align: right;\n",
       "    }\n",
       "</style>\n",
       "<table border=\"1\" class=\"dataframe\">\n",
       "  <thead>\n",
       "    <tr style=\"text-align: right;\">\n",
       "      <th></th>\n",
       "      <th>runtime</th>\n",
       "      <th>tomatometer_rating</th>\n",
       "      <th>tomatometer_count</th>\n",
       "      <th>audience_rating</th>\n",
       "      <th>audience_count</th>\n",
       "      <th>tomatometer_top_critics_count</th>\n",
       "      <th>tomatometer_fresh_critics_count</th>\n",
       "      <th>tomatometer_rotten_critics_count</th>\n",
       "      <th>G</th>\n",
       "      <th>NC17</th>\n",
       "      <th>NR</th>\n",
       "      <th>PG</th>\n",
       "      <th>PG-13</th>\n",
       "      <th>R</th>\n",
       "      <th>audience_status</th>\n",
       "      <th>tomatometer_status</th>\n",
       "    </tr>\n",
       "  </thead>\n",
       "  <tbody>\n",
       "    <tr>\n",
       "      <th>count</th>\n",
       "      <td>17017.000000</td>\n",
       "      <td>17017.000000</td>\n",
       "      <td>17017.000000</td>\n",
       "      <td>17017.000000</td>\n",
       "      <td>1.701700e+04</td>\n",
       "      <td>17017.000000</td>\n",
       "      <td>17017.000000</td>\n",
       "      <td>17017.000000</td>\n",
       "      <td>17017.000000</td>\n",
       "      <td>17017.000000</td>\n",
       "      <td>17017.000000</td>\n",
       "      <td>17017.000000</td>\n",
       "      <td>17017.000000</td>\n",
       "      <td>17017.000000</td>\n",
       "      <td>17017.000000</td>\n",
       "      <td>17017.000000</td>\n",
       "    </tr>\n",
       "    <tr>\n",
       "      <th>mean</th>\n",
       "      <td>102.296233</td>\n",
       "      <td>60.519539</td>\n",
       "      <td>57.097197</td>\n",
       "      <td>60.324499</td>\n",
       "      <td>1.471183e+05</td>\n",
       "      <td>14.765999</td>\n",
       "      <td>36.237292</td>\n",
       "      <td>20.871188</td>\n",
       "      <td>0.039314</td>\n",
       "      <td>0.002174</td>\n",
       "      <td>0.294940</td>\n",
       "      <td>0.124993</td>\n",
       "      <td>0.171593</td>\n",
       "      <td>0.366986</td>\n",
       "      <td>0.542928</td>\n",
       "      <td>0.752718</td>\n",
       "    </tr>\n",
       "    <tr>\n",
       "      <th>std</th>\n",
       "      <td>18.653649</td>\n",
       "      <td>28.436397</td>\n",
       "      <td>66.814580</td>\n",
       "      <td>20.480600</td>\n",
       "      <td>1.783955e+06</td>\n",
       "      <td>15.172256</td>\n",
       "      <td>51.362454</td>\n",
       "      <td>29.978900</td>\n",
       "      <td>0.194346</td>\n",
       "      <td>0.046580</td>\n",
       "      <td>0.456029</td>\n",
       "      <td>0.330720</td>\n",
       "      <td>0.377037</td>\n",
       "      <td>0.481997</td>\n",
       "      <td>0.498168</td>\n",
       "      <td>0.747250</td>\n",
       "    </tr>\n",
       "    <tr>\n",
       "      <th>min</th>\n",
       "      <td>5.000000</td>\n",
       "      <td>0.000000</td>\n",
       "      <td>5.000000</td>\n",
       "      <td>0.000000</td>\n",
       "      <td>5.000000e+00</td>\n",
       "      <td>0.000000</td>\n",
       "      <td>0.000000</td>\n",
       "      <td>0.000000</td>\n",
       "      <td>0.000000</td>\n",
       "      <td>0.000000</td>\n",
       "      <td>0.000000</td>\n",
       "      <td>0.000000</td>\n",
       "      <td>0.000000</td>\n",
       "      <td>0.000000</td>\n",
       "      <td>0.000000</td>\n",
       "      <td>0.000000</td>\n",
       "    </tr>\n",
       "    <tr>\n",
       "      <th>25%</th>\n",
       "      <td>90.000000</td>\n",
       "      <td>38.000000</td>\n",
       "      <td>12.000000</td>\n",
       "      <td>44.000000</td>\n",
       "      <td>7.410000e+02</td>\n",
       "      <td>3.000000</td>\n",
       "      <td>6.000000</td>\n",
       "      <td>3.000000</td>\n",
       "      <td>0.000000</td>\n",
       "      <td>0.000000</td>\n",
       "      <td>0.000000</td>\n",
       "      <td>0.000000</td>\n",
       "      <td>0.000000</td>\n",
       "      <td>0.000000</td>\n",
       "      <td>0.000000</td>\n",
       "      <td>0.000000</td>\n",
       "    </tr>\n",
       "    <tr>\n",
       "      <th>50%</th>\n",
       "      <td>99.000000</td>\n",
       "      <td>66.000000</td>\n",
       "      <td>29.000000</td>\n",
       "      <td>62.000000</td>\n",
       "      <td>4.423000e+03</td>\n",
       "      <td>8.000000</td>\n",
       "      <td>17.000000</td>\n",
       "      <td>8.000000</td>\n",
       "      <td>0.000000</td>\n",
       "      <td>0.000000</td>\n",
       "      <td>0.000000</td>\n",
       "      <td>0.000000</td>\n",
       "      <td>0.000000</td>\n",
       "      <td>0.000000</td>\n",
       "      <td>1.000000</td>\n",
       "      <td>1.000000</td>\n",
       "    </tr>\n",
       "    <tr>\n",
       "      <th>75%</th>\n",
       "      <td>111.000000</td>\n",
       "      <td>86.000000</td>\n",
       "      <td>76.000000</td>\n",
       "      <td>77.000000</td>\n",
       "      <td>2.606700e+04</td>\n",
       "      <td>23.000000</td>\n",
       "      <td>44.000000</td>\n",
       "      <td>24.000000</td>\n",
       "      <td>0.000000</td>\n",
       "      <td>0.000000</td>\n",
       "      <td>1.000000</td>\n",
       "      <td>0.000000</td>\n",
       "      <td>0.000000</td>\n",
       "      <td>1.000000</td>\n",
       "      <td>1.000000</td>\n",
       "      <td>1.000000</td>\n",
       "    </tr>\n",
       "    <tr>\n",
       "      <th>max</th>\n",
       "      <td>266.000000</td>\n",
       "      <td>100.000000</td>\n",
       "      <td>535.000000</td>\n",
       "      <td>100.000000</td>\n",
       "      <td>3.579764e+07</td>\n",
       "      <td>69.000000</td>\n",
       "      <td>497.000000</td>\n",
       "      <td>303.000000</td>\n",
       "      <td>1.000000</td>\n",
       "      <td>1.000000</td>\n",
       "      <td>1.000000</td>\n",
       "      <td>1.000000</td>\n",
       "      <td>1.000000</td>\n",
       "      <td>1.000000</td>\n",
       "      <td>1.000000</td>\n",
       "      <td>2.000000</td>\n",
       "    </tr>\n",
       "  </tbody>\n",
       "</table>\n",
       "</div>"
      ],
      "text/plain": [
       "            runtime  tomatometer_rating  tomatometer_count  audience_rating  \\\n",
       "count  17017.000000        17017.000000       17017.000000     17017.000000   \n",
       "mean     102.296233           60.519539          57.097197        60.324499   \n",
       "std       18.653649           28.436397          66.814580        20.480600   \n",
       "min        5.000000            0.000000           5.000000         0.000000   \n",
       "25%       90.000000           38.000000          12.000000        44.000000   \n",
       "50%       99.000000           66.000000          29.000000        62.000000   \n",
       "75%      111.000000           86.000000          76.000000        77.000000   \n",
       "max      266.000000          100.000000         535.000000       100.000000   \n",
       "\n",
       "       audience_count  tomatometer_top_critics_count  \\\n",
       "count    1.701700e+04                   17017.000000   \n",
       "mean     1.471183e+05                      14.765999   \n",
       "std      1.783955e+06                      15.172256   \n",
       "min      5.000000e+00                       0.000000   \n",
       "25%      7.410000e+02                       3.000000   \n",
       "50%      4.423000e+03                       8.000000   \n",
       "75%      2.606700e+04                      23.000000   \n",
       "max      3.579764e+07                      69.000000   \n",
       "\n",
       "       tomatometer_fresh_critics_count  tomatometer_rotten_critics_count  \\\n",
       "count                     17017.000000                      17017.000000   \n",
       "mean                         36.237292                         20.871188   \n",
       "std                          51.362454                         29.978900   \n",
       "min                           0.000000                          0.000000   \n",
       "25%                           6.000000                          3.000000   \n",
       "50%                          17.000000                          8.000000   \n",
       "75%                          44.000000                         24.000000   \n",
       "max                         497.000000                        303.000000   \n",
       "\n",
       "                  G          NC17            NR            PG         PG-13  \\\n",
       "count  17017.000000  17017.000000  17017.000000  17017.000000  17017.000000   \n",
       "mean       0.039314      0.002174      0.294940      0.124993      0.171593   \n",
       "std        0.194346      0.046580      0.456029      0.330720      0.377037   \n",
       "min        0.000000      0.000000      0.000000      0.000000      0.000000   \n",
       "25%        0.000000      0.000000      0.000000      0.000000      0.000000   \n",
       "50%        0.000000      0.000000      0.000000      0.000000      0.000000   \n",
       "75%        0.000000      0.000000      1.000000      0.000000      0.000000   \n",
       "max        1.000000      1.000000      1.000000      1.000000      1.000000   \n",
       "\n",
       "                  R  audience_status  tomatometer_status  \n",
       "count  17017.000000     17017.000000        17017.000000  \n",
       "mean       0.366986         0.542928            0.752718  \n",
       "std        0.481997         0.498168            0.747250  \n",
       "min        0.000000         0.000000            0.000000  \n",
       "25%        0.000000         0.000000            0.000000  \n",
       "50%        0.000000         1.000000            1.000000  \n",
       "75%        1.000000         1.000000            1.000000  \n",
       "max        1.000000         1.000000            2.000000  "
      ]
     },
     "execution_count": 11,
     "metadata": {},
     "output_type": "execute_result"
    }
   ],
   "source": [
    "df_features.describe()"
   ]
  },
  {
   "cell_type": "code",
   "execution_count": 12,
   "id": "ebbe6f40",
   "metadata": {},
   "outputs": [
    {
     "data": {
      "text/plain": [
       "[Text(0, 0, '7375'), Text(0, 0, '6475'), Text(0, 0, '3167')]"
      ]
     },
     "execution_count": 12,
     "metadata": {},
     "output_type": "execute_result"
    },
    {
     "data": {
      "image/png": "[encoded data removed]",
      "text/plain": [
       "<Figure size 600x400 with 1 Axes>"
      ]
     },
     "metadata": {},
     "output_type": "display_data"
    }
   ],
   "source": [
    "ax = df_features['tomatometer_status'].value_counts().plot(kind = 'bar', figsize = (6,4))\n",
    "ax.bar_label(ax.containers[0])"
   ]
  },
  {
   "cell_type": "markdown",
   "id": "6b562054",
   "metadata": {},
   "source": [
    "It turns out that in our final DataFrame, we have 7375 movies classified as Rotten(encoded as 0), 6475 movies classified as 'Fresh' (encoded as 1), and only 3167 movies classified as 'Certified-Fresh' (encoded as 2). Thus, it looks like we have a class imbalance problem in this case. We will deal with this later."
   ]
  },
  {
   "cell_type": "code",
   "execution_count": 13,
   "id": "8b76a9f5",
   "metadata": {},
   "outputs": [
    {
     "name": "stdout",
     "output_type": "stream",
     "text": [
      "Size of training data is 13613 and the size of test data is 3404\n"
     ]
    }
   ],
   "source": [
    "from sklearn.model_selection import train_test_split\n",
    "\n",
    "X = df_features.drop(['tomatometer_status'], axis = 1)\n",
    "y = df_features['tomatometer_status']\n",
    "\n",
    "X_train, X_test, y_train, y_test = train_test_split(X, y, test_size = 0.2, random_state = 42)\n",
    "\n",
    "print(f'Size of training data is {len(X_train)} and the size of test data is {len(X_test)}')"
   ]
  },
  {
   "cell_type": "markdown",
   "id": "02b951e3",
   "metadata": {},
   "source": [
    "### Decision Tree Classifier"
   ]
  },
  {
   "cell_type": "code",
   "execution_count": 14,
   "id": "9433a7ae",
   "metadata": {},
   "outputs": [],
   "source": [
    "from sklearn.tree import DecisionTreeClassifier, plot_tree\n",
    "from sklearn.metrics import plot_confusion_matrix, classification_report, confusion_matrix, accuracy_score"
   ]
  },
  {
   "cell_type": "code",
   "execution_count": 35,
   "id": "5ca40b8b",
   "metadata": {},
   "outputs": [
    {
     "name": "stdout",
     "output_type": "stream",
     "text": [
      "Accuracy Score : 0.9462 %\n",
      "\n",
      "Decision Tree 3 Leaf Report \n",
      "\n",
      "              precision    recall  f1-score   support\n",
      "\n",
      "         0.0       1.00      1.00      1.00      1488\n",
      "         1.0       0.97      0.88      0.93      1286\n",
      "         2.0       0.80      0.95      0.87       630\n",
      "\n",
      "    accuracy                           0.95      3404\n",
      "   macro avg       0.92      0.94      0.93      3404\n",
      "weighted avg       0.95      0.95      0.95      3404\n",
      "\n"
     ]
    }
   ],
   "source": [
    "# Instantiate Decision Tree Classifier with max_leaf_nodes = 3\n",
    "tree_3_leaf = DecisionTreeClassifier(max_leaf_nodes = 3, random_state = 2)\n",
    "\n",
    "# Train the classifier on the training data\n",
    "tree_3_leaf.fit(X_train, y_train)\n",
    "\n",
    "# Predict the test data with trained tree classifier\n",
    "\n",
    "y_predict = tree_3_leaf.predict(X_test)\n",
    "\n",
    "# Print the accuracy and classification report on test data\n",
    "print('Accuracy Score :',accuracy_score(y_test, y_predict).round(4), '%')\n",
    "print('')\n",
    "print('Decision Tree 3 Leaf Report ')\n",
    "print('')\n",
    "print(classification_report(y_test, y_predict))"
   ]
  },
  {
   "cell_type": "code",
   "execution_count": 36,
   "id": "10db6d4b",
   "metadata": {},
   "outputs": [
    {
     "name": "stderr",
     "output_type": "stream",
     "text": [
      "/opt/anaconda3/lib/python3.9/site-packages/sklearn/utils/deprecation.py:87: FutureWarning: Function plot_confusion_matrix is deprecated; Function `plot_confusion_matrix` is deprecated in 1.0 and will be removed in 1.2. Use one of the class methods: ConfusionMatrixDisplay.from_predictions or ConfusionMatrixDisplay.from_estimator.\n",
      "  warnings.warn(msg, category=FutureWarning)\n"
     ]
    },
    {
     "data": {
      "text/plain": [
       "<sklearn.metrics._plot.confusion_matrix.ConfusionMatrixDisplay at 0x7ff69a190d60>"
      ]
     },
     "execution_count": 36,
     "metadata": {},
     "output_type": "execute_result"
    },
    {
     "data": {
      "image/png": "[encoded data removed]",
      "text/plain": [
       "<Figure size 600x400 with 2 Axes>"
      ]
     },
     "metadata": {},
     "output_type": "display_data"
    }
   ],
   "source": [
    "# Plot confusion matrix on test data\n",
    "fig, ax = plt.subplots(figsize = (6,4))\n",
    "\n",
    "plot_confusion_matrix(tree_3_leaf, X_test, y_test, cmap = 'inferno', ax = ax)"
   ]
  },
  {
   "cell_type": "code",
   "execution_count": 17,
   "id": "d1bdb74d",
   "metadata": {},
   "outputs": [
    {
     "data": {
      "image/png": "[encoded data removed]",
      "text/plain": [
       "<Figure size 600x400 with 1 Axes>"
      ]
     },
     "metadata": {},
     "output_type": "display_data"
    }
   ],
   "source": [
    "fig, ax = plt.subplots(figsize=(6, 4))\n",
    "\n",
    "plot_tree(tree_3_leaf, ax= ax)\n",
    "\n",
    "plt.show()"
   ]
  },
  {
   "cell_type": "markdown",
   "id": "9a56436d",
   "metadata": {},
   "source": [
    "* If a data point has tomatometer_rating below or equals to 59.5, then that data point will be labeled as 0, which is the encoding representation of 'Rotten'. If not, then a data point goes to the next branch.\n",
    "\n",
    "* In the second branch, our decision tree classifier uses the feature with index 6 in our df_feature DataFrame, which is tomatometer_fresh_critics_count to classify the remaining data points. If a data point has tomatometer_fresh_critics_count less than or equal to 35.5, then it will be labeled as 1, which is the encoding representation of 'Fresh', otherwise, it will be labeled as 2 or 'Certified-Fresh'.\n",
    "\n",
    "If a movie has a tomatometer_rating above 59.5, then the model needs to take a look at several features to find out whether a movie is 'Fresh' or 'Certified-Fresh'. If you take a look at the Rotten Tomatoes homepage, there are several considerations that need to be taken into account for a movie to be considered as 'Certified-Fresh' instead of just 'Fresh', such as:\n",
    "\n",
    "    * A consistent Tomatometer score of at least 75%\n",
    "    * At least 5 reviews from Top Critics\n",
    "    * Films in wide release must have a minimum of 80 reviews\n",
    "\n",
    "As you can see, several variables need to be taken into account to distinctively classify whether a movie is 'Fresh' or 'Certified-Fresh'. Since we constrained our Decision Tree model, then it uses the number of top critics' review as the sole variable to classify whether a movie is 'Fresh' or 'Certified-Fresh'\n",
    "\n",
    "Now that we know how a decision tree classifies each data point, let's try to optimize the accuracy score by removing the maximum leaf nodes constraint that we have set in the beginning.\n"
   ]
  },
  {
   "cell_type": "code",
   "execution_count": 48,
   "id": "16705367",
   "metadata": {},
   "outputs": [
    {
     "name": "stdout",
     "output_type": "stream",
     "text": [
      "Accuracy Score : 0.9921 %\n",
      "\n",
      "Decision Tree Report \n",
      "\n",
      "              precision    recall  f1-score   support\n",
      "\n",
      "         0.0       1.00      1.00      1.00      1488\n",
      "         1.0       0.99      0.99      0.99      1286\n",
      "         2.0       0.98      0.98      0.98       630\n",
      "\n",
      "    accuracy                           0.99      3404\n",
      "   macro avg       0.99      0.99      0.99      3404\n",
      "weighted avg       0.99      0.99      0.99      3404\n",
      "\n"
     ]
    }
   ],
   "source": [
    "# Instantiate Decision Tree Classifier with default hyperparameter settings\n",
    "tree = DecisionTreeClassifier(random_state = 2)\n",
    "\n",
    "# Train the classifier on the training data\n",
    "tree.fit(X_train, y_train)\n",
    "\n",
    "# Predict the test data with trained tree classifier\n",
    "\n",
    "y_predict = tree.predict(X_test)\n",
    "\n",
    "# Print the accuracy and classification report on test data\n",
    "print('Accuracy Score :', accuracy_score(y_test, y_predict).round(4), '%')\n",
    "print('')\n",
    "print('Decision Tree Report ')\n",
    "print('')\n",
    "print(classification_report(y_test, y_predict))"
   ]
  },
  {
   "cell_type": "code",
   "execution_count": 49,
   "id": "eddc5b9d",
   "metadata": {},
   "outputs": [
    {
     "name": "stderr",
     "output_type": "stream",
     "text": [
      "/opt/anaconda3/lib/python3.9/site-packages/sklearn/utils/deprecation.py:87: FutureWarning: Function plot_confusion_matrix is deprecated; Function `plot_confusion_matrix` is deprecated in 1.0 and will be removed in 1.2. Use one of the class methods: ConfusionMatrixDisplay.from_predictions or ConfusionMatrixDisplay.from_estimator.\n",
      "  warnings.warn(msg, category=FutureWarning)\n"
     ]
    },
    {
     "data": {
      "text/plain": [
       "<sklearn.metrics._plot.confusion_matrix.ConfusionMatrixDisplay at 0x7ff69a903e50>"
      ]
     },
     "execution_count": 49,
     "metadata": {},
     "output_type": "execute_result"
    },
    {
     "data": {
      "image/png": "[encoded data removed]",
      "text/plain": [
       "<Figure size 600x400 with 2 Axes>"
      ]
     },
     "metadata": {},
     "output_type": "display_data"
    }
   ],
   "source": [
    "# Plot confusion matrix on test data\n",
    "fig, ax = plt.subplots(figsize = (6,4))\n",
    "\n",
    "plot_confusion_matrix(tree, X_test, y_test, cmap = 'inferno', ax = ax)"
   ]
  },
  {
   "cell_type": "markdown",
   "id": "875fb6e2",
   "metadata": {},
   "source": [
    "And the accuracy as well as precision and recall value of our classifier is getting better now, as our classifier now achieves an accuracy of 99% after previously it was 94%. That means our classifier performs better when we let it decide the optimum number of the leaf nodes by itself."
   ]
  },
  {
   "cell_type": "markdown",
   "id": "b265b5ba",
   "metadata": {},
   "source": [
    "### Random Forest Classifier"
   ]
  },
  {
   "cell_type": "code",
   "execution_count": 20,
   "id": "2484b18d",
   "metadata": {},
   "outputs": [],
   "source": [
    "from sklearn.ensemble import RandomForestClassifier"
   ]
  },
  {
   "cell_type": "code",
   "execution_count": 37,
   "id": "b29d7e62",
   "metadata": {},
   "outputs": [
    {
     "name": "stdout",
     "output_type": "stream",
     "text": [
      "Accuracy Score : 0.9918 %\n",
      "\n",
      "Random Forest Report \n",
      "\n",
      "              precision    recall  f1-score   support\n",
      "\n",
      "         0.0       1.00      1.00      1.00      1488\n",
      "         1.0       0.99      0.99      0.99      1286\n",
      "         2.0       0.98      0.97      0.98       630\n",
      "\n",
      "    accuracy                           0.99      3404\n",
      "   macro avg       0.99      0.99      0.99      3404\n",
      "weighted avg       0.99      0.99      0.99      3404\n",
      "\n"
     ]
    }
   ],
   "source": [
    "# Instantiate Random Forest Classifier\n",
    "random_forest = RandomForestClassifier(random_state = 2)\n",
    "\n",
    "# Train Random Forest Classifier on training data\n",
    "random_forest.fit(X_train, y_train)\n",
    "\n",
    "# Predict test data with trained model\n",
    "y_predict = random_forest.predict(X_test)\n",
    "\n",
    "# Print accuracy score and classification report\n",
    "print('Accuracy Score :', accuracy_score(y_test, y_predict).round(4), '%')\n",
    "print('')\n",
    "print('Random Forest Report ')\n",
    "print('')\n",
    "print(classification_report(y_test, y_predict))"
   ]
  },
  {
   "cell_type": "code",
   "execution_count": 38,
   "id": "339506f9",
   "metadata": {},
   "outputs": [
    {
     "name": "stderr",
     "output_type": "stream",
     "text": [
      "/opt/anaconda3/lib/python3.9/site-packages/sklearn/utils/deprecation.py:87: FutureWarning: Function plot_confusion_matrix is deprecated; Function `plot_confusion_matrix` is deprecated in 1.0 and will be removed in 1.2. Use one of the class methods: ConfusionMatrixDisplay.from_predictions or ConfusionMatrixDisplay.from_estimator.\n",
      "  warnings.warn(msg, category=FutureWarning)\n"
     ]
    },
    {
     "data": {
      "text/plain": [
       "<sklearn.metrics._plot.confusion_matrix.ConfusionMatrixDisplay at 0x7ff6ba22ceb0>"
      ]
     },
     "execution_count": 38,
     "metadata": {},
     "output_type": "execute_result"
    },
    {
     "data": {
      "image/png": "[encoded data removed]",
      "text/plain": [
       "<Figure size 600x400 with 2 Axes>"
      ]
     },
     "metadata": {},
     "output_type": "display_data"
    }
   ],
   "source": [
    "# Plot confusion matrix\n",
    "fig, ax = plt.subplots(figsize=(6, 4))\n",
    "\n",
    "\n",
    "plot_confusion_matrix(random_forest, X_test, y_test, cmap ='inferno', ax = ax)"
   ]
  },
  {
   "cell_type": "markdown",
   "id": "a313361c",
   "metadata": {},
   "source": [
    "By looking at the accuracy and confusion matrix above, we can see that Random Forest algorithm slightly outperform a Decision Tree Classifier. This shows that an ensemble method like Random Forest can be powerful in most cases in comparison with a single classification algorithm.\n",
    "\n",
    "Another interesting point with tree-based machine learning algorithm is that we can quantify the importance of each feature after we trained the model. This means that we can get information which feature is useful for the model to make prediction and which one is not.\n",
    "\n",
    "With Scikit-learn, we can find out the importance of each feature by calling feature_importances_ method as follows:"
   ]
  },
  {
   "cell_type": "code",
   "execution_count": 23,
   "id": "cbff6cfb",
   "metadata": {},
   "outputs": [
    {
     "name": "stdout",
     "output_type": "stream",
     "text": [
      "runtime = 0.006015863692177353\n",
      "tomatometer_rating = 0.47741900252272\n",
      "tomatometer_count = 0.10220254591994508\n",
      "audience_rating = 0.05088427815676861\n",
      "audience_count = 0.015183177640406763\n",
      "tomatometer_top_critics_count = 0.03343725089613897\n",
      "tomatometer_fresh_critics_count = 0.14033351271762462\n",
      "tomatometer_rotten_critics_count = 0.12103724745443427\n",
      "G = 0.00036816006911948945\n",
      "NC17 = 1.3196867801217176e-05\n",
      "NR = 0.009030567671228376\n",
      "PG = 0.0004686317241405253\n",
      "PG-13 = 0.0021793143919140797\n",
      "R = 0.001690565203849805\n",
      "audience_status = 0.03973668507173091\n"
     ]
    }
   ],
   "source": [
    "# Get the feature importance\n",
    "feature_importance = random_forest.feature_importances_\n",
    "\n",
    "# Print feature importance\n",
    "# Enumerate() method adds a counter to an iterable and returns it in a form of enumerating object.\n",
    "for i,feature in enumerate(X_train.columns):\n",
    "    print(f'{feature} = {feature_importance[i]}')"
   ]
  },
  {
   "cell_type": "code",
   "execution_count": 24,
   "id": "4c9650c1",
   "metadata": {},
   "outputs": [
    {
     "data": {
      "image/png": "[encoded data removed]",
      "text/plain": [
       "<Figure size 1200x900 with 1 Axes>"
      ]
     },
     "metadata": {},
     "output_type": "display_data"
    }
   ],
   "source": [
    "# Visualize feature from the most important to the least important\n",
    "indices = np.argsort(feature_importance)\n",
    "\n",
    "plt.figure(figsize = (12, 9))\n",
    "plt.title('Feature Importances')\n",
    "plt.barh(range(len(indices)), feature_importance[indices], align = 'center')\n",
    "plt.yticks(range(len(indices)), [X_train.columns[i] for i in indices])\n",
    "plt.xlabel('Relative Importance')\n",
    "plt.show()"
   ]
  },
  {
   "cell_type": "markdown",
   "id": "0acacdfa",
   "metadata": {},
   "source": [
    "It turns out that the variety of content_rating variables such as NR, PG-13, R, etc alongside the runtime are not considered to be important by the model to predict unseen data points."
   ]
  },
  {
   "cell_type": "markdown",
   "id": "f34fe0f3",
   "metadata": {},
   "source": [
    "### Random Forest Classifier with Feature Selection"
   ]
  },
  {
   "cell_type": "markdown",
   "id": "c6f6a967",
   "metadata": {},
   "source": [
    "As we have seen in the previous section, it turns out that several features are not considered to be important for our Random Forest model to make a prediction. Due to this reason, let's remove all of the features that have low importance for the model, such as NR, runtime, PG-13, R, PG, G, and NC17."
   ]
  },
  {
   "cell_type": "code",
   "execution_count": 44,
   "id": "5f526765",
   "metadata": {},
   "outputs": [],
   "source": [
    "X = df_features.drop(['tomatometer_status', 'NR', 'runtime', 'PG-13', 'R', 'PG', 'G', 'NC17'], axis = 1)\n",
    "y = df_features['tomatometer_status']"
   ]
  },
  {
   "cell_type": "code",
   "execution_count": 45,
   "id": "9a0e4813",
   "metadata": {},
   "outputs": [
    {
     "name": "stdout",
     "output_type": "stream",
     "text": [
      "Size of training data is 13613 and the size of test data is 3404\n"
     ]
    }
   ],
   "source": [
    "X_train, X_test, y_train, y_test = train_test_split(X, y, test_size = 0.2, random_state = 42)\n",
    "print(f'Size of training data is {len(X_train)} and the size of test data is {len(X_test)}')"
   ]
  },
  {
   "cell_type": "code",
   "execution_count": 46,
   "id": "c8e259a1",
   "metadata": {},
   "outputs": [
    {
     "name": "stdout",
     "output_type": "stream",
     "text": [
      "Accuracy Score :  0.9918 %\n",
      "\n",
      "Random Forest with Feature Selection Report \n",
      "\n",
      "              precision    recall  f1-score   support\n",
      "\n",
      "         0.0       1.00      1.00      1.00      1488\n",
      "         1.0       0.99      0.99      0.99      1286\n",
      "         2.0       0.98      0.97      0.98       630\n",
      "\n",
      "    accuracy                           0.99      3404\n",
      "   macro avg       0.99      0.99      0.99      3404\n",
      "weighted avg       0.99      0.99      0.99      3404\n",
      "\n"
     ]
    }
   ],
   "source": [
    "random_forest = RandomForestClassifier(random_state = 2)\n",
    "\n",
    "random_forest.fit(X_train, y_train)\n",
    "\n",
    "y_predict = random_forest.predict(X_test)\n",
    "\n",
    "print('Accuracy Score : ', accuracy_score(y_test, y_predict).round(4), '%')\n",
    "print('')\n",
    "print('Random Forest with Feature Selection Report ')\n",
    "print('')\n",
    "print(classification_report(y_test, y_predict))"
   ]
  },
  {
   "cell_type": "code",
   "execution_count": 47,
   "id": "becc3925",
   "metadata": {},
   "outputs": [
    {
     "name": "stderr",
     "output_type": "stream",
     "text": [
      "/opt/anaconda3/lib/python3.9/site-packages/sklearn/utils/deprecation.py:87: FutureWarning: Function plot_confusion_matrix is deprecated; Function `plot_confusion_matrix` is deprecated in 1.0 and will be removed in 1.2. Use one of the class methods: ConfusionMatrixDisplay.from_predictions or ConfusionMatrixDisplay.from_estimator.\n",
      "  warnings.warn(msg, category=FutureWarning)\n"
     ]
    },
    {
     "data": {
      "text/plain": [
       "<sklearn.metrics._plot.confusion_matrix.ConfusionMatrixDisplay at 0x7ff6bb63d370>"
      ]
     },
     "execution_count": 47,
     "metadata": {},
     "output_type": "execute_result"
    },
    {
     "data": {
      "image/png": "[encoded data removed]",
      "text/plain": [
       "<Figure size 600x400 with 2 Axes>"
      ]
     },
     "metadata": {},
     "output_type": "display_data"
    }
   ],
   "source": [
    "# Plot confusion matrix\n",
    "fig, ax = plt.subplots(figsize=(6, 4))\n",
    "\n",
    "\n",
    "plot_confusion_matrix(random_forest, X_test, y_test, cmap ='inferno', ax = ax)"
   ]
  },
  {
   "cell_type": "markdown",
   "id": "ce8ea02c",
   "metadata": {},
   "source": [
    "And the performance of our model increased after feature selection. The accuracy of our model now reaches 99.1%. The False Positive and False Negative rates of our model prediction are also slightly decreased compared to the previous model. This proves that having more features doesn't equal having a better model. Some unimportant features might create a noise that negatively affects the reliability of the model's prediction."
   ]
  },
  {
   "cell_type": "markdown",
   "id": "ff2729e7",
   "metadata": {},
   "source": [
    "### Weighted Random Forest Classifier with Feature Selection"
   ]
  },
  {
   "cell_type": "code",
   "execution_count": 31,
   "id": "a07755f7",
   "metadata": {},
   "outputs": [],
   "source": [
    "from sklearn.utils.class_weight import compute_class_weight"
   ]
  },
  {
   "cell_type": "code",
   "execution_count": 30,
   "id": "c3059c41",
   "metadata": {},
   "outputs": [
    {
     "data": {
      "text/plain": [
       "[Text(0, 0, '7375'), Text(0, 0, '6475'), Text(0, 0, '3167')]"
      ]
     },
     "execution_count": 30,
     "metadata": {},
     "output_type": "execute_result"
    },
    {
     "data": {
      "image/png": "[encoded data removed]",
      "text/plain": [
       "<Figure size 600x400 with 1 Axes>"
      ]
     },
     "metadata": {},
     "output_type": "display_data"
    }
   ],
   "source": [
    "ax = df_features['tomatometer_status'].value_counts().plot(kind = 'bar', figsize = (6, 4))\n",
    "ax.bar_label(ax.containers[0])"
   ]
  },
  {
   "cell_type": "markdown",
   "id": "8e3bbd05",
   "metadata": {},
   "source": [
    "Obviously, the amount of data with the 'Certified-Fresh' label is not comparable with the data with the 'Rotten' label. We have a lot more data labeled as 'Rotten' compared to 'Certified-Fresh'. There are some methods that we can use to address this data imbalance issue, such as applying SMOTE algorithm to oversample the data which have fewer labels, or we can supply the information about class weight to the model during the training process.\n",
    "\n",
    "In this notebook, we're going to apply the second approach, in which we're going to apply class weight for each label. The idea behind it is that the class with fewer labels will have a higher weight than the data with the more frequent label.\n",
    "\n",
    "We can apply class weight with the help of scikit-learn by applying the compute_class_weight method."
   ]
  },
  {
   "cell_type": "code",
   "execution_count": 32,
   "id": "a29b4b2e",
   "metadata": {},
   "outputs": [
    {
     "data": {
      "text/plain": [
       "{0: 0.7691299435028248, 1: 0.8760360360360361, 2: 1.7910746237238186}"
      ]
     },
     "execution_count": 32,
     "metadata": {},
     "output_type": "execute_result"
    }
   ],
   "source": [
    "class_weight = compute_class_weight(class_weight = 'balanced', classes = np.unique(df_features['tomatometer_status']),\n",
    "                                   y = df_features['tomatometer_status'].values)\n",
    "\n",
    "class_weight_dict = dict(zip(range(len(class_weight.tolist())), class_weight.tolist()))\n",
    "class_weight_dict"
   ]
  },
  {
   "cell_type": "markdown",
   "id": "c2d6dae7",
   "metadata": {},
   "source": [
    "As you can see above, the class with the most data, i.e 0, or 'Rotten' has the smallest weight, while the class with the least data, i.e 2, or 'Certified-Fresh' has the biggest weight. Next, we can supply this weight information to the model when we initialize our Random Forest classifier. So let's initialize our model once more, now with class weight information, and then train it on the training set, use it to make a prediction on the test data, and finally print the accuracy score as well as the visualization of the confusion matrix."
   ]
  },
  {
   "cell_type": "code",
   "execution_count": 42,
   "id": "9ef8f14f",
   "metadata": {},
   "outputs": [
    {
     "name": "stdout",
     "output_type": "stream",
     "text": [
      "Accuracy Score :  0.9927 %\n",
      "\n",
      "Weighted Random Forest with Feature Selection Report \n",
      "\n",
      "              precision    recall  f1-score   support\n",
      "\n",
      "         0.0       1.00      1.00      1.00      1488\n",
      "         1.0       0.99      0.99      0.99      1286\n",
      "         2.0       0.98      0.98      0.98       630\n",
      "\n",
      "    accuracy                           0.99      3404\n",
      "   macro avg       0.99      0.99      0.99      3404\n",
      "weighted avg       0.99      0.99      0.99      3404\n",
      "\n"
     ]
    }
   ],
   "source": [
    "# Initialize Random Forest model with weight information\n",
    "random_f_weighted = RandomForestClassifier(random_state = 2, class_weight = class_weight_dict)\n",
    "\n",
    "# Train the model on the training data\n",
    "random_f_weighted.fit(X_train, y_train)\n",
    "\n",
    "# Predict the test data with the trained model\n",
    "y_predict = random_f_weighted.predict(X_test)\n",
    "\n",
    "print('Accuracy Score : ', accuracy_score(y_test, y_predict).round(4), '%')\n",
    "print('')\n",
    "print('Weighted Random Forest with Feature Selection Report ')\n",
    "print('')\n",
    "print(classification_report(y_test, y_predict))"
   ]
  },
  {
   "cell_type": "code",
   "execution_count": 43,
   "id": "7bddb584",
   "metadata": {},
   "outputs": [
    {
     "name": "stderr",
     "output_type": "stream",
     "text": [
      "/opt/anaconda3/lib/python3.9/site-packages/sklearn/utils/deprecation.py:87: FutureWarning: Function plot_confusion_matrix is deprecated; Function `plot_confusion_matrix` is deprecated in 1.0 and will be removed in 1.2. Use one of the class methods: ConfusionMatrixDisplay.from_predictions or ConfusionMatrixDisplay.from_estimator.\n",
      "  warnings.warn(msg, category=FutureWarning)\n"
     ]
    },
    {
     "data": {
      "text/plain": [
       "<sklearn.metrics._plot.confusion_matrix.ConfusionMatrixDisplay at 0x7ff6ba7ec1c0>"
      ]
     },
     "execution_count": 43,
     "metadata": {},
     "output_type": "execute_result"
    },
    {
     "data": {
      "image/png": "[encoded data removed]",
      "text/plain": [
       "<Figure size 600x400 with 2 Axes>"
      ]
     },
     "metadata": {},
     "output_type": "display_data"
    }
   ],
   "source": [
    "# Plot confusion matrix\n",
    "fig, ax = plt.subplots(figsize=(6, 4))\n",
    "\n",
    "plot_confusion_matrix(random_f_weighted, X_test, y_test, cmap ='inferno', ax = ax)"
   ]
  },
  {
   "cell_type": "markdown",
   "id": "85c6807d",
   "metadata": {},
   "source": [
    "And it turns out that the performance of our model improved after applying class weights, as the accuracy now reaches 99.2% and the number of correct prediction of the data with 'Certified-Fresh' label is increased by three."
   ]
  },
  {
   "cell_type": "code",
   "execution_count": null,
   "id": "b485f9b6",
   "metadata": {},
   "outputs": [],
   "source": []
  },
  {
   "cell_type": "code",
   "execution_count": null,
   "id": "a797085e",
   "metadata": {},
   "outputs": [],
   "source": []
  },
  {
   "cell_type": "code",
   "execution_count": null,
   "id": "9255057b",
   "metadata": {},
   "outputs": [],
   "source": []
  },
  {
   "cell_type": "code",
   "execution_count": null,
   "id": "df360cf2",
   "metadata": {},
   "outputs": [],
   "source": []
  },
  {
   "cell_type": "code",
   "execution_count": null,
   "id": "e49fa56c",
   "metadata": {},
   "outputs": [],
   "source": []
  },
  {
   "cell_type": "code",
   "execution_count": null,
   "id": "5d22c94e",
   "metadata": {},
   "outputs": [],
   "source": []
  },
  {
   "cell_type": "code",
   "execution_count": null,
   "id": "a5783e56",
   "metadata": {},
   "outputs": [],
   "source": []
  }
 ],
 "metadata": {
  "kernelspec": {
   "display_name": "Python 3 (ipykernel)",
   "language": "python",
   "name": "python3"
  },
  "language_info": {
   "codemirror_mode": {
    "name": "ipython",
    "version": 3
   },
   "file_extension": ".py",
   "mimetype": "text/x-python",
   "name": "python",
   "nbconvert_exporter": "python",
   "pygments_lexer": "ipython3",
   "version": "3.9.12"
  }
 },
 "nbformat": 4,
 "nbformat_minor": 5
}
