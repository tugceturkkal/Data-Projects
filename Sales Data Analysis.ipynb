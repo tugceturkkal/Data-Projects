{
 "cells": [
  {
   "cell_type": "markdown",
   "id": "c972c87b",
   "metadata": {},
   "source": [
    "# 23andMe - Sales Data Analysis"
   ]
  },
  {
   "cell_type": "markdown",
   "id": "1b8a3112",
   "metadata": {},
   "source": [
    "## Table of Contents\n",
    "* [Assignment](#Assignment)\n",
    "* [Data Exploration](#Data-Exploration)\n",
    "* [Question 1](#Question-1)"
   ]
  },
  {
   "cell_type": "markdown",
   "id": "51b77528",
   "metadata": {},
   "source": [
    "### Assignment\n",
    "\n",
    "1. Plot daily sales for all 50 weeks.\n",
    "2. It looks like there has been a sudden change in daily sales. What date did it occur?\n",
    "3. Is the change in daily sales at the date you selected statistically significant? If so, what is the p-value?\n",
    "4. Does the data suggest that the change in daily sales is due to a shift in the proportion of male-vs-female customers? Please use plots to support your answer (a rigorous statistical analysis is not necessary).\n",
    "5. Assume a given day is divided into four dayparts:\n",
    "     - night (12:00AM - 6:00AM),\n",
    "     - morning (6:00AM - 12:00PM),\n",
    "     - afternoon (12:00PM - 6:00PM),\n",
    "     - evening (6:00PM - 12:00AM),\n",
    "     \n",
    "  What is the percentage of sales in each daypart over all 50 weeks?"
   ]
  },
  {
   "cell_type": "markdown",
   "id": "729e868b",
   "metadata": {},
   "source": [
    "## Data Exploration"
   ]
  },
  {
   "cell_type": "code",
   "execution_count": 24,
   "id": "c3f55ebe",
   "metadata": {},
   "outputs": [],
   "source": [
    "import pandas as pd\n",
    "import glob\n",
    "import matplotlib.pyplot as plt"
   ]
  },
  {
   "cell_type": "markdown",
   "id": "fef31cf6",
   "metadata": {},
   "source": [
    "I have 50 CSV files and I want to merge all of them. In Python, the glob module is used similarly to find, locate, and search for all of the files that are present in a system. So, I used glob to merge all CSV files into one file."
   ]
  },
  {
   "cell_type": "code",
   "execution_count": 27,
   "id": "82d8c2c9",
   "metadata": {},
   "outputs": [
    {
     "data": {
      "text/plain": [
       "['sales_week_starting_2013-01-07.csv',\n",
       " 'sales_week_starting_2012-12-24.csv',\n",
       " 'sales_week_starting_2012-12-31.csv',\n",
       " 'sales_week_starting_2013-04-22.csv',\n",
       " 'sales_week_starting_2012-10-08.csv',\n",
       " 'sales_week_starting_2012-10-22.csv',\n",
       " 'sales_week_starting_2013-04-08.csv',\n",
       " 'sales_week_starting_2013-06-24.csv',\n",
       " 'sales_week_starting_2013-08-19.csv',\n",
       " 'sales_week_starting_2013-03-04.csv',\n",
       " 'sales_week_starting_2013-03-11.csv',\n",
       " 'sales_week_starting_2013-01-28.csv',\n",
       " 'sales_week_starting_2013-01-14.csv',\n",
       " 'sales_week_starting_2013-08-26.csv',\n",
       " 'sales_week_starting_2013-09-02.csv',\n",
       " 'sales_week_starting_2013-05-06.csv',\n",
       " 'sales_week_starting_2012-11-05.csv',\n",
       " 'sales_week_starting_2013-05-13.csv',\n",
       " 'sales_week_starting_2013-02-18.csv',\n",
       " 'sales_week_starting_2013-07-29.csv',\n",
       " 'sales_week_starting_2013-07-15.csv',\n",
       " 'sales_week_starting_2013-07-01.csv',\n",
       " 'sales_week_starting_2012-11-12.csv',\n",
       " 'sales_week_starting_2013-02-25.csv',\n",
       " 'sales_week_starting_2013-09-09.csv',\n",
       " 'sales_week_starting_2013-05-20.csv',\n",
       " 'sales_week_starting_2013-05-27.csv',\n",
       " 'sales_week_starting_2012-11-19.csv',\n",
       " 'sales_week_starting_2013-07-22.csv',\n",
       " 'sales_week_starting_2013-02-11.csv',\n",
       " 'sales_week_starting_2012-11-26.csv',\n",
       " 'sales_week_starting_2013-07-08.csv',\n",
       " 'sales_week_starting_2013-02-04.csv',\n",
       " 'sales_week_starting_2012-12-10.csv',\n",
       " 'sales_week_starting_2012-10-15.csv',\n",
       " 'sales_week_starting_2012-10-01.csv',\n",
       " 'sales_week_starting_2012-10-29.csv',\n",
       " 'sales_week_starting_2013-06-10.csv',\n",
       " 'sales_week_starting_2013-04-01.csv',\n",
       " 'sales_week_starting_2013-04-15.csv',\n",
       " 'sales_week_starting_2013-04-29.csv',\n",
       " 'sales_week_starting_2013-03-25.csv',\n",
       " 'sales_week_starting_2012-12-17.csv',\n",
       " 'sales_week_starting_2012-12-03.csv',\n",
       " 'sales_week_starting_2013-03-18.csv',\n",
       " 'sales_week_starting_2013-01-21.csv',\n",
       " 'sales_week_starting_2013-08-05.csv',\n",
       " 'sales_week_starting_2013-06-03.csv',\n",
       " 'sales_week_starting_2013-06-17.csv',\n",
       " 'sales_week_starting_2013-08-12.csv']"
      ]
     },
     "execution_count": 27,
     "metadata": {},
     "output_type": "execute_result"
    }
   ],
   "source": [
    "csv_files = glob.glob('*.{}'.format('csv'))\n",
    "csv_files"
   ]
  },
  {
   "cell_type": "code",
   "execution_count": 28,
   "id": "ebdf5359",
   "metadata": {},
   "outputs": [
    {
     "data": {
      "text/plain": [
       "50"
      ]
     },
     "execution_count": 28,
     "metadata": {},
     "output_type": "execute_result"
    }
   ],
   "source": [
    "len(csv_files)"
   ]
  },
  {
   "cell_type": "markdown",
   "id": "32121261",
   "metadata": {},
   "source": [
    "And then, I want to merge the CSV files. I don't use the merge() function because I want to list day-to-day. So, I used pandas.concat() function."
   ]
  },
  {
   "cell_type": "code",
   "execution_count": 47,
   "id": "daf0f80b",
   "metadata": {},
   "outputs": [
    {
     "data": {
      "text/html": [
       "<div>\n",
       "<style scoped>\n",
       "    .dataframe tbody tr th:only-of-type {\n",
       "        vertical-align: middle;\n",
       "    }\n",
       "\n",
       "    .dataframe tbody tr th {\n",
       "        vertical-align: top;\n",
       "    }\n",
       "\n",
       "    .dataframe thead th {\n",
       "        text-align: right;\n",
       "    }\n",
       "</style>\n",
       "<table border=\"1\" class=\"dataframe\">\n",
       "  <thead>\n",
       "    <tr style=\"text-align: right;\">\n",
       "      <th></th>\n",
       "      <th>sale_time</th>\n",
       "      <th>purchaser_gender</th>\n",
       "    </tr>\n",
       "  </thead>\n",
       "  <tbody>\n",
       "    <tr>\n",
       "      <th>0</th>\n",
       "      <td>2013-01-07 02:14:07</td>\n",
       "      <td>female</td>\n",
       "    </tr>\n",
       "    <tr>\n",
       "      <th>1</th>\n",
       "      <td>2013-01-07 02:57:53</td>\n",
       "      <td>male</td>\n",
       "    </tr>\n",
       "    <tr>\n",
       "      <th>2</th>\n",
       "      <td>2013-01-07 02:59:49</td>\n",
       "      <td>female</td>\n",
       "    </tr>\n",
       "    <tr>\n",
       "      <th>3</th>\n",
       "      <td>2013-01-07 03:02:53</td>\n",
       "      <td>male</td>\n",
       "    </tr>\n",
       "    <tr>\n",
       "      <th>4</th>\n",
       "      <td>2013-01-07 03:27:36</td>\n",
       "      <td>female</td>\n",
       "    </tr>\n",
       "    <tr>\n",
       "      <th>...</th>\n",
       "      <td>...</td>\n",
       "      <td>...</td>\n",
       "    </tr>\n",
       "    <tr>\n",
       "      <th>4970</th>\n",
       "      <td>2013-08-18 23:05:04</td>\n",
       "      <td>male</td>\n",
       "    </tr>\n",
       "    <tr>\n",
       "      <th>4971</th>\n",
       "      <td>2013-08-18 23:07:48</td>\n",
       "      <td>female</td>\n",
       "    </tr>\n",
       "    <tr>\n",
       "      <th>4972</th>\n",
       "      <td>2013-08-18 23:10:08</td>\n",
       "      <td>male</td>\n",
       "    </tr>\n",
       "    <tr>\n",
       "      <th>4973</th>\n",
       "      <td>2013-08-18 23:25:14</td>\n",
       "      <td>female</td>\n",
       "    </tr>\n",
       "    <tr>\n",
       "      <th>4974</th>\n",
       "      <td>2013-08-18 23:30:16</td>\n",
       "      <td>male</td>\n",
       "    </tr>\n",
       "  </tbody>\n",
       "</table>\n",
       "<p>204329 rows × 2 columns</p>\n",
       "</div>"
      ],
      "text/plain": [
       "                sale_time purchaser_gender\n",
       "0     2013-01-07 02:14:07           female\n",
       "1     2013-01-07 02:57:53             male\n",
       "2     2013-01-07 02:59:49           female\n",
       "3     2013-01-07 03:02:53             male\n",
       "4     2013-01-07 03:27:36           female\n",
       "...                   ...              ...\n",
       "4970  2013-08-18 23:05:04             male\n",
       "4971  2013-08-18 23:07:48           female\n",
       "4972  2013-08-18 23:10:08             male\n",
       "4973  2013-08-18 23:25:14           female\n",
       "4974  2013-08-18 23:30:16             male\n",
       "\n",
       "[204329 rows x 2 columns]"
      ]
     },
     "execution_count": 47,
     "metadata": {},
     "output_type": "execute_result"
    }
   ],
   "source": [
    "data_frames = list()\n",
    "\n",
    "for filename in csv_files:\n",
    "    data_frames.append(pd.read_csv(filename))\n",
    "    \n",
    "data = pd.concat(data_frames, axis = 0)\n",
    "data"
   ]
  },
  {
   "cell_type": "code",
   "execution_count": 48,
   "id": "9f7f9bee",
   "metadata": {},
   "outputs": [
    {
     "data": {
      "text/plain": [
       "204329"
      ]
     },
     "execution_count": 48,
     "metadata": {},
     "output_type": "execute_result"
    }
   ],
   "source": [
    "len(data)"
   ]
  },
  {
   "cell_type": "markdown",
   "id": "35d37ebf",
   "metadata": {},
   "source": [
    "## Question 1"
   ]
  },
  {
   "cell_type": "markdown",
   "id": "2eba552c",
   "metadata": {},
   "source": [
    "1. Plot daily sales for all 50 weeks."
   ]
  },
  {
   "cell_type": "markdown",
   "id": "d1747de3",
   "metadata": {},
   "source": [
    "The question is about daily sales. That's why I start to convert the sales_time to a day. Then, I computed the daily sales and gender sales."
   ]
  },
  {
   "cell_type": "code",
   "execution_count": 68,
   "id": "ea903373",
   "metadata": {},
   "outputs": [
    {
     "data": {
      "text/plain": [
       "0   2013-01-07 02:14:07\n",
       "1   2013-01-07 02:57:53\n",
       "2   2013-01-07 02:59:49\n",
       "Name: sale_time, dtype: datetime64[ns]"
      ]
     },
     "execution_count": 68,
     "metadata": {},
     "output_type": "execute_result"
    }
   ],
   "source": [
    "sale_day = pd.to_datetime(data['sale_time'])\n",
    "sale_day.head(3)"
   ]
  },
  {
   "cell_type": "code",
   "execution_count": 72,
   "id": "03544757",
   "metadata": {},
   "outputs": [
    {
     "data": {
      "text/html": [
       "<div>\n",
       "<style scoped>\n",
       "    .dataframe tbody tr th:only-of-type {\n",
       "        vertical-align: middle;\n",
       "    }\n",
       "\n",
       "    .dataframe tbody tr th {\n",
       "        vertical-align: top;\n",
       "    }\n",
       "\n",
       "    .dataframe thead th {\n",
       "        text-align: right;\n",
       "    }\n",
       "</style>\n",
       "<table border=\"1\" class=\"dataframe\">\n",
       "  <thead>\n",
       "    <tr style=\"text-align: right;\">\n",
       "      <th></th>\n",
       "      <th>sale_time</th>\n",
       "      <th>sale_amount</th>\n",
       "    </tr>\n",
       "  </thead>\n",
       "  <tbody>\n",
       "    <tr>\n",
       "      <th>0</th>\n",
       "      <td>2012-10-01</td>\n",
       "      <td>514</td>\n",
       "    </tr>\n",
       "    <tr>\n",
       "      <th>1</th>\n",
       "      <td>2012-10-02</td>\n",
       "      <td>482</td>\n",
       "    </tr>\n",
       "    <tr>\n",
       "      <th>2</th>\n",
       "      <td>2012-10-03</td>\n",
       "      <td>499</td>\n",
       "    </tr>\n",
       "  </tbody>\n",
       "</table>\n",
       "</div>"
      ],
      "text/plain": [
       "   sale_time  sale_amount\n",
       "0 2012-10-01          514\n",
       "1 2012-10-02          482\n",
       "2 2012-10-03          499"
      ]
     },
     "execution_count": 72,
     "metadata": {},
     "output_type": "execute_result"
    }
   ],
   "source": [
    "daily_sales = sale_day.groupby(sale_day.dt.floor('D')).size().reset_index(name = 'sale_amount')\n",
    "daily_sales.head(3)"
   ]
  },
  {
   "cell_type": "code",
   "execution_count": 80,
   "id": "ce544646",
   "metadata": {},
   "outputs": [
    {
     "data": {
      "text/html": [
       "<div>\n",
       "<style scoped>\n",
       "    .dataframe tbody tr th:only-of-type {\n",
       "        vertical-align: middle;\n",
       "    }\n",
       "\n",
       "    .dataframe tbody tr th {\n",
       "        vertical-align: top;\n",
       "    }\n",
       "\n",
       "    .dataframe thead th {\n",
       "        text-align: right;\n",
       "    }\n",
       "</style>\n",
       "<table border=\"1\" class=\"dataframe\">\n",
       "  <thead>\n",
       "    <tr style=\"text-align: right;\">\n",
       "      <th></th>\n",
       "      <th>sale_day</th>\n",
       "      <th>sale_amount</th>\n",
       "    </tr>\n",
       "  </thead>\n",
       "  <tbody>\n",
       "    <tr>\n",
       "      <th>0</th>\n",
       "      <td>2012-10-01</td>\n",
       "      <td>514</td>\n",
       "    </tr>\n",
       "    <tr>\n",
       "      <th>1</th>\n",
       "      <td>2012-10-02</td>\n",
       "      <td>482</td>\n",
       "    </tr>\n",
       "    <tr>\n",
       "      <th>2</th>\n",
       "      <td>2012-10-03</td>\n",
       "      <td>499</td>\n",
       "    </tr>\n",
       "  </tbody>\n",
       "</table>\n",
       "</div>"
      ],
      "text/plain": [
       "    sale_day  sale_amount\n",
       "0 2012-10-01          514\n",
       "1 2012-10-02          482\n",
       "2 2012-10-03          499"
      ]
     },
     "execution_count": 80,
     "metadata": {},
     "output_type": "execute_result"
    }
   ],
   "source": [
    "daily_sales.rename(columns = {'sale_time' : 'sale_day'} , inplace = True)\n",
    "daily_sales.head(3)"
   ]
  },
  {
   "cell_type": "code",
   "execution_count": 79,
   "id": "a0faad95",
   "metadata": {},
   "outputs": [
    {
     "data": {
      "text/html": [
       "<div>\n",
       "<style scoped>\n",
       "    .dataframe tbody tr th:only-of-type {\n",
       "        vertical-align: middle;\n",
       "    }\n",
       "\n",
       "    .dataframe tbody tr th {\n",
       "        vertical-align: top;\n",
       "    }\n",
       "\n",
       "    .dataframe thead th {\n",
       "        text-align: right;\n",
       "    }\n",
       "</style>\n",
       "<table border=\"1\" class=\"dataframe\">\n",
       "  <thead>\n",
       "    <tr style=\"text-align: right;\">\n",
       "      <th></th>\n",
       "      <th>sale_amount</th>\n",
       "    </tr>\n",
       "  </thead>\n",
       "  <tbody>\n",
       "    <tr>\n",
       "      <th>count</th>\n",
       "      <td>350.000000</td>\n",
       "    </tr>\n",
       "    <tr>\n",
       "      <th>mean</th>\n",
       "      <td>583.797143</td>\n",
       "    </tr>\n",
       "    <tr>\n",
       "      <th>std</th>\n",
       "      <td>105.152783</td>\n",
       "    </tr>\n",
       "    <tr>\n",
       "      <th>min</th>\n",
       "      <td>401.000000</td>\n",
       "    </tr>\n",
       "    <tr>\n",
       "      <th>25%</th>\n",
       "      <td>496.000000</td>\n",
       "    </tr>\n",
       "    <tr>\n",
       "      <th>50%</th>\n",
       "      <td>546.000000</td>\n",
       "    </tr>\n",
       "    <tr>\n",
       "      <th>75%</th>\n",
       "      <td>688.750000</td>\n",
       "    </tr>\n",
       "    <tr>\n",
       "      <th>max</th>\n",
       "      <td>801.000000</td>\n",
       "    </tr>\n",
       "  </tbody>\n",
       "</table>\n",
       "</div>"
      ],
      "text/plain": [
       "       sale_amount\n",
       "count   350.000000\n",
       "mean    583.797143\n",
       "std     105.152783\n",
       "min     401.000000\n",
       "25%     496.000000\n",
       "50%     546.000000\n",
       "75%     688.750000\n",
       "max     801.000000"
      ]
     },
     "execution_count": 79,
     "metadata": {},
     "output_type": "execute_result"
    }
   ],
   "source": [
    "daily_sales.describe()"
   ]
  },
  {
   "cell_type": "markdown",
   "id": "c91b9754",
   "metadata": {},
   "source": [
    "The mean of sales amount column is around 583, which means the mean of daily sales is around 583. The min and max daily sales are 401 and 801, in order."
   ]
  },
  {
   "cell_type": "code",
   "execution_count": 50,
   "id": "655736e2",
   "metadata": {},
   "outputs": [
    {
     "data": {
      "text/html": [
       "<div>\n",
       "<style scoped>\n",
       "    .dataframe tbody tr th:only-of-type {\n",
       "        vertical-align: middle;\n",
       "    }\n",
       "\n",
       "    .dataframe tbody tr th {\n",
       "        vertical-align: top;\n",
       "    }\n",
       "\n",
       "    .dataframe thead th {\n",
       "        text-align: right;\n",
       "    }\n",
       "</style>\n",
       "<table border=\"1\" class=\"dataframe\">\n",
       "  <thead>\n",
       "    <tr style=\"text-align: right;\">\n",
       "      <th></th>\n",
       "      <th>purchaser_gender</th>\n",
       "      <th>sales_amount</th>\n",
       "    </tr>\n",
       "  </thead>\n",
       "  <tbody>\n",
       "    <tr>\n",
       "      <th>0</th>\n",
       "      <td>female</td>\n",
       "      <td>107740</td>\n",
       "    </tr>\n",
       "    <tr>\n",
       "      <th>1</th>\n",
       "      <td>male</td>\n",
       "      <td>96589</td>\n",
       "    </tr>\n",
       "  </tbody>\n",
       "</table>\n",
       "</div>"
      ],
      "text/plain": [
       "  purchaser_gender  sales_amount\n",
       "0           female        107740\n",
       "1             male         96589"
      ]
     },
     "execution_count": 50,
     "metadata": {},
     "output_type": "execute_result"
    }
   ],
   "source": [
    "gender_sales = data.groupby(data['purchaser_gender']).size().reset_index(name = 'sales_amount')\n",
    "gender_sales.head(3)"
   ]
  },
  {
   "cell_type": "code",
   "execution_count": 94,
   "id": "56be2585",
   "metadata": {},
   "outputs": [
    {
     "data": {
      "text/plain": [
       "<AxesSubplot:title={'center':'Daily sales over 50 weeks'}, xlabel='sale_day'>"
      ]
     },
     "execution_count": 94,
     "metadata": {},
     "output_type": "execute_result"
    },
    {
     "data": {
      "image/png": "[encoded data removed]",
      "text/plain": [
       "<Figure size 864x576 with 1 Axes>"
      ]
     },
     "metadata": {
      "needs_background": "light"
     },
     "output_type": "display_data"
    }
   ],
   "source": [
    "daily_sales.plot(x = 'sale_day', y = 'sale_amount', figsize = (12,8), title = \"Daily sales over 50 weeks\" )"
   ]
  },
  {
   "cell_type": "markdown",
   "id": "747377bc",
   "metadata": {},
   "source": [
    "## Question 2"
   ]
  },
  {
   "cell_type": "markdown",
   "id": "d2c3524a",
   "metadata": {},
   "source": [
    "2. It looks like there has been a sudden change in daily sales. What date did it occur?"
   ]
  },
  {
   "cell_type": "code",
   "execution_count": null,
   "id": "f70064d3",
   "metadata": {},
   "outputs": [],
   "source": []
  }
 ],
 "metadata": {
  "kernelspec": {
   "display_name": "Python 3 (ipykernel)",
   "language": "python",
   "name": "python3"
  },
  "language_info": {
   "codemirror_mode": {
    "name": "ipython",
    "version": 3
   },
   "file_extension": ".py",
   "mimetype": "text/x-python",
   "name": "python",
   "nbconvert_exporter": "python",
   "pygments_lexer": "ipython3",
   "version": "3.9.12"
  }
 },
 "nbformat": 4,
 "nbformat_minor": 5
}
