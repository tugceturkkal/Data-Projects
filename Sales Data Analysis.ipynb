{
 "cells": [
  {
   "cell_type": "markdown",
   "id": "c972c87b",
   "metadata": {},
   "source": [
    "# 23andMe - Sales Data Analysis"
   ]
  },
  {
   "cell_type": "markdown",
   "id": "1b8a3112",
   "metadata": {},
   "source": [
    "## Table of Contents\n",
    "* [Assignment](#Assignment)\n",
    "* [Data Exploration](#Data-Exploration)\n",
    "* [Question 1](#Question-1)\n",
    "* [Question 2](#Question-2)\n",
    "* [Question 3](#Question-3)\n",
    "* [Question 4](#Question-4)\n",
    "* [Question 5](#Question-5)"
   ]
  },
  {
   "cell_type": "markdown",
   "id": "51b77528",
   "metadata": {},
   "source": [
    "### Assignment\n",
    "\n",
    "1. Plot daily sales for all 50 weeks.\n",
    "2. It looks like there has been a sudden change in daily sales. What date did it occur?\n",
    "3. Is the change in daily sales at the date you selected statistically significant? If so, what is the p-value?\n",
    "4. Does the data suggest that the change in daily sales is due to a shift in the proportion of male-vs-female customers? Please use plots to support your answer (a rigorous statistical analysis is not necessary).\n",
    "5. Assume a given day is divided into four dayparts:\n",
    "     - night (12:00AM - 6:00AM),\n",
    "     - morning (6:00AM - 12:00PM),\n",
    "     - afternoon (12:00PM - 6:00PM),\n",
    "     - evening (6:00PM - 12:00AM),\n",
    "     \n",
    "  What is the percentage of sales in each daypart over all 50 weeks?"
   ]
  },
  {
   "cell_type": "markdown",
   "id": "729e868b",
   "metadata": {},
   "source": [
    "## Data Exploration"
   ]
  },
  {
   "cell_type": "code",
   "execution_count": 20,
   "id": "c3f55ebe",
   "metadata": {},
   "outputs": [],
   "source": [
    "import pandas as pd\n",
    "import glob\n",
    "import matplotlib.pyplot as plt\n",
    "from scipy import stats"
   ]
  },
  {
   "cell_type": "markdown",
   "id": "fef31cf6",
   "metadata": {},
   "source": [
    "I have 50 CSV files and I want to merge all of them. In Python, the glob module is used similarly to find, locate, and search for all of the files that are present in a system. So, I used glob to merge all CSV files into one file."
   ]
  },
  {
   "cell_type": "code",
   "execution_count": 2,
   "id": "82d8c2c9",
   "metadata": {},
   "outputs": [
    {
     "data": {
      "text/plain": [
       "['sales_week_starting_2013-01-07.csv',\n",
       " 'sales_week_starting_2012-12-24.csv',\n",
       " 'sales_week_starting_2012-12-31.csv',\n",
       " 'sales_week_starting_2013-04-22.csv',\n",
       " 'sales_week_starting_2012-10-08.csv',\n",
       " 'sales_week_starting_2012-10-22.csv',\n",
       " 'sales_week_starting_2013-04-08.csv',\n",
       " 'sales_week_starting_2013-06-24.csv',\n",
       " 'sales_week_starting_2013-08-19.csv',\n",
       " 'sales_week_starting_2013-03-04.csv',\n",
       " 'sales_week_starting_2013-03-11.csv',\n",
       " 'sales_week_starting_2013-01-28.csv',\n",
       " 'sales_week_starting_2013-01-14.csv',\n",
       " 'sales_week_starting_2013-08-26.csv',\n",
       " 'sales_week_starting_2013-09-02.csv',\n",
       " 'sales_week_starting_2013-05-06.csv',\n",
       " 'sales_week_starting_2012-11-05.csv',\n",
       " 'sales_week_starting_2013-05-13.csv',\n",
       " 'sales_week_starting_2013-02-18.csv',\n",
       " 'sales_week_starting_2013-07-29.csv',\n",
       " 'sales_week_starting_2013-07-15.csv',\n",
       " 'sales_week_starting_2013-07-01.csv',\n",
       " 'sales_week_starting_2012-11-12.csv',\n",
       " 'sales_week_starting_2013-02-25.csv',\n",
       " 'sales_week_starting_2013-09-09.csv',\n",
       " 'sales_week_starting_2013-05-20.csv',\n",
       " 'sales_week_starting_2013-05-27.csv',\n",
       " 'sales_week_starting_2012-11-19.csv',\n",
       " 'sales_week_starting_2013-07-22.csv',\n",
       " 'sales_week_starting_2013-02-11.csv',\n",
       " 'sales_week_starting_2012-11-26.csv',\n",
       " 'sales_week_starting_2013-07-08.csv',\n",
       " 'sales_week_starting_2013-02-04.csv',\n",
       " 'sales_week_starting_2012-12-10.csv',\n",
       " 'sales_week_starting_2012-10-15.csv',\n",
       " 'sales_week_starting_2012-10-01.csv',\n",
       " 'sales_week_starting_2012-10-29.csv',\n",
       " 'sales_week_starting_2013-06-10.csv',\n",
       " 'sales_week_starting_2013-04-01.csv',\n",
       " 'sales_week_starting_2013-04-15.csv',\n",
       " 'sales_week_starting_2013-04-29.csv',\n",
       " 'sales_week_starting_2013-03-25.csv',\n",
       " 'sales_week_starting_2012-12-17.csv',\n",
       " 'sales_week_starting_2012-12-03.csv',\n",
       " 'sales_week_starting_2013-03-18.csv',\n",
       " 'sales_week_starting_2013-01-21.csv',\n",
       " 'sales_week_starting_2013-08-05.csv',\n",
       " 'sales_week_starting_2013-06-03.csv',\n",
       " 'sales_week_starting_2013-06-17.csv',\n",
       " 'sales_week_starting_2013-08-12.csv']"
      ]
     },
     "execution_count": 2,
     "metadata": {},
     "output_type": "execute_result"
    }
   ],
   "source": [
    "csv_files = glob.glob('*.{}'.format('csv'))\n",
    "csv_files"
   ]
  },
  {
   "cell_type": "code",
   "execution_count": 3,
   "id": "ebdf5359",
   "metadata": {},
   "outputs": [
    {
     "data": {
      "text/plain": [
       "50"
      ]
     },
     "execution_count": 3,
     "metadata": {},
     "output_type": "execute_result"
    }
   ],
   "source": [
    "len(csv_files)"
   ]
  },
  {
   "cell_type": "markdown",
   "id": "32121261",
   "metadata": {},
   "source": [
    "And then, I want to merge the CSV files. I don't use the merge() function because I want to list day-to-day. So, I used pandas.concat() function."
   ]
  },
  {
   "cell_type": "code",
   "execution_count": 4,
   "id": "daf0f80b",
   "metadata": {},
   "outputs": [
    {
     "data": {
      "text/html": [
       "<div>\n",
       "<style scoped>\n",
       "    .dataframe tbody tr th:only-of-type {\n",
       "        vertical-align: middle;\n",
       "    }\n",
       "\n",
       "    .dataframe tbody tr th {\n",
       "        vertical-align: top;\n",
       "    }\n",
       "\n",
       "    .dataframe thead th {\n",
       "        text-align: right;\n",
       "    }\n",
       "</style>\n",
       "<table border=\"1\" class=\"dataframe\">\n",
       "  <thead>\n",
       "    <tr style=\"text-align: right;\">\n",
       "      <th></th>\n",
       "      <th>sale_time</th>\n",
       "      <th>purchaser_gender</th>\n",
       "    </tr>\n",
       "  </thead>\n",
       "  <tbody>\n",
       "    <tr>\n",
       "      <th>0</th>\n",
       "      <td>2013-01-07 02:14:07</td>\n",
       "      <td>female</td>\n",
       "    </tr>\n",
       "    <tr>\n",
       "      <th>1</th>\n",
       "      <td>2013-01-07 02:57:53</td>\n",
       "      <td>male</td>\n",
       "    </tr>\n",
       "    <tr>\n",
       "      <th>2</th>\n",
       "      <td>2013-01-07 02:59:49</td>\n",
       "      <td>female</td>\n",
       "    </tr>\n",
       "    <tr>\n",
       "      <th>3</th>\n",
       "      <td>2013-01-07 03:02:53</td>\n",
       "      <td>male</td>\n",
       "    </tr>\n",
       "    <tr>\n",
       "      <th>4</th>\n",
       "      <td>2013-01-07 03:27:36</td>\n",
       "      <td>female</td>\n",
       "    </tr>\n",
       "    <tr>\n",
       "      <th>...</th>\n",
       "      <td>...</td>\n",
       "      <td>...</td>\n",
       "    </tr>\n",
       "    <tr>\n",
       "      <th>4970</th>\n",
       "      <td>2013-08-18 23:05:04</td>\n",
       "      <td>male</td>\n",
       "    </tr>\n",
       "    <tr>\n",
       "      <th>4971</th>\n",
       "      <td>2013-08-18 23:07:48</td>\n",
       "      <td>female</td>\n",
       "    </tr>\n",
       "    <tr>\n",
       "      <th>4972</th>\n",
       "      <td>2013-08-18 23:10:08</td>\n",
       "      <td>male</td>\n",
       "    </tr>\n",
       "    <tr>\n",
       "      <th>4973</th>\n",
       "      <td>2013-08-18 23:25:14</td>\n",
       "      <td>female</td>\n",
       "    </tr>\n",
       "    <tr>\n",
       "      <th>4974</th>\n",
       "      <td>2013-08-18 23:30:16</td>\n",
       "      <td>male</td>\n",
       "    </tr>\n",
       "  </tbody>\n",
       "</table>\n",
       "<p>204329 rows × 2 columns</p>\n",
       "</div>"
      ],
      "text/plain": [
       "                sale_time purchaser_gender\n",
       "0     2013-01-07 02:14:07           female\n",
       "1     2013-01-07 02:57:53             male\n",
       "2     2013-01-07 02:59:49           female\n",
       "3     2013-01-07 03:02:53             male\n",
       "4     2013-01-07 03:27:36           female\n",
       "...                   ...              ...\n",
       "4970  2013-08-18 23:05:04             male\n",
       "4971  2013-08-18 23:07:48           female\n",
       "4972  2013-08-18 23:10:08             male\n",
       "4973  2013-08-18 23:25:14           female\n",
       "4974  2013-08-18 23:30:16             male\n",
       "\n",
       "[204329 rows x 2 columns]"
      ]
     },
     "execution_count": 4,
     "metadata": {},
     "output_type": "execute_result"
    }
   ],
   "source": [
    "data_frames = list()\n",
    "\n",
    "for filename in csv_files:\n",
    "    data_frames.append(pd.read_csv(filename))\n",
    "    \n",
    "data = pd.concat(data_frames, axis = 0)\n",
    "data"
   ]
  },
  {
   "cell_type": "code",
   "execution_count": 5,
   "id": "9f7f9bee",
   "metadata": {},
   "outputs": [
    {
     "data": {
      "text/plain": [
       "204329"
      ]
     },
     "execution_count": 5,
     "metadata": {},
     "output_type": "execute_result"
    }
   ],
   "source": [
    "len(data)"
   ]
  },
  {
   "cell_type": "markdown",
   "id": "35d37ebf",
   "metadata": {},
   "source": [
    "## Question 1"
   ]
  },
  {
   "cell_type": "markdown",
   "id": "2eba552c",
   "metadata": {},
   "source": [
    "1. Plot daily sales for all 50 weeks."
   ]
  },
  {
   "cell_type": "markdown",
   "id": "d1747de3",
   "metadata": {},
   "source": [
    "The question is about daily sales. That's why I start to convert the sales_time to a day. Then, I computed the daily sales and gender sales."
   ]
  },
  {
   "cell_type": "code",
   "execution_count": 6,
   "id": "ea903373",
   "metadata": {},
   "outputs": [
    {
     "data": {
      "text/plain": [
       "0   2013-01-07 02:14:07\n",
       "1   2013-01-07 02:57:53\n",
       "2   2013-01-07 02:59:49\n",
       "Name: sale_time, dtype: datetime64[ns]"
      ]
     },
     "execution_count": 6,
     "metadata": {},
     "output_type": "execute_result"
    }
   ],
   "source": [
    "sale_day = pd.to_datetime(data['sale_time'])\n",
    "sale_day.head(3)"
   ]
  },
  {
   "cell_type": "code",
   "execution_count": 7,
   "id": "03544757",
   "metadata": {},
   "outputs": [
    {
     "data": {
      "text/html": [
       "<div>\n",
       "<style scoped>\n",
       "    .dataframe tbody tr th:only-of-type {\n",
       "        vertical-align: middle;\n",
       "    }\n",
       "\n",
       "    .dataframe tbody tr th {\n",
       "        vertical-align: top;\n",
       "    }\n",
       "\n",
       "    .dataframe thead th {\n",
       "        text-align: right;\n",
       "    }\n",
       "</style>\n",
       "<table border=\"1\" class=\"dataframe\">\n",
       "  <thead>\n",
       "    <tr style=\"text-align: right;\">\n",
       "      <th></th>\n",
       "      <th>sale_time</th>\n",
       "      <th>sale_amount</th>\n",
       "    </tr>\n",
       "  </thead>\n",
       "  <tbody>\n",
       "    <tr>\n",
       "      <th>0</th>\n",
       "      <td>2012-10-01</td>\n",
       "      <td>514</td>\n",
       "    </tr>\n",
       "    <tr>\n",
       "      <th>1</th>\n",
       "      <td>2012-10-02</td>\n",
       "      <td>482</td>\n",
       "    </tr>\n",
       "    <tr>\n",
       "      <th>2</th>\n",
       "      <td>2012-10-03</td>\n",
       "      <td>499</td>\n",
       "    </tr>\n",
       "  </tbody>\n",
       "</table>\n",
       "</div>"
      ],
      "text/plain": [
       "   sale_time  sale_amount\n",
       "0 2012-10-01          514\n",
       "1 2012-10-02          482\n",
       "2 2012-10-03          499"
      ]
     },
     "execution_count": 7,
     "metadata": {},
     "output_type": "execute_result"
    }
   ],
   "source": [
    "daily_sales = sale_day.groupby(sale_day.dt.floor('D')).size().reset_index(name = 'sale_amount')\n",
    "daily_sales.head(3)"
   ]
  },
  {
   "cell_type": "code",
   "execution_count": 8,
   "id": "ce544646",
   "metadata": {},
   "outputs": [
    {
     "data": {
      "text/html": [
       "<div>\n",
       "<style scoped>\n",
       "    .dataframe tbody tr th:only-of-type {\n",
       "        vertical-align: middle;\n",
       "    }\n",
       "\n",
       "    .dataframe tbody tr th {\n",
       "        vertical-align: top;\n",
       "    }\n",
       "\n",
       "    .dataframe thead th {\n",
       "        text-align: right;\n",
       "    }\n",
       "</style>\n",
       "<table border=\"1\" class=\"dataframe\">\n",
       "  <thead>\n",
       "    <tr style=\"text-align: right;\">\n",
       "      <th></th>\n",
       "      <th>sale_day</th>\n",
       "      <th>sale_amount</th>\n",
       "    </tr>\n",
       "  </thead>\n",
       "  <tbody>\n",
       "    <tr>\n",
       "      <th>0</th>\n",
       "      <td>2012-10-01</td>\n",
       "      <td>514</td>\n",
       "    </tr>\n",
       "    <tr>\n",
       "      <th>1</th>\n",
       "      <td>2012-10-02</td>\n",
       "      <td>482</td>\n",
       "    </tr>\n",
       "    <tr>\n",
       "      <th>2</th>\n",
       "      <td>2012-10-03</td>\n",
       "      <td>499</td>\n",
       "    </tr>\n",
       "  </tbody>\n",
       "</table>\n",
       "</div>"
      ],
      "text/plain": [
       "    sale_day  sale_amount\n",
       "0 2012-10-01          514\n",
       "1 2012-10-02          482\n",
       "2 2012-10-03          499"
      ]
     },
     "execution_count": 8,
     "metadata": {},
     "output_type": "execute_result"
    }
   ],
   "source": [
    "daily_sales.rename(columns = {'sale_time' : 'sale_day'} , inplace = True)\n",
    "daily_sales.head(3)"
   ]
  },
  {
   "cell_type": "code",
   "execution_count": 9,
   "id": "a0faad95",
   "metadata": {},
   "outputs": [
    {
     "data": {
      "text/html": [
       "<div>\n",
       "<style scoped>\n",
       "    .dataframe tbody tr th:only-of-type {\n",
       "        vertical-align: middle;\n",
       "    }\n",
       "\n",
       "    .dataframe tbody tr th {\n",
       "        vertical-align: top;\n",
       "    }\n",
       "\n",
       "    .dataframe thead th {\n",
       "        text-align: right;\n",
       "    }\n",
       "</style>\n",
       "<table border=\"1\" class=\"dataframe\">\n",
       "  <thead>\n",
       "    <tr style=\"text-align: right;\">\n",
       "      <th></th>\n",
       "      <th>sale_amount</th>\n",
       "    </tr>\n",
       "  </thead>\n",
       "  <tbody>\n",
       "    <tr>\n",
       "      <th>count</th>\n",
       "      <td>350.000000</td>\n",
       "    </tr>\n",
       "    <tr>\n",
       "      <th>mean</th>\n",
       "      <td>583.797143</td>\n",
       "    </tr>\n",
       "    <tr>\n",
       "      <th>std</th>\n",
       "      <td>105.152783</td>\n",
       "    </tr>\n",
       "    <tr>\n",
       "      <th>min</th>\n",
       "      <td>401.000000</td>\n",
       "    </tr>\n",
       "    <tr>\n",
       "      <th>25%</th>\n",
       "      <td>496.000000</td>\n",
       "    </tr>\n",
       "    <tr>\n",
       "      <th>50%</th>\n",
       "      <td>546.000000</td>\n",
       "    </tr>\n",
       "    <tr>\n",
       "      <th>75%</th>\n",
       "      <td>688.750000</td>\n",
       "    </tr>\n",
       "    <tr>\n",
       "      <th>max</th>\n",
       "      <td>801.000000</td>\n",
       "    </tr>\n",
       "  </tbody>\n",
       "</table>\n",
       "</div>"
      ],
      "text/plain": [
       "       sale_amount\n",
       "count   350.000000\n",
       "mean    583.797143\n",
       "std     105.152783\n",
       "min     401.000000\n",
       "25%     496.000000\n",
       "50%     546.000000\n",
       "75%     688.750000\n",
       "max     801.000000"
      ]
     },
     "execution_count": 9,
     "metadata": {},
     "output_type": "execute_result"
    }
   ],
   "source": [
    "daily_sales.describe()"
   ]
  },
  {
   "cell_type": "markdown",
   "id": "c91b9754",
   "metadata": {},
   "source": [
    "The mean of sales amount column is around 583, which means the mean of daily sales is around 583. The min and max daily sales are 401 and 801, in order."
   ]
  },
  {
   "cell_type": "code",
   "execution_count": 10,
   "id": "655736e2",
   "metadata": {},
   "outputs": [
    {
     "data": {
      "text/html": [
       "<div>\n",
       "<style scoped>\n",
       "    .dataframe tbody tr th:only-of-type {\n",
       "        vertical-align: middle;\n",
       "    }\n",
       "\n",
       "    .dataframe tbody tr th {\n",
       "        vertical-align: top;\n",
       "    }\n",
       "\n",
       "    .dataframe thead th {\n",
       "        text-align: right;\n",
       "    }\n",
       "</style>\n",
       "<table border=\"1\" class=\"dataframe\">\n",
       "  <thead>\n",
       "    <tr style=\"text-align: right;\">\n",
       "      <th></th>\n",
       "      <th>purchaser_gender</th>\n",
       "      <th>sales_amount</th>\n",
       "    </tr>\n",
       "  </thead>\n",
       "  <tbody>\n",
       "    <tr>\n",
       "      <th>0</th>\n",
       "      <td>female</td>\n",
       "      <td>107740</td>\n",
       "    </tr>\n",
       "    <tr>\n",
       "      <th>1</th>\n",
       "      <td>male</td>\n",
       "      <td>96589</td>\n",
       "    </tr>\n",
       "  </tbody>\n",
       "</table>\n",
       "</div>"
      ],
      "text/plain": [
       "  purchaser_gender  sales_amount\n",
       "0           female        107740\n",
       "1             male         96589"
      ]
     },
     "execution_count": 10,
     "metadata": {},
     "output_type": "execute_result"
    }
   ],
   "source": [
    "gender_sales = data.groupby(data['purchaser_gender']).size().reset_index(name = 'sales_amount')\n",
    "gender_sales.head(3)"
   ]
  },
  {
   "cell_type": "code",
   "execution_count": 12,
   "id": "56be2585",
   "metadata": {},
   "outputs": [
    {
     "data": {
      "image/png": "[encoded data removed]",
      "text/plain": [
       "<Figure size 864x576 with 1 Axes>"
      ]
     },
     "metadata": {
      "needs_background": "light"
     },
     "output_type": "display_data"
    }
   ],
   "source": [
    "data_question_1 = daily_sales.plot(x = 'sale_day', y = 'sale_amount', figsize = (12,8), title = \"Daily sales over 50 weeks\" )"
   ]
  },
  {
   "cell_type": "markdown",
   "id": "747377bc",
   "metadata": {},
   "source": [
    "## Question 2"
   ]
  },
  {
   "cell_type": "markdown",
   "id": "d2c3524a",
   "metadata": {},
   "source": [
    "2. It looks like there has been a sudden change in daily sales. What date did it occur?"
   ]
  },
  {
   "cell_type": "code",
   "execution_count": 17,
   "id": "f70064d3",
   "metadata": {},
   "outputs": [
    {
     "data": {
      "text/html": [
       "<div>\n",
       "<style scoped>\n",
       "    .dataframe tbody tr th:only-of-type {\n",
       "        vertical-align: middle;\n",
       "    }\n",
       "\n",
       "    .dataframe tbody tr th {\n",
       "        vertical-align: top;\n",
       "    }\n",
       "\n",
       "    .dataframe thead th {\n",
       "        text-align: right;\n",
       "    }\n",
       "</style>\n",
       "<table border=\"1\" class=\"dataframe\">\n",
       "  <thead>\n",
       "    <tr style=\"text-align: right;\">\n",
       "      <th></th>\n",
       "      <th>sale_day</th>\n",
       "      <th>sale_amount</th>\n",
       "      <th>previous_day_sales_amount</th>\n",
       "    </tr>\n",
       "  </thead>\n",
       "  <tbody>\n",
       "    <tr>\n",
       "      <th>0</th>\n",
       "      <td>2012-10-01</td>\n",
       "      <td>514</td>\n",
       "      <td>NaN</td>\n",
       "    </tr>\n",
       "    <tr>\n",
       "      <th>1</th>\n",
       "      <td>2012-10-02</td>\n",
       "      <td>482</td>\n",
       "      <td>514.0</td>\n",
       "    </tr>\n",
       "    <tr>\n",
       "      <th>2</th>\n",
       "      <td>2012-10-03</td>\n",
       "      <td>499</td>\n",
       "      <td>482.0</td>\n",
       "    </tr>\n",
       "  </tbody>\n",
       "</table>\n",
       "</div>"
      ],
      "text/plain": [
       "    sale_day  sale_amount  previous_day_sales_amount\n",
       "0 2012-10-01          514                        NaN\n",
       "1 2012-10-02          482                      514.0\n",
       "2 2012-10-03          499                      482.0"
      ]
     },
     "execution_count": 17,
     "metadata": {},
     "output_type": "execute_result"
    }
   ],
   "source": [
    "data_question_2 = daily_sales.copy()\n",
    "data_question_2['previous_day_sales_amount'] = [None] + daily_sales['sale_amount'].to_list()[:-1]\n",
    "data_question_2.head(3)"
   ]
  },
  {
   "cell_type": "markdown",
   "id": "51bd5a6f",
   "metadata": {},
   "source": [
    "This question wants to sudden change. I can compute this but I need to compare the sales amount difference with the previous day. Since I do not know the previous day's data of the first row in our data set, so I used \"None\"."
   ]
  },
  {
   "cell_type": "code",
   "execution_count": 18,
   "id": "d0831143",
   "metadata": {},
   "outputs": [
    {
     "data": {
      "text/html": [
       "<div>\n",
       "<style scoped>\n",
       "    .dataframe tbody tr th:only-of-type {\n",
       "        vertical-align: middle;\n",
       "    }\n",
       "\n",
       "    .dataframe tbody tr th {\n",
       "        vertical-align: top;\n",
       "    }\n",
       "\n",
       "    .dataframe thead th {\n",
       "        text-align: right;\n",
       "    }\n",
       "</style>\n",
       "<table border=\"1\" class=\"dataframe\">\n",
       "  <thead>\n",
       "    <tr style=\"text-align: right;\">\n",
       "      <th></th>\n",
       "      <th>sale_day</th>\n",
       "      <th>sale_amount</th>\n",
       "      <th>previous_day_sales_amount</th>\n",
       "      <th>difference</th>\n",
       "    </tr>\n",
       "  </thead>\n",
       "  <tbody>\n",
       "    <tr>\n",
       "      <th>0</th>\n",
       "      <td>2012-10-01</td>\n",
       "      <td>514</td>\n",
       "      <td>NaN</td>\n",
       "      <td>NaN</td>\n",
       "    </tr>\n",
       "    <tr>\n",
       "      <th>1</th>\n",
       "      <td>2012-10-02</td>\n",
       "      <td>482</td>\n",
       "      <td>514.0</td>\n",
       "      <td>-32.0</td>\n",
       "    </tr>\n",
       "    <tr>\n",
       "      <th>2</th>\n",
       "      <td>2012-10-03</td>\n",
       "      <td>499</td>\n",
       "      <td>482.0</td>\n",
       "      <td>17.0</td>\n",
       "    </tr>\n",
       "  </tbody>\n",
       "</table>\n",
       "</div>"
      ],
      "text/plain": [
       "    sale_day  sale_amount  previous_day_sales_amount  difference\n",
       "0 2012-10-01          514                        NaN         NaN\n",
       "1 2012-10-02          482                      514.0       -32.0\n",
       "2 2012-10-03          499                      482.0        17.0"
      ]
     },
     "execution_count": 18,
     "metadata": {},
     "output_type": "execute_result"
    }
   ],
   "source": [
    "data_question_2['difference'] = data_question_2['sale_amount'] - data_question_2['previous_day_sales_amount']\n",
    "data_question_2.head(3)"
   ]
  },
  {
   "cell_type": "code",
   "execution_count": 19,
   "id": "c821cf25",
   "metadata": {},
   "outputs": [
    {
     "data": {
      "text/html": [
       "<div>\n",
       "<style scoped>\n",
       "    .dataframe tbody tr th:only-of-type {\n",
       "        vertical-align: middle;\n",
       "    }\n",
       "\n",
       "    .dataframe tbody tr th {\n",
       "        vertical-align: top;\n",
       "    }\n",
       "\n",
       "    .dataframe thead th {\n",
       "        text-align: right;\n",
       "    }\n",
       "</style>\n",
       "<table border=\"1\" class=\"dataframe\">\n",
       "  <thead>\n",
       "    <tr style=\"text-align: right;\">\n",
       "      <th></th>\n",
       "      <th>sale_day</th>\n",
       "      <th>sale_amount</th>\n",
       "      <th>previous_day_sales_amount</th>\n",
       "      <th>difference</th>\n",
       "    </tr>\n",
       "  </thead>\n",
       "  <tbody>\n",
       "    <tr>\n",
       "      <th>210</th>\n",
       "      <td>2013-04-29</td>\n",
       "      <td>732</td>\n",
       "      <td>458.0</td>\n",
       "      <td>274.0</td>\n",
       "    </tr>\n",
       "  </tbody>\n",
       "</table>\n",
       "</div>"
      ],
      "text/plain": [
       "      sale_day  sale_amount  previous_day_sales_amount  difference\n",
       "210 2013-04-29          732                      458.0       274.0"
      ]
     },
     "execution_count": 19,
     "metadata": {},
     "output_type": "execute_result"
    }
   ],
   "source": [
    "data_question_2.nlargest(1, 'difference')"
   ]
  },
  {
   "cell_type": "markdown",
   "id": "a3126b14",
   "metadata": {},
   "source": [
    "As I want to different sales_amount and previous_day_sales_amount, I just created another column to see this difference. And I used nlargest() function to find the biggest difference. "
   ]
  },
  {
   "cell_type": "markdown",
   "id": "fc32e8a1",
   "metadata": {},
   "source": [
    "## Question 3"
   ]
  },
  {
   "cell_type": "markdown",
   "id": "f1d953f2",
   "metadata": {},
   "source": [
    "3. Is the change in daily sales at the date you selected statistically significant? If so, what is the p-value?"
   ]
  },
  {
   "cell_type": "markdown",
   "id": "fe7c32c1",
   "metadata": {},
   "source": [
    "Statistical significance is decided by a t-test in statistics. I just used Scipy."
   ]
  },
  {
   "cell_type": "code",
   "execution_count": 21,
   "id": "33d6a05b",
   "metadata": {},
   "outputs": [],
   "source": [
    "data_question_3 = daily_sales.copy()\n",
    "\n",
    "# Drop all nan values (if any) for the test.\n",
    "data_question_3.dropna(inplace = True)"
   ]
  },
  {
   "cell_type": "markdown",
   "id": "1cfe4af2",
   "metadata": {},
   "source": [
    "I want to understand the importance of a specific sample, so I'll use ttest_1samp( ) function. And I know the biggest difference is sale_amount of 732. So, that's why I wrote there. "
   ]
  },
  {
   "cell_type": "code",
   "execution_count": 22,
   "id": "7e58168b",
   "metadata": {},
   "outputs": [
    {
     "data": {
      "text/plain": [
       "Ttest_1sampResult(statistic=-26.367553024439697, pvalue=4.5681432390066193e-85)"
      ]
     },
     "execution_count": 22,
     "metadata": {},
     "output_type": "execute_result"
    }
   ],
   "source": [
    "stats.ttest_1samp(daily_sales['sale_amount'] , 732)"
   ]
  },
  {
   "cell_type": "markdown",
   "id": "46484b57",
   "metadata": {},
   "source": [
    "The obtained p-value as the result of the t-test is 4.5681432390066193e-85 which is lower than 0.05 (We can assume the threshold as 0.05 as common practice). It leads to decide this particular date is important for us."
   ]
  },
  {
   "cell_type": "markdown",
   "id": "5e704f8a",
   "metadata": {},
   "source": [
    "## Question 4"
   ]
  },
  {
   "cell_type": "markdown",
   "id": "652deaed",
   "metadata": {},
   "source": [
    "4. Does the data suggest that the change in daily sales is due to a shift in the proportion of male-vs-female customers? Please use plots to support your answer (a rigorous statistical analysis is not necessary)."
   ]
  },
  {
   "cell_type": "code",
   "execution_count": 24,
   "id": "59434701",
   "metadata": {},
   "outputs": [],
   "source": [
    "data['sale_day'] = pd.to_datetime(data['sale_time']).dt.floor('D')"
   ]
  },
  {
   "cell_type": "code",
   "execution_count": 26,
   "id": "753ad94c",
   "metadata": {},
   "outputs": [
    {
     "data": {
      "text/html": [
       "<div>\n",
       "<style scoped>\n",
       "    .dataframe tbody tr th:only-of-type {\n",
       "        vertical-align: middle;\n",
       "    }\n",
       "\n",
       "    .dataframe tbody tr th {\n",
       "        vertical-align: top;\n",
       "    }\n",
       "\n",
       "    .dataframe thead th {\n",
       "        text-align: right;\n",
       "    }\n",
       "</style>\n",
       "<table border=\"1\" class=\"dataframe\">\n",
       "  <thead>\n",
       "    <tr style=\"text-align: right;\">\n",
       "      <th></th>\n",
       "      <th>sale_day</th>\n",
       "      <th>purchaser_gender</th>\n",
       "      <th>sales_amount</th>\n",
       "    </tr>\n",
       "  </thead>\n",
       "  <tbody>\n",
       "    <tr>\n",
       "      <th>0</th>\n",
       "      <td>2012-10-01</td>\n",
       "      <td>female</td>\n",
       "      <td>413</td>\n",
       "    </tr>\n",
       "    <tr>\n",
       "      <th>1</th>\n",
       "      <td>2012-10-01</td>\n",
       "      <td>male</td>\n",
       "      <td>101</td>\n",
       "    </tr>\n",
       "    <tr>\n",
       "      <th>2</th>\n",
       "      <td>2012-10-02</td>\n",
       "      <td>female</td>\n",
       "      <td>379</td>\n",
       "    </tr>\n",
       "  </tbody>\n",
       "</table>\n",
       "</div>"
      ],
      "text/plain": [
       "    sale_day purchaser_gender  sales_amount\n",
       "0 2012-10-01           female           413\n",
       "1 2012-10-01             male           101\n",
       "2 2012-10-02           female           379"
      ]
     },
     "execution_count": 26,
     "metadata": {},
     "output_type": "execute_result"
    }
   ],
   "source": [
    "gender_data = data.groupby(['sale_day', 'purchaser_gender']).size().reset_index(name = 'sales_amount')\n",
    "gender_data.head(3)"
   ]
  },
  {
   "cell_type": "code",
   "execution_count": 27,
   "id": "3ce712ed",
   "metadata": {},
   "outputs": [],
   "source": [
    "data_question_4 = pd.DataFrame(gender_data['sale_day'].unique() , columns = ['sale_day'])"
   ]
  },
  {
   "cell_type": "code",
   "execution_count": 28,
   "id": "6bd02820",
   "metadata": {},
   "outputs": [],
   "source": [
    "data_question_4['female_sale_amount'] = pd.Series(gender_data[gender_data['purchaser_gender'] == 'female']['sales_amount']).reset_index(drop = True)\n",
    "data_question_4['male_sale_amount'] = pd.Series(gender_data[gender_data['purchaser_gender'] == 'male']['sales_amount']).reset_index(drop = True)"
   ]
  },
  {
   "cell_type": "code",
   "execution_count": 29,
   "id": "3130e0c5",
   "metadata": {},
   "outputs": [
    {
     "data": {
      "text/html": [
       "<div>\n",
       "<style scoped>\n",
       "    .dataframe tbody tr th:only-of-type {\n",
       "        vertical-align: middle;\n",
       "    }\n",
       "\n",
       "    .dataframe tbody tr th {\n",
       "        vertical-align: top;\n",
       "    }\n",
       "\n",
       "    .dataframe thead th {\n",
       "        text-align: right;\n",
       "    }\n",
       "</style>\n",
       "<table border=\"1\" class=\"dataframe\">\n",
       "  <thead>\n",
       "    <tr style=\"text-align: right;\">\n",
       "      <th></th>\n",
       "      <th>sale_day</th>\n",
       "      <th>female_sale_amount</th>\n",
       "      <th>male_sale_amount</th>\n",
       "    </tr>\n",
       "  </thead>\n",
       "  <tbody>\n",
       "    <tr>\n",
       "      <th>0</th>\n",
       "      <td>2012-10-01</td>\n",
       "      <td>413</td>\n",
       "      <td>101</td>\n",
       "    </tr>\n",
       "    <tr>\n",
       "      <th>1</th>\n",
       "      <td>2012-10-02</td>\n",
       "      <td>379</td>\n",
       "      <td>103</td>\n",
       "    </tr>\n",
       "    <tr>\n",
       "      <th>2</th>\n",
       "      <td>2012-10-03</td>\n",
       "      <td>386</td>\n",
       "      <td>113</td>\n",
       "    </tr>\n",
       "  </tbody>\n",
       "</table>\n",
       "</div>"
      ],
      "text/plain": [
       "    sale_day  female_sale_amount  male_sale_amount\n",
       "0 2012-10-01                 413               101\n",
       "1 2012-10-02                 379               103\n",
       "2 2012-10-03                 386               113"
      ]
     },
     "execution_count": 29,
     "metadata": {},
     "output_type": "execute_result"
    }
   ],
   "source": [
    "data_question_4.head(3)"
   ]
  },
  {
   "cell_type": "code",
   "execution_count": 31,
   "id": "078492b0",
   "metadata": {},
   "outputs": [
    {
     "data": {
      "text/html": [
       "<div>\n",
       "<style scoped>\n",
       "    .dataframe tbody tr th:only-of-type {\n",
       "        vertical-align: middle;\n",
       "    }\n",
       "\n",
       "    .dataframe tbody tr th {\n",
       "        vertical-align: top;\n",
       "    }\n",
       "\n",
       "    .dataframe thead th {\n",
       "        text-align: right;\n",
       "    }\n",
       "</style>\n",
       "<table border=\"1\" class=\"dataframe\">\n",
       "  <thead>\n",
       "    <tr style=\"text-align: right;\">\n",
       "      <th></th>\n",
       "      <th>sale_day</th>\n",
       "      <th>female_sale_amount</th>\n",
       "      <th>male_sale_amount</th>\n",
       "      <th>ratio</th>\n",
       "    </tr>\n",
       "  </thead>\n",
       "  <tbody>\n",
       "    <tr>\n",
       "      <th>0</th>\n",
       "      <td>2012-10-01</td>\n",
       "      <td>413</td>\n",
       "      <td>101</td>\n",
       "      <td>0.244552</td>\n",
       "    </tr>\n",
       "    <tr>\n",
       "      <th>1</th>\n",
       "      <td>2012-10-02</td>\n",
       "      <td>379</td>\n",
       "      <td>103</td>\n",
       "      <td>0.271768</td>\n",
       "    </tr>\n",
       "    <tr>\n",
       "      <th>2</th>\n",
       "      <td>2012-10-03</td>\n",
       "      <td>386</td>\n",
       "      <td>113</td>\n",
       "      <td>0.292746</td>\n",
       "    </tr>\n",
       "  </tbody>\n",
       "</table>\n",
       "</div>"
      ],
      "text/plain": [
       "    sale_day  female_sale_amount  male_sale_amount     ratio\n",
       "0 2012-10-01                 413               101  0.244552\n",
       "1 2012-10-02                 379               103  0.271768\n",
       "2 2012-10-03                 386               113  0.292746"
      ]
     },
     "execution_count": 31,
     "metadata": {},
     "output_type": "execute_result"
    }
   ],
   "source": [
    "data_question_4['ratio'] = data_question_4['male_sale_amount'] / data_question_4['female_sale_amount']\n",
    "data_question_4.head(3)"
   ]
  },
  {
   "cell_type": "code",
   "execution_count": 32,
   "id": "e7c4921b",
   "metadata": {},
   "outputs": [],
   "source": [
    "plot_data = data_question_4.copy()\n",
    "plot_data['total_sale_amount'] = plot_data['male_sale_amount'] + plot_data['female_sale_amount']"
   ]
  },
  {
   "cell_type": "code",
   "execution_count": 33,
   "id": "0f6c68b9",
   "metadata": {},
   "outputs": [],
   "source": [
    "plot_data.drop(columns = ['female_sale_amount', 'male_sale_amount'], inplace = True)\n",
    "plot_data.index = plot_data['sale_day']\n",
    "plot_data.drop(columns = ['sale_day'], inplace = True)"
   ]
  },
  {
   "cell_type": "code",
   "execution_count": 34,
   "id": "f2ac53f7",
   "metadata": {},
   "outputs": [
    {
     "data": {
      "text/plain": [
       "<AxesSubplot:title={'center':'Gender ratio and sales amount over all 50 weeks'}, xlabel='sale_day'>"
      ]
     },
     "execution_count": 34,
     "metadata": {},
     "output_type": "execute_result"
    },
    {
     "data": {
      "image/png": "[encoded data removed]",
      "text/plain": [
       "<Figure size 864x576 with 2 Axes>"
      ]
     },
     "metadata": {
      "needs_background": "light"
     },
     "output_type": "display_data"
    }
   ],
   "source": [
    "plot_data.plot(secondary_y = ['ratio'], figsize = (12,8) , title = 'Gender ratio and sales amount over all 50 weeks')"
   ]
  },
  {
   "cell_type": "markdown",
   "id": "811d6311",
   "metadata": {},
   "source": [
    "The increasing trend of the male ratio in the sales amount does not explain the sudden change. The reason should be something different. For example, it might be caused by starting a new marketing campaign or adding a new feature to the website."
   ]
  },
  {
   "cell_type": "markdown",
   "id": "26368bc1",
   "metadata": {},
   "source": [
    "## Question 5"
   ]
  },
  {
   "cell_type": "markdown",
   "id": "5cf7e556",
   "metadata": {},
   "source": [
    "5. Assume a given day is divided into four dayparts:\n",
    "- night (12:00AM - 6:00AM),\n",
    "- morning (6:00AM - 12:00PM),\n",
    "- afternoon (12:00PM - 6:00PM),\n",
    "- evening (6:00PM - 12:00AM),\n",
    "\n",
    "\n",
    "What is the percentage of sales in each daypart over all 50 weeks?"
   ]
  },
  {
   "cell_type": "code",
   "execution_count": null,
   "id": "42efb436",
   "metadata": {},
   "outputs": [],
   "source": []
  }
 ],
 "metadata": {
  "kernelspec": {
   "display_name": "Python 3 (ipykernel)",
   "language": "python",
   "name": "python3"
  },
  "language_info": {
   "codemirror_mode": {
    "name": "ipython",
    "version": 3
   },
   "file_extension": ".py",
   "mimetype": "text/x-python",
   "name": "python",
   "nbconvert_exporter": "python",
   "pygments_lexer": "ipython3",
   "version": "3.9.12"
  }
 },
 "nbformat": 4,
 "nbformat_minor": 5
}
