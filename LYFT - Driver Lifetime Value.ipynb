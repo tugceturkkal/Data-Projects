{
 "cells": [
  {
   "cell_type": "markdown",
   "id": "a8c58548",
   "metadata": {},
   "source": [
    "# LYFT - Driver Lifetime Value"
   ]
  },
  {
   "cell_type": "markdown",
   "id": "830fe848",
   "metadata": {},
   "source": [
    "## Contents\n",
    "\n",
    "* [Assignment](#Assignment)\n",
    "* [Data Description](#Data-Description)\n",
    "* [Read and Explore all Datasets](#Read-and-Explore-all-Datasets)\n",
    "* [Data Engineering](#Data-Engineering)\n",
    "* [Question 2](#Question-2)\n",
    "* [Question 3](#Question-3)"
   ]
  },
  {
   "cell_type": "markdown",
   "id": "856305dd",
   "metadata": {},
   "source": [
    "## Assignment\n",
    "After exploring and analyzing the data, please:\n",
    "\n",
    "1. Recommend a Driver's Lifetime Value (i.e., the value of a driver to Lyft over the entire projected lifetime of a driver).\n",
    "\n",
    "\n",
    "2. What are the main factors that affect a driver's lifetime value?\n",
    "\n",
    "\n",
    "3. What is the average projected lifetime of a driver? That is, once a driver is onboarded, how long do they typically continue driving with Lyft?\n",
    "\n",
    "\n",
    "4. Do all drivers act alike? Are there specific segments of drivers that generate more value for Lyft than the average driver?\n",
    "\n",
    "\n",
    "5. What actionable recommendations are there for the business?\n"
   ]
  },
  {
   "cell_type": "markdown",
   "id": "03b1b644",
   "metadata": {},
   "source": [
    "## Data Description\n",
    "\n",
    "You'll find three CSV files attached with the following data:\n",
    "\n",
    "### driver_ids.csv\n",
    "\n",
    "driver_id  = Unique identifier for a driver\n",
    "\n",
    "driver_onboard_date  = Date on which driver was on-boarded\n",
    "\n",
    "\n",
    "### ride_ids.csv\n",
    "\n",
    "driver_id  = Unique identifier for a driver\n",
    "\n",
    "ride_id  = Unique identifier for a ride that was completed by the driver\n",
    "\n",
    "ride_distance = Ride distance in meters\n",
    "\n",
    "ride_duration = Ride duration in seconds\n",
    "\n",
    "ride_prime_time  = Prime Time applied on the ride\n",
    "\n",
    "\n",
    "### ride_timestamps.csv\n",
    "\n",
    "ride_id = Unique identifier for a ride\n",
    "\n",
    "event =  describes the type of event; this variable takes the following values:\n",
    "\n",
    "          requested_at - passenger requested a ride\n",
    "          accepted_at - driver accepted a passenger request\n",
    "          arrived_at - driver arrived at pickup point\n",
    "          picked_up_at - driver picked up the passenger\n",
    "          dropped_off_at - driver dropped off a passenger at destination\n",
    "\n",
    "\n",
    "timestamp  = Time of event\n",
    "\n",
    "\n",
    "### You can assume that:\n",
    "\n",
    "All rides in the data set occurred in San Francisco\n",
    "\n",
    "All timestamps in the data set are in UTC"
   ]
  },
  {
   "cell_type": "markdown",
   "id": "b910d94b",
   "metadata": {},
   "source": [
    "## Read and Explore all Datasets"
   ]
  },
  {
   "cell_type": "code",
   "execution_count": 3,
   "id": "fe1f9e60",
   "metadata": {},
   "outputs": [],
   "source": [
    "import pandas as pd\n",
    "import numpy as np\n",
    "import matplotlib.pyplot as plt"
   ]
  },
  {
   "cell_type": "code",
   "execution_count": 4,
   "id": "afd62c0a",
   "metadata": {},
   "outputs": [],
   "source": [
    "driver_ids = pd.read_csv('driver_ids.csv')\n",
    "\n",
    "ride_ids = pd.read_csv('ride_ids.csv')\n",
    "\n",
    "ride_timestamps = pd.read_csv('ride_timestamps.csv')"
   ]
  },
  {
   "cell_type": "code",
   "execution_count": 9,
   "id": "64a33a5f",
   "metadata": {},
   "outputs": [
    {
     "data": {
      "text/html": [
       "<div>\n",
       "<style scoped>\n",
       "    .dataframe tbody tr th:only-of-type {\n",
       "        vertical-align: middle;\n",
       "    }\n",
       "\n",
       "    .dataframe tbody tr th {\n",
       "        vertical-align: top;\n",
       "    }\n",
       "\n",
       "    .dataframe thead th {\n",
       "        text-align: right;\n",
       "    }\n",
       "</style>\n",
       "<table border=\"1\" class=\"dataframe\">\n",
       "  <thead>\n",
       "    <tr style=\"text-align: right;\">\n",
       "      <th></th>\n",
       "      <th>driver_id</th>\n",
       "      <th>driver_onboard_date</th>\n",
       "    </tr>\n",
       "  </thead>\n",
       "  <tbody>\n",
       "    <tr>\n",
       "      <th>0</th>\n",
       "      <td>002be0ffdc997bd5c50703158b7c2491</td>\n",
       "      <td>2016-03-29 00:00:00</td>\n",
       "    </tr>\n",
       "    <tr>\n",
       "      <th>1</th>\n",
       "      <td>007f0389f9c7b03ef97098422f902e62</td>\n",
       "      <td>2016-03-29 00:00:00</td>\n",
       "    </tr>\n",
       "    <tr>\n",
       "      <th>2</th>\n",
       "      <td>011e5c5dfc5c2c92501b8b24d47509bc</td>\n",
       "      <td>2016-04-05 00:00:00</td>\n",
       "    </tr>\n",
       "  </tbody>\n",
       "</table>\n",
       "</div>"
      ],
      "text/plain": [
       "                          driver_id  driver_onboard_date\n",
       "0  002be0ffdc997bd5c50703158b7c2491  2016-03-29 00:00:00\n",
       "1  007f0389f9c7b03ef97098422f902e62  2016-03-29 00:00:00\n",
       "2  011e5c5dfc5c2c92501b8b24d47509bc  2016-04-05 00:00:00"
      ]
     },
     "execution_count": 9,
     "metadata": {},
     "output_type": "execute_result"
    }
   ],
   "source": [
    "driver_ids.head(3)"
   ]
  },
  {
   "cell_type": "code",
   "execution_count": 10,
   "id": "ac0068c1",
   "metadata": {},
   "outputs": [
    {
     "data": {
      "text/html": [
       "<div>\n",
       "<style scoped>\n",
       "    .dataframe tbody tr th:only-of-type {\n",
       "        vertical-align: middle;\n",
       "    }\n",
       "\n",
       "    .dataframe tbody tr th {\n",
       "        vertical-align: top;\n",
       "    }\n",
       "\n",
       "    .dataframe thead th {\n",
       "        text-align: right;\n",
       "    }\n",
       "</style>\n",
       "<table border=\"1\" class=\"dataframe\">\n",
       "  <thead>\n",
       "    <tr style=\"text-align: right;\">\n",
       "      <th></th>\n",
       "      <th>driver_id</th>\n",
       "      <th>ride_id</th>\n",
       "      <th>ride_distance</th>\n",
       "      <th>ride_duration</th>\n",
       "      <th>ride_prime_time</th>\n",
       "    </tr>\n",
       "  </thead>\n",
       "  <tbody>\n",
       "    <tr>\n",
       "      <th>0</th>\n",
       "      <td>002be0ffdc997bd5c50703158b7c2491</td>\n",
       "      <td>006d61cf7446e682f7bc50b0f8a5bea5</td>\n",
       "      <td>1811</td>\n",
       "      <td>327</td>\n",
       "      <td>50</td>\n",
       "    </tr>\n",
       "    <tr>\n",
       "      <th>1</th>\n",
       "      <td>002be0ffdc997bd5c50703158b7c2491</td>\n",
       "      <td>01b522c5c3a756fbdb12e95e87507eda</td>\n",
       "      <td>3362</td>\n",
       "      <td>809</td>\n",
       "      <td>0</td>\n",
       "    </tr>\n",
       "    <tr>\n",
       "      <th>2</th>\n",
       "      <td>002be0ffdc997bd5c50703158b7c2491</td>\n",
       "      <td>029227c4c2971ce69ff2274dc798ef43</td>\n",
       "      <td>3282</td>\n",
       "      <td>572</td>\n",
       "      <td>0</td>\n",
       "    </tr>\n",
       "  </tbody>\n",
       "</table>\n",
       "</div>"
      ],
      "text/plain": [
       "                          driver_id                           ride_id  \\\n",
       "0  002be0ffdc997bd5c50703158b7c2491  006d61cf7446e682f7bc50b0f8a5bea5   \n",
       "1  002be0ffdc997bd5c50703158b7c2491  01b522c5c3a756fbdb12e95e87507eda   \n",
       "2  002be0ffdc997bd5c50703158b7c2491  029227c4c2971ce69ff2274dc798ef43   \n",
       "\n",
       "   ride_distance  ride_duration  ride_prime_time  \n",
       "0           1811            327               50  \n",
       "1           3362            809                0  \n",
       "2           3282            572                0  "
      ]
     },
     "execution_count": 10,
     "metadata": {},
     "output_type": "execute_result"
    }
   ],
   "source": [
    "ride_ids.head(3)"
   ]
  },
  {
   "cell_type": "code",
   "execution_count": 12,
   "id": "c7dd1d58",
   "metadata": {},
   "outputs": [
    {
     "data": {
      "text/html": [
       "<div>\n",
       "<style scoped>\n",
       "    .dataframe tbody tr th:only-of-type {\n",
       "        vertical-align: middle;\n",
       "    }\n",
       "\n",
       "    .dataframe tbody tr th {\n",
       "        vertical-align: top;\n",
       "    }\n",
       "\n",
       "    .dataframe thead th {\n",
       "        text-align: right;\n",
       "    }\n",
       "</style>\n",
       "<table border=\"1\" class=\"dataframe\">\n",
       "  <thead>\n",
       "    <tr style=\"text-align: right;\">\n",
       "      <th></th>\n",
       "      <th>ride_id</th>\n",
       "      <th>event</th>\n",
       "      <th>timestamp</th>\n",
       "    </tr>\n",
       "  </thead>\n",
       "  <tbody>\n",
       "    <tr>\n",
       "      <th>0</th>\n",
       "      <td>00003037a262d9ee40e61b5c0718f7f0</td>\n",
       "      <td>requested_at</td>\n",
       "      <td>2016-06-13 09:39:19</td>\n",
       "    </tr>\n",
       "    <tr>\n",
       "      <th>1</th>\n",
       "      <td>00003037a262d9ee40e61b5c0718f7f0</td>\n",
       "      <td>accepted_at</td>\n",
       "      <td>2016-06-13 09:39:51</td>\n",
       "    </tr>\n",
       "    <tr>\n",
       "      <th>2</th>\n",
       "      <td>00003037a262d9ee40e61b5c0718f7f0</td>\n",
       "      <td>arrived_at</td>\n",
       "      <td>2016-06-13 09:44:31</td>\n",
       "    </tr>\n",
       "  </tbody>\n",
       "</table>\n",
       "</div>"
      ],
      "text/plain": [
       "                            ride_id         event            timestamp\n",
       "0  00003037a262d9ee40e61b5c0718f7f0  requested_at  2016-06-13 09:39:19\n",
       "1  00003037a262d9ee40e61b5c0718f7f0   accepted_at  2016-06-13 09:39:51\n",
       "2  00003037a262d9ee40e61b5c0718f7f0    arrived_at  2016-06-13 09:44:31"
      ]
     },
     "execution_count": 12,
     "metadata": {},
     "output_type": "execute_result"
    }
   ],
   "source": [
    "ride_timestamps.head(3)"
   ]
  },
  {
   "cell_type": "code",
   "execution_count": 25,
   "id": "266447da",
   "metadata": {},
   "outputs": [
    {
     "name": "stdout",
     "output_type": "stream",
     "text": [
      "<class 'pandas.core.frame.DataFrame'>\n",
      "RangeIndex: 937 entries, 0 to 936\n",
      "Data columns (total 2 columns):\n",
      " #   Column               Non-Null Count  Dtype \n",
      "---  ------               --------------  ----- \n",
      " 0   driver_id            937 non-null    object\n",
      " 1   driver_onboard_date  937 non-null    object\n",
      "dtypes: object(2)\n",
      "memory usage: 14.8+ KB\n",
      "DRIVER IDS None\n"
     ]
    }
   ],
   "source": [
    "driver_ids.info()"
   ]
  },
  {
   "cell_type": "code",
   "execution_count": 15,
   "id": "53e0809c",
   "metadata": {},
   "outputs": [
    {
     "name": "stdout",
     "output_type": "stream",
     "text": [
      "<class 'pandas.core.frame.DataFrame'>\n",
      "RangeIndex: 193502 entries, 0 to 193501\n",
      "Data columns (total 5 columns):\n",
      " #   Column           Non-Null Count   Dtype \n",
      "---  ------           --------------   ----- \n",
      " 0   driver_id        193502 non-null  object\n",
      " 1   ride_id          193502 non-null  object\n",
      " 2   ride_distance    193502 non-null  int64 \n",
      " 3   ride_duration    193502 non-null  int64 \n",
      " 4   ride_prime_time  193502 non-null  int64 \n",
      "dtypes: int64(3), object(2)\n",
      "memory usage: 7.4+ MB\n"
     ]
    }
   ],
   "source": [
    "ride_ids.info()"
   ]
  },
  {
   "cell_type": "code",
   "execution_count": 17,
   "id": "52eed9bb",
   "metadata": {},
   "outputs": [
    {
     "name": "stdout",
     "output_type": "stream",
     "text": [
      "<class 'pandas.core.frame.DataFrame'>\n",
      "RangeIndex: 970405 entries, 0 to 970404\n",
      "Data columns (total 3 columns):\n",
      " #   Column     Non-Null Count   Dtype \n",
      "---  ------     --------------   ----- \n",
      " 0   ride_id    970405 non-null  object\n",
      " 1   event      970405 non-null  object\n",
      " 2   timestamp  970404 non-null  object\n",
      "dtypes: object(3)\n",
      "memory usage: 22.2+ MB\n"
     ]
    }
   ],
   "source": [
    "ride_timestamps.info()"
   ]
  },
  {
   "cell_type": "code",
   "execution_count": 30,
   "id": "91ae4ca7",
   "metadata": {},
   "outputs": [
    {
     "name": "stdout",
     "output_type": "stream",
     "text": [
      "Shape of data (937, 2)\n",
      "Unique of driver id :  937\n",
      "Min date :  2016-03-28 00:00:00\n",
      "Max date :  2016-05-15 00:00:00\n"
     ]
    }
   ],
   "source": [
    "print('Shape of data : ', driver_ids.shape)\n",
    "print('Unique of driver id : ', len(driver_ids['driver_id'].unique()))\n",
    "print('Min date : ',driver_ids['driver_onboard_date'].min())\n",
    "print('Max date : ',driver_ids['driver_onboard_date'].max())"
   ]
  },
  {
   "cell_type": "code",
   "execution_count": 31,
   "id": "7719e496",
   "metadata": {},
   "outputs": [
    {
     "name": "stdout",
     "output_type": "stream",
     "text": [
      "Shape of data :  (193502, 5)\n",
      "Unique of driver id :  937\n",
      "Unique of ride id :  193502\n"
     ]
    },
    {
     "data": {
      "text/html": [
       "<div>\n",
       "<style scoped>\n",
       "    .dataframe tbody tr th:only-of-type {\n",
       "        vertical-align: middle;\n",
       "    }\n",
       "\n",
       "    .dataframe tbody tr th {\n",
       "        vertical-align: top;\n",
       "    }\n",
       "\n",
       "    .dataframe thead th {\n",
       "        text-align: right;\n",
       "    }\n",
       "</style>\n",
       "<table border=\"1\" class=\"dataframe\">\n",
       "  <thead>\n",
       "    <tr style=\"text-align: right;\">\n",
       "      <th></th>\n",
       "      <th>ride_distance</th>\n",
       "      <th>ride_duration</th>\n",
       "      <th>ride_prime_time</th>\n",
       "    </tr>\n",
       "  </thead>\n",
       "  <tbody>\n",
       "    <tr>\n",
       "      <th>count</th>\n",
       "      <td>193502.000000</td>\n",
       "      <td>193502.000000</td>\n",
       "      <td>193502.000000</td>\n",
       "    </tr>\n",
       "    <tr>\n",
       "      <th>mean</th>\n",
       "      <td>6955.218266</td>\n",
       "      <td>858.966099</td>\n",
       "      <td>17.305893</td>\n",
       "    </tr>\n",
       "    <tr>\n",
       "      <th>std</th>\n",
       "      <td>8929.444606</td>\n",
       "      <td>571.375818</td>\n",
       "      <td>30.825800</td>\n",
       "    </tr>\n",
       "    <tr>\n",
       "      <th>min</th>\n",
       "      <td>-2.000000</td>\n",
       "      <td>2.000000</td>\n",
       "      <td>0.000000</td>\n",
       "    </tr>\n",
       "    <tr>\n",
       "      <th>25%</th>\n",
       "      <td>2459.000000</td>\n",
       "      <td>491.000000</td>\n",
       "      <td>0.000000</td>\n",
       "    </tr>\n",
       "    <tr>\n",
       "      <th>50%</th>\n",
       "      <td>4015.000000</td>\n",
       "      <td>727.000000</td>\n",
       "      <td>0.000000</td>\n",
       "    </tr>\n",
       "    <tr>\n",
       "      <th>75%</th>\n",
       "      <td>7193.000000</td>\n",
       "      <td>1069.000000</td>\n",
       "      <td>25.000000</td>\n",
       "    </tr>\n",
       "    <tr>\n",
       "      <th>max</th>\n",
       "      <td>724679.000000</td>\n",
       "      <td>28204.000000</td>\n",
       "      <td>500.000000</td>\n",
       "    </tr>\n",
       "  </tbody>\n",
       "</table>\n",
       "</div>"
      ],
      "text/plain": [
       "       ride_distance  ride_duration  ride_prime_time\n",
       "count  193502.000000  193502.000000    193502.000000\n",
       "mean     6955.218266     858.966099        17.305893\n",
       "std      8929.444606     571.375818        30.825800\n",
       "min        -2.000000       2.000000         0.000000\n",
       "25%      2459.000000     491.000000         0.000000\n",
       "50%      4015.000000     727.000000         0.000000\n",
       "75%      7193.000000    1069.000000        25.000000\n",
       "max    724679.000000   28204.000000       500.000000"
      ]
     },
     "execution_count": 31,
     "metadata": {},
     "output_type": "execute_result"
    }
   ],
   "source": [
    "print('Shape of data : ', ride_ids.shape)\n",
    "print('Unique of driver id : ', len(ride_ids['driver_id'].unique()))\n",
    "print('Unique of ride id : ', len(ride_ids['ride_id'].unique()))\n",
    "ride_ids.describe()"
   ]
  },
  {
   "cell_type": "code",
   "execution_count": 34,
   "id": "0f96d446",
   "metadata": {},
   "outputs": [
    {
     "name": "stdout",
     "output_type": "stream",
     "text": [
      "Shape of data :  (970405, 3)\n",
      "Unique of ride id :  194081\n"
     ]
    },
    {
     "data": {
      "text/plain": [
       "requested_at      194081\n",
       "accepted_at       194081\n",
       "arrived_at        194081\n",
       "picked_up_at      194081\n",
       "dropped_off_at    194081\n",
       "Name: event, dtype: int64"
      ]
     },
     "execution_count": 34,
     "metadata": {},
     "output_type": "execute_result"
    }
   ],
   "source": [
    "print('Shape of data : ', ride_timestamps.shape)\n",
    "print('Unique of ride id : ', len(ride_timestamps['ride_id'].unique()))\n",
    "ride_timestamps['event'].value_counts()"
   ]
  },
  {
   "cell_type": "markdown",
   "id": "0e63a74f",
   "metadata": {},
   "source": [
    "#### A little reminder\n",
    "          requested_at - passenger requested a ride\n",
    "          accepted_at - driver accepted a passenger request\n",
    "          arrived_at - driver arrived at pickup point\n",
    "          picked_up_at - driver picked up the passenger\n",
    "          dropped_off_at - driver dropped off a passenger at destination"
   ]
  },
  {
   "cell_type": "markdown",
   "id": "9641ce37",
   "metadata": {},
   "source": [
    "## Data Engineering"
   ]
  },
  {
   "cell_type": "markdown",
   "id": "64c4a2a9",
   "metadata": {},
   "source": [
    "### Calculate the Total Cost of Ride\n",
    "\n",
    "We calculate the cost per ride using the assumptions from the Lyft rate card given:\n",
    "\n",
    "* Base Fare $2.00\n",
    "\n",
    "* Cost per Mile $1.15\n",
    "\n",
    "* Cost per Minute $0.22\n",
    "\n",
    "* Service Fee $1.75\n",
    "\n",
    "* Minimum Fare $5.00\n",
    "\n",
    "* Maximum Fare $400.00\n",
    "\n",
    "We also apply assumptions regarding applying the Prime Time rate and the Service Fee in line with the actual pricing model of Lyft as described in many articles such as this one\n",
    "\n",
    "So we calculate it by using this formula: \n",
    "\n",
    "(base fare\n",
    "+\n",
    "cost per mile\n",
    "×\n",
    "ride_distance\n",
    "+\n",
    "cost per minute\n",
    "×\n",
    "ride_duration\n",
    ")\n",
    "×\n",
    "(\n",
    "1\n",
    "+\n",
    "(ride_prime_time /100)\n",
    ")\n",
    "+\n",
    "service fee\n",
    "\n",
    "After that, we check if there are any costs less than Minimum Fare, or more than Maximum Fare are change them appropriately, to either Minimum or Maximum Fare respectively.\n"
   ]
  },
  {
   "cell_type": "code",
   "execution_count": 36,
   "id": "f86e37ca",
   "metadata": {},
   "outputs": [
    {
     "data": {
      "text/html": [
       "<div>\n",
       "<style scoped>\n",
       "    .dataframe tbody tr th:only-of-type {\n",
       "        vertical-align: middle;\n",
       "    }\n",
       "\n",
       "    .dataframe tbody tr th {\n",
       "        vertical-align: top;\n",
       "    }\n",
       "\n",
       "    .dataframe thead th {\n",
       "        text-align: right;\n",
       "    }\n",
       "</style>\n",
       "<table border=\"1\" class=\"dataframe\">\n",
       "  <thead>\n",
       "    <tr style=\"text-align: right;\">\n",
       "      <th></th>\n",
       "      <th>driver_id</th>\n",
       "      <th>ride_id</th>\n",
       "      <th>ride_distance</th>\n",
       "      <th>ride_duration</th>\n",
       "      <th>ride_prime_time</th>\n",
       "      <th>ride_total_cost</th>\n",
       "    </tr>\n",
       "  </thead>\n",
       "  <tbody>\n",
       "    <tr>\n",
       "      <th>0</th>\n",
       "      <td>002be0ffdc997bd5c50703158b7c2491</td>\n",
       "      <td>006d61cf7446e682f7bc50b0f8a5bea5</td>\n",
       "      <td>1811</td>\n",
       "      <td>327</td>\n",
       "      <td>50</td>\n",
       "      <td>8.488488</td>\n",
       "    </tr>\n",
       "    <tr>\n",
       "      <th>1</th>\n",
       "      <td>002be0ffdc997bd5c50703158b7c2491</td>\n",
       "      <td>01b522c5c3a756fbdb12e95e87507eda</td>\n",
       "      <td>3362</td>\n",
       "      <td>809</td>\n",
       "      <td>0</td>\n",
       "      <td>9.117306</td>\n",
       "    </tr>\n",
       "    <tr>\n",
       "      <th>2</th>\n",
       "      <td>002be0ffdc997bd5c50703158b7c2491</td>\n",
       "      <td>029227c4c2971ce69ff2274dc798ef43</td>\n",
       "      <td>3282</td>\n",
       "      <td>572</td>\n",
       "      <td>0</td>\n",
       "      <td>8.191174</td>\n",
       "    </tr>\n",
       "  </tbody>\n",
       "</table>\n",
       "</div>"
      ],
      "text/plain": [
       "                          driver_id                           ride_id  \\\n",
       "0  002be0ffdc997bd5c50703158b7c2491  006d61cf7446e682f7bc50b0f8a5bea5   \n",
       "1  002be0ffdc997bd5c50703158b7c2491  01b522c5c3a756fbdb12e95e87507eda   \n",
       "2  002be0ffdc997bd5c50703158b7c2491  029227c4c2971ce69ff2274dc798ef43   \n",
       "\n",
       "   ride_distance  ride_duration  ride_prime_time  ride_total_cost  \n",
       "0           1811            327               50         8.488488  \n",
       "1           3362            809                0         9.117306  \n",
       "2           3282            572                0         8.191174  "
      ]
     },
     "execution_count": 36,
     "metadata": {},
     "output_type": "execute_result"
    }
   ],
   "source": [
    "base_fare = 2.00\n",
    "cost_per_mile = 1.15\n",
    "cost_per_minute = 0.22\n",
    "service_fee = 1.75\n",
    "minimum_fare = 5.00\n",
    "maximum_fare = 400.00\n",
    "\n",
    "ride_ids['ride_total_cost'] = ((base_fare + (cost_per_mile * (ride_ids['ride_distance'] * 0.000621)) + \n",
    "                              (cost_per_minute * (ride_ids['ride_duration'] / 60))) *\n",
    "                              (1 + ride_ids['ride_prime_time'] / 100)) + service_fee\n",
    "\n",
    "ride_ids['ride_total_cost'] = np.where(ride_ids['ride_total_cost'] < minimum_fare, minimum_fare, ride_ids['ride_total_cost'])\n",
    "ride_ids['ride_total_cost'] = np.where(ride_ids['ride_total_cost'] > maximum_fare, maximum_fare, ride_ids['ride_total_cost'])\n",
    "# print first 3 rows in dataframe \n",
    "ride_ids.head(3)"
   ]
  },
  {
   "cell_type": "code",
   "execution_count": null,
   "id": "e5e8f6aa",
   "metadata": {},
   "outputs": [],
   "source": []
  },
  {
   "cell_type": "code",
   "execution_count": null,
   "id": "f7a149c0",
   "metadata": {},
   "outputs": [],
   "source": [
    "\n"
   ]
  },
  {
   "cell_type": "code",
   "execution_count": null,
   "id": "8bb6e537",
   "metadata": {},
   "outputs": [],
   "source": []
  },
  {
   "cell_type": "code",
   "execution_count": null,
   "id": "ef1c7df8",
   "metadata": {},
   "outputs": [],
   "source": []
  },
  {
   "cell_type": "code",
   "execution_count": null,
   "id": "7bfaf78d",
   "metadata": {},
   "outputs": [],
   "source": []
  },
  {
   "cell_type": "code",
   "execution_count": null,
   "id": "bfac1bf8",
   "metadata": {},
   "outputs": [],
   "source": []
  },
  {
   "cell_type": "code",
   "execution_count": null,
   "id": "4ecb0d26",
   "metadata": {},
   "outputs": [],
   "source": []
  },
  {
   "cell_type": "code",
   "execution_count": null,
   "id": "458e6554",
   "metadata": {},
   "outputs": [],
   "source": []
  },
  {
   "cell_type": "code",
   "execution_count": null,
   "id": "2f2b6a4b",
   "metadata": {},
   "outputs": [],
   "source": []
  },
  {
   "cell_type": "code",
   "execution_count": null,
   "id": "8ae3e800",
   "metadata": {},
   "outputs": [],
   "source": []
  },
  {
   "cell_type": "code",
   "execution_count": null,
   "id": "9543cb86",
   "metadata": {},
   "outputs": [],
   "source": []
  },
  {
   "cell_type": "code",
   "execution_count": null,
   "id": "b9d79ce6",
   "metadata": {},
   "outputs": [],
   "source": []
  },
  {
   "cell_type": "code",
   "execution_count": null,
   "id": "3238d5af",
   "metadata": {},
   "outputs": [],
   "source": []
  },
  {
   "cell_type": "code",
   "execution_count": null,
   "id": "00c8b99c",
   "metadata": {},
   "outputs": [],
   "source": []
  },
  {
   "cell_type": "code",
   "execution_count": null,
   "id": "39a4319c",
   "metadata": {},
   "outputs": [],
   "source": []
  },
  {
   "cell_type": "code",
   "execution_count": null,
   "id": "e5c1cf84",
   "metadata": {},
   "outputs": [],
   "source": []
  },
  {
   "cell_type": "code",
   "execution_count": null,
   "id": "e8f43e9c",
   "metadata": {},
   "outputs": [],
   "source": []
  },
  {
   "cell_type": "code",
   "execution_count": null,
   "id": "732dd538",
   "metadata": {},
   "outputs": [],
   "source": []
  },
  {
   "cell_type": "code",
   "execution_count": null,
   "id": "e8f30c41",
   "metadata": {},
   "outputs": [],
   "source": []
  },
  {
   "cell_type": "code",
   "execution_count": null,
   "id": "faedc357",
   "metadata": {},
   "outputs": [],
   "source": []
  },
  {
   "cell_type": "code",
   "execution_count": null,
   "id": "0965ea83",
   "metadata": {},
   "outputs": [],
   "source": []
  },
  {
   "cell_type": "code",
   "execution_count": null,
   "id": "57e0e2e6",
   "metadata": {},
   "outputs": [],
   "source": []
  },
  {
   "cell_type": "code",
   "execution_count": null,
   "id": "737ba7b7",
   "metadata": {},
   "outputs": [],
   "source": []
  },
  {
   "cell_type": "code",
   "execution_count": null,
   "id": "d9b27bdb",
   "metadata": {},
   "outputs": [],
   "source": []
  },
  {
   "cell_type": "code",
   "execution_count": null,
   "id": "787ff232",
   "metadata": {},
   "outputs": [],
   "source": []
  },
  {
   "cell_type": "code",
   "execution_count": null,
   "id": "0f5b17ad",
   "metadata": {},
   "outputs": [],
   "source": []
  },
  {
   "cell_type": "code",
   "execution_count": null,
   "id": "9b6ac679",
   "metadata": {},
   "outputs": [],
   "source": []
  }
 ],
 "metadata": {
  "kernelspec": {
   "display_name": "Python 3 (ipykernel)",
   "language": "python",
   "name": "python3"
  },
  "language_info": {
   "codemirror_mode": {
    "name": "ipython",
    "version": 3
   },
   "file_extension": ".py",
   "mimetype": "text/x-python",
   "name": "python",
   "nbconvert_exporter": "python",
   "pygments_lexer": "ipython3",
   "version": "3.9.12"
  }
 },
 "nbformat": 4,
 "nbformat_minor": 5
}
