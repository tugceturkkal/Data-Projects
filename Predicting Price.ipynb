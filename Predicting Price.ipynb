{
 "cells": [
  {
   "cell_type": "markdown",
   "id": "fb6f641d",
   "metadata": {},
   "source": [
    "# Haensel AMS - Predicting Price"
   ]
  },
  {
   "cell_type": "markdown",
   "id": "f7e2358a",
   "metadata": {},
   "source": [
    "## Contents\n",
    "* [Assignment](#Assignment)\n",
    "* [Question 1](#Question-1)\n",
    "* [Question 2](#Question-2)\n",
    "* [Question 3](#Question-3)\n",
    "* [Question 4](#Question-4)"
   ]
  },
  {
   "cell_type": "markdown",
   "id": "4af2281b",
   "metadata": {},
   "source": [
    "### Assignment \n",
    "The target variable is 'price'. You have 7 attributes and obviously we want you to build some initial ML model which predicts the prices.\n",
    "\n",
    "1. Make some initial data analysis, which will hint to some stuctures in the data and how attributes are connected.\n",
    "2. Fit some ML model(s) and explain briefly your choices.\n",
    "3. Show with some X-validation the power of your model and comment the results.\n",
    "4. Present us the results and the steps you have taken and also with some critical thinking and next steps.\n"
   ]
  },
  {
   "cell_type": "markdown",
   "id": "f4ad4f68",
   "metadata": {},
   "source": [
    "## Question 1"
   ]
  },
  {
   "cell_type": "markdown",
   "id": "bfb69b67",
   "metadata": {},
   "source": [
    "1. Make some initial data analysis, which will hint to some stuctures in the data and how attributes are connected."
   ]
  },
  {
   "cell_type": "code",
   "execution_count": 1,
   "id": "77749c54",
   "metadata": {},
   "outputs": [],
   "source": [
    "import pandas as pd\n",
    "import numpy as np"
   ]
  },
  {
   "cell_type": "code",
   "execution_count": 2,
   "id": "b327f3f5",
   "metadata": {},
   "outputs": [
    {
     "data": {
      "text/html": [
       "<div>\n",
       "<style scoped>\n",
       "    .dataframe tbody tr th:only-of-type {\n",
       "        vertical-align: middle;\n",
       "    }\n",
       "\n",
       "    .dataframe tbody tr th {\n",
       "        vertical-align: top;\n",
       "    }\n",
       "\n",
       "    .dataframe thead th {\n",
       "        text-align: right;\n",
       "    }\n",
       "</style>\n",
       "<table border=\"1\" class=\"dataframe\">\n",
       "  <thead>\n",
       "    <tr style=\"text-align: right;\">\n",
       "      <th></th>\n",
       "      <th>loc1</th>\n",
       "      <th>loc2</th>\n",
       "      <th>para1</th>\n",
       "      <th>dow</th>\n",
       "      <th>para2</th>\n",
       "      <th>para3</th>\n",
       "      <th>para4</th>\n",
       "      <th>price</th>\n",
       "    </tr>\n",
       "  </thead>\n",
       "  <tbody>\n",
       "    <tr>\n",
       "      <th>0</th>\n",
       "      <td>0</td>\n",
       "      <td>01</td>\n",
       "      <td>1</td>\n",
       "      <td>Mon</td>\n",
       "      <td>662</td>\n",
       "      <td>3000.0</td>\n",
       "      <td>3.8</td>\n",
       "      <td>73.49</td>\n",
       "    </tr>\n",
       "    <tr>\n",
       "      <th>1</th>\n",
       "      <td>9</td>\n",
       "      <td>99</td>\n",
       "      <td>1</td>\n",
       "      <td>Thu</td>\n",
       "      <td>340</td>\n",
       "      <td>2760.0</td>\n",
       "      <td>9.2</td>\n",
       "      <td>300.00</td>\n",
       "    </tr>\n",
       "    <tr>\n",
       "      <th>2</th>\n",
       "      <td>0</td>\n",
       "      <td>04</td>\n",
       "      <td>0</td>\n",
       "      <td>Mon</td>\n",
       "      <td>16</td>\n",
       "      <td>2700.0</td>\n",
       "      <td>3.0</td>\n",
       "      <td>130.00</td>\n",
       "    </tr>\n",
       "  </tbody>\n",
       "</table>\n",
       "</div>"
      ],
      "text/plain": [
       "  loc1 loc2  para1  dow  para2   para3  para4   price\n",
       "0    0   01      1  Mon    662  3000.0    3.8   73.49\n",
       "1    9   99      1  Thu    340  2760.0    9.2  300.00\n",
       "2    0   04      0  Mon     16  2700.0    3.0  130.00"
      ]
     },
     "execution_count": 2,
     "metadata": {},
     "output_type": "execute_result"
    }
   ],
   "source": [
    "data = pd.read_csv('sample.csv')\n",
    "data.head(3)"
   ]
  },
  {
   "cell_type": "code",
   "execution_count": 3,
   "id": "ee6020a6",
   "metadata": {},
   "outputs": [
    {
     "data": {
      "text/plain": [
       "loc1     0\n",
       "loc2     0\n",
       "para1    0\n",
       "dow      0\n",
       "para2    0\n",
       "para3    0\n",
       "para4    0\n",
       "price    0\n",
       "dtype: int64"
      ]
     },
     "execution_count": 3,
     "metadata": {},
     "output_type": "execute_result"
    }
   ],
   "source": [
    "data.isnull().sum()"
   ]
  },
  {
   "cell_type": "markdown",
   "id": "083b6f52",
   "metadata": {},
   "source": [
    "We don't have any missing value(NaN). "
   ]
  },
  {
   "cell_type": "code",
   "execution_count": 4,
   "id": "3e600729",
   "metadata": {},
   "outputs": [
    {
     "name": "stdout",
     "output_type": "stream",
     "text": [
      "<class 'pandas.core.frame.DataFrame'>\n",
      "RangeIndex: 10000 entries, 0 to 9999\n",
      "Data columns (total 8 columns):\n",
      " #   Column  Non-Null Count  Dtype  \n",
      "---  ------  --------------  -----  \n",
      " 0   loc1    10000 non-null  object \n",
      " 1   loc2    10000 non-null  object \n",
      " 2   para1   10000 non-null  int64  \n",
      " 3   dow     10000 non-null  object \n",
      " 4   para2   10000 non-null  int64  \n",
      " 5   para3   10000 non-null  float64\n",
      " 6   para4   10000 non-null  float64\n",
      " 7   price   10000 non-null  float64\n",
      "dtypes: float64(3), int64(2), object(3)\n",
      "memory usage: 625.1+ KB\n"
     ]
    }
   ],
   "source": [
    "data.info()"
   ]
  },
  {
   "cell_type": "code",
   "execution_count": 5,
   "id": "99c12c8b",
   "metadata": {},
   "outputs": [
    {
     "data": {
      "text/plain": [
       "2    1607\n",
       "0    1486\n",
       "1    1223\n",
       "7    1081\n",
       "3     945\n",
       "5     846\n",
       "4     773\n",
       "8     727\n",
       "9     690\n",
       "6     620\n",
       "S       1\n",
       "T       1\n",
       "Name: loc1, dtype: int64"
      ]
     },
     "execution_count": 5,
     "metadata": {},
     "output_type": "execute_result"
    }
   ],
   "source": [
    "data['loc1'].value_counts()"
   ]
  },
  {
   "cell_type": "code",
   "execution_count": 6,
   "id": "a6cfbc33",
   "metadata": {},
   "outputs": [],
   "source": [
    "data = data[(data['loc1'].str.contains('S') == False) & (data['loc1'].str.contains('T') == False)]"
   ]
  },
  {
   "cell_type": "code",
   "execution_count": 7,
   "id": "86256bd1",
   "metadata": {},
   "outputs": [
    {
     "data": {
      "text/plain": [
       "2    1607\n",
       "0    1486\n",
       "1    1223\n",
       "7    1081\n",
       "3     945\n",
       "5     846\n",
       "4     773\n",
       "8     727\n",
       "9     690\n",
       "6     620\n",
       "Name: loc1, dtype: int64"
      ]
     },
     "execution_count": 7,
     "metadata": {},
     "output_type": "execute_result"
    }
   ],
   "source": [
    "data['loc1'].value_counts()"
   ]
  },
  {
   "cell_type": "code",
   "execution_count": 8,
   "id": "a3119a58",
   "metadata": {},
   "outputs": [],
   "source": [
    "# If ‘coerce’, then invalid parsing will be set as NaN.\n",
    "\n",
    "data['loc1'] = pd.to_numeric(data['loc1'], errors='coerce')\n",
    "data['loc2'] = pd.to_numeric(data['loc2'], errors='coerce')\n",
    "data.dropna(inplace = True)"
   ]
  },
  {
   "cell_type": "markdown",
   "id": "a3246e1a",
   "metadata": {},
   "source": [
    "We add errors argument equal to coerce to change string types to Na. Then we will use the dropna method to remove Na's."
   ]
  },
  {
   "cell_type": "code",
   "execution_count": 9,
   "id": "a825e9ad",
   "metadata": {},
   "outputs": [
    {
     "data": {
      "text/html": [
       "<div>\n",
       "<style scoped>\n",
       "    .dataframe tbody tr th:only-of-type {\n",
       "        vertical-align: middle;\n",
       "    }\n",
       "\n",
       "    .dataframe tbody tr th {\n",
       "        vertical-align: top;\n",
       "    }\n",
       "\n",
       "    .dataframe thead th {\n",
       "        text-align: right;\n",
       "    }\n",
       "</style>\n",
       "<table border=\"1\" class=\"dataframe\">\n",
       "  <thead>\n",
       "    <tr style=\"text-align: right;\">\n",
       "      <th></th>\n",
       "      <th>Fri</th>\n",
       "      <th>Mon</th>\n",
       "      <th>Sat</th>\n",
       "      <th>Sun</th>\n",
       "      <th>Thu</th>\n",
       "      <th>Tue</th>\n",
       "      <th>Wed</th>\n",
       "    </tr>\n",
       "  </thead>\n",
       "  <tbody>\n",
       "    <tr>\n",
       "      <th>0</th>\n",
       "      <td>0</td>\n",
       "      <td>1</td>\n",
       "      <td>0</td>\n",
       "      <td>0</td>\n",
       "      <td>0</td>\n",
       "      <td>0</td>\n",
       "      <td>0</td>\n",
       "    </tr>\n",
       "    <tr>\n",
       "      <th>1</th>\n",
       "      <td>0</td>\n",
       "      <td>0</td>\n",
       "      <td>0</td>\n",
       "      <td>0</td>\n",
       "      <td>1</td>\n",
       "      <td>0</td>\n",
       "      <td>0</td>\n",
       "    </tr>\n",
       "    <tr>\n",
       "      <th>2</th>\n",
       "      <td>0</td>\n",
       "      <td>1</td>\n",
       "      <td>0</td>\n",
       "      <td>0</td>\n",
       "      <td>0</td>\n",
       "      <td>0</td>\n",
       "      <td>0</td>\n",
       "    </tr>\n",
       "    <tr>\n",
       "      <th>3</th>\n",
       "      <td>0</td>\n",
       "      <td>1</td>\n",
       "      <td>0</td>\n",
       "      <td>0</td>\n",
       "      <td>0</td>\n",
       "      <td>0</td>\n",
       "      <td>0</td>\n",
       "    </tr>\n",
       "    <tr>\n",
       "      <th>4</th>\n",
       "      <td>0</td>\n",
       "      <td>0</td>\n",
       "      <td>0</td>\n",
       "      <td>0</td>\n",
       "      <td>1</td>\n",
       "      <td>0</td>\n",
       "      <td>0</td>\n",
       "    </tr>\n",
       "  </tbody>\n",
       "</table>\n",
       "</div>"
      ],
      "text/plain": [
       "   Fri  Mon  Sat  Sun  Thu  Tue  Wed\n",
       "0    0    1    0    0    0    0    0\n",
       "1    0    0    0    0    1    0    0\n",
       "2    0    1    0    0    0    0    0\n",
       "3    0    1    0    0    0    0    0\n",
       "4    0    0    0    0    1    0    0"
      ]
     },
     "execution_count": 9,
     "metadata": {},
     "output_type": "execute_result"
    }
   ],
   "source": [
    "dow_dummies = pd.get_dummies(data['dow'])\n",
    "dow_dummies.head()"
   ]
  },
  {
   "cell_type": "code",
   "execution_count": 10,
   "id": "58c5f36d",
   "metadata": {},
   "outputs": [],
   "source": [
    "data_2 = data.copy(deep=True)"
   ]
  },
  {
   "cell_type": "code",
   "execution_count": 11,
   "id": "83947616",
   "metadata": {},
   "outputs": [
    {
     "data": {
      "text/html": [
       "<div>\n",
       "<style scoped>\n",
       "    .dataframe tbody tr th:only-of-type {\n",
       "        vertical-align: middle;\n",
       "    }\n",
       "\n",
       "    .dataframe tbody tr th {\n",
       "        vertical-align: top;\n",
       "    }\n",
       "\n",
       "    .dataframe thead th {\n",
       "        text-align: right;\n",
       "    }\n",
       "</style>\n",
       "<table border=\"1\" class=\"dataframe\">\n",
       "  <thead>\n",
       "    <tr style=\"text-align: right;\">\n",
       "      <th></th>\n",
       "      <th>loc1</th>\n",
       "      <th>loc2</th>\n",
       "      <th>para1</th>\n",
       "      <th>para2</th>\n",
       "      <th>para3</th>\n",
       "      <th>para4</th>\n",
       "      <th>price</th>\n",
       "      <th>Fri</th>\n",
       "      <th>Mon</th>\n",
       "      <th>Sat</th>\n",
       "      <th>Sun</th>\n",
       "      <th>Thu</th>\n",
       "      <th>Tue</th>\n",
       "      <th>Wed</th>\n",
       "    </tr>\n",
       "  </thead>\n",
       "  <tbody>\n",
       "    <tr>\n",
       "      <th>0</th>\n",
       "      <td>0</td>\n",
       "      <td>1.0</td>\n",
       "      <td>1</td>\n",
       "      <td>662</td>\n",
       "      <td>3000.0</td>\n",
       "      <td>3.8</td>\n",
       "      <td>73.49</td>\n",
       "      <td>0</td>\n",
       "      <td>1</td>\n",
       "      <td>0</td>\n",
       "      <td>0</td>\n",
       "      <td>0</td>\n",
       "      <td>0</td>\n",
       "      <td>0</td>\n",
       "    </tr>\n",
       "    <tr>\n",
       "      <th>1</th>\n",
       "      <td>9</td>\n",
       "      <td>99.0</td>\n",
       "      <td>1</td>\n",
       "      <td>340</td>\n",
       "      <td>2760.0</td>\n",
       "      <td>9.2</td>\n",
       "      <td>300.00</td>\n",
       "      <td>0</td>\n",
       "      <td>0</td>\n",
       "      <td>0</td>\n",
       "      <td>0</td>\n",
       "      <td>1</td>\n",
       "      <td>0</td>\n",
       "      <td>0</td>\n",
       "    </tr>\n",
       "    <tr>\n",
       "      <th>2</th>\n",
       "      <td>0</td>\n",
       "      <td>4.0</td>\n",
       "      <td>0</td>\n",
       "      <td>16</td>\n",
       "      <td>2700.0</td>\n",
       "      <td>3.0</td>\n",
       "      <td>130.00</td>\n",
       "      <td>0</td>\n",
       "      <td>1</td>\n",
       "      <td>0</td>\n",
       "      <td>0</td>\n",
       "      <td>0</td>\n",
       "      <td>0</td>\n",
       "      <td>0</td>\n",
       "    </tr>\n",
       "    <tr>\n",
       "      <th>3</th>\n",
       "      <td>4</td>\n",
       "      <td>40.0</td>\n",
       "      <td>1</td>\n",
       "      <td>17</td>\n",
       "      <td>12320.0</td>\n",
       "      <td>6.4</td>\n",
       "      <td>365.00</td>\n",
       "      <td>0</td>\n",
       "      <td>1</td>\n",
       "      <td>0</td>\n",
       "      <td>0</td>\n",
       "      <td>0</td>\n",
       "      <td>0</td>\n",
       "      <td>0</td>\n",
       "    </tr>\n",
       "    <tr>\n",
       "      <th>4</th>\n",
       "      <td>5</td>\n",
       "      <td>50.0</td>\n",
       "      <td>1</td>\n",
       "      <td>610</td>\n",
       "      <td>2117.0</td>\n",
       "      <td>10.8</td>\n",
       "      <td>357.50</td>\n",
       "      <td>0</td>\n",
       "      <td>0</td>\n",
       "      <td>0</td>\n",
       "      <td>0</td>\n",
       "      <td>1</td>\n",
       "      <td>0</td>\n",
       "      <td>0</td>\n",
       "    </tr>\n",
       "  </tbody>\n",
       "</table>\n",
       "</div>"
      ],
      "text/plain": [
       "   loc1  loc2  para1  para2    para3  para4   price  Fri  Mon  Sat  Sun  Thu  \\\n",
       "0     0   1.0      1    662   3000.0    3.8   73.49    0    1    0    0    0   \n",
       "1     9  99.0      1    340   2760.0    9.2  300.00    0    0    0    0    1   \n",
       "2     0   4.0      0     16   2700.0    3.0  130.00    0    1    0    0    0   \n",
       "3     4  40.0      1     17  12320.0    6.4  365.00    0    1    0    0    0   \n",
       "4     5  50.0      1    610   2117.0   10.8  357.50    0    0    0    0    1   \n",
       "\n",
       "   Tue  Wed  \n",
       "0    0    0  \n",
       "1    0    0  \n",
       "2    0    0  \n",
       "3    0    0  \n",
       "4    0    0  "
      ]
     },
     "execution_count": 11,
     "metadata": {},
     "output_type": "execute_result"
    }
   ],
   "source": [
    "data_2.drop('dow', axis = 1,inplace = True)\n",
    "result = data_2.join(dow_dummies)\n",
    "result.head()"
   ]
  },
  {
   "cell_type": "code",
   "execution_count": 12,
   "id": "25fba99d",
   "metadata": {},
   "outputs": [],
   "source": [
    "days_of_week = {'Mon': 1, 'Tue' : 2, 'Wed' : 3, 'Thu' : 4, 'Fri' : 5, 'Sat' : 6, 'Sun' : 7} "
   ]
  },
  {
   "cell_type": "code",
   "execution_count": 13,
   "id": "89690ecd",
   "metadata": {},
   "outputs": [
    {
     "data": {
      "text/html": [
       "<div>\n",
       "<style scoped>\n",
       "    .dataframe tbody tr th:only-of-type {\n",
       "        vertical-align: middle;\n",
       "    }\n",
       "\n",
       "    .dataframe tbody tr th {\n",
       "        vertical-align: top;\n",
       "    }\n",
       "\n",
       "    .dataframe thead th {\n",
       "        text-align: right;\n",
       "    }\n",
       "</style>\n",
       "<table border=\"1\" class=\"dataframe\">\n",
       "  <thead>\n",
       "    <tr style=\"text-align: right;\">\n",
       "      <th></th>\n",
       "      <th>loc1</th>\n",
       "      <th>loc2</th>\n",
       "      <th>para1</th>\n",
       "      <th>dow</th>\n",
       "      <th>para2</th>\n",
       "      <th>para3</th>\n",
       "      <th>para4</th>\n",
       "      <th>price</th>\n",
       "    </tr>\n",
       "  </thead>\n",
       "  <tbody>\n",
       "    <tr>\n",
       "      <th>0</th>\n",
       "      <td>0</td>\n",
       "      <td>1.0</td>\n",
       "      <td>1</td>\n",
       "      <td>1</td>\n",
       "      <td>662</td>\n",
       "      <td>3000.0</td>\n",
       "      <td>3.8</td>\n",
       "      <td>73.49</td>\n",
       "    </tr>\n",
       "    <tr>\n",
       "      <th>1</th>\n",
       "      <td>9</td>\n",
       "      <td>99.0</td>\n",
       "      <td>1</td>\n",
       "      <td>4</td>\n",
       "      <td>340</td>\n",
       "      <td>2760.0</td>\n",
       "      <td>9.2</td>\n",
       "      <td>300.00</td>\n",
       "    </tr>\n",
       "    <tr>\n",
       "      <th>2</th>\n",
       "      <td>0</td>\n",
       "      <td>4.0</td>\n",
       "      <td>0</td>\n",
       "      <td>1</td>\n",
       "      <td>16</td>\n",
       "      <td>2700.0</td>\n",
       "      <td>3.0</td>\n",
       "      <td>130.00</td>\n",
       "    </tr>\n",
       "    <tr>\n",
       "      <th>3</th>\n",
       "      <td>4</td>\n",
       "      <td>40.0</td>\n",
       "      <td>1</td>\n",
       "      <td>1</td>\n",
       "      <td>17</td>\n",
       "      <td>12320.0</td>\n",
       "      <td>6.4</td>\n",
       "      <td>365.00</td>\n",
       "    </tr>\n",
       "    <tr>\n",
       "      <th>4</th>\n",
       "      <td>5</td>\n",
       "      <td>50.0</td>\n",
       "      <td>1</td>\n",
       "      <td>4</td>\n",
       "      <td>610</td>\n",
       "      <td>2117.0</td>\n",
       "      <td>10.8</td>\n",
       "      <td>357.50</td>\n",
       "    </tr>\n",
       "  </tbody>\n",
       "</table>\n",
       "</div>"
      ],
      "text/plain": [
       "   loc1  loc2  para1  dow  para2    para3  para4   price\n",
       "0     0   1.0      1    1    662   3000.0    3.8   73.49\n",
       "1     9  99.0      1    4    340   2760.0    9.2  300.00\n",
       "2     0   4.0      0    1     16   2700.0    3.0  130.00\n",
       "3     4  40.0      1    1     17  12320.0    6.4  365.00\n",
       "4     5  50.0      1    4    610   2117.0   10.8  357.50"
      ]
     },
     "execution_count": 13,
     "metadata": {},
     "output_type": "execute_result"
    }
   ],
   "source": [
    "data['dow'] = data['dow'].map(days_of_week)\n",
    "data.head()"
   ]
  },
  {
   "cell_type": "code",
   "execution_count": 14,
   "id": "143b13a0",
   "metadata": {},
   "outputs": [
    {
     "data": {
      "text/plain": [
       "array([[<AxesSubplot:xlabel='loc1', ylabel='loc1'>,\n",
       "        <AxesSubplot:xlabel='loc2', ylabel='loc1'>,\n",
       "        <AxesSubplot:xlabel='para1', ylabel='loc1'>,\n",
       "        <AxesSubplot:xlabel='para2', ylabel='loc1'>,\n",
       "        <AxesSubplot:xlabel='para3', ylabel='loc1'>,\n",
       "        <AxesSubplot:xlabel='para4', ylabel='loc1'>,\n",
       "        <AxesSubplot:xlabel='price', ylabel='loc1'>],\n",
       "       [<AxesSubplot:xlabel='loc1', ylabel='loc2'>,\n",
       "        <AxesSubplot:xlabel='loc2', ylabel='loc2'>,\n",
       "        <AxesSubplot:xlabel='para1', ylabel='loc2'>,\n",
       "        <AxesSubplot:xlabel='para2', ylabel='loc2'>,\n",
       "        <AxesSubplot:xlabel='para3', ylabel='loc2'>,\n",
       "        <AxesSubplot:xlabel='para4', ylabel='loc2'>,\n",
       "        <AxesSubplot:xlabel='price', ylabel='loc2'>],\n",
       "       [<AxesSubplot:xlabel='loc1', ylabel='para1'>,\n",
       "        <AxesSubplot:xlabel='loc2', ylabel='para1'>,\n",
       "        <AxesSubplot:xlabel='para1', ylabel='para1'>,\n",
       "        <AxesSubplot:xlabel='para2', ylabel='para1'>,\n",
       "        <AxesSubplot:xlabel='para3', ylabel='para1'>,\n",
       "        <AxesSubplot:xlabel='para4', ylabel='para1'>,\n",
       "        <AxesSubplot:xlabel='price', ylabel='para1'>],\n",
       "       [<AxesSubplot:xlabel='loc1', ylabel='para2'>,\n",
       "        <AxesSubplot:xlabel='loc2', ylabel='para2'>,\n",
       "        <AxesSubplot:xlabel='para1', ylabel='para2'>,\n",
       "        <AxesSubplot:xlabel='para2', ylabel='para2'>,\n",
       "        <AxesSubplot:xlabel='para3', ylabel='para2'>,\n",
       "        <AxesSubplot:xlabel='para4', ylabel='para2'>,\n",
       "        <AxesSubplot:xlabel='price', ylabel='para2'>],\n",
       "       [<AxesSubplot:xlabel='loc1', ylabel='para3'>,\n",
       "        <AxesSubplot:xlabel='loc2', ylabel='para3'>,\n",
       "        <AxesSubplot:xlabel='para1', ylabel='para3'>,\n",
       "        <AxesSubplot:xlabel='para2', ylabel='para3'>,\n",
       "        <AxesSubplot:xlabel='para3', ylabel='para3'>,\n",
       "        <AxesSubplot:xlabel='para4', ylabel='para3'>,\n",
       "        <AxesSubplot:xlabel='price', ylabel='para3'>],\n",
       "       [<AxesSubplot:xlabel='loc1', ylabel='para4'>,\n",
       "        <AxesSubplot:xlabel='loc2', ylabel='para4'>,\n",
       "        <AxesSubplot:xlabel='para1', ylabel='para4'>,\n",
       "        <AxesSubplot:xlabel='para2', ylabel='para4'>,\n",
       "        <AxesSubplot:xlabel='para3', ylabel='para4'>,\n",
       "        <AxesSubplot:xlabel='para4', ylabel='para4'>,\n",
       "        <AxesSubplot:xlabel='price', ylabel='para4'>],\n",
       "       [<AxesSubplot:xlabel='loc1', ylabel='price'>,\n",
       "        <AxesSubplot:xlabel='loc2', ylabel='price'>,\n",
       "        <AxesSubplot:xlabel='para1', ylabel='price'>,\n",
       "        <AxesSubplot:xlabel='para2', ylabel='price'>,\n",
       "        <AxesSubplot:xlabel='para3', ylabel='price'>,\n",
       "        <AxesSubplot:xlabel='para4', ylabel='price'>,\n",
       "        <AxesSubplot:xlabel='price', ylabel='price'>]], dtype=object)"
      ]
     },
     "execution_count": 14,
     "metadata": {},
     "output_type": "execute_result"
    },
    {
     "data": {
      "image/png": "[encoded data removed]",
      "text/plain": [
       "<Figure size 864x576 with 49 Axes>"
      ]
     },
     "metadata": {
      "needs_background": "light"
     },
     "output_type": "display_data"
    }
   ],
   "source": [
    "from pandas.plotting import scatter_matrix\n",
    "\n",
    "scatter_matrix(result.iloc[:,0:7], figsize=(12, 8))"
   ]
  },
  {
   "cell_type": "markdown",
   "id": "9d2126f9",
   "metadata": {},
   "source": [
    "It looks like we have a high correlation between loc1 and loc2."
   ]
  },
  {
   "cell_type": "code",
   "execution_count": 15,
   "id": "cf86a80e",
   "metadata": {},
   "outputs": [
    {
     "data": {
      "text/html": [
       "<div>\n",
       "<style scoped>\n",
       "    .dataframe tbody tr th:only-of-type {\n",
       "        vertical-align: middle;\n",
       "    }\n",
       "\n",
       "    .dataframe tbody tr th {\n",
       "        vertical-align: top;\n",
       "    }\n",
       "\n",
       "    .dataframe thead th {\n",
       "        text-align: right;\n",
       "    }\n",
       "</style>\n",
       "<table border=\"1\" class=\"dataframe\">\n",
       "  <thead>\n",
       "    <tr style=\"text-align: right;\">\n",
       "      <th></th>\n",
       "      <th>price</th>\n",
       "    </tr>\n",
       "  </thead>\n",
       "  <tbody>\n",
       "    <tr>\n",
       "      <th>price</th>\n",
       "      <td>1.000000</td>\n",
       "    </tr>\n",
       "    <tr>\n",
       "      <th>para2</th>\n",
       "      <td>0.551222</td>\n",
       "    </tr>\n",
       "    <tr>\n",
       "      <th>para4</th>\n",
       "      <td>0.517614</td>\n",
       "    </tr>\n",
       "    <tr>\n",
       "      <th>para3</th>\n",
       "      <td>0.356949</td>\n",
       "    </tr>\n",
       "    <tr>\n",
       "      <th>para1</th>\n",
       "      <td>0.074555</td>\n",
       "    </tr>\n",
       "    <tr>\n",
       "      <th>loc1</th>\n",
       "      <td>0.044079</td>\n",
       "    </tr>\n",
       "    <tr>\n",
       "      <th>loc2</th>\n",
       "      <td>0.043543</td>\n",
       "    </tr>\n",
       "    <tr>\n",
       "      <th>Wed</th>\n",
       "      <td>0.026684</td>\n",
       "    </tr>\n",
       "    <tr>\n",
       "      <th>Fri</th>\n",
       "      <td>0.025674</td>\n",
       "    </tr>\n",
       "    <tr>\n",
       "      <th>Mon</th>\n",
       "      <td>0.021734</td>\n",
       "    </tr>\n",
       "    <tr>\n",
       "      <th>Thu</th>\n",
       "      <td>0.019656</td>\n",
       "    </tr>\n",
       "    <tr>\n",
       "      <th>Sat</th>\n",
       "      <td>0.014918</td>\n",
       "    </tr>\n",
       "    <tr>\n",
       "      <th>Sun</th>\n",
       "      <td>0.004176</td>\n",
       "    </tr>\n",
       "    <tr>\n",
       "      <th>Tue</th>\n",
       "      <td>0.000974</td>\n",
       "    </tr>\n",
       "  </tbody>\n",
       "</table>\n",
       "</div>"
      ],
      "text/plain": [
       "          price\n",
       "price  1.000000\n",
       "para2  0.551222\n",
       "para4  0.517614\n",
       "para3  0.356949\n",
       "para1  0.074555\n",
       "loc1   0.044079\n",
       "loc2   0.043543\n",
       "Wed    0.026684\n",
       "Fri    0.025674\n",
       "Mon    0.021734\n",
       "Thu    0.019656\n",
       "Sat    0.014918\n",
       "Sun    0.004176\n",
       "Tue    0.000974"
      ]
     },
     "execution_count": 15,
     "metadata": {},
     "output_type": "execute_result"
    }
   ],
   "source": [
    "pd.DataFrame(abs(result.corr()[\"price\"])).sort_values(by = \"price\", ascending = False)"
   ]
  },
  {
   "cell_type": "markdown",
   "id": "016ec2f2",
   "metadata": {},
   "source": [
    "We drop the lowest correlation."
   ]
  },
  {
   "cell_type": "code",
   "execution_count": 16,
   "id": "93dd8684",
   "metadata": {},
   "outputs": [],
   "source": [
    "result.drop(columns = \"loc2\", inplace = True)"
   ]
  },
  {
   "cell_type": "markdown",
   "id": "6774c312",
   "metadata": {},
   "source": [
    "Distribution of our variables."
   ]
  },
  {
   "cell_type": "code",
   "execution_count": 17,
   "id": "cd1acc93",
   "metadata": {},
   "outputs": [
    {
     "data": {
      "text/plain": [
       "array([[<AxesSubplot:title={'center':'loc1'}>,\n",
       "        <AxesSubplot:title={'center':'para1'}>,\n",
       "        <AxesSubplot:title={'center':'para2'}>,\n",
       "        <AxesSubplot:title={'center':'para3'}>],\n",
       "       [<AxesSubplot:title={'center':'para4'}>,\n",
       "        <AxesSubplot:title={'center':'price'}>,\n",
       "        <AxesSubplot:title={'center':'Fri'}>,\n",
       "        <AxesSubplot:title={'center':'Mon'}>],\n",
       "       [<AxesSubplot:title={'center':'Sat'}>,\n",
       "        <AxesSubplot:title={'center':'Sun'}>,\n",
       "        <AxesSubplot:title={'center':'Thu'}>,\n",
       "        <AxesSubplot:title={'center':'Tue'}>],\n",
       "       [<AxesSubplot:title={'center':'Wed'}>, <AxesSubplot:>,\n",
       "        <AxesSubplot:>, <AxesSubplot:>]], dtype=object)"
      ]
     },
     "execution_count": 17,
     "metadata": {},
     "output_type": "execute_result"
    },
    {
     "data": {
      "image/png": "[encoded data removed]",
      "text/plain": [
       "<Figure size 1440x1080 with 16 Axes>"
      ]
     },
     "metadata": {
      "needs_background": "light"
     },
     "output_type": "display_data"
    }
   ],
   "source": [
    "import matplotlib.pyplot as plt \n",
    "\n",
    "result.hist(bins=50, figsize=(20,15)) \n"
   ]
  },
  {
   "cell_type": "markdown",
   "id": "b9bd3418",
   "metadata": {},
   "source": [
    "To see whether there is an anomaly or not, let's look at the statistics of our data frame."
   ]
  },
  {
   "cell_type": "code",
   "execution_count": 18,
   "id": "b61af6da",
   "metadata": {},
   "outputs": [
    {
     "data": {
      "text/html": [
       "<div>\n",
       "<style scoped>\n",
       "    .dataframe tbody tr th:only-of-type {\n",
       "        vertical-align: middle;\n",
       "    }\n",
       "\n",
       "    .dataframe tbody tr th {\n",
       "        vertical-align: top;\n",
       "    }\n",
       "\n",
       "    .dataframe thead th {\n",
       "        text-align: right;\n",
       "    }\n",
       "</style>\n",
       "<table border=\"1\" class=\"dataframe\">\n",
       "  <thead>\n",
       "    <tr style=\"text-align: right;\">\n",
       "      <th></th>\n",
       "      <th>loc1</th>\n",
       "      <th>para1</th>\n",
       "      <th>para2</th>\n",
       "      <th>para3</th>\n",
       "      <th>para4</th>\n",
       "      <th>price</th>\n",
       "      <th>Fri</th>\n",
       "      <th>Mon</th>\n",
       "      <th>Sat</th>\n",
       "      <th>Sun</th>\n",
       "      <th>Thu</th>\n",
       "      <th>Tue</th>\n",
       "      <th>Wed</th>\n",
       "    </tr>\n",
       "  </thead>\n",
       "  <tbody>\n",
       "    <tr>\n",
       "      <th>count</th>\n",
       "      <td>9993.000000</td>\n",
       "      <td>9993.000000</td>\n",
       "      <td>9993.000000</td>\n",
       "      <td>9993.000000</td>\n",
       "      <td>9993.000000</td>\n",
       "      <td>9993.000000</td>\n",
       "      <td>9993.000000</td>\n",
       "      <td>9993.000000</td>\n",
       "      <td>9993.000000</td>\n",
       "      <td>9993.000000</td>\n",
       "      <td>9993.000000</td>\n",
       "      <td>9993.00000</td>\n",
       "      <td>9993.000000</td>\n",
       "    </tr>\n",
       "    <tr>\n",
       "      <th>mean</th>\n",
       "      <td>3.793355</td>\n",
       "      <td>1.379966</td>\n",
       "      <td>446.888522</td>\n",
       "      <td>9550.105894</td>\n",
       "      <td>8.460614</td>\n",
       "      <td>433.318379</td>\n",
       "      <td>0.192835</td>\n",
       "      <td>0.191734</td>\n",
       "      <td>0.001001</td>\n",
       "      <td>0.000300</td>\n",
       "      <td>0.190934</td>\n",
       "      <td>0.19984</td>\n",
       "      <td>0.223356</td>\n",
       "    </tr>\n",
       "    <tr>\n",
       "      <th>std</th>\n",
       "      <td>2.892286</td>\n",
       "      <td>3.501891</td>\n",
       "      <td>220.141080</td>\n",
       "      <td>8022.655794</td>\n",
       "      <td>4.613156</td>\n",
       "      <td>276.743453</td>\n",
       "      <td>0.394544</td>\n",
       "      <td>0.393685</td>\n",
       "      <td>0.031620</td>\n",
       "      <td>0.017325</td>\n",
       "      <td>0.393057</td>\n",
       "      <td>0.39990</td>\n",
       "      <td>0.416516</td>\n",
       "    </tr>\n",
       "    <tr>\n",
       "      <th>min</th>\n",
       "      <td>0.000000</td>\n",
       "      <td>0.000000</td>\n",
       "      <td>16.000000</td>\n",
       "      <td>200.000000</td>\n",
       "      <td>1.000000</td>\n",
       "      <td>50.730000</td>\n",
       "      <td>0.000000</td>\n",
       "      <td>0.000000</td>\n",
       "      <td>0.000000</td>\n",
       "      <td>0.000000</td>\n",
       "      <td>0.000000</td>\n",
       "      <td>0.00000</td>\n",
       "      <td>0.000000</td>\n",
       "    </tr>\n",
       "    <tr>\n",
       "      <th>25%</th>\n",
       "      <td>1.000000</td>\n",
       "      <td>1.000000</td>\n",
       "      <td>301.000000</td>\n",
       "      <td>2900.000000</td>\n",
       "      <td>4.000000</td>\n",
       "      <td>250.000000</td>\n",
       "      <td>0.000000</td>\n",
       "      <td>0.000000</td>\n",
       "      <td>0.000000</td>\n",
       "      <td>0.000000</td>\n",
       "      <td>0.000000</td>\n",
       "      <td>0.00000</td>\n",
       "      <td>0.000000</td>\n",
       "    </tr>\n",
       "    <tr>\n",
       "      <th>50%</th>\n",
       "      <td>3.000000</td>\n",
       "      <td>1.000000</td>\n",
       "      <td>434.000000</td>\n",
       "      <td>6448.000000</td>\n",
       "      <td>7.200000</td>\n",
       "      <td>370.000000</td>\n",
       "      <td>0.000000</td>\n",
       "      <td>0.000000</td>\n",
       "      <td>0.000000</td>\n",
       "      <td>0.000000</td>\n",
       "      <td>0.000000</td>\n",
       "      <td>0.00000</td>\n",
       "      <td>0.000000</td>\n",
       "    </tr>\n",
       "    <tr>\n",
       "      <th>75%</th>\n",
       "      <td>6.000000</td>\n",
       "      <td>1.000000</td>\n",
       "      <td>582.000000</td>\n",
       "      <td>15000.000000</td>\n",
       "      <td>13.600000</td>\n",
       "      <td>550.000000</td>\n",
       "      <td>0.000000</td>\n",
       "      <td>0.000000</td>\n",
       "      <td>0.000000</td>\n",
       "      <td>0.000000</td>\n",
       "      <td>0.000000</td>\n",
       "      <td>0.00000</td>\n",
       "      <td>0.000000</td>\n",
       "    </tr>\n",
       "    <tr>\n",
       "      <th>max</th>\n",
       "      <td>9.000000</td>\n",
       "      <td>337.000000</td>\n",
       "      <td>2554.000000</td>\n",
       "      <td>34782.000000</td>\n",
       "      <td>27.200000</td>\n",
       "      <td>5700.000000</td>\n",
       "      <td>1.000000</td>\n",
       "      <td>1.000000</td>\n",
       "      <td>1.000000</td>\n",
       "      <td>1.000000</td>\n",
       "      <td>1.000000</td>\n",
       "      <td>1.00000</td>\n",
       "      <td>1.000000</td>\n",
       "    </tr>\n",
       "  </tbody>\n",
       "</table>\n",
       "</div>"
      ],
      "text/plain": [
       "              loc1        para1        para2         para3        para4  \\\n",
       "count  9993.000000  9993.000000  9993.000000   9993.000000  9993.000000   \n",
       "mean      3.793355     1.379966   446.888522   9550.105894     8.460614   \n",
       "std       2.892286     3.501891   220.141080   8022.655794     4.613156   \n",
       "min       0.000000     0.000000    16.000000    200.000000     1.000000   \n",
       "25%       1.000000     1.000000   301.000000   2900.000000     4.000000   \n",
       "50%       3.000000     1.000000   434.000000   6448.000000     7.200000   \n",
       "75%       6.000000     1.000000   582.000000  15000.000000    13.600000   \n",
       "max       9.000000   337.000000  2554.000000  34782.000000    27.200000   \n",
       "\n",
       "             price          Fri          Mon          Sat          Sun  \\\n",
       "count  9993.000000  9993.000000  9993.000000  9993.000000  9993.000000   \n",
       "mean    433.318379     0.192835     0.191734     0.001001     0.000300   \n",
       "std     276.743453     0.394544     0.393685     0.031620     0.017325   \n",
       "min      50.730000     0.000000     0.000000     0.000000     0.000000   \n",
       "25%     250.000000     0.000000     0.000000     0.000000     0.000000   \n",
       "50%     370.000000     0.000000     0.000000     0.000000     0.000000   \n",
       "75%     550.000000     0.000000     0.000000     0.000000     0.000000   \n",
       "max    5700.000000     1.000000     1.000000     1.000000     1.000000   \n",
       "\n",
       "               Thu         Tue          Wed  \n",
       "count  9993.000000  9993.00000  9993.000000  \n",
       "mean      0.190934     0.19984     0.223356  \n",
       "std       0.393057     0.39990     0.416516  \n",
       "min       0.000000     0.00000     0.000000  \n",
       "25%       0.000000     0.00000     0.000000  \n",
       "50%       0.000000     0.00000     0.000000  \n",
       "75%       0.000000     0.00000     0.000000  \n",
       "max       1.000000     1.00000     1.000000  "
      ]
     },
     "execution_count": 18,
     "metadata": {},
     "output_type": "execute_result"
    }
   ],
   "source": [
    "result.describe()"
   ]
  },
  {
   "cell_type": "markdown",
   "id": "ce5d1cc1",
   "metadata": {},
   "source": [
    "It looks like we have an anomaly in the para1 column, especially in the max value - it is too far from the mean than it should be. "
   ]
  },
  {
   "cell_type": "code",
   "execution_count": 19,
   "id": "e0aa8c2f",
   "metadata": {},
   "outputs": [
    {
     "data": {
      "text/plain": [
       "1      7052\n",
       "3      1609\n",
       "0       836\n",
       "2       265\n",
       "4       164\n",
       "5        51\n",
       "6         6\n",
       "7         3\n",
       "13        2\n",
       "9         2\n",
       "24        1\n",
       "8         1\n",
       "337       1\n",
       "Name: para1, dtype: int64"
      ]
     },
     "execution_count": 19,
     "metadata": {},
     "output_type": "execute_result"
    }
   ],
   "source": [
    "result['para1'].value_counts()"
   ]
  },
  {
   "cell_type": "markdown",
   "id": "6c604f77",
   "metadata": {},
   "source": [
    "It looks like the main distribution of the para1 values is between 0 and 9, so I will select them."
   ]
  },
  {
   "cell_type": "code",
   "execution_count": 20,
   "id": "094993b0",
   "metadata": {},
   "outputs": [],
   "source": [
    "result = result[result['para1'] < 10]"
   ]
  },
  {
   "cell_type": "code",
   "execution_count": 21,
   "id": "74486507",
   "metadata": {},
   "outputs": [
    {
     "data": {
      "text/html": [
       "<div>\n",
       "<style scoped>\n",
       "    .dataframe tbody tr th:only-of-type {\n",
       "        vertical-align: middle;\n",
       "    }\n",
       "\n",
       "    .dataframe tbody tr th {\n",
       "        vertical-align: top;\n",
       "    }\n",
       "\n",
       "    .dataframe thead th {\n",
       "        text-align: right;\n",
       "    }\n",
       "</style>\n",
       "<table border=\"1\" class=\"dataframe\">\n",
       "  <thead>\n",
       "    <tr style=\"text-align: right;\">\n",
       "      <th></th>\n",
       "      <th>loc1</th>\n",
       "      <th>para1</th>\n",
       "      <th>para2</th>\n",
       "      <th>para3</th>\n",
       "      <th>para4</th>\n",
       "      <th>price</th>\n",
       "      <th>Fri</th>\n",
       "      <th>Mon</th>\n",
       "      <th>Sat</th>\n",
       "      <th>Sun</th>\n",
       "      <th>Thu</th>\n",
       "      <th>Tue</th>\n",
       "      <th>Wed</th>\n",
       "    </tr>\n",
       "  </thead>\n",
       "  <tbody>\n",
       "    <tr>\n",
       "      <th>count</th>\n",
       "      <td>9989.000000</td>\n",
       "      <td>9989.000000</td>\n",
       "      <td>9989.000000</td>\n",
       "      <td>9989.000000</td>\n",
       "      <td>9989.000000</td>\n",
       "      <td>9989.000000</td>\n",
       "      <td>9989.000000</td>\n",
       "      <td>9989.000000</td>\n",
       "      <td>9989.000000</td>\n",
       "      <td>9989.000000</td>\n",
       "      <td>9989.000000</td>\n",
       "      <td>9989.00000</td>\n",
       "      <td>9989.000000</td>\n",
       "    </tr>\n",
       "    <tr>\n",
       "      <th>mean</th>\n",
       "      <td>3.793573</td>\n",
       "      <td>1.341776</td>\n",
       "      <td>446.926219</td>\n",
       "      <td>9550.045070</td>\n",
       "      <td>8.459277</td>\n",
       "      <td>433.247628</td>\n",
       "      <td>0.192612</td>\n",
       "      <td>0.191711</td>\n",
       "      <td>0.001001</td>\n",
       "      <td>0.000300</td>\n",
       "      <td>0.191010</td>\n",
       "      <td>0.19992</td>\n",
       "      <td>0.223446</td>\n",
       "    </tr>\n",
       "    <tr>\n",
       "      <th>std</th>\n",
       "      <td>2.892451</td>\n",
       "      <td>0.954364</td>\n",
       "      <td>220.174079</td>\n",
       "      <td>8022.209434</td>\n",
       "      <td>4.613233</td>\n",
       "      <td>276.704058</td>\n",
       "      <td>0.394371</td>\n",
       "      <td>0.393667</td>\n",
       "      <td>0.031626</td>\n",
       "      <td>0.017328</td>\n",
       "      <td>0.393117</td>\n",
       "      <td>0.39996</td>\n",
       "      <td>0.416575</td>\n",
       "    </tr>\n",
       "    <tr>\n",
       "      <th>min</th>\n",
       "      <td>0.000000</td>\n",
       "      <td>0.000000</td>\n",
       "      <td>16.000000</td>\n",
       "      <td>200.000000</td>\n",
       "      <td>1.000000</td>\n",
       "      <td>50.730000</td>\n",
       "      <td>0.000000</td>\n",
       "      <td>0.000000</td>\n",
       "      <td>0.000000</td>\n",
       "      <td>0.000000</td>\n",
       "      <td>0.000000</td>\n",
       "      <td>0.00000</td>\n",
       "      <td>0.000000</td>\n",
       "    </tr>\n",
       "    <tr>\n",
       "      <th>25%</th>\n",
       "      <td>1.000000</td>\n",
       "      <td>1.000000</td>\n",
       "      <td>301.000000</td>\n",
       "      <td>2900.000000</td>\n",
       "      <td>4.000000</td>\n",
       "      <td>250.000000</td>\n",
       "      <td>0.000000</td>\n",
       "      <td>0.000000</td>\n",
       "      <td>0.000000</td>\n",
       "      <td>0.000000</td>\n",
       "      <td>0.000000</td>\n",
       "      <td>0.00000</td>\n",
       "      <td>0.000000</td>\n",
       "    </tr>\n",
       "    <tr>\n",
       "      <th>50%</th>\n",
       "      <td>3.000000</td>\n",
       "      <td>1.000000</td>\n",
       "      <td>434.000000</td>\n",
       "      <td>6448.000000</td>\n",
       "      <td>7.200000</td>\n",
       "      <td>370.000000</td>\n",
       "      <td>0.000000</td>\n",
       "      <td>0.000000</td>\n",
       "      <td>0.000000</td>\n",
       "      <td>0.000000</td>\n",
       "      <td>0.000000</td>\n",
       "      <td>0.00000</td>\n",
       "      <td>0.000000</td>\n",
       "    </tr>\n",
       "    <tr>\n",
       "      <th>75%</th>\n",
       "      <td>7.000000</td>\n",
       "      <td>1.000000</td>\n",
       "      <td>582.000000</td>\n",
       "      <td>15000.000000</td>\n",
       "      <td>13.600000</td>\n",
       "      <td>550.000000</td>\n",
       "      <td>0.000000</td>\n",
       "      <td>0.000000</td>\n",
       "      <td>0.000000</td>\n",
       "      <td>0.000000</td>\n",
       "      <td>0.000000</td>\n",
       "      <td>0.00000</td>\n",
       "      <td>0.000000</td>\n",
       "    </tr>\n",
       "    <tr>\n",
       "      <th>max</th>\n",
       "      <td>9.000000</td>\n",
       "      <td>9.000000</td>\n",
       "      <td>2554.000000</td>\n",
       "      <td>34782.000000</td>\n",
       "      <td>27.200000</td>\n",
       "      <td>5700.000000</td>\n",
       "      <td>1.000000</td>\n",
       "      <td>1.000000</td>\n",
       "      <td>1.000000</td>\n",
       "      <td>1.000000</td>\n",
       "      <td>1.000000</td>\n",
       "      <td>1.00000</td>\n",
       "      <td>1.000000</td>\n",
       "    </tr>\n",
       "  </tbody>\n",
       "</table>\n",
       "</div>"
      ],
      "text/plain": [
       "              loc1        para1        para2         para3        para4  \\\n",
       "count  9989.000000  9989.000000  9989.000000   9989.000000  9989.000000   \n",
       "mean      3.793573     1.341776   446.926219   9550.045070     8.459277   \n",
       "std       2.892451     0.954364   220.174079   8022.209434     4.613233   \n",
       "min       0.000000     0.000000    16.000000    200.000000     1.000000   \n",
       "25%       1.000000     1.000000   301.000000   2900.000000     4.000000   \n",
       "50%       3.000000     1.000000   434.000000   6448.000000     7.200000   \n",
       "75%       7.000000     1.000000   582.000000  15000.000000    13.600000   \n",
       "max       9.000000     9.000000  2554.000000  34782.000000    27.200000   \n",
       "\n",
       "             price          Fri          Mon          Sat          Sun  \\\n",
       "count  9989.000000  9989.000000  9989.000000  9989.000000  9989.000000   \n",
       "mean    433.247628     0.192612     0.191711     0.001001     0.000300   \n",
       "std     276.704058     0.394371     0.393667     0.031626     0.017328   \n",
       "min      50.730000     0.000000     0.000000     0.000000     0.000000   \n",
       "25%     250.000000     0.000000     0.000000     0.000000     0.000000   \n",
       "50%     370.000000     0.000000     0.000000     0.000000     0.000000   \n",
       "75%     550.000000     0.000000     0.000000     0.000000     0.000000   \n",
       "max    5700.000000     1.000000     1.000000     1.000000     1.000000   \n",
       "\n",
       "               Thu         Tue          Wed  \n",
       "count  9989.000000  9989.00000  9989.000000  \n",
       "mean      0.191010     0.19992     0.223446  \n",
       "std       0.393117     0.39996     0.416575  \n",
       "min       0.000000     0.00000     0.000000  \n",
       "25%       0.000000     0.00000     0.000000  \n",
       "50%       0.000000     0.00000     0.000000  \n",
       "75%       0.000000     0.00000     0.000000  \n",
       "max       1.000000     1.00000     1.000000  "
      ]
     },
     "execution_count": 21,
     "metadata": {},
     "output_type": "execute_result"
    }
   ],
   "source": [
    "result.describe()"
   ]
  },
  {
   "cell_type": "code",
   "execution_count": 22,
   "id": "b77b506f",
   "metadata": {},
   "outputs": [
    {
     "data": {
      "text/plain": [
       "<AxesSubplot:>"
      ]
     },
     "execution_count": 22,
     "metadata": {},
     "output_type": "execute_result"
    },
    {
     "data": {
      "image/png": "[encoded data removed]",
      "text/plain": [
       "<Figure size 432x288 with 2 Axes>"
      ]
     },
     "metadata": {
      "needs_background": "light"
     },
     "output_type": "display_data"
    }
   ],
   "source": [
    "import seaborn as sns\n",
    "\n",
    "sns.heatmap(result.iloc[:,0:6].corr(), annot = True)"
   ]
  },
  {
   "cell_type": "markdown",
   "id": "fd0bac09",
   "metadata": {},
   "source": [
    "As we can see, our data's best 3 correlated feature is: para2,para4,para3"
   ]
  },
  {
   "cell_type": "code",
   "execution_count": 23,
   "id": "b4398a06",
   "metadata": {},
   "outputs": [
    {
     "data": {
      "text/plain": [
       "['para2', 'para4', 'para3']"
      ]
     },
     "execution_count": 23,
     "metadata": {},
     "output_type": "execute_result"
    }
   ],
   "source": [
    "three_best = []\n",
    "df_= pd.DataFrame(result.corr()[\"price\"]).sort_values(by = \"price\", ascending = False)\n",
    "df_ = df_.drop(df_.index[0]).head(3)\n",
    "for i in range(len(df_)):\n",
    "    three_best.append(df_.index[i]) \n",
    "\n",
    "three_best"
   ]
  },
  {
   "cell_type": "markdown",
   "id": "e3b3f041",
   "metadata": {},
   "source": [
    "## Question 2"
   ]
  },
  {
   "cell_type": "markdown",
   "id": "9eae085a",
   "metadata": {},
   "source": [
    "2. Fit some ML model(s) and explain briefly your choices."
   ]
  },
  {
   "cell_type": "markdown",
   "id": "7e539708",
   "metadata": {},
   "source": [
    "We will use and compare 5 different algorithms. \n",
    "\n",
    "These algorithms:\n",
    "\n",
    "* Ridge Regression\n",
    "\n",
    "* Decision Tree\n",
    "\n",
    "* Random Forest\n",
    "\n",
    "* XGBoost\n",
    "\n",
    "* MLP"
   ]
  },
  {
   "cell_type": "code",
   "execution_count": 24,
   "id": "84be1542",
   "metadata": {},
   "outputs": [],
   "source": [
    "import sklearn\n",
    "from sklearn import tree\n",
    "from sklearn import linear_model\n",
    "from sklearn.model_selection import train_test_split\n",
    "from sklearn.metrics import r2_score\n",
    "from sklearn.metrics import mean_squared_error\n",
    "from sklearn.neural_network import MLPRegressor\n",
    "from sklearn.ensemble import RandomForestRegressor\n",
    "import xgboost\n",
    "from xgboost import XGBRegressor"
   ]
  },
  {
   "cell_type": "code",
   "execution_count": 25,
   "id": "548c6f0a",
   "metadata": {},
   "outputs": [],
   "source": [
    "y = result['price']\n",
    "X = result.drop(columns = ['price'])"
   ]
  },
  {
   "cell_type": "code",
   "execution_count": 26,
   "id": "f32534ed",
   "metadata": {},
   "outputs": [],
   "source": [
    "model_comparison = {}"
   ]
  },
  {
   "cell_type": "code",
   "execution_count": 27,
   "id": "5c0ff90b",
   "metadata": {},
   "outputs": [],
   "source": [
    "X_train, X_test, y_train, y_test = train_test_split(X, y, test_size = 0.2, random_state = 42)"
   ]
  },
  {
   "cell_type": "markdown",
   "id": "30de5c79",
   "metadata": {},
   "source": [
    "### Ridge Regression"
   ]
  },
  {
   "cell_type": "code",
   "execution_count": 28,
   "id": "bdbded9b",
   "metadata": {},
   "outputs": [],
   "source": [
    "ridge_regression = linear_model.Ridge(random_state = 42)"
   ]
  },
  {
   "cell_type": "code",
   "execution_count": 29,
   "id": "fcc91360",
   "metadata": {},
   "outputs": [
    {
     "data": {
      "text/plain": [
       "Ridge(random_state=42)"
      ]
     },
     "execution_count": 29,
     "metadata": {},
     "output_type": "execute_result"
    }
   ],
   "source": [
    "ridge_regression.fit(X_train, y_train)"
   ]
  },
  {
   "cell_type": "code",
   "execution_count": 30,
   "id": "b9f6875f",
   "metadata": {},
   "outputs": [],
   "source": [
    "y_predict_ridge = ridge_regression.predict(X_train)\n",
    "train_error_ridge = mean_squared_error(y_train, y_predict_ridge, squared = False)\n",
    "\n",
    "y_predict_ridge = ridge_regression.predict(X_test)\n",
    "test_error_ridge = mean_squared_error(y_test, y_predict_ridge, squared=False)\n",
    "\n",
    "y_predict_ridge = ridge_regression.predict(X_train)\n",
    "r2_ridge = r2_score(y_train, y_predict_ridge)"
   ]
  },
  {
   "cell_type": "code",
   "execution_count": 31,
   "id": "ead986d8",
   "metadata": {},
   "outputs": [
    {
     "name": "stdout",
     "output_type": "stream",
     "text": [
      "RIDGE REGRESSION\n",
      "Train Error      : 184.5983205180397\n",
      "Test Error       : 174.0215607338767\n",
      "R2               : 0.5581137570721937\n"
     ]
    }
   ],
   "source": [
    "print('RIDGE REGRESSION')\n",
    "print('Train Error      :', train_error_ridge) \n",
    "print('Test Error       :', test_error_ridge)\n",
    "print('R2               :' , r2_ridge)"
   ]
  },
  {
   "cell_type": "code",
   "execution_count": 32,
   "id": "e7daeeb9",
   "metadata": {},
   "outputs": [],
   "source": [
    "model_comparison['Ridge Regression'] = [train_error_ridge.round(3), test_error_ridge.round(3), r2_ridge.round(3)]"
   ]
  },
  {
   "cell_type": "markdown",
   "id": "21dcde29",
   "metadata": {},
   "source": [
    "### Decision Tree"
   ]
  },
  {
   "cell_type": "code",
   "execution_count": 33,
   "id": "3d1735bf",
   "metadata": {},
   "outputs": [],
   "source": [
    "decision_tree = tree.DecisionTreeRegressor(random_state= 42, max_depth = 6)"
   ]
  },
  {
   "cell_type": "code",
   "execution_count": 34,
   "id": "ef50bbea",
   "metadata": {},
   "outputs": [
    {
     "data": {
      "text/plain": [
       "DecisionTreeRegressor(max_depth=6, random_state=42)"
      ]
     },
     "execution_count": 34,
     "metadata": {},
     "output_type": "execute_result"
    }
   ],
   "source": [
    "decision_tree.fit(X_train, y_train)"
   ]
  },
  {
   "cell_type": "code",
   "execution_count": 35,
   "id": "e4f79c10",
   "metadata": {},
   "outputs": [],
   "source": [
    "y_predict_dt = decision_tree.predict(X_train)\n",
    "train_error_dt = mean_squared_error(y_train, y_predict_dt, squared = False)\n",
    "\n",
    "y_predict_dt = decision_tree.predict(X_test)\n",
    "test_error_dt = mean_squared_error(y_test, y_predict_dt, squared=False)\n",
    "\n",
    "y_predict_dt = decision_tree.predict(X_train)\n",
    "r2_dt = r2_score(y_train, y_predict_dt)"
   ]
  },
  {
   "cell_type": "code",
   "execution_count": 36,
   "id": "1b32e999",
   "metadata": {},
   "outputs": [
    {
     "name": "stdout",
     "output_type": "stream",
     "text": [
      "DECISION TREE\n",
      "Train Error     : 143.4710632890469\n",
      "Test Error      : 169.30069889199896\n",
      "R2              : 0.7330784586795994\n"
     ]
    }
   ],
   "source": [
    "print('DECISION TREE')\n",
    "print('Train Error     :', train_error_dt) \n",
    "print('Test Error      :', test_error_dt)\n",
    "print('R2              :' , r2_dt)"
   ]
  },
  {
   "cell_type": "code",
   "execution_count": 37,
   "id": "615e45a5",
   "metadata": {},
   "outputs": [],
   "source": [
    "model_comparison['Decision Tree'] = [train_error_dt.round(3), test_error_dt.round(3), r2_dt.round(3)]"
   ]
  },
  {
   "cell_type": "markdown",
   "id": "413f0ae8",
   "metadata": {},
   "source": [
    "### Random Forest"
   ]
  },
  {
   "cell_type": "code",
   "execution_count": 38,
   "id": "2405a0a2",
   "metadata": {},
   "outputs": [],
   "source": [
    "random_forest = RandomForestRegressor(random_state = 42)"
   ]
  },
  {
   "cell_type": "code",
   "execution_count": 39,
   "id": "63ebeb1b",
   "metadata": {},
   "outputs": [
    {
     "data": {
      "text/plain": [
       "RandomForestRegressor(random_state=42)"
      ]
     },
     "execution_count": 39,
     "metadata": {},
     "output_type": "execute_result"
    }
   ],
   "source": [
    "random_forest.fit(X_train, y_train)"
   ]
  },
  {
   "cell_type": "code",
   "execution_count": 40,
   "id": "44033ea2",
   "metadata": {},
   "outputs": [],
   "source": [
    "y_predict_rf = random_forest.predict(X_train)\n",
    "train_error_rf = mean_squared_error(y_train, y_predict_rf, squared = False)\n",
    "\n",
    "y_predict_rf = random_forest.predict(X_test)\n",
    "test_error_rf = mean_squared_error(y_test, y_predict_rf, squared = False)\n",
    "\n",
    "y_predict_rf = random_forest.predict(X_train)\n",
    "r2_rf = r2_score(y_train, y_predict_rf)"
   ]
  },
  {
   "cell_type": "code",
   "execution_count": 41,
   "id": "c1be72d1",
   "metadata": {},
   "outputs": [
    {
     "name": "stdout",
     "output_type": "stream",
     "text": [
      "RANDOM FOREST\n",
      "Train Error     : 57.75571879548165\n",
      "Test Error      : 154.36893753359774\n",
      "R2              : 0.9567441374542804\n"
     ]
    }
   ],
   "source": [
    "print('RANDOM FOREST')\n",
    "print('Train Error     :', train_error_rf) \n",
    "print('Test Error      :', test_error_rf)\n",
    "print('R2              :' , r2_rf)"
   ]
  },
  {
   "cell_type": "code",
   "execution_count": 42,
   "id": "c5feb758",
   "metadata": {},
   "outputs": [],
   "source": [
    "model_comparison['Random Forest'] = [train_error_rf.round(3), test_error_rf.round(3), r2_rf.round(3)]"
   ]
  },
  {
   "cell_type": "markdown",
   "id": "5c192cb3",
   "metadata": {},
   "source": [
    "### XGBOOST"
   ]
  },
  {
   "cell_type": "code",
   "execution_count": 43,
   "id": "2d014396",
   "metadata": {},
   "outputs": [],
   "source": [
    "xgboost = XGBRegressor(random_state = 42)"
   ]
  },
  {
   "cell_type": "code",
   "execution_count": 44,
   "id": "3b283869",
   "metadata": {},
   "outputs": [
    {
     "data": {
      "text/plain": [
       "XGBRegressor(base_score=None, booster=None, callbacks=None,\n",
       "             colsample_bylevel=None, colsample_bynode=None,\n",
       "             colsample_bytree=None, early_stopping_rounds=None,\n",
       "             enable_categorical=False, eval_metric=None, feature_types=None,\n",
       "             gamma=None, gpu_id=None, grow_policy=None, importance_type=None,\n",
       "             interaction_constraints=None, learning_rate=None, max_bin=None,\n",
       "             max_cat_threshold=None, max_cat_to_onehot=None,\n",
       "             max_delta_step=None, max_depth=None, max_leaves=None,\n",
       "             min_child_weight=None, missing=nan, monotone_constraints=None,\n",
       "             n_estimators=100, n_jobs=None, num_parallel_tree=None,\n",
       "             predictor=None, random_state=42, ...)"
      ]
     },
     "execution_count": 44,
     "metadata": {},
     "output_type": "execute_result"
    }
   ],
   "source": [
    "xgboost.fit(X_train, y_train)"
   ]
  },
  {
   "cell_type": "code",
   "execution_count": 45,
   "id": "02ccc1b6",
   "metadata": {},
   "outputs": [],
   "source": [
    "y_predict_xg = xgboost.predict(X_train)\n",
    "train_error_xg = mean_squared_error(y_train, y_predict_xg, squared = False)\n",
    "\n",
    "y_predict_xg = xgboost.predict(X_test)\n",
    "test_error_xg = mean_squared_error(y_test, y_predict_xg, squared = False)\n",
    "\n",
    "y_predict_xg = xgboost.predict(X_train)\n",
    "r2_xg = r2_score(y_train, y_predict_xg)"
   ]
  },
  {
   "cell_type": "code",
   "execution_count": 46,
   "id": "488f6a18",
   "metadata": {},
   "outputs": [
    {
     "name": "stdout",
     "output_type": "stream",
     "text": [
      "XGBOOST\n",
      "Train Error     : 83.69397074733641\n",
      "Test Error      : 155.07966170157522\n",
      "R2              : 0.909167067416725\n"
     ]
    }
   ],
   "source": [
    "print('XGBOOST')\n",
    "print('Train Error     :', train_error_xg) \n",
    "print('Test Error      :', test_error_xg)\n",
    "print('R2              :' , r2_xg)"
   ]
  },
  {
   "cell_type": "code",
   "execution_count": 47,
   "id": "3efbf87f",
   "metadata": {},
   "outputs": [],
   "source": [
    "model_comparison['Xgboost'] = [train_error_xg.round(3), test_error_xg.round(3), r2_xg.round(3)]"
   ]
  },
  {
   "cell_type": "markdown",
   "id": "545306bf",
   "metadata": {},
   "source": [
    " ### MLP (Multi-Layer Perceptron) Regressor"
   ]
  },
  {
   "cell_type": "code",
   "execution_count": 48,
   "id": "420ee487",
   "metadata": {},
   "outputs": [],
   "source": [
    "mlp = MLPRegressor(random_state = 42)"
   ]
  },
  {
   "cell_type": "code",
   "execution_count": 49,
   "id": "dd383b14",
   "metadata": {},
   "outputs": [
    {
     "data": {
      "text/plain": [
       "MLPRegressor(random_state=42)"
      ]
     },
     "execution_count": 49,
     "metadata": {},
     "output_type": "execute_result"
    }
   ],
   "source": [
    "mlp.fit(X_train, y_train)"
   ]
  },
  {
   "cell_type": "code",
   "execution_count": 50,
   "id": "59158482",
   "metadata": {},
   "outputs": [],
   "source": [
    "y_predict_mlp = mlp.predict(X_train)\n",
    "train_error_mlp = mean_squared_error(y_train, y_predict_mlp, squared = False)\n",
    "\n",
    "y_predict_mlp = mlp.predict(X_test)\n",
    "test_error_mlp = mean_squared_error(y_test, y_predict_mlp, squared = False)\n",
    "\n",
    "y_predict_mlp = mlp.predict(X_train)\n",
    "r2_mlp = r2_score(y_train, y_predict_mlp)"
   ]
  },
  {
   "cell_type": "code",
   "execution_count": 51,
   "id": "81934bc8",
   "metadata": {},
   "outputs": [],
   "source": [
    "model_comparison['MLP Regressor'] = [train_error_mlp.round(3), test_error_mlp.round(3), r2_mlp.round(3)]"
   ]
  },
  {
   "cell_type": "code",
   "execution_count": 52,
   "id": "e1b6907e",
   "metadata": {},
   "outputs": [
    {
     "data": {
      "text/html": [
       "<div>\n",
       "<style scoped>\n",
       "    .dataframe tbody tr th:only-of-type {\n",
       "        vertical-align: middle;\n",
       "    }\n",
       "\n",
       "    .dataframe tbody tr th {\n",
       "        vertical-align: top;\n",
       "    }\n",
       "\n",
       "    .dataframe thead th {\n",
       "        text-align: right;\n",
       "    }\n",
       "</style>\n",
       "<table border=\"1\" class=\"dataframe\">\n",
       "  <thead>\n",
       "    <tr style=\"text-align: right;\">\n",
       "      <th></th>\n",
       "      <th>0</th>\n",
       "      <th>1</th>\n",
       "      <th>2</th>\n",
       "    </tr>\n",
       "  </thead>\n",
       "  <tbody>\n",
       "    <tr>\n",
       "      <th>Ridge Regression</th>\n",
       "      <td>184.598</td>\n",
       "      <td>174.022</td>\n",
       "      <td>0.558</td>\n",
       "    </tr>\n",
       "    <tr>\n",
       "      <th>Decision Tree</th>\n",
       "      <td>143.471</td>\n",
       "      <td>169.301</td>\n",
       "      <td>0.733</td>\n",
       "    </tr>\n",
       "    <tr>\n",
       "      <th>Random Forest</th>\n",
       "      <td>57.756</td>\n",
       "      <td>154.369</td>\n",
       "      <td>0.957</td>\n",
       "    </tr>\n",
       "    <tr>\n",
       "      <th>Xgboost</th>\n",
       "      <td>83.694</td>\n",
       "      <td>155.080</td>\n",
       "      <td>0.909</td>\n",
       "    </tr>\n",
       "    <tr>\n",
       "      <th>MLP Regressor</th>\n",
       "      <td>188.712</td>\n",
       "      <td>177.921</td>\n",
       "      <td>0.538</td>\n",
       "    </tr>\n",
       "  </tbody>\n",
       "</table>\n",
       "</div>"
      ],
      "text/plain": [
       "                        0        1      2\n",
       "Ridge Regression  184.598  174.022  0.558\n",
       "Decision Tree     143.471  169.301  0.733\n",
       "Random Forest      57.756  154.369  0.957\n",
       "Xgboost            83.694  155.080  0.909\n",
       "MLP Regressor     188.712  177.921  0.538"
      ]
     },
     "execution_count": 52,
     "metadata": {},
     "output_type": "execute_result"
    }
   ],
   "source": [
    "model_comparison = pd.DataFrame(model_comparison).T\n",
    "model_comparison"
   ]
  },
  {
   "cell_type": "code",
   "execution_count": 53,
   "id": "2413d435",
   "metadata": {},
   "outputs": [
    {
     "data": {
      "text/html": [
       "<div>\n",
       "<style scoped>\n",
       "    .dataframe tbody tr th:only-of-type {\n",
       "        vertical-align: middle;\n",
       "    }\n",
       "\n",
       "    .dataframe tbody tr th {\n",
       "        vertical-align: top;\n",
       "    }\n",
       "\n",
       "    .dataframe thead th {\n",
       "        text-align: right;\n",
       "    }\n",
       "</style>\n",
       "<table border=\"1\" class=\"dataframe\">\n",
       "  <thead>\n",
       "    <tr style=\"text-align: right;\">\n",
       "      <th></th>\n",
       "      <th>Train Error</th>\n",
       "      <th>Test Error</th>\n",
       "      <th>R2 Score</th>\n",
       "    </tr>\n",
       "  </thead>\n",
       "  <tbody>\n",
       "    <tr>\n",
       "      <th>Ridge Regression</th>\n",
       "      <td>184.598</td>\n",
       "      <td>174.022</td>\n",
       "      <td>0.558</td>\n",
       "    </tr>\n",
       "    <tr>\n",
       "      <th>Decision Tree</th>\n",
       "      <td>143.471</td>\n",
       "      <td>169.301</td>\n",
       "      <td>0.733</td>\n",
       "    </tr>\n",
       "    <tr>\n",
       "      <th>Random Forest</th>\n",
       "      <td>57.756</td>\n",
       "      <td>154.369</td>\n",
       "      <td>0.957</td>\n",
       "    </tr>\n",
       "    <tr>\n",
       "      <th>Xgboost</th>\n",
       "      <td>83.694</td>\n",
       "      <td>155.080</td>\n",
       "      <td>0.909</td>\n",
       "    </tr>\n",
       "    <tr>\n",
       "      <th>MLP Regressor</th>\n",
       "      <td>188.712</td>\n",
       "      <td>177.921</td>\n",
       "      <td>0.538</td>\n",
       "    </tr>\n",
       "  </tbody>\n",
       "</table>\n",
       "</div>"
      ],
      "text/plain": [
       "                  Train Error  Test Error  R2 Score\n",
       "Ridge Regression      184.598     174.022     0.558\n",
       "Decision Tree         143.471     169.301     0.733\n",
       "Random Forest          57.756     154.369     0.957\n",
       "Xgboost                83.694     155.080     0.909\n",
       "MLP Regressor         188.712     177.921     0.538"
      ]
     },
     "execution_count": 53,
     "metadata": {},
     "output_type": "execute_result"
    }
   ],
   "source": [
    "model_comparison.columns = ['Train Error', 'Test Error', 'R2 Score']\n",
    "model_comparison"
   ]
  },
  {
   "cell_type": "code",
   "execution_count": 54,
   "id": "4d5aff1c",
   "metadata": {},
   "outputs": [
    {
     "data": {
      "text/html": [
       "<div>\n",
       "<style scoped>\n",
       "    .dataframe tbody tr th:only-of-type {\n",
       "        vertical-align: middle;\n",
       "    }\n",
       "\n",
       "    .dataframe tbody tr th {\n",
       "        vertical-align: top;\n",
       "    }\n",
       "\n",
       "    .dataframe thead th {\n",
       "        text-align: right;\n",
       "    }\n",
       "</style>\n",
       "<table border=\"1\" class=\"dataframe\">\n",
       "  <thead>\n",
       "    <tr style=\"text-align: right;\">\n",
       "      <th></th>\n",
       "      <th>Train Error</th>\n",
       "      <th>Test Error</th>\n",
       "      <th>R2 Score</th>\n",
       "      <th>Model</th>\n",
       "    </tr>\n",
       "  </thead>\n",
       "  <tbody>\n",
       "    <tr>\n",
       "      <th>Ridge Regression</th>\n",
       "      <td>184.598</td>\n",
       "      <td>174.022</td>\n",
       "      <td>0.558</td>\n",
       "      <td>Ridge Regression</td>\n",
       "    </tr>\n",
       "    <tr>\n",
       "      <th>Decision Tree</th>\n",
       "      <td>143.471</td>\n",
       "      <td>169.301</td>\n",
       "      <td>0.733</td>\n",
       "      <td>Decision Tree</td>\n",
       "    </tr>\n",
       "    <tr>\n",
       "      <th>Random Forest</th>\n",
       "      <td>57.756</td>\n",
       "      <td>154.369</td>\n",
       "      <td>0.957</td>\n",
       "      <td>Random Forest</td>\n",
       "    </tr>\n",
       "    <tr>\n",
       "      <th>Xgboost</th>\n",
       "      <td>83.694</td>\n",
       "      <td>155.080</td>\n",
       "      <td>0.909</td>\n",
       "      <td>Xgboost</td>\n",
       "    </tr>\n",
       "    <tr>\n",
       "      <th>MLP Regressor</th>\n",
       "      <td>188.712</td>\n",
       "      <td>177.921</td>\n",
       "      <td>0.538</td>\n",
       "      <td>MLP Regressor</td>\n",
       "    </tr>\n",
       "  </tbody>\n",
       "</table>\n",
       "</div>"
      ],
      "text/plain": [
       "                  Train Error  Test Error  R2 Score             Model\n",
       "Ridge Regression      184.598     174.022     0.558  Ridge Regression\n",
       "Decision Tree         143.471     169.301     0.733     Decision Tree\n",
       "Random Forest          57.756     154.369     0.957     Random Forest\n",
       "Xgboost                83.694     155.080     0.909           Xgboost\n",
       "MLP Regressor         188.712     177.921     0.538     MLP Regressor"
      ]
     },
     "execution_count": 54,
     "metadata": {},
     "output_type": "execute_result"
    }
   ],
   "source": [
    "model_comparison['Model'] = ['Ridge Regression', 'Decision Tree', 'Random Forest', 'Xgboost', 'MLP Regressor']\n",
    "model_comparison"
   ]
  },
  {
   "cell_type": "code",
   "execution_count": 55,
   "id": "0b38b5aa",
   "metadata": {},
   "outputs": [
    {
     "data": {
      "image/png": "[encoded data removed]",
      "text/plain": [
       "<Figure size 864x576 with 3 Axes>"
      ]
     },
     "metadata": {
      "needs_background": "light"
     },
     "output_type": "display_data"
    }
   ],
   "source": [
    "df_train_error = model_comparison[['Model', 'Train Error']]\n",
    "df_test_error = model_comparison[['Model' , 'Test Error']]\n",
    "\n",
    "# Create a figure and subplots \n",
    "\n",
    "fig, (ax2, ax3, ax4) = plt.subplots(1, 3, figsize = (12,8))\n",
    "\n",
    "# Create the first graph \n",
    "\n",
    "model_comparison.plot(kind = 'barh', x = 'Model', y = 'R2 Score', ax = ax2, legend = False)\n",
    "ax2.set_xlabel('R Squared')\n",
    "ax2.set_ylabel('Model')\n",
    "ax2.set_title('R Squared')\n",
    "\n",
    "# Create the second graph \n",
    "\n",
    "df_train_error.plot(kind = 'barh', x = 'Model', y = 'Train Error', color = 'red', ax = ax3, legend = False)\n",
    "ax3.set_xlabel('Train Error')\n",
    "ax3.set_ylabel('Model')\n",
    "ax3.set_title('Train Error')\n",
    "\n",
    "# Create the third graph \n",
    "\n",
    "df_test_error.plot(kind = 'barh', x = 'Model', y = 'Test Error', color = 'purple', ax = ax4, legend = False)\n",
    "ax4.set_xlabel('Test Error')\n",
    "ax4.set_ylabel('Model')\n",
    "ax4.set_title('Test Error')\n",
    "\n",
    "# Fit the figure\n",
    "\n",
    "plt.tight_layout()\n",
    "\n",
    "\n",
    "plt.show()"
   ]
  },
  {
   "cell_type": "code",
   "execution_count": 56,
   "id": "d9fc5535",
   "metadata": {},
   "outputs": [
    {
     "data": {
      "text/html": [
       "<div>\n",
       "<style scoped>\n",
       "    .dataframe tbody tr th:only-of-type {\n",
       "        vertical-align: middle;\n",
       "    }\n",
       "\n",
       "    .dataframe tbody tr th {\n",
       "        vertical-align: top;\n",
       "    }\n",
       "\n",
       "    .dataframe thead th {\n",
       "        text-align: right;\n",
       "    }\n",
       "</style>\n",
       "<table border=\"1\" class=\"dataframe\">\n",
       "  <thead>\n",
       "    <tr style=\"text-align: right;\">\n",
       "      <th></th>\n",
       "      <th>Train Error</th>\n",
       "      <th>Test Error</th>\n",
       "      <th>R2 Score</th>\n",
       "      <th>Model</th>\n",
       "    </tr>\n",
       "  </thead>\n",
       "  <tbody>\n",
       "    <tr>\n",
       "      <th>Random Forest</th>\n",
       "      <td>57.756</td>\n",
       "      <td>154.369</td>\n",
       "      <td>0.957</td>\n",
       "      <td>Random Forest</td>\n",
       "    </tr>\n",
       "    <tr>\n",
       "      <th>Xgboost</th>\n",
       "      <td>83.694</td>\n",
       "      <td>155.080</td>\n",
       "      <td>0.909</td>\n",
       "      <td>Xgboost</td>\n",
       "    </tr>\n",
       "    <tr>\n",
       "      <th>Decision Tree</th>\n",
       "      <td>143.471</td>\n",
       "      <td>169.301</td>\n",
       "      <td>0.733</td>\n",
       "      <td>Decision Tree</td>\n",
       "    </tr>\n",
       "    <tr>\n",
       "      <th>Ridge Regression</th>\n",
       "      <td>184.598</td>\n",
       "      <td>174.022</td>\n",
       "      <td>0.558</td>\n",
       "      <td>Ridge Regression</td>\n",
       "    </tr>\n",
       "    <tr>\n",
       "      <th>MLP Regressor</th>\n",
       "      <td>188.712</td>\n",
       "      <td>177.921</td>\n",
       "      <td>0.538</td>\n",
       "      <td>MLP Regressor</td>\n",
       "    </tr>\n",
       "  </tbody>\n",
       "</table>\n",
       "</div>"
      ],
      "text/plain": [
       "                  Train Error  Test Error  R2 Score             Model\n",
       "Random Forest          57.756     154.369     0.957     Random Forest\n",
       "Xgboost                83.694     155.080     0.909           Xgboost\n",
       "Decision Tree         143.471     169.301     0.733     Decision Tree\n",
       "Ridge Regression      184.598     174.022     0.558  Ridge Regression\n",
       "MLP Regressor         188.712     177.921     0.538     MLP Regressor"
      ]
     },
     "execution_count": 56,
     "metadata": {},
     "output_type": "execute_result"
    }
   ],
   "source": [
    "# Highest R Squared\n",
    "\n",
    "model_comparison.sort_values(by = 'R2 Score', ascending = False)"
   ]
  },
  {
   "cell_type": "code",
   "execution_count": 57,
   "id": "8587cd7c",
   "metadata": {},
   "outputs": [
    {
     "data": {
      "text/html": [
       "<div>\n",
       "<style scoped>\n",
       "    .dataframe tbody tr th:only-of-type {\n",
       "        vertical-align: middle;\n",
       "    }\n",
       "\n",
       "    .dataframe tbody tr th {\n",
       "        vertical-align: top;\n",
       "    }\n",
       "\n",
       "    .dataframe thead th {\n",
       "        text-align: right;\n",
       "    }\n",
       "</style>\n",
       "<table border=\"1\" class=\"dataframe\">\n",
       "  <thead>\n",
       "    <tr style=\"text-align: right;\">\n",
       "      <th></th>\n",
       "      <th>Train Error</th>\n",
       "      <th>Test Error</th>\n",
       "      <th>R2 Score</th>\n",
       "      <th>Model</th>\n",
       "    </tr>\n",
       "  </thead>\n",
       "  <tbody>\n",
       "    <tr>\n",
       "      <th>Random Forest</th>\n",
       "      <td>57.756</td>\n",
       "      <td>154.369</td>\n",
       "      <td>0.957</td>\n",
       "      <td>Random Forest</td>\n",
       "    </tr>\n",
       "    <tr>\n",
       "      <th>Xgboost</th>\n",
       "      <td>83.694</td>\n",
       "      <td>155.080</td>\n",
       "      <td>0.909</td>\n",
       "      <td>Xgboost</td>\n",
       "    </tr>\n",
       "    <tr>\n",
       "      <th>Decision Tree</th>\n",
       "      <td>143.471</td>\n",
       "      <td>169.301</td>\n",
       "      <td>0.733</td>\n",
       "      <td>Decision Tree</td>\n",
       "    </tr>\n",
       "    <tr>\n",
       "      <th>Ridge Regression</th>\n",
       "      <td>184.598</td>\n",
       "      <td>174.022</td>\n",
       "      <td>0.558</td>\n",
       "      <td>Ridge Regression</td>\n",
       "    </tr>\n",
       "    <tr>\n",
       "      <th>MLP Regressor</th>\n",
       "      <td>188.712</td>\n",
       "      <td>177.921</td>\n",
       "      <td>0.538</td>\n",
       "      <td>MLP Regressor</td>\n",
       "    </tr>\n",
       "  </tbody>\n",
       "</table>\n",
       "</div>"
      ],
      "text/plain": [
       "                  Train Error  Test Error  R2 Score             Model\n",
       "Random Forest          57.756     154.369     0.957     Random Forest\n",
       "Xgboost                83.694     155.080     0.909           Xgboost\n",
       "Decision Tree         143.471     169.301     0.733     Decision Tree\n",
       "Ridge Regression      184.598     174.022     0.558  Ridge Regression\n",
       "MLP Regressor         188.712     177.921     0.538     MLP Regressor"
      ]
     },
     "execution_count": 57,
     "metadata": {},
     "output_type": "execute_result"
    }
   ],
   "source": [
    "# Minimum Test Error\n",
    "\n",
    "model_comparison.sort_values(by = 'Test Error' , ascending = True)"
   ]
  },
  {
   "cell_type": "code",
   "execution_count": 58,
   "id": "764ad82b",
   "metadata": {},
   "outputs": [
    {
     "data": {
      "text/html": [
       "<div>\n",
       "<style scoped>\n",
       "    .dataframe tbody tr th:only-of-type {\n",
       "        vertical-align: middle;\n",
       "    }\n",
       "\n",
       "    .dataframe tbody tr th {\n",
       "        vertical-align: top;\n",
       "    }\n",
       "\n",
       "    .dataframe thead th {\n",
       "        text-align: right;\n",
       "    }\n",
       "</style>\n",
       "<table border=\"1\" class=\"dataframe\">\n",
       "  <thead>\n",
       "    <tr style=\"text-align: right;\">\n",
       "      <th></th>\n",
       "      <th>Train Error</th>\n",
       "      <th>Test Error</th>\n",
       "      <th>R2 Score</th>\n",
       "      <th>Model</th>\n",
       "    </tr>\n",
       "  </thead>\n",
       "  <tbody>\n",
       "    <tr>\n",
       "      <th>Random Forest</th>\n",
       "      <td>57.756</td>\n",
       "      <td>154.369</td>\n",
       "      <td>0.957</td>\n",
       "      <td>Random Forest</td>\n",
       "    </tr>\n",
       "    <tr>\n",
       "      <th>Xgboost</th>\n",
       "      <td>83.694</td>\n",
       "      <td>155.080</td>\n",
       "      <td>0.909</td>\n",
       "      <td>Xgboost</td>\n",
       "    </tr>\n",
       "    <tr>\n",
       "      <th>Decision Tree</th>\n",
       "      <td>143.471</td>\n",
       "      <td>169.301</td>\n",
       "      <td>0.733</td>\n",
       "      <td>Decision Tree</td>\n",
       "    </tr>\n",
       "    <tr>\n",
       "      <th>Ridge Regression</th>\n",
       "      <td>184.598</td>\n",
       "      <td>174.022</td>\n",
       "      <td>0.558</td>\n",
       "      <td>Ridge Regression</td>\n",
       "    </tr>\n",
       "    <tr>\n",
       "      <th>MLP Regressor</th>\n",
       "      <td>188.712</td>\n",
       "      <td>177.921</td>\n",
       "      <td>0.538</td>\n",
       "      <td>MLP Regressor</td>\n",
       "    </tr>\n",
       "  </tbody>\n",
       "</table>\n",
       "</div>"
      ],
      "text/plain": [
       "                  Train Error  Test Error  R2 Score             Model\n",
       "Random Forest          57.756     154.369     0.957     Random Forest\n",
       "Xgboost                83.694     155.080     0.909           Xgboost\n",
       "Decision Tree         143.471     169.301     0.733     Decision Tree\n",
       "Ridge Regression      184.598     174.022     0.558  Ridge Regression\n",
       "MLP Regressor         188.712     177.921     0.538     MLP Regressor"
      ]
     },
     "execution_count": 58,
     "metadata": {},
     "output_type": "execute_result"
    }
   ],
   "source": [
    "# Minimum Train Error\n",
    "\n",
    "model_comparison.sort_values(by = 'Train Error', ascending = True)"
   ]
  },
  {
   "cell_type": "markdown",
   "id": "f2bfdcb7",
   "metadata": {},
   "source": [
    "It seems as the Random Forest algorithm has the best performance. Let's implement a grid search to perform model tuning and find the best hyperparameters for the model. We'll start by training and evaluating the model with its default parameters."
   ]
  },
  {
   "cell_type": "markdown",
   "id": "4e48ad85",
   "metadata": {},
   "source": [
    "## Question 3"
   ]
  },
  {
   "cell_type": "markdown",
   "id": "566f19ce",
   "metadata": {},
   "source": [
    "3. Show with some X-validation the power of your model and comment the results."
   ]
  },
  {
   "cell_type": "markdown",
   "id": "d119d68a",
   "metadata": {},
   "source": [
    "### Grid Search in Random Forest"
   ]
  },
  {
   "cell_type": "code",
   "execution_count": 59,
   "id": "19de42f1",
   "metadata": {},
   "outputs": [
    {
     "name": "stdout",
     "output_type": "stream",
     "text": [
      "RANDOM FOREST\n",
      "Train Error     : 57.756\n",
      "Test Error      : 154.369\n",
      "R2              : 0.957\n"
     ]
    }
   ],
   "source": [
    "X = result.drop(columns = ['price'])\n",
    "y = result['price']\n",
    "\n",
    "X_train, X_test, y_train, y_test = train_test_split(X, y, test_size = 0.2, random_state = 42)\n",
    "\n",
    "model = RandomForestRegressor(random_state = 42)\n",
    "\n",
    "model_name = 'Random Forest'\n",
    "\n",
    "model.fit(X_train, y_train)\n",
    "\n",
    "y_predict = random_forest.predict(X_train)\n",
    "train_error = mean_squared_error(y_train, y_predict, squared = False)\n",
    "\n",
    "y_predict = random_forest.predict(X_test)\n",
    "test_error = mean_squared_error(y_test, y_predict, squared = False)\n",
    "\n",
    "y_predict = random_forest.predict(X_train)\n",
    "r2 = r2_score(y_train, y_predict)\n",
    "\n",
    "print('RANDOM FOREST')\n",
    "print('Train Error     :', train_error.round(3)) \n",
    "print('Test Error      :', test_error.round(3))\n",
    "print('R2              :' , r2.round(3))"
   ]
  },
  {
   "cell_type": "code",
   "execution_count": 60,
   "id": "a23760b7",
   "metadata": {},
   "outputs": [
    {
     "data": {
      "text/plain": [
       "{'bootstrap': True,\n",
       " 'ccp_alpha': 0.0,\n",
       " 'criterion': 'squared_error',\n",
       " 'max_depth': None,\n",
       " 'max_features': 'auto',\n",
       " 'max_leaf_nodes': None,\n",
       " 'max_samples': None,\n",
       " 'min_impurity_decrease': 0.0,\n",
       " 'min_samples_leaf': 1,\n",
       " 'min_samples_split': 2,\n",
       " 'min_weight_fraction_leaf': 0.0,\n",
       " 'n_estimators': 100,\n",
       " 'n_jobs': None,\n",
       " 'oob_score': False,\n",
       " 'random_state': 42,\n",
       " 'verbose': 0,\n",
       " 'warm_start': False}"
      ]
     },
     "execution_count": 60,
     "metadata": {},
     "output_type": "execute_result"
    }
   ],
   "source": [
    "# Look at the default parameters of this fitted Random Forest model.\n",
    "\n",
    "model.get_params()"
   ]
  },
  {
   "cell_type": "code",
   "execution_count": 61,
   "id": "578f9313",
   "metadata": {},
   "outputs": [
    {
     "data": {
      "text/plain": [
       "dict_keys(['explained_variance', 'r2', 'max_error', 'neg_median_absolute_error', 'neg_mean_absolute_error', 'neg_mean_absolute_percentage_error', 'neg_mean_squared_error', 'neg_mean_squared_log_error', 'neg_root_mean_squared_error', 'neg_mean_poisson_deviance', 'neg_mean_gamma_deviance', 'accuracy', 'top_k_accuracy', 'roc_auc', 'roc_auc_ovr', 'roc_auc_ovo', 'roc_auc_ovr_weighted', 'roc_auc_ovo_weighted', 'balanced_accuracy', 'average_precision', 'neg_log_loss', 'neg_brier_score', 'adjusted_rand_score', 'rand_score', 'homogeneity_score', 'completeness_score', 'v_measure_score', 'mutual_info_score', 'adjusted_mutual_info_score', 'normalized_mutual_info_score', 'fowlkes_mallows_score', 'precision', 'precision_macro', 'precision_micro', 'precision_samples', 'precision_weighted', 'recall', 'recall_macro', 'recall_micro', 'recall_samples', 'recall_weighted', 'f1', 'f1_macro', 'f1_micro', 'f1_samples', 'f1_weighted', 'jaccard', 'jaccard_macro', 'jaccard_micro', 'jaccard_samples', 'jaccard_weighted'])"
      ]
     },
     "execution_count": 61,
     "metadata": {},
     "output_type": "execute_result"
    }
   ],
   "source": [
    "# Look at what are the available metrics we could use for our grid search.\n",
    "\n",
    "sklearn.metrics.SCORERS.keys()"
   ]
  },
  {
   "cell_type": "code",
   "execution_count": 62,
   "id": "2baa7808",
   "metadata": {},
   "outputs": [],
   "source": [
    "# Select mean squared error as a scoring metric. \n",
    "# We will only add a few options because once the number of parameter options increases, \n",
    "# the time of the grid search model will increase.\n",
    "\n",
    "from sklearn.model_selection import GridSearchCV\n",
    "\n",
    "# Create the parameter grid based on the results of random search\n",
    "\n",
    "param_grid = {\n",
    "    'bootstrap': [True],\n",
    "    'ccp_alpha' : [0.0],\n",
    "    'criterion': ['squared_error'],\n",
    "    'max_depth': [None],    \n",
    "    'max_features': ['auto'],\n",
    "    'max_leaf_nodes' : [None],\n",
    "    'max_samples' : [None],\n",
    "    'min_impurity_decrease' : [0.0],\n",
    "    'min_samples_leaf': [1],\n",
    "    'min_samples_split': [2],\n",
    "    'min_weight_fraction_leaf' : [0.0],\n",
    "    'n_estimators': [50, 500, 700,],\n",
    "    'n_jobs' : [None],\n",
    "    'oob_score' :[True, False],\n",
    "    'random_state' : [42],\n",
    "    'verbose' : [0],\n",
    "    'warm_start' : [True, False],\n",
    "}\n",
    "\n",
    "# Create a based model\n",
    "\n",
    "random_forest = RandomForestRegressor()\n",
    "\n",
    "# Instantiate the grid search model\n",
    "\n",
    "grid_search = GridSearchCV(estimator = random_forest, param_grid = param_grid, cv = 3, n_jobs = -1, verbose = 0,\n",
    "                          scoring = 'neg_mean_squared_error')"
   ]
  },
  {
   "cell_type": "code",
   "execution_count": null,
   "id": "519fc13f",
   "metadata": {},
   "outputs": [],
   "source": [
    "# Now, we will add a timer before and end of this code to measure the time spent.\n",
    "\n",
    "import time\n",
    "\n",
    "start = time.time()\n",
    "grid_search.fit(X_train, y_train)\n",
    "\n",
    "end = time.time()\n",
    "\n",
    "elapsed_time_seconds = end - start\n",
    "\n",
    "elapsed_time = (elapsed_time_seconds) / 60\n",
    "\n",
    "elapsed_time_seconds = round(elapsed_time_seconds,2)\n",
    "\n",
    "elapsed_time = round(elapsed_time,2)\n",
    "\n",
    "print('Execution Time : ', elapsed_time_seconds, ' seconds which is : ', elapsed_time, ' minutes.')"
   ]
  },
  {
   "cell_type": "markdown",
   "id": "b8017260",
   "metadata": {},
   "source": [
    "We calculate 36 fits and the result will be printed in 100.41 seconds.\n",
    "\n",
    "Here, we will store the set of the best parameters as best_params."
   ]
  },
  {
   "cell_type": "code",
   "execution_count": null,
   "id": "00931a48",
   "metadata": {},
   "outputs": [],
   "source": [
    "best_params = grid_search.best_params_\n",
    "best_params"
   ]
  },
  {
   "cell_type": "code",
   "execution_count": null,
   "id": "cb2ed8c4",
   "metadata": {},
   "outputs": [],
   "source": [
    "X = result.drop(columns = ['price'])\n",
    "y = result['price']\n",
    "\n",
    "X_train, X_test, y_train, y_test = train_test_split(X, y, test_size = 0.2, random_state = 42)\n",
    "\n",
    "model = RandomForestRegressor()\n",
    "\n",
    "model.set_params(**best_params)\n",
    "\n",
    "model_name = 'Random Forest'\n",
    "\n",
    "model.fit(X_train, y_train)\n",
    "\n",
    "y_predict_grid = model.predict(X_train)\n",
    "train_error_grid = mean_squared_error(y_train, y_predict_grid, squared = False)\n",
    "\n",
    "y_predict_grid = model.predict(X_test)\n",
    "test_error_grid = mean_squared_error(y_test, y_predict_grid, squared = False)\n",
    "\n",
    "y_predict_grid = model.predict(X_train)\n",
    "r2_grid = r2_score(y_train, y_predict_grid)\n",
    "\n",
    "print('RANDOM FOREST')\n",
    "print('Train Error     :', train_error_grid.round(3)) \n",
    "print('Test Error      :', test_error_grid.round(3))\n",
    "print('R2              :' , r2_grid.round(3))"
   ]
  },
  {
   "cell_type": "markdown",
   "id": "da279b5c",
   "metadata": {},
   "source": [
    "Scaling is used to increase the model's performance. We will compare 3 different scalings: min-max, standard scaler, and robust scaler."
   ]
  },
  {
   "cell_type": "markdown",
   "id": "1ea7e813",
   "metadata": {},
   "source": [
    "### Min-Max Scaling"
   ]
  },
  {
   "cell_type": "code",
   "execution_count": null,
   "id": "21328625",
   "metadata": {},
   "outputs": [],
   "source": [
    "from sklearn.preprocessing import MinMaxScaler\n",
    "\n",
    "X = result.drop(columns = ['price'])\n",
    "y = result['price']\n",
    "\n",
    "# asanyarray() function is used when we want to convert the input to an array but it passes ndarray subclasses through.\n",
    "\n",
    "y = np.asanyarray(y).reshape(-1, 1)"
   ]
  },
  {
   "cell_type": "code",
   "execution_count": null,
   "id": "e1e006f6",
   "metadata": {},
   "outputs": [],
   "source": [
    "X_scaler = MinMaxScaler()\n",
    "X_scaler.fit(X = X, y = y)\n",
    "X_scaled = X_scaler.transform(X)\n",
    "\n",
    "y_scaler = MinMaxScaler()\n",
    "y_scaler.fit(y)\n",
    "y_scaled = y_scaler.transform(y)"
   ]
  },
  {
   "cell_type": "code",
   "execution_count": null,
   "id": "ae2d9979",
   "metadata": {},
   "outputs": [],
   "source": [
    "X_train_scaled, X_test_scaled, y_train_scaled, y_test_scaled = train_test_split(X_scaled, y_scaled, test_size = 0.20, \n",
    "                                                                               random_state = 42)"
   ]
  },
  {
   "cell_type": "markdown",
   "id": "ca332ac9",
   "metadata": {},
   "source": [
    "inverse_transform() = Scaler remembers that you passed it a 2D input with two columns, and works under the assumption that all subsequent data passed to it will have the same number of features/columns."
   ]
  },
  {
   "cell_type": "code",
   "execution_count": null,
   "id": "c8462ef5",
   "metadata": {},
   "outputs": [],
   "source": [
    "model = RandomForestRegressor()\n",
    "model.set_params(**best_params)\n",
    "model.fit(X_train_scaled, y_train_scaled)\n",
    "\n",
    "y_predict_scaled = model.predict(X_train_scaled)\n",
    "\n",
    "y_predict_train_min_max = y_scaler.inverse_transform(y_predict_scaled.reshape(-1,1))\n",
    "\n",
    "rmse_error_train_min_max = mean_squared_error(y_train, y_predict_train_min_max[:,0], squared = False)\n",
    "\n",
    "r2_min_max = r2_score(y_train, y_predict_train_min_max)"
   ]
  },
  {
   "cell_type": "code",
   "execution_count": null,
   "id": "8197c4fa",
   "metadata": {},
   "outputs": [],
   "source": [
    "model = RandomForestRegressor()\n",
    "model.set_params(**best_params)\n",
    "model.fit(X_test_scaled, y_test_scaled)\n",
    "\n",
    "y_predict_scaled_test = model.predict(X_test_scaled)\n",
    "\n",
    "y_predict_test_min_max = y_scaler.inverse_transform(y_predict_scaled_test.reshape(-1,1))\n",
    "\n",
    "rmse_error_test_min_max = mean_squared_error(y_test, y_predict_test_min_max[:,0], squared = False)"
   ]
  },
  {
   "cell_type": "code",
   "execution_count": null,
   "id": "822740ef",
   "metadata": {},
   "outputs": [],
   "source": [
    "print('Normalized Train Error = ''{}'.format(rmse_error_train_min_max))\n",
    "print(\"Normalized Test error = \"'{}'.format(rmse_error_test_min_max))\n",
    "print(\"Normalized r2_score = \"'{}'.format(r2_min_max))"
   ]
  },
  {
   "cell_type": "markdown",
   "id": "a3a0238c",
   "metadata": {},
   "source": [
    "### Standard Scaling"
   ]
  },
  {
   "cell_type": "code",
   "execution_count": null,
   "id": "16cd1438",
   "metadata": {},
   "outputs": [],
   "source": [
    "from sklearn.preprocessing import StandardScaler\n",
    "\n",
    "X_scaler = StandardScaler()\n",
    "X_scaler.fit(X = X, y = y)\n",
    "X_scaled = X_scaler.transform(X)\n",
    "\n",
    "y_scaler = StandardScaler()\n",
    "y_scaler.fit(y)\n",
    "y_scaled = y_scaler.transform(y)"
   ]
  },
  {
   "cell_type": "code",
   "execution_count": null,
   "id": "57991036",
   "metadata": {},
   "outputs": [],
   "source": [
    "X_train_scaled, X_test_scaled, y_train_scaled, y_test_scaled = train_test_split(X_scaled, y_scaled, test_size = 0.2, \n",
    "                                                                               random_state = 42) "
   ]
  },
  {
   "cell_type": "code",
   "execution_count": null,
   "id": "b88db76d",
   "metadata": {},
   "outputs": [],
   "source": [
    "model = RandomForestRegressor()\n",
    "model.set_params(**best_params)\n",
    "model.fit(X_train_scaled, y_train_scaled)\n",
    "\n",
    "y_predict_scaled = model.predict(X_train_scaled)\n",
    "\n",
    "y_predict_train_standard = y_scaler.inverse_transform(y_predict_scaled.reshape(-1, 1))\n",
    "\n",
    "rmse_error_train_standard = mean_squared_error(y_train, y_predict_train_standard[:,0], squared = False)\n",
    "\n",
    "r2_standard = r2_score(y_train, y_predict_train_standard)"
   ]
  },
  {
   "cell_type": "code",
   "execution_count": null,
   "id": "2a7b1cb4",
   "metadata": {},
   "outputs": [],
   "source": [
    "model = RandomForestRegressor()\n",
    "model.set_params(**best_params)\n",
    "model.fit(X_test_scaled, y_test_scaled)\n",
    "\n",
    "y_predict_scaled_test = model.predict(X_test_scaled)\n",
    "\n",
    "y_predict_test_standard = y_scaler.inverse_transform(y_predict_scaled_test.reshape(-1,1))\n",
    "\n",
    "rmse_error_test_standard = mean_squared_error(y_test, y_predict_test_standard[:,0],squared = False)"
   ]
  },
  {
   "cell_type": "code",
   "execution_count": null,
   "id": "17bb75a8",
   "metadata": {},
   "outputs": [],
   "source": [
    "print(\"Normalized Train error = \"'{}'.format(rmse_error_train_standard))\n",
    "print(\"Normalized Test error = \"'{}'.format(rmse_error_test_standard))\n",
    "print(\"Normalized r2_score = \"'{}'.format(r2_standard))"
   ]
  },
  {
   "cell_type": "markdown",
   "id": "5fbfdd8e",
   "metadata": {},
   "source": [
    "### Robust Scaling"
   ]
  },
  {
   "cell_type": "code",
   "execution_count": null,
   "id": "df9a1910",
   "metadata": {},
   "outputs": [],
   "source": [
    "from sklearn.preprocessing import RobustScaler\n",
    "\n",
    "X_scaler = RobustScaler()\n",
    "X_scaler.fit(X = X, y = y)\n",
    "X_scaled = X_scaler.transform(X)\n",
    "\n",
    "y_scaler = RobustScaler()\n",
    "y_scaler.fit(y)\n",
    "y_scaled = y_scaler.transform(y)"
   ]
  },
  {
   "cell_type": "code",
   "execution_count": null,
   "id": "75d97165",
   "metadata": {},
   "outputs": [],
   "source": [
    "X_train_scaled, X_test_scaled, y_train_scaled, y_test_scaled = train_test_split(X_scaled, y_scaled, test_size = 0.2, \n",
    "                                                                               random_state = 42) "
   ]
  },
  {
   "cell_type": "code",
   "execution_count": null,
   "id": "096e81a5",
   "metadata": {},
   "outputs": [],
   "source": [
    "model = RandomForestRegressor()\n",
    "model.set_params(**best_params)\n",
    "model.fit(X_train_scaled, y_train_scaled)\n",
    "\n",
    "y_predict_scaled = model.predict(X_train_scaled)\n",
    "\n",
    "y_predict_train_robust = y_scaler.inverse_transform(y_predict_scaled.reshape(-1,1))\n",
    "\n",
    "rmse_error_train_robust = mean_squared_error(y_train, y_predict_train_robust[:,0], squared = False)\n",
    "\n",
    "r2_robust = r2_score(y_train, y_predict_train_robust)"
   ]
  },
  {
   "cell_type": "code",
   "execution_count": null,
   "id": "76778f7c",
   "metadata": {},
   "outputs": [],
   "source": [
    "model = RandomForestRegressor()\n",
    "model.set_params(**best_params)\n",
    "model.fit(X_test_scaled, y_test_scaled)\n",
    "\n",
    "y_predict_scaled_test = model.predict(X_test_scaled)\n",
    "\n",
    "y_predict_test_robust = y_scaler.inverse_transform(y_predict_scaled_test.reshape(-1,1))\n",
    "\n",
    "rmse_error_test_robust = mean_squared_error(y_test, y_predict_test_robust[:,0], squared = False)"
   ]
  },
  {
   "cell_type": "code",
   "execution_count": null,
   "id": "21c84630",
   "metadata": {},
   "outputs": [],
   "source": [
    "print(\"Normalized Train error = \"'{}'.format(rmse_error_train_robust))\n",
    "print(\"Normalized Test error = \"'{}'.format(rmse_error_test_robust))\n",
    "print(\"Normalized Train r2_score = \"'{}'.format(r2_robust))"
   ]
  },
  {
   "cell_type": "code",
   "execution_count": null,
   "id": "b5211675",
   "metadata": {},
   "outputs": [],
   "source": [
    "pred_dict = {\n",
    "    \"Technique\": [\"Base Model\", \"Grid Search\", \"Min-Max Scaling\", \"Standard-Scaling\", \"Robust-Scaling\"], #min-max scaling, #standard scaling, #robust # grid search\n",
    "    \"Train Error\": [train_error, train_error_grid, rmse_error_train_min_max, rmse_error_train_standard, rmse_error_train_robust],\n",
    "    \"Test Error\": [test_error, test_error_grid, rmse_error_test_min_max, rmse_error_test_standard, rmse_error_test_robust],\n",
    "    \"R2\" : [r2, r2_grid, r2_min_max, r2_standard, r2_robust]\n",
    "}"
   ]
  },
  {
   "cell_type": "code",
   "execution_count": null,
   "id": "4a8341c5",
   "metadata": {},
   "outputs": [],
   "source": [
    "pred_data = pd.DataFrame(pred_dict)\n",
    "pred_data"
   ]
  },
  {
   "cell_type": "code",
   "execution_count": null,
   "id": "356bca43",
   "metadata": {},
   "outputs": [],
   "source": [
    "# Create a figure and subplots\n",
    "\n",
    "fig, (ax2, ax3, ax4) = plt.subplots(1, 3, figsize = (12,8))\n",
    "\n",
    "# Create the first graph\n",
    "\n",
    "pred_data.plot(kind = 'bar', x = 'Technique', y = 'R2', ax = ax2, legend = False)\n",
    "ax2.set_xlabel('R Squared')\n",
    "ax2.set_title('R Squared')\n",
    "ax2.tick_params(axis = 'x', labelrotation = 45)\n",
    "\n",
    "\n",
    "# Create the second graph\n",
    "\n",
    "pred_data.plot(kind='bar', x='Technique', y='Train Error', color='red', ax=ax3, legend=False)\n",
    "ax3.set_xlabel('Train Error')\n",
    "ax3.set_title('Train Error')\n",
    "ax3.tick_params(axis='x', labelrotation=45)\n",
    "\n",
    "\n",
    "# Create the second graph\n",
    "\n",
    "pred_data.plot(kind='bar', x='Technique', y='Test Error', color='green', ax=ax4, legend=False)\n",
    "ax4.set_xlabel('Test Error')\n",
    "ax4.set_title('Test Error')\n",
    "ax4.tick_params(axis='x', labelrotation=45)\n",
    "\n",
    "# Fit the figure\n",
    "plt.tight_layout()\n",
    "\n",
    "# Show the figure\n",
    "plt.show()"
   ]
  },
  {
   "cell_type": "markdown",
   "id": "291ac9f7",
   "metadata": {},
   "source": [
    "## Question 4"
   ]
  },
  {
   "cell_type": "markdown",
   "id": "e46f5949",
   "metadata": {},
   "source": [
    "4. Present us the results and the steps you have taken and also with some critical thinking and next steps."
   ]
  },
  {
   "cell_type": "markdown",
   "id": "323f88fd",
   "metadata": {},
   "source": [
    "Since we already tried different classical regression models, let's try a deep learning model to find out whether there will be any significant changes to performance or not."
   ]
  },
  {
   "cell_type": "code",
   "execution_count": 64,
   "id": "95806382",
   "metadata": {},
   "outputs": [],
   "source": [
    "y = result['price']\n",
    "X = result.drop(columns = 'price')"
   ]
  },
  {
   "cell_type": "code",
   "execution_count": 65,
   "id": "15be16fd",
   "metadata": {},
   "outputs": [],
   "source": [
    "X_train, X_test, y_train, y_test = train_test_split(X, y, test_size = 0.2,\n",
    "                                                   random_state = 42)"
   ]
  },
  {
   "cell_type": "markdown",
   "id": "ba066ae0",
   "metadata": {},
   "source": [
    "This code is creating a neural network model using the Sequential API from TensorFlow's tf.keras module.\n",
    "\n",
    "It has two dense layers, with the first one using the ReLU activation function.\n",
    "\n",
    "The model is then compiled with the Adam optimizer and a learning rate of 0.0001, as well as the Mean Squared Error loss function and the Mean Absolute Error (MAE) metric.\n",
    "\n",
    "The model is then fit to the training data for 100 epochs, with a batch size of 32 and validation data being the test data. The MAE and val_MAE are then plotted over the epochs, with the final MAE and val_MAE added as text labels at the end of the lines."
   ]
  },
  {
   "cell_type": "code",
   "execution_count": 66,
   "id": "9c7d6e79",
   "metadata": {},
   "outputs": [
    {
     "name": "stderr",
     "output_type": "stream",
     "text": [
      "2023-03-10 10:50:46.433668: I tensorflow/core/platform/cpu_feature_guard.cc:193] This TensorFlow binary is optimized with oneAPI Deep Neural Network Library (oneDNN) to use the following CPU instructions in performance-critical operations:  SSE4.1 SSE4.2\n",
      "To enable them in other operations, rebuild TensorFlow with the appropriate compiler flags.\n"
     ]
    }
   ],
   "source": [
    "import tensorflow as tf\n",
    "import matplotlib.pyplot as plt\n",
    "from tensorflow.keras import regularizers\n",
    "import time"
   ]
  },
  {
   "cell_type": "code",
   "execution_count": 71,
   "id": "b82afd4b",
   "metadata": {},
   "outputs": [
    {
     "name": "stdout",
     "output_type": "stream",
     "text": [
      "Epoch 1/30\n",
      "250/250 [==============================] - 1s 2ms/step - loss: 14786288.0000 - mean_absolute_error: 2980.0442 - val_loss: 5406878.0000 - val_mean_absolute_error: 1876.8650\n",
      "Epoch 2/30\n",
      "250/250 [==============================] - 0s 1ms/step - loss: 2065067.0000 - mean_absolute_error: 1107.4813 - val_loss: 433889.0938 - val_mean_absolute_error: 550.1557\n",
      "Epoch 3/30\n",
      "250/250 [==============================] - 0s 1ms/step - loss: 164782.2812 - mean_absolute_error: 296.1519 - val_loss: 63444.1484 - val_mean_absolute_error: 168.9222\n",
      "Epoch 4/30\n",
      "250/250 [==============================] - 0s 1ms/step - loss: 66842.5547 - mean_absolute_error: 169.1419 - val_loss: 57681.1875 - val_mean_absolute_error: 162.6282\n",
      "Epoch 5/30\n",
      "250/250 [==============================] - 0s 1ms/step - loss: 64150.4961 - mean_absolute_error: 165.5209 - val_loss: 55207.5234 - val_mean_absolute_error: 158.5852\n",
      "Epoch 6/30\n",
      "250/250 [==============================] - 0s 1ms/step - loss: 61075.4141 - mean_absolute_error: 160.2475 - val_loss: 50491.9766 - val_mean_absolute_error: 150.7039\n",
      "Epoch 7/30\n",
      "250/250 [==============================] - 0s 1ms/step - loss: 54953.3633 - mean_absolute_error: 150.3386 - val_loss: 46615.0742 - val_mean_absolute_error: 144.5667\n",
      "Epoch 8/30\n",
      "250/250 [==============================] - 0s 1ms/step - loss: 51909.2461 - mean_absolute_error: 145.6096 - val_loss: 44263.2539 - val_mean_absolute_error: 140.4110\n",
      "Epoch 9/30\n",
      "250/250 [==============================] - 0s 1ms/step - loss: 48381.7305 - mean_absolute_error: 141.9563 - val_loss: 40478.6602 - val_mean_absolute_error: 137.4483\n",
      "Epoch 10/30\n",
      "250/250 [==============================] - 0s 1ms/step - loss: 45550.3828 - mean_absolute_error: 138.4549 - val_loss: 40047.7188 - val_mean_absolute_error: 139.0731\n",
      "Epoch 11/30\n",
      "250/250 [==============================] - 0s 1ms/step - loss: 44919.7695 - mean_absolute_error: 138.2697 - val_loss: 39858.4062 - val_mean_absolute_error: 137.0483\n",
      "Epoch 12/30\n",
      "250/250 [==============================] - 0s 1ms/step - loss: 44555.0000 - mean_absolute_error: 138.1355 - val_loss: 39657.2969 - val_mean_absolute_error: 139.5814\n",
      "Epoch 13/30\n",
      "250/250 [==============================] - 0s 1ms/step - loss: 44332.9453 - mean_absolute_error: 138.4476 - val_loss: 39565.2969 - val_mean_absolute_error: 139.0337\n",
      "Epoch 14/30\n",
      "250/250 [==============================] - 0s 1ms/step - loss: 44199.3203 - mean_absolute_error: 138.4098 - val_loss: 39549.1172 - val_mean_absolute_error: 139.8262\n",
      "Epoch 15/30\n",
      "250/250 [==============================] - 0s 1ms/step - loss: 44128.1562 - mean_absolute_error: 138.8195 - val_loss: 39594.4336 - val_mean_absolute_error: 139.3151\n",
      "Epoch 16/30\n",
      "250/250 [==============================] - 0s 1ms/step - loss: 44067.1250 - mean_absolute_error: 138.9265 - val_loss: 39600.6172 - val_mean_absolute_error: 139.4921\n",
      "Epoch 17/30\n",
      "250/250 [==============================] - 0s 1ms/step - loss: 44016.8516 - mean_absolute_error: 139.0215 - val_loss: 39553.9609 - val_mean_absolute_error: 139.9637\n",
      "Epoch 18/30\n",
      "250/250 [==============================] - 0s 1ms/step - loss: 43959.6211 - mean_absolute_error: 139.0743 - val_loss: 39695.0508 - val_mean_absolute_error: 139.1951\n",
      "Epoch 19/30\n",
      "250/250 [==============================] - 0s 1ms/step - loss: 43942.5391 - mean_absolute_error: 139.0157 - val_loss: 39803.0938 - val_mean_absolute_error: 139.0349\n",
      "Epoch 20/30\n",
      "250/250 [==============================] - 0s 1ms/step - loss: 43905.1172 - mean_absolute_error: 138.9044 - val_loss: 39754.9844 - val_mean_absolute_error: 143.2312\n",
      "Epoch 21/30\n",
      "250/250 [==============================] - 0s 1ms/step - loss: 43899.8047 - mean_absolute_error: 139.4610 - val_loss: 39764.4492 - val_mean_absolute_error: 138.9676\n",
      "Epoch 22/30\n",
      "250/250 [==============================] - 0s 2ms/step - loss: 43818.1367 - mean_absolute_error: 138.8008 - val_loss: 39461.8906 - val_mean_absolute_error: 141.0821\n",
      "Epoch 23/30\n",
      "250/250 [==============================] - 0s 2ms/step - loss: 43804.3164 - mean_absolute_error: 138.8556 - val_loss: 39399.5430 - val_mean_absolute_error: 139.6774\n",
      "Epoch 24/30\n",
      "250/250 [==============================] - 0s 2ms/step - loss: 43789.7734 - mean_absolute_error: 138.8340 - val_loss: 39828.9414 - val_mean_absolute_error: 138.5436\n",
      "Epoch 25/30\n",
      "250/250 [==============================] - 0s 1ms/step - loss: 43716.5234 - mean_absolute_error: 138.6482 - val_loss: 39586.5938 - val_mean_absolute_error: 138.4423\n",
      "Epoch 26/30\n",
      "250/250 [==============================] - 0s 1ms/step - loss: 43676.5977 - mean_absolute_error: 138.5194 - val_loss: 39266.1211 - val_mean_absolute_error: 139.2838\n",
      "Epoch 27/30\n",
      "250/250 [==============================] - 0s 1ms/step - loss: 43644.2305 - mean_absolute_error: 138.3553 - val_loss: 39220.8594 - val_mean_absolute_error: 139.5676\n",
      "Epoch 28/30\n",
      "250/250 [==============================] - 0s 1ms/step - loss: 43563.6289 - mean_absolute_error: 138.2511 - val_loss: 39129.5859 - val_mean_absolute_error: 139.7963\n",
      "Epoch 29/30\n",
      "250/250 [==============================] - 0s 1ms/step - loss: 43540.2031 - mean_absolute_error: 138.3184 - val_loss: 39163.7578 - val_mean_absolute_error: 138.5893\n",
      "Epoch 30/30\n",
      "250/250 [==============================] - 0s 1ms/step - loss: 43577.4922 - mean_absolute_error: 138.3960 - val_loss: 39168.6016 - val_mean_absolute_error: 141.3198\n",
      "250/250 [==============================] - 0s 580us/step\n"
     ]
    }
   ],
   "source": [
    "start = time.time()\n",
    "\n",
    "tf.random.set_seed(42)\n",
    "\n",
    "# Define a new model with more layers\n",
    "\n",
    "model = tf.keras.models.Sequential([\n",
    "    tf.keras.layers.Dense(units = 64, activation = 'relu', input_shape = [X_train.shape[1]]),\n",
    "    tf.keras.layers.Dense(units = 1)\n",
    "])\n",
    "\n",
    "# Compile the model with a lower learning rate\n",
    "\n",
    "model.compile(optimizer = tf.keras.optimizers.Adam(learning_rate = 0.0001),\n",
    "             loss = tf.losses.MeanSquaredError(),\n",
    "             metrics = [tf.keras.metrics.MeanAbsoluteError()])\n",
    "\n",
    "# Fit the model to the training data\n",
    "\n",
    "history = model.fit(X_train, y_train, epochs = 30, batch_size = 32, verbose = 1,\n",
    "                   validation_data = (X_test, y_test))\n",
    "\n",
    "y_train_pred = model.predict(X_train)\n",
    "\n",
    "r2_first = r2_score(y_train, y_train_pred)\n",
    "\n",
    "# Select the MAE and val_MAE for the four desired epoch\n",
    "\n",
    "epoch_to_plot = [5, 10, 15, 20, 25, 30]\n",
    "\n",
    "mae_first = [history.history['mean_absolute_error'][epoch - 1] for epoch in epoch_to_plot]\n",
    "\n",
    "val_mae_first = [history.history['val_mean_absolute_error'][epoch -1] for epoch in epoch_to_plot] "
   ]
  },
  {
   "cell_type": "code",
   "execution_count": 72,
   "id": "6e60a753",
   "metadata": {},
   "outputs": [
    {
     "data": {
      "image/png": "[encoded data removed]",
      "text/plain": [
       "<Figure size 640x480 with 1 Axes>"
      ]
     },
     "metadata": {},
     "output_type": "display_data"
    },
    {
     "name": "stdout",
     "output_type": "stream",
     "text": [
      "Execution time: 159.73 seconds which is: 2.66 minutes.\n"
     ]
    }
   ],
   "source": [
    "# Plot the MAE \n",
    "\n",
    "plt.plot(epoch_to_plot, mae_first, 'b', label = f'Training MAE: {mae_first[-1]:.3f}')\n",
    "\n",
    "# Plot the val_MAE\n",
    "\n",
    "plt.plot(epochs_to_plot, val_mae_first, 'r', label=f'Test MAE: {val_mae_first[-1]:.3f}')\n",
    "plt.legend()\n",
    "plt.show()\n",
    "\n",
    "end = time.time()\n",
    "\n",
    "elapsed_time_seconds = end - start\n",
    "\n",
    "elapsed_time = (elapsed_time_seconds) / 60\n",
    "\n",
    "elapsed_time_seconds = round(elapsed_time_seconds,2)\n",
    "\n",
    "elapsed_time = round(elapsed_time,2)\n",
    "\n",
    "print('Execution time:', elapsed_time_seconds, 'seconds which is:', elapsed_time, 'minutes.' )\n"
   ]
  },
  {
   "cell_type": "markdown",
   "id": "da1b2531",
   "metadata": {},
   "source": [
    "Now at this stage, we will add more layers, to see the output.\n",
    "\n",
    "Also, we will increase the learning rate and the epochs, but this time we will select a verbose argument as zero to prevent the outcome to be printed to the console.\n",
    "\n",
    "Also, we will apply regularization"
   ]
  },
  {
   "cell_type": "code",
   "execution_count": 73,
   "id": "2fbf18ab",
   "metadata": {},
   "outputs": [],
   "source": [
    "from tensorflow.keras import regularizers"
   ]
  },
  {
   "cell_type": "code",
   "execution_count": 77,
   "id": "1fac3c88",
   "metadata": {},
   "outputs": [
    {
     "name": "stdout",
     "output_type": "stream",
     "text": [
      "250/250 [==============================] - 0s 627us/step\n"
     ]
    }
   ],
   "source": [
    "start = time.time()\n",
    "\n",
    "tf.random.set_seed(42)\n",
    "\n",
    "# Define a new model with more layers\n",
    "\n",
    "model = tf.keras.models.Sequential([\n",
    "    tf.keras.layers.Dense(units = 64, activation = 'relu', input_shape = [X_train.shape[1]],\n",
    "                         kernel_regularizer = regularizers.l2(0.01)),\n",
    "    tf.keras.layers.Dense(units = 32, activation = 'relu', kernel_regularizer = regularizers.l2(0.01)),\n",
    "    tf.keras.layers.Dense(units = 16, activation = 'relu', kernel_regularizer = regularizers.l2(0.01)),\n",
    "    tf.keras.layers.Dense(units = 8, activation = 'relu', kernel_regularizer = regularizers.l2(0.01)),\n",
    "    tf.keras.layers.Dense(units = 1, activation = 'relu', kernel_regularizer = regularizers.l2(0.01))   \n",
    "])\n",
    "\n",
    "# Compile the model with a lower learning rate\n",
    "\n",
    "model.compile(optimizer = tf.keras.optimizers.Adam(learning_rate = 0.0007),\n",
    "             loss = tf.losses.MeanSquaredError(),\n",
    "             metrics = [tf.metrics.MeanAbsoluteError()])\n",
    "\n",
    "# Fit the model to the training data\n",
    "\n",
    "history = model.fit(X_train, y_train, epochs = 1000, batch_size = 32, verbose = 0, \n",
    "                   validation_data = (X_test, y_test))\n",
    "\n",
    "y_train_pred = model.predict(X_train)\n",
    "\n",
    "r2_second = r2_score(y_train, y_train_pred)\n",
    "\n",
    "# Select the MAE and val_MAe for the four desired epochs\n",
    "\n",
    "epoch_to_plot = [100, 200, 300, 400, 500, 600, 700, 800, 900, 1000]\n",
    "\n",
    "mae_second = [history.history['mean_absolute_error'][epoch - 1] for epoch in epoch_to_plot]\n",
    "\n",
    "val_mae_second = [history.history['val_mean_absolute_error'][epoch - 1] for epoch in epoch_to_plot]"
   ]
  },
  {
   "cell_type": "code",
   "execution_count": 81,
   "id": "5156ee76",
   "metadata": {},
   "outputs": [
    {
     "data": {
      "image/png": "[encoded data removed]",
      "text/plain": [
       "<Figure size 640x480 with 1 Axes>"
      ]
     },
     "metadata": {},
     "output_type": "display_data"
    },
    {
     "name": "stdout",
     "output_type": "stream",
     "text": [
      "Execution time :  414.54  seconds which is :  6.91  minutes.\n"
     ]
    }
   ],
   "source": [
    "# Plot the MAE\n",
    "\n",
    "plt.plot(epoch_to_plot, mae_second, 'b', label = f'Training MAE: {mae_second[-1]:.3f}')\n",
    "\n",
    "# Plot the val_MAE\n",
    "\n",
    "plt.plot(epoch_to_plot, val_mae_second, 'r', label=f'Test MAE: {val_mae_second[-1]:.3f}')\n",
    "\n",
    "plt.legend()\n",
    "\n",
    "plt.show()\n",
    "\n",
    "end = time.time()\n",
    "\n",
    "elapsed_time_seconds = end - start\n",
    "\n",
    "elapsed_time = (elapsed_time_seconds) / 60\n",
    "\n",
    "elapsed_time_seconds = round(elapsed_time_seconds, 2)\n",
    "\n",
    "elapsed_time = round(elapsed_time, 2)\n",
    "\n",
    "print('Execution time : ', elapsed_time_seconds, ' seconds which is : ', elapsed_time, ' minutes.')"
   ]
  },
  {
   "cell_type": "code",
   "execution_count": 82,
   "id": "38d8db5d",
   "metadata": {},
   "outputs": [],
   "source": [
    "pred_dict = {\n",
    "    \"Algorithm\": [\"DL\", \"DL optimized\"], #min-max scaling, #standard scaling, #robust # grid search\n",
    "    \"Train Error\": [mae_first[-1] , mae_second[-1]],\n",
    "    \"Test Error\": [val_mae_first[-1] , val_mae_second[-1]],\n",
    "    \"R2\" : [r2_first, r2_second] }"
   ]
  },
  {
   "cell_type": "code",
   "execution_count": 83,
   "id": "5e0e94c9",
   "metadata": {},
   "outputs": [
    {
     "data": {
      "text/html": [
       "<div>\n",
       "<style scoped>\n",
       "    .dataframe tbody tr th:only-of-type {\n",
       "        vertical-align: middle;\n",
       "    }\n",
       "\n",
       "    .dataframe tbody tr th {\n",
       "        vertical-align: top;\n",
       "    }\n",
       "\n",
       "    .dataframe thead th {\n",
       "        text-align: right;\n",
       "    }\n",
       "</style>\n",
       "<table border=\"1\" class=\"dataframe\">\n",
       "  <thead>\n",
       "    <tr style=\"text-align: right;\">\n",
       "      <th></th>\n",
       "      <th>Algorithm</th>\n",
       "      <th>Train Error</th>\n",
       "      <th>Test Error</th>\n",
       "      <th>R2</th>\n",
       "    </tr>\n",
       "  </thead>\n",
       "  <tbody>\n",
       "    <tr>\n",
       "      <th>0</th>\n",
       "      <td>DL</td>\n",
       "      <td>138.396042</td>\n",
       "      <td>141.319809</td>\n",
       "      <td>0.434719</td>\n",
       "    </tr>\n",
       "    <tr>\n",
       "      <th>1</th>\n",
       "      <td>DL optimized</td>\n",
       "      <td>99.778816</td>\n",
       "      <td>118.982414</td>\n",
       "      <td>0.587034</td>\n",
       "    </tr>\n",
       "  </tbody>\n",
       "</table>\n",
       "</div>"
      ],
      "text/plain": [
       "      Algorithm  Train Error  Test Error        R2\n",
       "0            DL   138.396042  141.319809  0.434719\n",
       "1  DL optimized    99.778816  118.982414  0.587034"
      ]
     },
     "execution_count": 83,
     "metadata": {},
     "output_type": "execute_result"
    }
   ],
   "source": [
    "pred_data = pd.DataFrame(pred_dict)\n",
    "pred_data"
   ]
  },
  {
   "cell_type": "code",
   "execution_count": 86,
   "id": "1741423e",
   "metadata": {},
   "outputs": [
    {
     "data": {
      "image/png": "[encoded data removed]",
      "text/plain": [
       "<Figure size 1200x800 with 3 Axes>"
      ]
     },
     "metadata": {},
     "output_type": "display_data"
    }
   ],
   "source": [
    "# Create a figure and subsplots\n",
    "\n",
    "fid, (ax2, ax3, ax4) = plt.subplots(1, 3, figsize = (12, 8))\n",
    "\n",
    "# Create the first graph\n",
    "\n",
    "pred_data.plot(kind = 'bar' , x = 'Algorithm', y = 'R2', ax = ax2,\n",
    "              legend = False)\n",
    "ax2.set_xlabel('R Squared')\n",
    "ax2.set_title('R Squared')\n",
    "ax2.tick_params(axis='x', labelrotation=45)\n",
    "\n",
    "# Create the second graph\n",
    "\n",
    "pred_data.plot(kind='bar', x='Algorithm', y='Train Error', color='red', ax=ax3, legend=False)\n",
    "ax3.set_xlabel('Train Error')\n",
    "ax3.set_title('Train Error')\n",
    "ax3.tick_params(axis='x', labelrotation=45)\n",
    "\n",
    "\n",
    "# Create the second graph\n",
    "\n",
    "pred_data.plot(kind='bar', x='Algorithm', y='Test Error', color='green', ax=ax4, legend=False)\n",
    "ax4.set_xlabel('Test Error')\n",
    "ax4.set_title('Test Error')\n",
    "ax4.tick_params(axis='x', labelrotation=45)"
   ]
  },
  {
   "cell_type": "markdown",
   "id": "0fae894a",
   "metadata": {},
   "source": [
    "Using the Random Forest regressors, we obtained the following performance:\n",
    "\n",
    "With Standard Scaler - Test error = 59.044691\n",
    "\n",
    "On the other hand, in deep learning, we get great results too.\n",
    "\n",
    "Deep Learning - Test Error: 102.94\n",
    "\n",
    "It looks like we have the best performance model with Grid Search after normalization with Random Forest Regression."
   ]
  }
 ],
 "metadata": {
  "kernelspec": {
   "display_name": "Python 3 (ipykernel)",
   "language": "python",
   "name": "python3"
  },
  "language_info": {
   "codemirror_mode": {
    "name": "ipython",
    "version": 3
   },
   "file_extension": ".py",
   "mimetype": "text/x-python",
   "name": "python",
   "nbconvert_exporter": "python",
   "pygments_lexer": "ipython3",
   "version": "3.9.12"
  }
 },
 "nbformat": 4,
 "nbformat_minor": 5
}
