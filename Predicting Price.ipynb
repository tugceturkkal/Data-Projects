{
 "cells": [
  {
   "cell_type": "markdown",
   "id": "fb6f641d",
   "metadata": {},
   "source": [
    "# Haensel AMS - Predicting Price"
   ]
  },
  {
   "cell_type": "markdown",
   "id": "f7e2358a",
   "metadata": {},
   "source": [
    "## Contents\n",
    "* [Assignment](#Assignment)\n",
    "* [Question 1](#Question-1)\n",
    "* [Question 2](#Question-2)\n",
    "* [Question 3](#Question-3)\n",
    "* [Question 4](#Question-4)"
   ]
  },
  {
   "cell_type": "markdown",
   "id": "4af2281b",
   "metadata": {},
   "source": [
    "### Assignment \n",
    "The target variable is 'price'. You have 7 attributes and obviously we want you to build some initial ML model which predicts the prices.\n",
    "\n",
    "1. Make some initial data analysis, which will hint to some stuctures in the data and how attributes are connected.\n",
    "2. Fit some ML model(s) and explain briefly your choices.\n",
    "3. Show with some X-validation the power of your model and comment the results.\n",
    "4. Present us the results and the steps you have taken and also with some critical thinking and next steps.\n"
   ]
  },
  {
   "cell_type": "markdown",
   "id": "f4ad4f68",
   "metadata": {},
   "source": [
    "## Question 1"
   ]
  },
  {
   "cell_type": "markdown",
   "id": "bfb69b67",
   "metadata": {},
   "source": [
    "1. Make some initial data analysis, which will hint to some stuctures in the data and how attributes are connected."
   ]
  },
  {
   "cell_type": "code",
   "execution_count": 1,
   "id": "77749c54",
   "metadata": {},
   "outputs": [],
   "source": [
    "import pandas as pd\n",
    "import numpy as np"
   ]
  },
  {
   "cell_type": "code",
   "execution_count": 2,
   "id": "b327f3f5",
   "metadata": {},
   "outputs": [
    {
     "data": {
      "text/html": [
       "<div>\n",
       "<style scoped>\n",
       "    .dataframe tbody tr th:only-of-type {\n",
       "        vertical-align: middle;\n",
       "    }\n",
       "\n",
       "    .dataframe tbody tr th {\n",
       "        vertical-align: top;\n",
       "    }\n",
       "\n",
       "    .dataframe thead th {\n",
       "        text-align: right;\n",
       "    }\n",
       "</style>\n",
       "<table border=\"1\" class=\"dataframe\">\n",
       "  <thead>\n",
       "    <tr style=\"text-align: right;\">\n",
       "      <th></th>\n",
       "      <th>loc1</th>\n",
       "      <th>loc2</th>\n",
       "      <th>para1</th>\n",
       "      <th>dow</th>\n",
       "      <th>para2</th>\n",
       "      <th>para3</th>\n",
       "      <th>para4</th>\n",
       "      <th>price</th>\n",
       "    </tr>\n",
       "  </thead>\n",
       "  <tbody>\n",
       "    <tr>\n",
       "      <th>0</th>\n",
       "      <td>0</td>\n",
       "      <td>01</td>\n",
       "      <td>1</td>\n",
       "      <td>Mon</td>\n",
       "      <td>662</td>\n",
       "      <td>3000.0</td>\n",
       "      <td>3.8</td>\n",
       "      <td>73.49</td>\n",
       "    </tr>\n",
       "    <tr>\n",
       "      <th>1</th>\n",
       "      <td>9</td>\n",
       "      <td>99</td>\n",
       "      <td>1</td>\n",
       "      <td>Thu</td>\n",
       "      <td>340</td>\n",
       "      <td>2760.0</td>\n",
       "      <td>9.2</td>\n",
       "      <td>300.00</td>\n",
       "    </tr>\n",
       "    <tr>\n",
       "      <th>2</th>\n",
       "      <td>0</td>\n",
       "      <td>04</td>\n",
       "      <td>0</td>\n",
       "      <td>Mon</td>\n",
       "      <td>16</td>\n",
       "      <td>2700.0</td>\n",
       "      <td>3.0</td>\n",
       "      <td>130.00</td>\n",
       "    </tr>\n",
       "  </tbody>\n",
       "</table>\n",
       "</div>"
      ],
      "text/plain": [
       "  loc1 loc2  para1  dow  para2   para3  para4   price\n",
       "0    0   01      1  Mon    662  3000.0    3.8   73.49\n",
       "1    9   99      1  Thu    340  2760.0    9.2  300.00\n",
       "2    0   04      0  Mon     16  2700.0    3.0  130.00"
      ]
     },
     "execution_count": 2,
     "metadata": {},
     "output_type": "execute_result"
    }
   ],
   "source": [
    "data = pd.read_csv('sample.csv')\n",
    "data.head(3)"
   ]
  },
  {
   "cell_type": "code",
   "execution_count": 3,
   "id": "ee6020a6",
   "metadata": {},
   "outputs": [
    {
     "data": {
      "text/plain": [
       "loc1     0\n",
       "loc2     0\n",
       "para1    0\n",
       "dow      0\n",
       "para2    0\n",
       "para3    0\n",
       "para4    0\n",
       "price    0\n",
       "dtype: int64"
      ]
     },
     "execution_count": 3,
     "metadata": {},
     "output_type": "execute_result"
    }
   ],
   "source": [
    "data.isnull().sum()"
   ]
  },
  {
   "cell_type": "markdown",
   "id": "083b6f52",
   "metadata": {},
   "source": [
    "We don't have any missing value(NaN). "
   ]
  },
  {
   "cell_type": "code",
   "execution_count": 4,
   "id": "3e600729",
   "metadata": {},
   "outputs": [
    {
     "name": "stdout",
     "output_type": "stream",
     "text": [
      "<class 'pandas.core.frame.DataFrame'>\n",
      "RangeIndex: 10000 entries, 0 to 9999\n",
      "Data columns (total 8 columns):\n",
      " #   Column  Non-Null Count  Dtype  \n",
      "---  ------  --------------  -----  \n",
      " 0   loc1    10000 non-null  object \n",
      " 1   loc2    10000 non-null  object \n",
      " 2   para1   10000 non-null  int64  \n",
      " 3   dow     10000 non-null  object \n",
      " 4   para2   10000 non-null  int64  \n",
      " 5   para3   10000 non-null  float64\n",
      " 6   para4   10000 non-null  float64\n",
      " 7   price   10000 non-null  float64\n",
      "dtypes: float64(3), int64(2), object(3)\n",
      "memory usage: 625.1+ KB\n"
     ]
    }
   ],
   "source": [
    "data.info()"
   ]
  },
  {
   "cell_type": "code",
   "execution_count": 5,
   "id": "99c12c8b",
   "metadata": {},
   "outputs": [
    {
     "data": {
      "text/plain": [
       "2    1607\n",
       "0    1486\n",
       "1    1223\n",
       "7    1081\n",
       "3     945\n",
       "5     846\n",
       "4     773\n",
       "8     727\n",
       "9     690\n",
       "6     620\n",
       "S       1\n",
       "T       1\n",
       "Name: loc1, dtype: int64"
      ]
     },
     "execution_count": 5,
     "metadata": {},
     "output_type": "execute_result"
    }
   ],
   "source": [
    "data['loc1'].value_counts()"
   ]
  },
  {
   "cell_type": "code",
   "execution_count": 6,
   "id": "a6cfbc33",
   "metadata": {},
   "outputs": [],
   "source": [
    "data = data[(data['loc1'].str.contains('S') == False) & (data['loc1'].str.contains('T') == False)]"
   ]
  },
  {
   "cell_type": "code",
   "execution_count": 7,
   "id": "86256bd1",
   "metadata": {},
   "outputs": [
    {
     "data": {
      "text/plain": [
       "2    1607\n",
       "0    1486\n",
       "1    1223\n",
       "7    1081\n",
       "3     945\n",
       "5     846\n",
       "4     773\n",
       "8     727\n",
       "9     690\n",
       "6     620\n",
       "Name: loc1, dtype: int64"
      ]
     },
     "execution_count": 7,
     "metadata": {},
     "output_type": "execute_result"
    }
   ],
   "source": [
    "data['loc1'].value_counts()"
   ]
  },
  {
   "cell_type": "code",
   "execution_count": 8,
   "id": "a3119a58",
   "metadata": {},
   "outputs": [],
   "source": [
    "# If ‘coerce’, then invalid parsing will be set as NaN.\n",
    "\n",
    "data['loc1'] = pd.to_numeric(data['loc1'], errors='coerce')\n",
    "data['loc2'] = pd.to_numeric(data['loc2'], errors='coerce')\n",
    "data.dropna(inplace = True)"
   ]
  },
  {
   "cell_type": "markdown",
   "id": "a3246e1a",
   "metadata": {},
   "source": [
    "We add errors argument equal to coerce to change string types to Na. Then we will use the dropna method to remove Na's."
   ]
  },
  {
   "cell_type": "code",
   "execution_count": 9,
   "id": "a825e9ad",
   "metadata": {},
   "outputs": [
    {
     "data": {
      "text/html": [
       "<div>\n",
       "<style scoped>\n",
       "    .dataframe tbody tr th:only-of-type {\n",
       "        vertical-align: middle;\n",
       "    }\n",
       "\n",
       "    .dataframe tbody tr th {\n",
       "        vertical-align: top;\n",
       "    }\n",
       "\n",
       "    .dataframe thead th {\n",
       "        text-align: right;\n",
       "    }\n",
       "</style>\n",
       "<table border=\"1\" class=\"dataframe\">\n",
       "  <thead>\n",
       "    <tr style=\"text-align: right;\">\n",
       "      <th></th>\n",
       "      <th>Fri</th>\n",
       "      <th>Mon</th>\n",
       "      <th>Sat</th>\n",
       "      <th>Sun</th>\n",
       "      <th>Thu</th>\n",
       "      <th>Tue</th>\n",
       "      <th>Wed</th>\n",
       "    </tr>\n",
       "  </thead>\n",
       "  <tbody>\n",
       "    <tr>\n",
       "      <th>0</th>\n",
       "      <td>0</td>\n",
       "      <td>1</td>\n",
       "      <td>0</td>\n",
       "      <td>0</td>\n",
       "      <td>0</td>\n",
       "      <td>0</td>\n",
       "      <td>0</td>\n",
       "    </tr>\n",
       "    <tr>\n",
       "      <th>1</th>\n",
       "      <td>0</td>\n",
       "      <td>0</td>\n",
       "      <td>0</td>\n",
       "      <td>0</td>\n",
       "      <td>1</td>\n",
       "      <td>0</td>\n",
       "      <td>0</td>\n",
       "    </tr>\n",
       "    <tr>\n",
       "      <th>2</th>\n",
       "      <td>0</td>\n",
       "      <td>1</td>\n",
       "      <td>0</td>\n",
       "      <td>0</td>\n",
       "      <td>0</td>\n",
       "      <td>0</td>\n",
       "      <td>0</td>\n",
       "    </tr>\n",
       "    <tr>\n",
       "      <th>3</th>\n",
       "      <td>0</td>\n",
       "      <td>1</td>\n",
       "      <td>0</td>\n",
       "      <td>0</td>\n",
       "      <td>0</td>\n",
       "      <td>0</td>\n",
       "      <td>0</td>\n",
       "    </tr>\n",
       "    <tr>\n",
       "      <th>4</th>\n",
       "      <td>0</td>\n",
       "      <td>0</td>\n",
       "      <td>0</td>\n",
       "      <td>0</td>\n",
       "      <td>1</td>\n",
       "      <td>0</td>\n",
       "      <td>0</td>\n",
       "    </tr>\n",
       "  </tbody>\n",
       "</table>\n",
       "</div>"
      ],
      "text/plain": [
       "   Fri  Mon  Sat  Sun  Thu  Tue  Wed\n",
       "0    0    1    0    0    0    0    0\n",
       "1    0    0    0    0    1    0    0\n",
       "2    0    1    0    0    0    0    0\n",
       "3    0    1    0    0    0    0    0\n",
       "4    0    0    0    0    1    0    0"
      ]
     },
     "execution_count": 9,
     "metadata": {},
     "output_type": "execute_result"
    }
   ],
   "source": [
    "dow_dummies = pd.get_dummies(data['dow'])\n",
    "dow_dummies.head()"
   ]
  },
  {
   "cell_type": "code",
   "execution_count": 10,
   "id": "58c5f36d",
   "metadata": {},
   "outputs": [],
   "source": [
    "data_2 = data.copy(deep=True)"
   ]
  },
  {
   "cell_type": "code",
   "execution_count": 11,
   "id": "83947616",
   "metadata": {},
   "outputs": [
    {
     "data": {
      "text/html": [
       "<div>\n",
       "<style scoped>\n",
       "    .dataframe tbody tr th:only-of-type {\n",
       "        vertical-align: middle;\n",
       "    }\n",
       "\n",
       "    .dataframe tbody tr th {\n",
       "        vertical-align: top;\n",
       "    }\n",
       "\n",
       "    .dataframe thead th {\n",
       "        text-align: right;\n",
       "    }\n",
       "</style>\n",
       "<table border=\"1\" class=\"dataframe\">\n",
       "  <thead>\n",
       "    <tr style=\"text-align: right;\">\n",
       "      <th></th>\n",
       "      <th>loc1</th>\n",
       "      <th>loc2</th>\n",
       "      <th>para1</th>\n",
       "      <th>para2</th>\n",
       "      <th>para3</th>\n",
       "      <th>para4</th>\n",
       "      <th>price</th>\n",
       "      <th>Fri</th>\n",
       "      <th>Mon</th>\n",
       "      <th>Sat</th>\n",
       "      <th>Sun</th>\n",
       "      <th>Thu</th>\n",
       "      <th>Tue</th>\n",
       "      <th>Wed</th>\n",
       "    </tr>\n",
       "  </thead>\n",
       "  <tbody>\n",
       "    <tr>\n",
       "      <th>0</th>\n",
       "      <td>0</td>\n",
       "      <td>1.0</td>\n",
       "      <td>1</td>\n",
       "      <td>662</td>\n",
       "      <td>3000.0</td>\n",
       "      <td>3.8</td>\n",
       "      <td>73.49</td>\n",
       "      <td>0</td>\n",
       "      <td>1</td>\n",
       "      <td>0</td>\n",
       "      <td>0</td>\n",
       "      <td>0</td>\n",
       "      <td>0</td>\n",
       "      <td>0</td>\n",
       "    </tr>\n",
       "    <tr>\n",
       "      <th>1</th>\n",
       "      <td>9</td>\n",
       "      <td>99.0</td>\n",
       "      <td>1</td>\n",
       "      <td>340</td>\n",
       "      <td>2760.0</td>\n",
       "      <td>9.2</td>\n",
       "      <td>300.00</td>\n",
       "      <td>0</td>\n",
       "      <td>0</td>\n",
       "      <td>0</td>\n",
       "      <td>0</td>\n",
       "      <td>1</td>\n",
       "      <td>0</td>\n",
       "      <td>0</td>\n",
       "    </tr>\n",
       "    <tr>\n",
       "      <th>2</th>\n",
       "      <td>0</td>\n",
       "      <td>4.0</td>\n",
       "      <td>0</td>\n",
       "      <td>16</td>\n",
       "      <td>2700.0</td>\n",
       "      <td>3.0</td>\n",
       "      <td>130.00</td>\n",
       "      <td>0</td>\n",
       "      <td>1</td>\n",
       "      <td>0</td>\n",
       "      <td>0</td>\n",
       "      <td>0</td>\n",
       "      <td>0</td>\n",
       "      <td>0</td>\n",
       "    </tr>\n",
       "    <tr>\n",
       "      <th>3</th>\n",
       "      <td>4</td>\n",
       "      <td>40.0</td>\n",
       "      <td>1</td>\n",
       "      <td>17</td>\n",
       "      <td>12320.0</td>\n",
       "      <td>6.4</td>\n",
       "      <td>365.00</td>\n",
       "      <td>0</td>\n",
       "      <td>1</td>\n",
       "      <td>0</td>\n",
       "      <td>0</td>\n",
       "      <td>0</td>\n",
       "      <td>0</td>\n",
       "      <td>0</td>\n",
       "    </tr>\n",
       "    <tr>\n",
       "      <th>4</th>\n",
       "      <td>5</td>\n",
       "      <td>50.0</td>\n",
       "      <td>1</td>\n",
       "      <td>610</td>\n",
       "      <td>2117.0</td>\n",
       "      <td>10.8</td>\n",
       "      <td>357.50</td>\n",
       "      <td>0</td>\n",
       "      <td>0</td>\n",
       "      <td>0</td>\n",
       "      <td>0</td>\n",
       "      <td>1</td>\n",
       "      <td>0</td>\n",
       "      <td>0</td>\n",
       "    </tr>\n",
       "  </tbody>\n",
       "</table>\n",
       "</div>"
      ],
      "text/plain": [
       "   loc1  loc2  para1  para2    para3  para4   price  Fri  Mon  Sat  Sun  Thu  \\\n",
       "0     0   1.0      1    662   3000.0    3.8   73.49    0    1    0    0    0   \n",
       "1     9  99.0      1    340   2760.0    9.2  300.00    0    0    0    0    1   \n",
       "2     0   4.0      0     16   2700.0    3.0  130.00    0    1    0    0    0   \n",
       "3     4  40.0      1     17  12320.0    6.4  365.00    0    1    0    0    0   \n",
       "4     5  50.0      1    610   2117.0   10.8  357.50    0    0    0    0    1   \n",
       "\n",
       "   Tue  Wed  \n",
       "0    0    0  \n",
       "1    0    0  \n",
       "2    0    0  \n",
       "3    0    0  \n",
       "4    0    0  "
      ]
     },
     "execution_count": 11,
     "metadata": {},
     "output_type": "execute_result"
    }
   ],
   "source": [
    "data_2.drop('dow', axis = 1,inplace = True)\n",
    "result = data_2.join(dow_dummies)\n",
    "result.head()"
   ]
  },
  {
   "cell_type": "code",
   "execution_count": 12,
   "id": "25fba99d",
   "metadata": {},
   "outputs": [],
   "source": [
    "days_of_week = {'Mon': 1, 'Tue' : 2, 'Wed' : 3, 'Thu' : 4, 'Fri' : 5, 'Sat' : 6, 'Sun' : 7} "
   ]
  },
  {
   "cell_type": "code",
   "execution_count": 13,
   "id": "89690ecd",
   "metadata": {},
   "outputs": [
    {
     "data": {
      "text/html": [
       "<div>\n",
       "<style scoped>\n",
       "    .dataframe tbody tr th:only-of-type {\n",
       "        vertical-align: middle;\n",
       "    }\n",
       "\n",
       "    .dataframe tbody tr th {\n",
       "        vertical-align: top;\n",
       "    }\n",
       "\n",
       "    .dataframe thead th {\n",
       "        text-align: right;\n",
       "    }\n",
       "</style>\n",
       "<table border=\"1\" class=\"dataframe\">\n",
       "  <thead>\n",
       "    <tr style=\"text-align: right;\">\n",
       "      <th></th>\n",
       "      <th>loc1</th>\n",
       "      <th>loc2</th>\n",
       "      <th>para1</th>\n",
       "      <th>dow</th>\n",
       "      <th>para2</th>\n",
       "      <th>para3</th>\n",
       "      <th>para4</th>\n",
       "      <th>price</th>\n",
       "    </tr>\n",
       "  </thead>\n",
       "  <tbody>\n",
       "    <tr>\n",
       "      <th>0</th>\n",
       "      <td>0</td>\n",
       "      <td>1.0</td>\n",
       "      <td>1</td>\n",
       "      <td>1</td>\n",
       "      <td>662</td>\n",
       "      <td>3000.0</td>\n",
       "      <td>3.8</td>\n",
       "      <td>73.49</td>\n",
       "    </tr>\n",
       "    <tr>\n",
       "      <th>1</th>\n",
       "      <td>9</td>\n",
       "      <td>99.0</td>\n",
       "      <td>1</td>\n",
       "      <td>4</td>\n",
       "      <td>340</td>\n",
       "      <td>2760.0</td>\n",
       "      <td>9.2</td>\n",
       "      <td>300.00</td>\n",
       "    </tr>\n",
       "    <tr>\n",
       "      <th>2</th>\n",
       "      <td>0</td>\n",
       "      <td>4.0</td>\n",
       "      <td>0</td>\n",
       "      <td>1</td>\n",
       "      <td>16</td>\n",
       "      <td>2700.0</td>\n",
       "      <td>3.0</td>\n",
       "      <td>130.00</td>\n",
       "    </tr>\n",
       "    <tr>\n",
       "      <th>3</th>\n",
       "      <td>4</td>\n",
       "      <td>40.0</td>\n",
       "      <td>1</td>\n",
       "      <td>1</td>\n",
       "      <td>17</td>\n",
       "      <td>12320.0</td>\n",
       "      <td>6.4</td>\n",
       "      <td>365.00</td>\n",
       "    </tr>\n",
       "    <tr>\n",
       "      <th>4</th>\n",
       "      <td>5</td>\n",
       "      <td>50.0</td>\n",
       "      <td>1</td>\n",
       "      <td>4</td>\n",
       "      <td>610</td>\n",
       "      <td>2117.0</td>\n",
       "      <td>10.8</td>\n",
       "      <td>357.50</td>\n",
       "    </tr>\n",
       "  </tbody>\n",
       "</table>\n",
       "</div>"
      ],
      "text/plain": [
       "   loc1  loc2  para1  dow  para2    para3  para4   price\n",
       "0     0   1.0      1    1    662   3000.0    3.8   73.49\n",
       "1     9  99.0      1    4    340   2760.0    9.2  300.00\n",
       "2     0   4.0      0    1     16   2700.0    3.0  130.00\n",
       "3     4  40.0      1    1     17  12320.0    6.4  365.00\n",
       "4     5  50.0      1    4    610   2117.0   10.8  357.50"
      ]
     },
     "execution_count": 13,
     "metadata": {},
     "output_type": "execute_result"
    }
   ],
   "source": [
    "data['dow'] = data['dow'].map(days_of_week)\n",
    "data.head()"
   ]
  },
  {
   "cell_type": "code",
   "execution_count": 14,
   "id": "143b13a0",
   "metadata": {},
   "outputs": [
    {
     "data": {
      "text/plain": [
       "array([[<AxesSubplot:xlabel='loc1', ylabel='loc1'>,\n",
       "        <AxesSubplot:xlabel='loc2', ylabel='loc1'>,\n",
       "        <AxesSubplot:xlabel='para1', ylabel='loc1'>,\n",
       "        <AxesSubplot:xlabel='para2', ylabel='loc1'>,\n",
       "        <AxesSubplot:xlabel='para3', ylabel='loc1'>,\n",
       "        <AxesSubplot:xlabel='para4', ylabel='loc1'>,\n",
       "        <AxesSubplot:xlabel='price', ylabel='loc1'>],\n",
       "       [<AxesSubplot:xlabel='loc1', ylabel='loc2'>,\n",
       "        <AxesSubplot:xlabel='loc2', ylabel='loc2'>,\n",
       "        <AxesSubplot:xlabel='para1', ylabel='loc2'>,\n",
       "        <AxesSubplot:xlabel='para2', ylabel='loc2'>,\n",
       "        <AxesSubplot:xlabel='para3', ylabel='loc2'>,\n",
       "        <AxesSubplot:xlabel='para4', ylabel='loc2'>,\n",
       "        <AxesSubplot:xlabel='price', ylabel='loc2'>],\n",
       "       [<AxesSubplot:xlabel='loc1', ylabel='para1'>,\n",
       "        <AxesSubplot:xlabel='loc2', ylabel='para1'>,\n",
       "        <AxesSubplot:xlabel='para1', ylabel='para1'>,\n",
       "        <AxesSubplot:xlabel='para2', ylabel='para1'>,\n",
       "        <AxesSubplot:xlabel='para3', ylabel='para1'>,\n",
       "        <AxesSubplot:xlabel='para4', ylabel='para1'>,\n",
       "        <AxesSubplot:xlabel='price', ylabel='para1'>],\n",
       "       [<AxesSubplot:xlabel='loc1', ylabel='para2'>,\n",
       "        <AxesSubplot:xlabel='loc2', ylabel='para2'>,\n",
       "        <AxesSubplot:xlabel='para1', ylabel='para2'>,\n",
       "        <AxesSubplot:xlabel='para2', ylabel='para2'>,\n",
       "        <AxesSubplot:xlabel='para3', ylabel='para2'>,\n",
       "        <AxesSubplot:xlabel='para4', ylabel='para2'>,\n",
       "        <AxesSubplot:xlabel='price', ylabel='para2'>],\n",
       "       [<AxesSubplot:xlabel='loc1', ylabel='para3'>,\n",
       "        <AxesSubplot:xlabel='loc2', ylabel='para3'>,\n",
       "        <AxesSubplot:xlabel='para1', ylabel='para3'>,\n",
       "        <AxesSubplot:xlabel='para2', ylabel='para3'>,\n",
       "        <AxesSubplot:xlabel='para3', ylabel='para3'>,\n",
       "        <AxesSubplot:xlabel='para4', ylabel='para3'>,\n",
       "        <AxesSubplot:xlabel='price', ylabel='para3'>],\n",
       "       [<AxesSubplot:xlabel='loc1', ylabel='para4'>,\n",
       "        <AxesSubplot:xlabel='loc2', ylabel='para4'>,\n",
       "        <AxesSubplot:xlabel='para1', ylabel='para4'>,\n",
       "        <AxesSubplot:xlabel='para2', ylabel='para4'>,\n",
       "        <AxesSubplot:xlabel='para3', ylabel='para4'>,\n",
       "        <AxesSubplot:xlabel='para4', ylabel='para4'>,\n",
       "        <AxesSubplot:xlabel='price', ylabel='para4'>],\n",
       "       [<AxesSubplot:xlabel='loc1', ylabel='price'>,\n",
       "        <AxesSubplot:xlabel='loc2', ylabel='price'>,\n",
       "        <AxesSubplot:xlabel='para1', ylabel='price'>,\n",
       "        <AxesSubplot:xlabel='para2', ylabel='price'>,\n",
       "        <AxesSubplot:xlabel='para3', ylabel='price'>,\n",
       "        <AxesSubplot:xlabel='para4', ylabel='price'>,\n",
       "        <AxesSubplot:xlabel='price', ylabel='price'>]], dtype=object)"
      ]
     },
     "execution_count": 14,
     "metadata": {},
     "output_type": "execute_result"
    },
    {
     "data": {
      "image/png": "[encoded data removed]",
      "text/plain": [
       "<Figure size 864x576 with 49 Axes>"
      ]
     },
     "metadata": {
      "needs_background": "light"
     },
     "output_type": "display_data"
    }
   ],
   "source": [
    "from pandas.plotting import scatter_matrix\n",
    "\n",
    "scatter_matrix(result.iloc[:,0:7], figsize=(12, 8))"
   ]
  },
  {
   "cell_type": "markdown",
   "id": "9d2126f9",
   "metadata": {},
   "source": [
    "It looks like we have a high correlation between loc1 and loc2."
   ]
  },
  {
   "cell_type": "code",
   "execution_count": 15,
   "id": "cf86a80e",
   "metadata": {},
   "outputs": [
    {
     "data": {
      "text/html": [
       "<div>\n",
       "<style scoped>\n",
       "    .dataframe tbody tr th:only-of-type {\n",
       "        vertical-align: middle;\n",
       "    }\n",
       "\n",
       "    .dataframe tbody tr th {\n",
       "        vertical-align: top;\n",
       "    }\n",
       "\n",
       "    .dataframe thead th {\n",
       "        text-align: right;\n",
       "    }\n",
       "</style>\n",
       "<table border=\"1\" class=\"dataframe\">\n",
       "  <thead>\n",
       "    <tr style=\"text-align: right;\">\n",
       "      <th></th>\n",
       "      <th>price</th>\n",
       "    </tr>\n",
       "  </thead>\n",
       "  <tbody>\n",
       "    <tr>\n",
       "      <th>price</th>\n",
       "      <td>1.000000</td>\n",
       "    </tr>\n",
       "    <tr>\n",
       "      <th>para2</th>\n",
       "      <td>0.551222</td>\n",
       "    </tr>\n",
       "    <tr>\n",
       "      <th>para4</th>\n",
       "      <td>0.517614</td>\n",
       "    </tr>\n",
       "    <tr>\n",
       "      <th>para3</th>\n",
       "      <td>0.356949</td>\n",
       "    </tr>\n",
       "    <tr>\n",
       "      <th>para1</th>\n",
       "      <td>0.074555</td>\n",
       "    </tr>\n",
       "    <tr>\n",
       "      <th>loc1</th>\n",
       "      <td>0.044079</td>\n",
       "    </tr>\n",
       "    <tr>\n",
       "      <th>loc2</th>\n",
       "      <td>0.043543</td>\n",
       "    </tr>\n",
       "    <tr>\n",
       "      <th>Wed</th>\n",
       "      <td>0.026684</td>\n",
       "    </tr>\n",
       "    <tr>\n",
       "      <th>Fri</th>\n",
       "      <td>0.025674</td>\n",
       "    </tr>\n",
       "    <tr>\n",
       "      <th>Mon</th>\n",
       "      <td>0.021734</td>\n",
       "    </tr>\n",
       "    <tr>\n",
       "      <th>Thu</th>\n",
       "      <td>0.019656</td>\n",
       "    </tr>\n",
       "    <tr>\n",
       "      <th>Sat</th>\n",
       "      <td>0.014918</td>\n",
       "    </tr>\n",
       "    <tr>\n",
       "      <th>Sun</th>\n",
       "      <td>0.004176</td>\n",
       "    </tr>\n",
       "    <tr>\n",
       "      <th>Tue</th>\n",
       "      <td>0.000974</td>\n",
       "    </tr>\n",
       "  </tbody>\n",
       "</table>\n",
       "</div>"
      ],
      "text/plain": [
       "          price\n",
       "price  1.000000\n",
       "para2  0.551222\n",
       "para4  0.517614\n",
       "para3  0.356949\n",
       "para1  0.074555\n",
       "loc1   0.044079\n",
       "loc2   0.043543\n",
       "Wed    0.026684\n",
       "Fri    0.025674\n",
       "Mon    0.021734\n",
       "Thu    0.019656\n",
       "Sat    0.014918\n",
       "Sun    0.004176\n",
       "Tue    0.000974"
      ]
     },
     "execution_count": 15,
     "metadata": {},
     "output_type": "execute_result"
    }
   ],
   "source": [
    "pd.DataFrame(abs(result.corr()[\"price\"])).sort_values(by = \"price\", ascending = False)"
   ]
  },
  {
   "cell_type": "markdown",
   "id": "016ec2f2",
   "metadata": {},
   "source": [
    "We drop the lowest correlation."
   ]
  },
  {
   "cell_type": "code",
   "execution_count": 16,
   "id": "93dd8684",
   "metadata": {},
   "outputs": [],
   "source": [
    "result.drop(columns = \"loc2\", inplace = True)"
   ]
  },
  {
   "cell_type": "markdown",
   "id": "6774c312",
   "metadata": {},
   "source": [
    "Distribution of our variables."
   ]
  },
  {
   "cell_type": "code",
   "execution_count": 17,
   "id": "cd1acc93",
   "metadata": {},
   "outputs": [
    {
     "data": {
      "text/plain": [
       "array([[<AxesSubplot:title={'center':'loc1'}>,\n",
       "        <AxesSubplot:title={'center':'para1'}>,\n",
       "        <AxesSubplot:title={'center':'para2'}>,\n",
       "        <AxesSubplot:title={'center':'para3'}>],\n",
       "       [<AxesSubplot:title={'center':'para4'}>,\n",
       "        <AxesSubplot:title={'center':'price'}>,\n",
       "        <AxesSubplot:title={'center':'Fri'}>,\n",
       "        <AxesSubplot:title={'center':'Mon'}>],\n",
       "       [<AxesSubplot:title={'center':'Sat'}>,\n",
       "        <AxesSubplot:title={'center':'Sun'}>,\n",
       "        <AxesSubplot:title={'center':'Thu'}>,\n",
       "        <AxesSubplot:title={'center':'Tue'}>],\n",
       "       [<AxesSubplot:title={'center':'Wed'}>, <AxesSubplot:>,\n",
       "        <AxesSubplot:>, <AxesSubplot:>]], dtype=object)"
      ]
     },
     "execution_count": 17,
     "metadata": {},
     "output_type": "execute_result"
    },
    {
     "data": {
      "image/png": "[encoded data removed]",
      "text/plain": [
       "<Figure size 1440x1080 with 16 Axes>"
      ]
     },
     "metadata": {
      "needs_background": "light"
     },
     "output_type": "display_data"
    }
   ],
   "source": [
    "import matplotlib.pyplot as plt \n",
    "\n",
    "result.hist(bins=50, figsize=(20,15)) \n"
   ]
  },
  {
   "cell_type": "markdown",
   "id": "b9bd3418",
   "metadata": {},
   "source": [
    "To see whether there is an anomaly or not, let's look at the statistics of our data frame."
   ]
  },
  {
   "cell_type": "code",
   "execution_count": 18,
   "id": "b61af6da",
   "metadata": {},
   "outputs": [
    {
     "data": {
      "text/html": [
       "<div>\n",
       "<style scoped>\n",
       "    .dataframe tbody tr th:only-of-type {\n",
       "        vertical-align: middle;\n",
       "    }\n",
       "\n",
       "    .dataframe tbody tr th {\n",
       "        vertical-align: top;\n",
       "    }\n",
       "\n",
       "    .dataframe thead th {\n",
       "        text-align: right;\n",
       "    }\n",
       "</style>\n",
       "<table border=\"1\" class=\"dataframe\">\n",
       "  <thead>\n",
       "    <tr style=\"text-align: right;\">\n",
       "      <th></th>\n",
       "      <th>loc1</th>\n",
       "      <th>para1</th>\n",
       "      <th>para2</th>\n",
       "      <th>para3</th>\n",
       "      <th>para4</th>\n",
       "      <th>price</th>\n",
       "      <th>Fri</th>\n",
       "      <th>Mon</th>\n",
       "      <th>Sat</th>\n",
       "      <th>Sun</th>\n",
       "      <th>Thu</th>\n",
       "      <th>Tue</th>\n",
       "      <th>Wed</th>\n",
       "    </tr>\n",
       "  </thead>\n",
       "  <tbody>\n",
       "    <tr>\n",
       "      <th>count</th>\n",
       "      <td>9993.000000</td>\n",
       "      <td>9993.000000</td>\n",
       "      <td>9993.000000</td>\n",
       "      <td>9993.000000</td>\n",
       "      <td>9993.000000</td>\n",
       "      <td>9993.000000</td>\n",
       "      <td>9993.000000</td>\n",
       "      <td>9993.000000</td>\n",
       "      <td>9993.000000</td>\n",
       "      <td>9993.000000</td>\n",
       "      <td>9993.000000</td>\n",
       "      <td>9993.00000</td>\n",
       "      <td>9993.000000</td>\n",
       "    </tr>\n",
       "    <tr>\n",
       "      <th>mean</th>\n",
       "      <td>3.793355</td>\n",
       "      <td>1.379966</td>\n",
       "      <td>446.888522</td>\n",
       "      <td>9550.105894</td>\n",
       "      <td>8.460614</td>\n",
       "      <td>433.318379</td>\n",
       "      <td>0.192835</td>\n",
       "      <td>0.191734</td>\n",
       "      <td>0.001001</td>\n",
       "      <td>0.000300</td>\n",
       "      <td>0.190934</td>\n",
       "      <td>0.19984</td>\n",
       "      <td>0.223356</td>\n",
       "    </tr>\n",
       "    <tr>\n",
       "      <th>std</th>\n",
       "      <td>2.892286</td>\n",
       "      <td>3.501891</td>\n",
       "      <td>220.141080</td>\n",
       "      <td>8022.655794</td>\n",
       "      <td>4.613156</td>\n",
       "      <td>276.743453</td>\n",
       "      <td>0.394544</td>\n",
       "      <td>0.393685</td>\n",
       "      <td>0.031620</td>\n",
       "      <td>0.017325</td>\n",
       "      <td>0.393057</td>\n",
       "      <td>0.39990</td>\n",
       "      <td>0.416516</td>\n",
       "    </tr>\n",
       "    <tr>\n",
       "      <th>min</th>\n",
       "      <td>0.000000</td>\n",
       "      <td>0.000000</td>\n",
       "      <td>16.000000</td>\n",
       "      <td>200.000000</td>\n",
       "      <td>1.000000</td>\n",
       "      <td>50.730000</td>\n",
       "      <td>0.000000</td>\n",
       "      <td>0.000000</td>\n",
       "      <td>0.000000</td>\n",
       "      <td>0.000000</td>\n",
       "      <td>0.000000</td>\n",
       "      <td>0.00000</td>\n",
       "      <td>0.000000</td>\n",
       "    </tr>\n",
       "    <tr>\n",
       "      <th>25%</th>\n",
       "      <td>1.000000</td>\n",
       "      <td>1.000000</td>\n",
       "      <td>301.000000</td>\n",
       "      <td>2900.000000</td>\n",
       "      <td>4.000000</td>\n",
       "      <td>250.000000</td>\n",
       "      <td>0.000000</td>\n",
       "      <td>0.000000</td>\n",
       "      <td>0.000000</td>\n",
       "      <td>0.000000</td>\n",
       "      <td>0.000000</td>\n",
       "      <td>0.00000</td>\n",
       "      <td>0.000000</td>\n",
       "    </tr>\n",
       "    <tr>\n",
       "      <th>50%</th>\n",
       "      <td>3.000000</td>\n",
       "      <td>1.000000</td>\n",
       "      <td>434.000000</td>\n",
       "      <td>6448.000000</td>\n",
       "      <td>7.200000</td>\n",
       "      <td>370.000000</td>\n",
       "      <td>0.000000</td>\n",
       "      <td>0.000000</td>\n",
       "      <td>0.000000</td>\n",
       "      <td>0.000000</td>\n",
       "      <td>0.000000</td>\n",
       "      <td>0.00000</td>\n",
       "      <td>0.000000</td>\n",
       "    </tr>\n",
       "    <tr>\n",
       "      <th>75%</th>\n",
       "      <td>6.000000</td>\n",
       "      <td>1.000000</td>\n",
       "      <td>582.000000</td>\n",
       "      <td>15000.000000</td>\n",
       "      <td>13.600000</td>\n",
       "      <td>550.000000</td>\n",
       "      <td>0.000000</td>\n",
       "      <td>0.000000</td>\n",
       "      <td>0.000000</td>\n",
       "      <td>0.000000</td>\n",
       "      <td>0.000000</td>\n",
       "      <td>0.00000</td>\n",
       "      <td>0.000000</td>\n",
       "    </tr>\n",
       "    <tr>\n",
       "      <th>max</th>\n",
       "      <td>9.000000</td>\n",
       "      <td>337.000000</td>\n",
       "      <td>2554.000000</td>\n",
       "      <td>34782.000000</td>\n",
       "      <td>27.200000</td>\n",
       "      <td>5700.000000</td>\n",
       "      <td>1.000000</td>\n",
       "      <td>1.000000</td>\n",
       "      <td>1.000000</td>\n",
       "      <td>1.000000</td>\n",
       "      <td>1.000000</td>\n",
       "      <td>1.00000</td>\n",
       "      <td>1.000000</td>\n",
       "    </tr>\n",
       "  </tbody>\n",
       "</table>\n",
       "</div>"
      ],
      "text/plain": [
       "              loc1        para1        para2         para3        para4  \\\n",
       "count  9993.000000  9993.000000  9993.000000   9993.000000  9993.000000   \n",
       "mean      3.793355     1.379966   446.888522   9550.105894     8.460614   \n",
       "std       2.892286     3.501891   220.141080   8022.655794     4.613156   \n",
       "min       0.000000     0.000000    16.000000    200.000000     1.000000   \n",
       "25%       1.000000     1.000000   301.000000   2900.000000     4.000000   \n",
       "50%       3.000000     1.000000   434.000000   6448.000000     7.200000   \n",
       "75%       6.000000     1.000000   582.000000  15000.000000    13.600000   \n",
       "max       9.000000   337.000000  2554.000000  34782.000000    27.200000   \n",
       "\n",
       "             price          Fri          Mon          Sat          Sun  \\\n",
       "count  9993.000000  9993.000000  9993.000000  9993.000000  9993.000000   \n",
       "mean    433.318379     0.192835     0.191734     0.001001     0.000300   \n",
       "std     276.743453     0.394544     0.393685     0.031620     0.017325   \n",
       "min      50.730000     0.000000     0.000000     0.000000     0.000000   \n",
       "25%     250.000000     0.000000     0.000000     0.000000     0.000000   \n",
       "50%     370.000000     0.000000     0.000000     0.000000     0.000000   \n",
       "75%     550.000000     0.000000     0.000000     0.000000     0.000000   \n",
       "max    5700.000000     1.000000     1.000000     1.000000     1.000000   \n",
       "\n",
       "               Thu         Tue          Wed  \n",
       "count  9993.000000  9993.00000  9993.000000  \n",
       "mean      0.190934     0.19984     0.223356  \n",
       "std       0.393057     0.39990     0.416516  \n",
       "min       0.000000     0.00000     0.000000  \n",
       "25%       0.000000     0.00000     0.000000  \n",
       "50%       0.000000     0.00000     0.000000  \n",
       "75%       0.000000     0.00000     0.000000  \n",
       "max       1.000000     1.00000     1.000000  "
      ]
     },
     "execution_count": 18,
     "metadata": {},
     "output_type": "execute_result"
    }
   ],
   "source": [
    "result.describe()"
   ]
  },
  {
   "cell_type": "markdown",
   "id": "ce5d1cc1",
   "metadata": {},
   "source": [
    "It looks like we have an anomaly in the para1 column, especially in the max value - it is too far from the mean than it should be. "
   ]
  },
  {
   "cell_type": "code",
   "execution_count": 19,
   "id": "e0aa8c2f",
   "metadata": {},
   "outputs": [
    {
     "data": {
      "text/plain": [
       "1      7052\n",
       "3      1609\n",
       "0       836\n",
       "2       265\n",
       "4       164\n",
       "5        51\n",
       "6         6\n",
       "7         3\n",
       "13        2\n",
       "9         2\n",
       "24        1\n",
       "8         1\n",
       "337       1\n",
       "Name: para1, dtype: int64"
      ]
     },
     "execution_count": 19,
     "metadata": {},
     "output_type": "execute_result"
    }
   ],
   "source": [
    "result['para1'].value_counts()"
   ]
  },
  {
   "cell_type": "markdown",
   "id": "6c604f77",
   "metadata": {},
   "source": [
    "It looks like the main distribution of the para1 values is between 0 and 9, so I will select them."
   ]
  },
  {
   "cell_type": "code",
   "execution_count": 20,
   "id": "094993b0",
   "metadata": {},
   "outputs": [],
   "source": [
    "result = result[result['para1'] < 10]"
   ]
  },
  {
   "cell_type": "code",
   "execution_count": 21,
   "id": "74486507",
   "metadata": {},
   "outputs": [
    {
     "data": {
      "text/html": [
       "<div>\n",
       "<style scoped>\n",
       "    .dataframe tbody tr th:only-of-type {\n",
       "        vertical-align: middle;\n",
       "    }\n",
       "\n",
       "    .dataframe tbody tr th {\n",
       "        vertical-align: top;\n",
       "    }\n",
       "\n",
       "    .dataframe thead th {\n",
       "        text-align: right;\n",
       "    }\n",
       "</style>\n",
       "<table border=\"1\" class=\"dataframe\">\n",
       "  <thead>\n",
       "    <tr style=\"text-align: right;\">\n",
       "      <th></th>\n",
       "      <th>loc1</th>\n",
       "      <th>para1</th>\n",
       "      <th>para2</th>\n",
       "      <th>para3</th>\n",
       "      <th>para4</th>\n",
       "      <th>price</th>\n",
       "      <th>Fri</th>\n",
       "      <th>Mon</th>\n",
       "      <th>Sat</th>\n",
       "      <th>Sun</th>\n",
       "      <th>Thu</th>\n",
       "      <th>Tue</th>\n",
       "      <th>Wed</th>\n",
       "    </tr>\n",
       "  </thead>\n",
       "  <tbody>\n",
       "    <tr>\n",
       "      <th>count</th>\n",
       "      <td>9989.000000</td>\n",
       "      <td>9989.000000</td>\n",
       "      <td>9989.000000</td>\n",
       "      <td>9989.000000</td>\n",
       "      <td>9989.000000</td>\n",
       "      <td>9989.000000</td>\n",
       "      <td>9989.000000</td>\n",
       "      <td>9989.000000</td>\n",
       "      <td>9989.000000</td>\n",
       "      <td>9989.000000</td>\n",
       "      <td>9989.000000</td>\n",
       "      <td>9989.00000</td>\n",
       "      <td>9989.000000</td>\n",
       "    </tr>\n",
       "    <tr>\n",
       "      <th>mean</th>\n",
       "      <td>3.793573</td>\n",
       "      <td>1.341776</td>\n",
       "      <td>446.926219</td>\n",
       "      <td>9550.045070</td>\n",
       "      <td>8.459277</td>\n",
       "      <td>433.247628</td>\n",
       "      <td>0.192612</td>\n",
       "      <td>0.191711</td>\n",
       "      <td>0.001001</td>\n",
       "      <td>0.000300</td>\n",
       "      <td>0.191010</td>\n",
       "      <td>0.19992</td>\n",
       "      <td>0.223446</td>\n",
       "    </tr>\n",
       "    <tr>\n",
       "      <th>std</th>\n",
       "      <td>2.892451</td>\n",
       "      <td>0.954364</td>\n",
       "      <td>220.174079</td>\n",
       "      <td>8022.209434</td>\n",
       "      <td>4.613233</td>\n",
       "      <td>276.704058</td>\n",
       "      <td>0.394371</td>\n",
       "      <td>0.393667</td>\n",
       "      <td>0.031626</td>\n",
       "      <td>0.017328</td>\n",
       "      <td>0.393117</td>\n",
       "      <td>0.39996</td>\n",
       "      <td>0.416575</td>\n",
       "    </tr>\n",
       "    <tr>\n",
       "      <th>min</th>\n",
       "      <td>0.000000</td>\n",
       "      <td>0.000000</td>\n",
       "      <td>16.000000</td>\n",
       "      <td>200.000000</td>\n",
       "      <td>1.000000</td>\n",
       "      <td>50.730000</td>\n",
       "      <td>0.000000</td>\n",
       "      <td>0.000000</td>\n",
       "      <td>0.000000</td>\n",
       "      <td>0.000000</td>\n",
       "      <td>0.000000</td>\n",
       "      <td>0.00000</td>\n",
       "      <td>0.000000</td>\n",
       "    </tr>\n",
       "    <tr>\n",
       "      <th>25%</th>\n",
       "      <td>1.000000</td>\n",
       "      <td>1.000000</td>\n",
       "      <td>301.000000</td>\n",
       "      <td>2900.000000</td>\n",
       "      <td>4.000000</td>\n",
       "      <td>250.000000</td>\n",
       "      <td>0.000000</td>\n",
       "      <td>0.000000</td>\n",
       "      <td>0.000000</td>\n",
       "      <td>0.000000</td>\n",
       "      <td>0.000000</td>\n",
       "      <td>0.00000</td>\n",
       "      <td>0.000000</td>\n",
       "    </tr>\n",
       "    <tr>\n",
       "      <th>50%</th>\n",
       "      <td>3.000000</td>\n",
       "      <td>1.000000</td>\n",
       "      <td>434.000000</td>\n",
       "      <td>6448.000000</td>\n",
       "      <td>7.200000</td>\n",
       "      <td>370.000000</td>\n",
       "      <td>0.000000</td>\n",
       "      <td>0.000000</td>\n",
       "      <td>0.000000</td>\n",
       "      <td>0.000000</td>\n",
       "      <td>0.000000</td>\n",
       "      <td>0.00000</td>\n",
       "      <td>0.000000</td>\n",
       "    </tr>\n",
       "    <tr>\n",
       "      <th>75%</th>\n",
       "      <td>7.000000</td>\n",
       "      <td>1.000000</td>\n",
       "      <td>582.000000</td>\n",
       "      <td>15000.000000</td>\n",
       "      <td>13.600000</td>\n",
       "      <td>550.000000</td>\n",
       "      <td>0.000000</td>\n",
       "      <td>0.000000</td>\n",
       "      <td>0.000000</td>\n",
       "      <td>0.000000</td>\n",
       "      <td>0.000000</td>\n",
       "      <td>0.00000</td>\n",
       "      <td>0.000000</td>\n",
       "    </tr>\n",
       "    <tr>\n",
       "      <th>max</th>\n",
       "      <td>9.000000</td>\n",
       "      <td>9.000000</td>\n",
       "      <td>2554.000000</td>\n",
       "      <td>34782.000000</td>\n",
       "      <td>27.200000</td>\n",
       "      <td>5700.000000</td>\n",
       "      <td>1.000000</td>\n",
       "      <td>1.000000</td>\n",
       "      <td>1.000000</td>\n",
       "      <td>1.000000</td>\n",
       "      <td>1.000000</td>\n",
       "      <td>1.00000</td>\n",
       "      <td>1.000000</td>\n",
       "    </tr>\n",
       "  </tbody>\n",
       "</table>\n",
       "</div>"
      ],
      "text/plain": [
       "              loc1        para1        para2         para3        para4  \\\n",
       "count  9989.000000  9989.000000  9989.000000   9989.000000  9989.000000   \n",
       "mean      3.793573     1.341776   446.926219   9550.045070     8.459277   \n",
       "std       2.892451     0.954364   220.174079   8022.209434     4.613233   \n",
       "min       0.000000     0.000000    16.000000    200.000000     1.000000   \n",
       "25%       1.000000     1.000000   301.000000   2900.000000     4.000000   \n",
       "50%       3.000000     1.000000   434.000000   6448.000000     7.200000   \n",
       "75%       7.000000     1.000000   582.000000  15000.000000    13.600000   \n",
       "max       9.000000     9.000000  2554.000000  34782.000000    27.200000   \n",
       "\n",
       "             price          Fri          Mon          Sat          Sun  \\\n",
       "count  9989.000000  9989.000000  9989.000000  9989.000000  9989.000000   \n",
       "mean    433.247628     0.192612     0.191711     0.001001     0.000300   \n",
       "std     276.704058     0.394371     0.393667     0.031626     0.017328   \n",
       "min      50.730000     0.000000     0.000000     0.000000     0.000000   \n",
       "25%     250.000000     0.000000     0.000000     0.000000     0.000000   \n",
       "50%     370.000000     0.000000     0.000000     0.000000     0.000000   \n",
       "75%     550.000000     0.000000     0.000000     0.000000     0.000000   \n",
       "max    5700.000000     1.000000     1.000000     1.000000     1.000000   \n",
       "\n",
       "               Thu         Tue          Wed  \n",
       "count  9989.000000  9989.00000  9989.000000  \n",
       "mean      0.191010     0.19992     0.223446  \n",
       "std       0.393117     0.39996     0.416575  \n",
       "min       0.000000     0.00000     0.000000  \n",
       "25%       0.000000     0.00000     0.000000  \n",
       "50%       0.000000     0.00000     0.000000  \n",
       "75%       0.000000     0.00000     0.000000  \n",
       "max       1.000000     1.00000     1.000000  "
      ]
     },
     "execution_count": 21,
     "metadata": {},
     "output_type": "execute_result"
    }
   ],
   "source": [
    "result.describe()"
   ]
  },
  {
   "cell_type": "code",
   "execution_count": 22,
   "id": "b77b506f",
   "metadata": {},
   "outputs": [
    {
     "data": {
      "text/plain": [
       "<AxesSubplot:>"
      ]
     },
     "execution_count": 22,
     "metadata": {},
     "output_type": "execute_result"
    },
    {
     "data": {
      "image/png": "[encoded data removed]",
      "text/plain": [
       "<Figure size 432x288 with 2 Axes>"
      ]
     },
     "metadata": {
      "needs_background": "light"
     },
     "output_type": "display_data"
    }
   ],
   "source": [
    "import seaborn as sns\n",
    "\n",
    "sns.heatmap(result.iloc[:,0:6].corr(), annot = True)"
   ]
  },
  {
   "cell_type": "markdown",
   "id": "fd0bac09",
   "metadata": {},
   "source": [
    "As we can see, our data's best 3 correlated feature is: para2,para4,para3"
   ]
  },
  {
   "cell_type": "code",
   "execution_count": 23,
   "id": "b4398a06",
   "metadata": {},
   "outputs": [
    {
     "data": {
      "text/plain": [
       "['para2', 'para4', 'para3']"
      ]
     },
     "execution_count": 23,
     "metadata": {},
     "output_type": "execute_result"
    }
   ],
   "source": [
    "three_best = []\n",
    "df_= pd.DataFrame(result.corr()[\"price\"]).sort_values(by = \"price\", ascending = False)\n",
    "df_ = df_.drop(df_.index[0]).head(3)\n",
    "for i in range(len(df_)):\n",
    "    three_best.append(df_.index[i]) \n",
    "\n",
    "three_best"
   ]
  },
  {
   "cell_type": "markdown",
   "id": "e3b3f041",
   "metadata": {},
   "source": [
    "## Question 2"
   ]
  },
  {
   "cell_type": "markdown",
   "id": "9eae085a",
   "metadata": {},
   "source": [
    "2. Fit some ML model(s) and explain briefly your choices."
   ]
  },
  {
   "cell_type": "markdown",
   "id": "7e539708",
   "metadata": {},
   "source": [
    "We will use and compare 5 different algorithms. \n",
    "\n",
    "These algorithms:\n",
    "\n",
    "* Ridge Regression\n",
    "\n",
    "* Decision Tree\n",
    "\n",
    "* Random Forest\n",
    "\n",
    "* XGBoost\n",
    "\n",
    "* MLP\n",
    "\n",
    "\n",
    "First, let's create a dictionary, that contains 2 different data sets, which are: full and three best."
   ]
  },
  {
   "cell_type": "code",
   "execution_count": 24,
   "id": "04621115",
   "metadata": {},
   "outputs": [],
   "source": [
    "feature_set = {\n",
    "    'full_dataset' : result.drop(columns = ['price']),\n",
    "    'three_best' : result[three_best]\n",
    "}"
   ]
  },
  {
   "cell_type": "code",
   "execution_count": 49,
   "id": "84be1542",
   "metadata": {},
   "outputs": [],
   "source": [
    "import sklearn\n",
    "from sklearn import tree\n",
    "from sklearn import svm\n",
    "from sklearn import neighbors\n",
    "from sklearn import linear_model\n",
    "from sklearn.model_selection import train_test_split\n",
    "from sklearn.metrics import r2_score\n",
    "from sklearn.metrics import mean_squared_error\n",
    "from sklearn.neural_network import MLPRegressor\n",
    "from sklearn.ensemble import RandomForestRegressor\n",
    "import xgboost\n",
    "from xgboost import XGBRegressor"
   ]
  },
  {
   "cell_type": "code",
   "execution_count": 26,
   "id": "548c6f0a",
   "metadata": {},
   "outputs": [],
   "source": [
    "y = result['price']\n",
    "X = result.drop(columns = ['price'])"
   ]
  },
  {
   "cell_type": "code",
   "execution_count": 142,
   "id": "f32534ed",
   "metadata": {},
   "outputs": [],
   "source": [
    "model_comparison = {}"
   ]
  },
  {
   "cell_type": "code",
   "execution_count": 28,
   "id": "5c0ff90b",
   "metadata": {},
   "outputs": [],
   "source": [
    "X_train, X_test, y_train, y_test = train_test_split(X, y, test_size = 0.2, random_state = 42)"
   ]
  },
  {
   "cell_type": "markdown",
   "id": "30de5c79",
   "metadata": {},
   "source": [
    "### Ridge Regression"
   ]
  },
  {
   "cell_type": "code",
   "execution_count": 29,
   "id": "bdbded9b",
   "metadata": {},
   "outputs": [],
   "source": [
    "ridge_regression = linear_model.Ridge(random_state = 42)"
   ]
  },
  {
   "cell_type": "code",
   "execution_count": 30,
   "id": "fcc91360",
   "metadata": {},
   "outputs": [
    {
     "data": {
      "text/plain": [
       "Ridge(random_state=42)"
      ]
     },
     "execution_count": 30,
     "metadata": {},
     "output_type": "execute_result"
    }
   ],
   "source": [
    "ridge_regression.fit(X_train, y_train)"
   ]
  },
  {
   "cell_type": "code",
   "execution_count": 31,
   "id": "b9f6875f",
   "metadata": {},
   "outputs": [],
   "source": [
    "y_predict_ridge = ridge_regression.predict(X_train)\n",
    "train_error_ridge = mean_squared_error(y_train, y_predict_ridge, squared = False)\n",
    "\n",
    "y_predict_ridge = ridge_regression.predict(X_test)\n",
    "test_error_ridge = mean_squared_error(y_test, y_predict_ridge, squared=False)\n",
    "\n",
    "y_predict_ridge = ridge_regression.predict(X_train)\n",
    "r2_ridge = r2_score(y_train, y_predict_ridge)"
   ]
  },
  {
   "cell_type": "code",
   "execution_count": 32,
   "id": "ead986d8",
   "metadata": {},
   "outputs": [
    {
     "name": "stdout",
     "output_type": "stream",
     "text": [
      "RIDGE REGRESSION\n",
      "Train Error      : 184.5983205180397\n",
      "Test Error       : 174.0215607338767\n",
      "R2               : 0.5581137570721937\n"
     ]
    }
   ],
   "source": [
    "print('RIDGE REGRESSION')\n",
    "print('Train Error      :', train_error_ridge) \n",
    "print('Test Error       :', test_error_ridge)\n",
    "print('R2               :' , r2_ridge)"
   ]
  },
  {
   "cell_type": "code",
   "execution_count": 143,
   "id": "e7daeeb9",
   "metadata": {},
   "outputs": [],
   "source": [
    "model_comparison['Ridge Regression'] = [train_error_ridge.round(3), test_error_ridge.round(3), r2_ridge.round(3)]"
   ]
  },
  {
   "cell_type": "markdown",
   "id": "21dcde29",
   "metadata": {},
   "source": [
    "### Decision Tree"
   ]
  },
  {
   "cell_type": "code",
   "execution_count": 34,
   "id": "3d1735bf",
   "metadata": {},
   "outputs": [],
   "source": [
    "decision_tree = tree.DecisionTreeRegressor(random_state= 42, max_depth = 6)"
   ]
  },
  {
   "cell_type": "code",
   "execution_count": 35,
   "id": "ef50bbea",
   "metadata": {},
   "outputs": [
    {
     "data": {
      "text/plain": [
       "DecisionTreeRegressor(max_depth=6, random_state=42)"
      ]
     },
     "execution_count": 35,
     "metadata": {},
     "output_type": "execute_result"
    }
   ],
   "source": [
    "decision_tree.fit(X_train, y_train)"
   ]
  },
  {
   "cell_type": "code",
   "execution_count": 36,
   "id": "e4f79c10",
   "metadata": {},
   "outputs": [],
   "source": [
    "y_predict_dt = decision_tree.predict(X_train)\n",
    "train_error_dt = mean_squared_error(y_train, y_predict_dt, squared = False)\n",
    "\n",
    "y_predict_dt = decision_tree.predict(X_test)\n",
    "test_error_dt = mean_squared_error(y_test, y_predict_dt, squared=False)\n",
    "\n",
    "y_predict_dt = decision_tree.predict(X_train)\n",
    "r2_dt = r2_score(y_train, y_predict_dt)"
   ]
  },
  {
   "cell_type": "code",
   "execution_count": 37,
   "id": "1b32e999",
   "metadata": {},
   "outputs": [
    {
     "name": "stdout",
     "output_type": "stream",
     "text": [
      "DECISION TREE\n",
      "Train Error     : 143.4710632890469\n",
      "Test Error      : 169.30069889199896\n",
      "R2              : 0.7330784586795994\n"
     ]
    }
   ],
   "source": [
    "print('DECISION TREE')\n",
    "print('Train Error     :', train_error_dt) \n",
    "print('Test Error      :', test_error_dt)\n",
    "print('R2              :' , r2_dt)"
   ]
  },
  {
   "cell_type": "code",
   "execution_count": 145,
   "id": "615e45a5",
   "metadata": {},
   "outputs": [],
   "source": [
    "model_comparison['Decision Tree'] = [train_error_dt.round(3), test_error_dt.round(3), r2_dt.round(3)]"
   ]
  },
  {
   "cell_type": "markdown",
   "id": "413f0ae8",
   "metadata": {},
   "source": [
    "### Random Forest"
   ]
  },
  {
   "cell_type": "code",
   "execution_count": 39,
   "id": "2405a0a2",
   "metadata": {},
   "outputs": [],
   "source": [
    "random_forest = RandomForestRegressor(random_state = 42)"
   ]
  },
  {
   "cell_type": "code",
   "execution_count": 40,
   "id": "63ebeb1b",
   "metadata": {},
   "outputs": [
    {
     "data": {
      "text/plain": [
       "RandomForestRegressor(random_state=42)"
      ]
     },
     "execution_count": 40,
     "metadata": {},
     "output_type": "execute_result"
    }
   ],
   "source": [
    "random_forest.fit(X_train, y_train)"
   ]
  },
  {
   "cell_type": "code",
   "execution_count": 41,
   "id": "44033ea2",
   "metadata": {},
   "outputs": [],
   "source": [
    "y_predict_rf = random_forest.predict(X_train)\n",
    "train_error_rf = mean_squared_error(y_train, y_predict_rf, squared = False)\n",
    "\n",
    "y_predict_rf = random_forest.predict(X_test)\n",
    "test_error_rf = mean_squared_error(y_test, y_predict_rf, squared = False)\n",
    "\n",
    "y_predict_rf = random_forest.predict(X_train)\n",
    "r2_rf = r2_score(y_train, y_predict_rf)"
   ]
  },
  {
   "cell_type": "code",
   "execution_count": 42,
   "id": "c1be72d1",
   "metadata": {},
   "outputs": [
    {
     "name": "stdout",
     "output_type": "stream",
     "text": [
      "RANDOM FOREST\n",
      "Train Error     : 57.75571879548165\n",
      "Test Error      : 154.36893753359774\n",
      "R2              : 0.9567441374542804\n"
     ]
    }
   ],
   "source": [
    "print('RANDOM FOREST')\n",
    "print('Train Error     :', train_error_rf) \n",
    "print('Test Error      :', test_error_rf)\n",
    "print('R2              :' , r2_rf)"
   ]
  },
  {
   "cell_type": "code",
   "execution_count": 144,
   "id": "c5feb758",
   "metadata": {},
   "outputs": [],
   "source": [
    "model_comparison['Random Forest'] = [train_error_rf.round(3), test_error_rf.round(3), r2_rf.round(3)]"
   ]
  },
  {
   "cell_type": "markdown",
   "id": "5c192cb3",
   "metadata": {},
   "source": [
    "### XGBOOST"
   ]
  },
  {
   "cell_type": "code",
   "execution_count": 50,
   "id": "2d014396",
   "metadata": {},
   "outputs": [],
   "source": [
    "xgboost = XGBRegressor(random_state = 42)"
   ]
  },
  {
   "cell_type": "code",
   "execution_count": 51,
   "id": "3b283869",
   "metadata": {},
   "outputs": [
    {
     "data": {
      "text/plain": [
       "XGBRegressor(base_score=None, booster=None, callbacks=None,\n",
       "             colsample_bylevel=None, colsample_bynode=None,\n",
       "             colsample_bytree=None, early_stopping_rounds=None,\n",
       "             enable_categorical=False, eval_metric=None, feature_types=None,\n",
       "             gamma=None, gpu_id=None, grow_policy=None, importance_type=None,\n",
       "             interaction_constraints=None, learning_rate=None, max_bin=None,\n",
       "             max_cat_threshold=None, max_cat_to_onehot=None,\n",
       "             max_delta_step=None, max_depth=None, max_leaves=None,\n",
       "             min_child_weight=None, missing=nan, monotone_constraints=None,\n",
       "             n_estimators=100, n_jobs=None, num_parallel_tree=None,\n",
       "             predictor=None, random_state=42, ...)"
      ]
     },
     "execution_count": 51,
     "metadata": {},
     "output_type": "execute_result"
    }
   ],
   "source": [
    "xgboost.fit(X_train, y_train)"
   ]
  },
  {
   "cell_type": "code",
   "execution_count": 52,
   "id": "02ccc1b6",
   "metadata": {},
   "outputs": [],
   "source": [
    "y_predict_xg = xgboost.predict(X_train)\n",
    "train_error_xg = mean_squared_error(y_train, y_predict_xg, squared = False)\n",
    "\n",
    "y_predict_xg = xgboost.predict(X_test)\n",
    "test_error_xg = mean_squared_error(y_test, y_predict_xg, squared = False)\n",
    "\n",
    "y_predict_xg = xgboost.predict(X_train)\n",
    "r2_xg = r2_score(y_train, y_predict_xg)"
   ]
  },
  {
   "cell_type": "code",
   "execution_count": 53,
   "id": "488f6a18",
   "metadata": {},
   "outputs": [
    {
     "name": "stdout",
     "output_type": "stream",
     "text": [
      "XGBOOST\n",
      "Train Error     : 83.69397074733641\n",
      "Test Error      : 155.07966170157522\n",
      "R2              : 0.909167067416725\n"
     ]
    }
   ],
   "source": [
    "print('XGBOOST')\n",
    "print('Train Error     :', train_error_xg) \n",
    "print('Test Error      :', test_error_xg)\n",
    "print('R2              :' , r2_xg)"
   ]
  },
  {
   "cell_type": "code",
   "execution_count": 146,
   "id": "3efbf87f",
   "metadata": {},
   "outputs": [],
   "source": [
    "model_comparison['Xgboost'] = [train_error_xg.round(3), test_error_xg.round(3), r2_xg.round(3)]"
   ]
  },
  {
   "cell_type": "markdown",
   "id": "545306bf",
   "metadata": {},
   "source": [
    " ### MLP (Multi-Layer Perceptron) Regressor"
   ]
  },
  {
   "cell_type": "code",
   "execution_count": 55,
   "id": "420ee487",
   "metadata": {},
   "outputs": [],
   "source": [
    "mlp = MLPRegressor(random_state = 42)"
   ]
  },
  {
   "cell_type": "code",
   "execution_count": 56,
   "id": "dd383b14",
   "metadata": {},
   "outputs": [
    {
     "data": {
      "text/plain": [
       "MLPRegressor(random_state=42)"
      ]
     },
     "execution_count": 56,
     "metadata": {},
     "output_type": "execute_result"
    }
   ],
   "source": [
    "mlp.fit(X_train, y_train)"
   ]
  },
  {
   "cell_type": "code",
   "execution_count": 58,
   "id": "59158482",
   "metadata": {},
   "outputs": [],
   "source": [
    "y_predict_mlp = mlp.predict(X_train)\n",
    "train_error_mlp = mean_squared_error(y_train, y_predict_mlp, squared = False)\n",
    "\n",
    "y_predict_mlp = mlp.predict(X_test)\n",
    "test_error_mlp = mean_squared_error(y_test, y_predict_mlp, squared = False)\n",
    "\n",
    "y_predict_mlp = mlp.predict(X_train)\n",
    "r2_mlp = r2_score(y_train, y_predict_mlp)"
   ]
  },
  {
   "cell_type": "code",
   "execution_count": 147,
   "id": "81934bc8",
   "metadata": {},
   "outputs": [],
   "source": [
    "model_comparison['MLP Regressor'] = [train_error_mlp.round(3), test_error_mlp.round(3), r2_mlp.round(3)]"
   ]
  },
  {
   "cell_type": "code",
   "execution_count": 154,
   "id": "e1b6907e",
   "metadata": {},
   "outputs": [
    {
     "data": {
      "text/html": [
       "<div>\n",
       "<style scoped>\n",
       "    .dataframe tbody tr th:only-of-type {\n",
       "        vertical-align: middle;\n",
       "    }\n",
       "\n",
       "    .dataframe tbody tr th {\n",
       "        vertical-align: top;\n",
       "    }\n",
       "\n",
       "    .dataframe thead th {\n",
       "        text-align: right;\n",
       "    }\n",
       "</style>\n",
       "<table border=\"1\" class=\"dataframe\">\n",
       "  <thead>\n",
       "    <tr style=\"text-align: right;\">\n",
       "      <th></th>\n",
       "      <th>Train Error</th>\n",
       "      <th>Test Error</th>\n",
       "      <th>R2 Score</th>\n",
       "    </tr>\n",
       "  </thead>\n",
       "  <tbody>\n",
       "    <tr>\n",
       "      <th>Ridge Regression</th>\n",
       "      <td>184.598</td>\n",
       "      <td>174.022</td>\n",
       "      <td>0.558</td>\n",
       "    </tr>\n",
       "    <tr>\n",
       "      <th>Random Forest</th>\n",
       "      <td>57.756</td>\n",
       "      <td>154.369</td>\n",
       "      <td>0.957</td>\n",
       "    </tr>\n",
       "    <tr>\n",
       "      <th>Decision Tree</th>\n",
       "      <td>143.471</td>\n",
       "      <td>169.301</td>\n",
       "      <td>0.733</td>\n",
       "    </tr>\n",
       "    <tr>\n",
       "      <th>Xgboost</th>\n",
       "      <td>83.694</td>\n",
       "      <td>155.080</td>\n",
       "      <td>0.909</td>\n",
       "    </tr>\n",
       "    <tr>\n",
       "      <th>MLP Regressor</th>\n",
       "      <td>188.712</td>\n",
       "      <td>177.921</td>\n",
       "      <td>0.538</td>\n",
       "    </tr>\n",
       "  </tbody>\n",
       "</table>\n",
       "</div>"
      ],
      "text/plain": [
       "                  Train Error  Test Error  R2 Score\n",
       "Ridge Regression      184.598     174.022     0.558\n",
       "Random Forest          57.756     154.369     0.957\n",
       "Decision Tree         143.471     169.301     0.733\n",
       "Xgboost                83.694     155.080     0.909\n",
       "MLP Regressor         188.712     177.921     0.538"
      ]
     },
     "execution_count": 154,
     "metadata": {},
     "output_type": "execute_result"
    }
   ],
   "source": [
    "model_comparison = pd.DataFrame(model_comparison)\n",
    "model_comparison.columns = ['Train Error' , 'Test Error' , 'R2 Score']\n",
    "model_comparison"
   ]
  },
  {
   "cell_type": "code",
   "execution_count": null,
   "id": "2413d435",
   "metadata": {},
   "outputs": [],
   "source": []
  },
  {
   "cell_type": "code",
   "execution_count": null,
   "id": "4d5aff1c",
   "metadata": {},
   "outputs": [],
   "source": []
  },
  {
   "cell_type": "code",
   "execution_count": null,
   "id": "0b38b5aa",
   "metadata": {},
   "outputs": [],
   "source": []
  },
  {
   "cell_type": "code",
   "execution_count": null,
   "id": "475315fa",
   "metadata": {},
   "outputs": [],
   "source": []
  }
 ],
 "metadata": {
  "kernelspec": {
   "display_name": "Python 3 (ipykernel)",
   "language": "python",
   "name": "python3"
  },
  "language_info": {
   "codemirror_mode": {
    "name": "ipython",
    "version": 3
   },
   "file_extension": ".py",
   "mimetype": "text/x-python",
   "name": "python",
   "nbconvert_exporter": "python",
   "pygments_lexer": "ipython3",
   "version": "3.9.12"
  }
 },
 "nbformat": 4,
 "nbformat_minor": 5
}
