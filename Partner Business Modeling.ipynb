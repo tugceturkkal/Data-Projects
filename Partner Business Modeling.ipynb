{
 "cells": [
  {
   "cell_type": "markdown",
   "id": "fc8de864",
   "metadata": {},
   "source": [
    "# Uber - Partner Business Modeling"
   ]
  },
  {
   "cell_type": "markdown",
   "id": "3becdfa9",
   "metadata": {},
   "source": [
    "## Table of Contents\n",
    "* [Assignment](#Assignment)\n",
    "* [Data Exploration](#Data-Exploration)\n",
    "* [Question 1](#Question-1)\n",
    "* [Question 2](#Question-2)\n",
    "* [Question 3](#Question-3)\n",
    "* [Question 4](#Question-4)\n",
    "* [Question 5](#Question-5)\n",
    "* [Question 6](#Question-6)"
   ]
  },
  {
   "cell_type": "markdown",
   "id": "26778325",
   "metadata": {},
   "source": [
    "## Assignment\n",
    "\n",
    "***Scenario 1:*** It is going to be a huge Saturday and there will need to be many more cars on the road than last week. In order to get drivers to go online, we're assessing the following two bonus options in terms of cost:\n",
    "\n",
    "* **Option 1:** $50 for each driver that is online at least 8 hours, accepts 90% of requests, completes 10 trips, and has a rating of 4.7 or better during the time frame;\n",
    "\n",
    "* **Option 2:** $4/trip for all drivers who complete 12 trips, and have a 4.7 or better rating.\n",
    "\n",
    "Using the dataset provided and given Scenario 1, provide answers to the questions below:\n",
    "\n",
    "**1.** How much would the total bonus payout be with Option 1?                                                     \n",
    "**2.** How much would the total bonus payout be with Option 2?                                                     \n",
    "**3.** How many drivers would qualify for a bonus under Option 1 but not under Option 2?                           \n",
    "**4.** What percentages of drivers online completed less than 10 trips, had an acceptance rate of less than 90%, and had a rating of 4.7 or higher?\n",
    "\n",
    "\n",
    "***Scenario 2:*** A taxi driver currently generates $200 per day in fares (before expenses), works six days a week, takes three weeks off, and has the following expenses:\n",
    "\n",
    "Gas - $200 per week\n",
    "\n",
    "Insurance - $400 per month\n",
    "\n",
    "Vehicle rent (by the week) - $500\n",
    "\n",
    "The driver doesn't pay gas and rent expenses on off weeks.\n",
    "\n",
    "Now, let's assume that the same driver would buy a Town Car and partner with Uber. If he does, his gas expenses would go up by 5%, his insurance expense would decrease by 20%, and he would no longer be renting a vehicle. However, he would need to buy a car. The driver would still take three weeks off per year.\n",
    "\n",
    "Given Scenario 2, provide answers to the questions below:\n",
    "\n",
    "**5.** How much money (after expenses) does the taxi driver make per year without partnering with Uber?            \n",
    "**6.** You are convincing the same driver above to buy a Town Car and partner with Uber. Assuming the new car is 40.000 USD, how much would the driver's gross fares need to increase per week to fully pay for the car in year 1 and maintain the same yearly profit margin as before?"
   ]
  },
  {
   "cell_type": "markdown",
   "id": "667b28c8",
   "metadata": {},
   "source": [
    "## Data Exploration\n",
    "\n",
    "The dataset is given in the file dataset_2.csv. The data come from rides on a busy Saturday and are aggregated on a driver level. The dataset provides information on the total number of completed trips, the driver's acceptance rate, the total number of hours on duty, and the average rating.\n",
    "\n",
    "Only use this dataset to answer questions 1-4. There is no dataset provided for questions 5 and 6 as these are solely based on a given scenario."
   ]
  },
  {
   "cell_type": "code",
   "execution_count": 75,
   "id": "dd253833",
   "metadata": {},
   "outputs": [],
   "source": [
    "import pandas as pd\n",
    "import numpy as np\n",
    "import matplotlib.pyplot as plt\n",
    "import seaborn as sns"
   ]
  },
  {
   "cell_type": "code",
   "execution_count": 76,
   "id": "e14b95d2",
   "metadata": {},
   "outputs": [
    {
     "data": {
      "text/html": [
       "<div>\n",
       "<style scoped>\n",
       "    .dataframe tbody tr th:only-of-type {\n",
       "        vertical-align: middle;\n",
       "    }\n",
       "\n",
       "    .dataframe tbody tr th {\n",
       "        vertical-align: top;\n",
       "    }\n",
       "\n",
       "    .dataframe thead th {\n",
       "        text-align: right;\n",
       "    }\n",
       "</style>\n",
       "<table border=\"1\" class=\"dataframe\">\n",
       "  <thead>\n",
       "    <tr style=\"text-align: right;\">\n",
       "      <th></th>\n",
       "      <th>Name</th>\n",
       "      <th>Trips Completed</th>\n",
       "      <th>Accept Rate</th>\n",
       "      <th>Supply Hours</th>\n",
       "      <th>Rating</th>\n",
       "    </tr>\n",
       "  </thead>\n",
       "  <tbody>\n",
       "    <tr>\n",
       "      <th>0</th>\n",
       "      <td>Abdul</td>\n",
       "      <td>1</td>\n",
       "      <td>100%</td>\n",
       "      <td>3</td>\n",
       "      <td>4.8</td>\n",
       "    </tr>\n",
       "    <tr>\n",
       "      <th>1</th>\n",
       "      <td>Abraham</td>\n",
       "      <td>12</td>\n",
       "      <td>83%</td>\n",
       "      <td>5</td>\n",
       "      <td>4.7</td>\n",
       "    </tr>\n",
       "    <tr>\n",
       "      <th>2</th>\n",
       "      <td>Adelina</td>\n",
       "      <td>1</td>\n",
       "      <td>100%</td>\n",
       "      <td>2</td>\n",
       "      <td>4.7</td>\n",
       "    </tr>\n",
       "  </tbody>\n",
       "</table>\n",
       "</div>"
      ],
      "text/plain": [
       "      Name  Trips Completed Accept Rate  Supply Hours  Rating\n",
       "0    Abdul                1        100%             3     4.8\n",
       "1  Abraham               12         83%             5     4.7\n",
       "2  Adelina                1        100%             2     4.7"
      ]
     },
     "execution_count": 76,
     "metadata": {},
     "output_type": "execute_result"
    }
   ],
   "source": [
    "data = pd.read_csv('dataset_2.csv')\n",
    "data.head(3)"
   ]
  },
  {
   "cell_type": "code",
   "execution_count": 77,
   "id": "f7286363",
   "metadata": {},
   "outputs": [
    {
     "name": "stdout",
     "output_type": "stream",
     "text": [
      "<class 'pandas.core.frame.DataFrame'>\n",
      "RangeIndex: 119 entries, 0 to 118\n",
      "Data columns (total 5 columns):\n",
      " #   Column           Non-Null Count  Dtype  \n",
      "---  ------           --------------  -----  \n",
      " 0   Name             119 non-null    object \n",
      " 1   Trips Completed  119 non-null    int64  \n",
      " 2   Accept Rate      119 non-null    object \n",
      " 3   Supply Hours     119 non-null    int64  \n",
      " 4   Rating           119 non-null    float64\n",
      "dtypes: float64(1), int64(2), object(2)\n",
      "memory usage: 4.8+ KB\n"
     ]
    }
   ],
   "source": [
    "data.info()"
   ]
  },
  {
   "cell_type": "code",
   "execution_count": 78,
   "id": "8b92ad9b",
   "metadata": {},
   "outputs": [
    {
     "data": {
      "text/plain": [
       "(119, 5)"
      ]
     },
     "execution_count": 78,
     "metadata": {},
     "output_type": "execute_result"
    }
   ],
   "source": [
    "data.shape"
   ]
  },
  {
   "cell_type": "code",
   "execution_count": 79,
   "id": "eea61c9a",
   "metadata": {},
   "outputs": [
    {
     "data": {
      "text/html": [
       "<div>\n",
       "<style scoped>\n",
       "    .dataframe tbody tr th:only-of-type {\n",
       "        vertical-align: middle;\n",
       "    }\n",
       "\n",
       "    .dataframe tbody tr th {\n",
       "        vertical-align: top;\n",
       "    }\n",
       "\n",
       "    .dataframe thead th {\n",
       "        text-align: right;\n",
       "    }\n",
       "</style>\n",
       "<table border=\"1\" class=\"dataframe\">\n",
       "  <thead>\n",
       "    <tr style=\"text-align: right;\">\n",
       "      <th></th>\n",
       "      <th>Name</th>\n",
       "      <th>Trips Completed</th>\n",
       "      <th>Accept Rate</th>\n",
       "      <th>Supply Hours</th>\n",
       "      <th>Rating</th>\n",
       "    </tr>\n",
       "  </thead>\n",
       "  <tbody>\n",
       "    <tr>\n",
       "      <th>0</th>\n",
       "      <td>Abdul</td>\n",
       "      <td>1</td>\n",
       "      <td>100.0</td>\n",
       "      <td>3</td>\n",
       "      <td>4.8</td>\n",
       "    </tr>\n",
       "    <tr>\n",
       "      <th>1</th>\n",
       "      <td>Abraham</td>\n",
       "      <td>12</td>\n",
       "      <td>83.0</td>\n",
       "      <td>5</td>\n",
       "      <td>4.7</td>\n",
       "    </tr>\n",
       "    <tr>\n",
       "      <th>2</th>\n",
       "      <td>Adelina</td>\n",
       "      <td>1</td>\n",
       "      <td>100.0</td>\n",
       "      <td>2</td>\n",
       "      <td>4.7</td>\n",
       "    </tr>\n",
       "  </tbody>\n",
       "</table>\n",
       "</div>"
      ],
      "text/plain": [
       "      Name  Trips Completed  Accept Rate  Supply Hours  Rating\n",
       "0    Abdul                1        100.0             3     4.8\n",
       "1  Abraham               12         83.0             5     4.7\n",
       "2  Adelina                1        100.0             2     4.7"
      ]
     },
     "execution_count": 79,
     "metadata": {},
     "output_type": "execute_result"
    }
   ],
   "source": [
    "data['Accept Rate'] = data['Accept Rate'].apply(lambda x: float(x[:-1]))\n",
    "data.head(3)"
   ]
  },
  {
   "cell_type": "markdown",
   "id": "9742df27",
   "metadata": {},
   "source": [
    "## Question 1\n",
    "How much would the total bonus payout be with Option 1?"
   ]
  },
  {
   "cell_type": "code",
   "execution_count": 80,
   "id": "1ad67544",
   "metadata": {},
   "outputs": [],
   "source": [
    "data_question_1 = pd.DataFrame()"
   ]
  },
  {
   "cell_type": "code",
   "execution_count": 81,
   "id": "fcad84b2",
   "metadata": {},
   "outputs": [
    {
     "data": {
      "text/html": [
       "<div>\n",
       "<style scoped>\n",
       "    .dataframe tbody tr th:only-of-type {\n",
       "        vertical-align: middle;\n",
       "    }\n",
       "\n",
       "    .dataframe tbody tr th {\n",
       "        vertical-align: top;\n",
       "    }\n",
       "\n",
       "    .dataframe thead th {\n",
       "        text-align: right;\n",
       "    }\n",
       "</style>\n",
       "<table border=\"1\" class=\"dataframe\">\n",
       "  <thead>\n",
       "    <tr style=\"text-align: right;\">\n",
       "      <th></th>\n",
       "      <th>Name</th>\n",
       "      <th>Trips Completed</th>\n",
       "      <th>Accept Rate</th>\n",
       "      <th>Supply Hours</th>\n",
       "      <th>Rating</th>\n",
       "    </tr>\n",
       "  </thead>\n",
       "  <tbody>\n",
       "    <tr>\n",
       "      <th>11</th>\n",
       "      <td>Byron</td>\n",
       "      <td>15</td>\n",
       "      <td>100.0</td>\n",
       "      <td>10</td>\n",
       "      <td>4.9</td>\n",
       "    </tr>\n",
       "    <tr>\n",
       "      <th>12</th>\n",
       "      <td>Carlota</td>\n",
       "      <td>14</td>\n",
       "      <td>100.0</td>\n",
       "      <td>8</td>\n",
       "      <td>5.0</td>\n",
       "    </tr>\n",
       "    <tr>\n",
       "      <th>19</th>\n",
       "      <td>Dannette</td>\n",
       "      <td>14</td>\n",
       "      <td>100.0</td>\n",
       "      <td>9</td>\n",
       "      <td>4.9</td>\n",
       "    </tr>\n",
       "  </tbody>\n",
       "</table>\n",
       "</div>"
      ],
      "text/plain": [
       "        Name  Trips Completed  Accept Rate  Supply Hours  Rating\n",
       "11     Byron               15        100.0            10     4.9\n",
       "12   Carlota               14        100.0             8     5.0\n",
       "19  Dannette               14        100.0             9     4.9"
      ]
     },
     "execution_count": 81,
     "metadata": {},
     "output_type": "execute_result"
    }
   ],
   "source": [
    "data_question_1 = data[(data['Supply Hours'] >= 8) \n",
    "                       & (data['Trips Completed'] >= 10)\n",
    "                       & (data['Accept Rate'] >= 90)\n",
    "                       & (data['Rating'] >= 4.7)]\n",
    "data_question_1.head(3)"
   ]
  },
  {
   "cell_type": "code",
   "execution_count": 82,
   "id": "f823b224",
   "metadata": {},
   "outputs": [
    {
     "name": "stdout",
     "output_type": "stream",
     "text": [
      "We have 21 drivers that adapt to these 4 features. The total payment we will give them is $ 1050 .\n"
     ]
    }
   ],
   "source": [
    "print('We have', len(data_question_1), 'drivers that adapt to these 4 features. The total payment we will give them is $', \n",
    "     50 * len(data_question_1), '.')"
   ]
  },
  {
   "cell_type": "markdown",
   "id": "c4317bc2",
   "metadata": {},
   "source": [
    "## Question 2\n",
    "How much would the total bonus payout be with Option 2?"
   ]
  },
  {
   "cell_type": "code",
   "execution_count": 83,
   "id": "12180bc5",
   "metadata": {},
   "outputs": [],
   "source": [
    "data_question_2 = pd.DataFrame()"
   ]
  },
  {
   "cell_type": "code",
   "execution_count": 84,
   "id": "00b63369",
   "metadata": {},
   "outputs": [
    {
     "data": {
      "text/html": [
       "<div>\n",
       "<style scoped>\n",
       "    .dataframe tbody tr th:only-of-type {\n",
       "        vertical-align: middle;\n",
       "    }\n",
       "\n",
       "    .dataframe tbody tr th {\n",
       "        vertical-align: top;\n",
       "    }\n",
       "\n",
       "    .dataframe thead th {\n",
       "        text-align: right;\n",
       "    }\n",
       "</style>\n",
       "<table border=\"1\" class=\"dataframe\">\n",
       "  <thead>\n",
       "    <tr style=\"text-align: right;\">\n",
       "      <th></th>\n",
       "      <th>Name</th>\n",
       "      <th>Trips Completed</th>\n",
       "      <th>Accept Rate</th>\n",
       "      <th>Supply Hours</th>\n",
       "      <th>Rating</th>\n",
       "    </tr>\n",
       "  </thead>\n",
       "  <tbody>\n",
       "    <tr>\n",
       "      <th>1</th>\n",
       "      <td>Abraham</td>\n",
       "      <td>12</td>\n",
       "      <td>83.0</td>\n",
       "      <td>5</td>\n",
       "      <td>4.7</td>\n",
       "    </tr>\n",
       "    <tr>\n",
       "      <th>4</th>\n",
       "      <td>Alec</td>\n",
       "      <td>21</td>\n",
       "      <td>76.0</td>\n",
       "      <td>11</td>\n",
       "      <td>5.0</td>\n",
       "    </tr>\n",
       "    <tr>\n",
       "      <th>8</th>\n",
       "      <td>Augusta</td>\n",
       "      <td>19</td>\n",
       "      <td>84.0</td>\n",
       "      <td>11</td>\n",
       "      <td>4.7</td>\n",
       "    </tr>\n",
       "    <tr>\n",
       "      <th>10</th>\n",
       "      <td>Buffy</td>\n",
       "      <td>13</td>\n",
       "      <td>54.0</td>\n",
       "      <td>6</td>\n",
       "      <td>5.0</td>\n",
       "    </tr>\n",
       "    <tr>\n",
       "      <th>11</th>\n",
       "      <td>Byron</td>\n",
       "      <td>15</td>\n",
       "      <td>100.0</td>\n",
       "      <td>10</td>\n",
       "      <td>4.9</td>\n",
       "    </tr>\n",
       "  </tbody>\n",
       "</table>\n",
       "</div>"
      ],
      "text/plain": [
       "       Name  Trips Completed  Accept Rate  Supply Hours  Rating\n",
       "1   Abraham               12         83.0             5     4.7\n",
       "4      Alec               21         76.0            11     5.0\n",
       "8   Augusta               19         84.0            11     4.7\n",
       "10    Buffy               13         54.0             6     5.0\n",
       "11    Byron               15        100.0            10     4.9"
      ]
     },
     "execution_count": 84,
     "metadata": {},
     "output_type": "execute_result"
    }
   ],
   "source": [
    "data_question_2 = data[(data['Trips Completed'] >= 12) & (data['Rating'] >= 4.7)]\n",
    "data_question_2.head()"
   ]
  },
  {
   "cell_type": "code",
   "execution_count": 85,
   "id": "7661fcc8",
   "metadata": {},
   "outputs": [
    {
     "name": "stdout",
     "output_type": "stream",
     "text": [
      "We have 46 drivers that adapt to these 2 features. The total payment is $ 2976 .\n"
     ]
    }
   ],
   "source": [
    "print('We have', len(data_question_2), 'drivers that adapt to these 2 features. The total payment is $', \n",
    "     4 * data_question_2['Trips Completed'].sum(), '.')"
   ]
  },
  {
   "cell_type": "markdown",
   "id": "a64288ca",
   "metadata": {},
   "source": [
    "## Question 3\n",
    "How many drivers would qualify for a bonus under Option 1 but not under Option 2?"
   ]
  },
  {
   "cell_type": "code",
   "execution_count": 86,
   "id": "c6abf10f",
   "metadata": {},
   "outputs": [
    {
     "data": {
      "text/html": [
       "<div>\n",
       "<style scoped>\n",
       "    .dataframe tbody tr th:only-of-type {\n",
       "        vertical-align: middle;\n",
       "    }\n",
       "\n",
       "    .dataframe tbody tr th {\n",
       "        vertical-align: top;\n",
       "    }\n",
       "\n",
       "    .dataframe thead th {\n",
       "        text-align: right;\n",
       "    }\n",
       "</style>\n",
       "<table border=\"1\" class=\"dataframe\">\n",
       "  <thead>\n",
       "    <tr style=\"text-align: right;\">\n",
       "      <th></th>\n",
       "      <th>Name</th>\n",
       "      <th>Trips Completed</th>\n",
       "      <th>Accept Rate</th>\n",
       "      <th>Supply Hours</th>\n",
       "      <th>Rating</th>\n",
       "      <th>_merge</th>\n",
       "    </tr>\n",
       "  </thead>\n",
       "  <tbody>\n",
       "    <tr>\n",
       "      <th>0</th>\n",
       "      <td>Byron</td>\n",
       "      <td>15</td>\n",
       "      <td>100.0</td>\n",
       "      <td>10</td>\n",
       "      <td>4.9</td>\n",
       "      <td>both</td>\n",
       "    </tr>\n",
       "    <tr>\n",
       "      <th>1</th>\n",
       "      <td>Carlota</td>\n",
       "      <td>14</td>\n",
       "      <td>100.0</td>\n",
       "      <td>8</td>\n",
       "      <td>5.0</td>\n",
       "      <td>both</td>\n",
       "    </tr>\n",
       "    <tr>\n",
       "      <th>2</th>\n",
       "      <td>Dannette</td>\n",
       "      <td>14</td>\n",
       "      <td>100.0</td>\n",
       "      <td>9</td>\n",
       "      <td>4.9</td>\n",
       "      <td>both</td>\n",
       "    </tr>\n",
       "  </tbody>\n",
       "</table>\n",
       "</div>"
      ],
      "text/plain": [
       "       Name  Trips Completed  Accept Rate  Supply Hours  Rating _merge\n",
       "0     Byron               15        100.0            10     4.9   both\n",
       "1   Carlota               14        100.0             8     5.0   both\n",
       "2  Dannette               14        100.0             9     4.9   both"
      ]
     },
     "execution_count": 86,
     "metadata": {},
     "output_type": "execute_result"
    }
   ],
   "source": [
    "data_question_3 = data_question_1.merge(data_question_2, on = data_question_1.columns.to_list(),\n",
    "                                       how = 'left', indicator = True)\n",
    "data_question_3.head(3)"
   ]
  },
  {
   "cell_type": "code",
   "execution_count": 87,
   "id": "2cb26ba7",
   "metadata": {},
   "outputs": [
    {
     "data": {
      "text/html": [
       "<div>\n",
       "<style scoped>\n",
       "    .dataframe tbody tr th:only-of-type {\n",
       "        vertical-align: middle;\n",
       "    }\n",
       "\n",
       "    .dataframe tbody tr th {\n",
       "        vertical-align: top;\n",
       "    }\n",
       "\n",
       "    .dataframe thead th {\n",
       "        text-align: right;\n",
       "    }\n",
       "</style>\n",
       "<table border=\"1\" class=\"dataframe\">\n",
       "  <thead>\n",
       "    <tr style=\"text-align: right;\">\n",
       "      <th></th>\n",
       "      <th>Name</th>\n",
       "      <th>Trips Completed</th>\n",
       "      <th>Accept Rate</th>\n",
       "      <th>Supply Hours</th>\n",
       "      <th>Rating</th>\n",
       "      <th>_merge</th>\n",
       "    </tr>\n",
       "  </thead>\n",
       "  <tbody>\n",
       "    <tr>\n",
       "      <th>16</th>\n",
       "      <td>Oren</td>\n",
       "      <td>11</td>\n",
       "      <td>91.0</td>\n",
       "      <td>9</td>\n",
       "      <td>4.8</td>\n",
       "      <td>left_only</td>\n",
       "    </tr>\n",
       "    <tr>\n",
       "      <th>17</th>\n",
       "      <td>Phyllis</td>\n",
       "      <td>10</td>\n",
       "      <td>90.0</td>\n",
       "      <td>8</td>\n",
       "      <td>4.8</td>\n",
       "      <td>left_only</td>\n",
       "    </tr>\n",
       "  </tbody>\n",
       "</table>\n",
       "</div>"
      ],
      "text/plain": [
       "       Name  Trips Completed  Accept Rate  Supply Hours  Rating     _merge\n",
       "16     Oren               11         91.0             9     4.8  left_only\n",
       "17  Phyllis               10         90.0             8     4.8  left_only"
      ]
     },
     "execution_count": 87,
     "metadata": {},
     "output_type": "execute_result"
    }
   ],
   "source": [
    "data_question_3[data_question_3['_merge'] == 'left_only'] "
   ]
  },
  {
   "cell_type": "markdown",
   "id": "04d82d35",
   "metadata": {},
   "source": [
    "## Question 4\n",
    " What percentages of drivers online completed less than 10 trips, had an acceptance rate of less than 90%, and had a rating of 4.7 or higher?"
   ]
  },
  {
   "cell_type": "code",
   "execution_count": 88,
   "id": "7728f49b",
   "metadata": {},
   "outputs": [
    {
     "data": {
      "text/html": [
       "<div>\n",
       "<style scoped>\n",
       "    .dataframe tbody tr th:only-of-type {\n",
       "        vertical-align: middle;\n",
       "    }\n",
       "\n",
       "    .dataframe tbody tr th {\n",
       "        vertical-align: top;\n",
       "    }\n",
       "\n",
       "    .dataframe thead th {\n",
       "        text-align: right;\n",
       "    }\n",
       "</style>\n",
       "<table border=\"1\" class=\"dataframe\">\n",
       "  <thead>\n",
       "    <tr style=\"text-align: right;\">\n",
       "      <th></th>\n",
       "      <th>Name</th>\n",
       "      <th>Trips Completed</th>\n",
       "      <th>Accept Rate</th>\n",
       "      <th>Supply Hours</th>\n",
       "      <th>Rating</th>\n",
       "    </tr>\n",
       "  </thead>\n",
       "  <tbody>\n",
       "    <tr>\n",
       "      <th>17</th>\n",
       "      <td>Cris</td>\n",
       "      <td>7</td>\n",
       "      <td>71.0</td>\n",
       "      <td>5</td>\n",
       "      <td>5.0</td>\n",
       "    </tr>\n",
       "    <tr>\n",
       "      <th>18</th>\n",
       "      <td>Dalila</td>\n",
       "      <td>7</td>\n",
       "      <td>57.0</td>\n",
       "      <td>2</td>\n",
       "      <td>4.8</td>\n",
       "    </tr>\n",
       "    <tr>\n",
       "      <th>20</th>\n",
       "      <td>Dannielle</td>\n",
       "      <td>3</td>\n",
       "      <td>67.0</td>\n",
       "      <td>5</td>\n",
       "      <td>5.0</td>\n",
       "    </tr>\n",
       "  </tbody>\n",
       "</table>\n",
       "</div>"
      ],
      "text/plain": [
       "         Name  Trips Completed  Accept Rate  Supply Hours  Rating\n",
       "17       Cris                7         71.0             5     5.0\n",
       "18     Dalila                7         57.0             2     4.8\n",
       "20  Dannielle                3         67.0             5     5.0"
      ]
     },
     "execution_count": 88,
     "metadata": {},
     "output_type": "execute_result"
    }
   ],
   "source": [
    "data_question_4 = data[(data['Trips Completed'] < 10) &\n",
    "                      (data['Accept Rate'] < 90) &\n",
    "                      (data['Rating'] >= 4.7)]\n",
    "data_question_4.head(3)"
   ]
  },
  {
   "cell_type": "code",
   "execution_count": 89,
   "id": "bb12c329",
   "metadata": {},
   "outputs": [
    {
     "name": "stdout",
     "output_type": "stream",
     "text": [
      "The percentage is :  10.92 %\n"
     ]
    }
   ],
   "source": [
    "percentage = (len(data_question_4) / len(data)) * 100\n",
    "print('The percentage is : ',round(percentage,2), '%')"
   ]
  },
  {
   "cell_type": "markdown",
   "id": "7648faef",
   "metadata": {},
   "source": [
    "## Question 5\n",
    "How much money (after expenses) does the taxi driver make per year without partnering with Uber?"
   ]
  },
  {
   "cell_type": "code",
   "execution_count": 90,
   "id": "abce422b",
   "metadata": {},
   "outputs": [],
   "source": [
    "total_weeks_per_year = 52\n",
    "weeks_off = 3\n",
    "fare_per_day = 200\n",
    "workday_per_week = 6\n",
    "total_months_per_year = 12\n",
    "\n",
    "\n",
    "gas_per_week = 200    \n",
    "insurance_per_month = 400   \n",
    "vehicle_rent_by_week = 500"
   ]
  },
  {
   "cell_type": "code",
   "execution_count": 91,
   "id": "1da5745f",
   "metadata": {},
   "outputs": [
    {
     "name": "stdout",
     "output_type": "stream",
     "text": [
      "Total Expenses: $ 39100\n"
     ]
    }
   ],
   "source": [
    "total_expenses = (gas_per_week + vehicle_rent_by_week) * (total_weeks_per_year - weeks_off) +insurance_per_month * total_months_per_year\n",
    "print('Total Expenses: $', total_expenses)"
   ]
  },
  {
   "cell_type": "code",
   "execution_count": 92,
   "id": "c9e43c55",
   "metadata": {},
   "outputs": [
    {
     "name": "stdout",
     "output_type": "stream",
     "text": [
      "Total Revenue: $ 58800\n"
     ]
    }
   ],
   "source": [
    "total_revenue = (total_weeks_per_year - weeks_off) * workday_per_week * fare_per_day\n",
    "print('Total Revenue: $', total_revenue)"
   ]
  },
  {
   "cell_type": "code",
   "execution_count": 93,
   "id": "bce13c1a",
   "metadata": {},
   "outputs": [
    {
     "name": "stdout",
     "output_type": "stream",
     "text": [
      "Profit Margin: 33.5 %\n"
     ]
    }
   ],
   "source": [
    "profit = (total_revenue - total_expenses) / total_revenue\n",
    "print('Profit Margin:', round(profit * 100 , 2), '%')"
   ]
  },
  {
   "cell_type": "markdown",
   "id": "effb35f8",
   "metadata": {},
   "source": [
    "## Question 6\n",
    "You are convincing the same driver above to buy a Town Car and partner with Uber. Assuming the new car is 40.000 USD, how much would the driver's gross fares need to increase per week to fully pay for the car in year 1 and maintain the same yearly profit margin as before?"
   ]
  },
  {
   "cell_type": "code",
   "execution_count": 94,
   "id": "d1bb7c05",
   "metadata": {},
   "outputs": [],
   "source": [
    "new_car = 40000\n",
    "new_gas_per_week = 200 * 1.05         # increases by 5 percent\n",
    "new_insurance_per_month = 400 * 0.8   # decreases by 20 percent"
   ]
  },
  {
   "cell_type": "code",
   "execution_count": 95,
   "id": "1fcd158d",
   "metadata": {},
   "outputs": [
    {
     "name": "stdout",
     "output_type": "stream",
     "text": [
      "New Total Expenses: $ 54130.0\n"
     ]
    }
   ],
   "source": [
    "new_total_expenses = new_car + new_gas_per_week * (total_weeks_per_year - weeks_off) + new_insurance_per_month * total_months_per_year\n",
    "print('New Total Expenses: $', new_total_expenses)"
   ]
  },
  {
   "cell_type": "code",
   "execution_count": 96,
   "id": "47cbd447",
   "metadata": {},
   "outputs": [
    {
     "name": "stdout",
     "output_type": "stream",
     "text": [
      "New Profit Margin: 7.94 %\n"
     ]
    }
   ],
   "source": [
    "new_profit = (total_revenue - new_total_expenses) / total_revenue\n",
    "print('New Profit Margin:',round(new_profit * 100,2), '%')"
   ]
  },
  {
   "cell_type": "code",
   "execution_count": 97,
   "id": "94e618eb",
   "metadata": {},
   "outputs": [
    {
     "name": "stdout",
     "output_type": "stream",
     "text": [
      "The Weekly Fare Increase:$ 306.73\n"
     ]
    }
   ],
   "source": [
    "fare_increase = total_revenue * (profit - new_profit) / (total_weeks_per_year - weeks_off)\n",
    "print('The Weekly Fare Increase:$', round(fare_increase, 2))"
   ]
  }
 ],
 "metadata": {
  "kernelspec": {
   "display_name": "Python 3 (ipykernel)",
   "language": "python",
   "name": "python3"
  },
  "language_info": {
   "codemirror_mode": {
    "name": "ipython",
    "version": 3
   },
   "file_extension": ".py",
   "mimetype": "text/x-python",
   "name": "python",
   "nbconvert_exporter": "python",
   "pygments_lexer": "ipython3",
   "version": "3.9.12"
  }
 },
 "nbformat": 4,
 "nbformat_minor": 5
}
